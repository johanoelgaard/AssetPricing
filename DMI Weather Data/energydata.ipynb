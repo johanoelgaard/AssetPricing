{
 "cells": [
  {
   "cell_type": "markdown",
   "metadata": {},
   "source": [
    "Download data from Energi Data Service:\n",
    "=======================\n",
    "https://www.energidataservice.dk/tso-electricity/Elspotprices"
   ]
  },
  {
   "cell_type": "code",
   "execution_count": 19,
   "metadata": {},
   "outputs": [],
   "source": [
    "import requests\n",
    "import pandas as pd"
   ]
  },
  {
   "cell_type": "code",
   "execution_count": 20,
   "metadata": {},
   "outputs": [],
   "source": [
    "def get_energydata(url):\n",
    "    response = requests.get(url)\n",
    "    res = response.json()\n",
    "\n",
    "    # Extract the records\n",
    "    data = res.get('records', [])\n",
    "\n",
    "    # Convert the records into a DataFrame\n",
    "    df = pd.DataFrame(data)\n",
    "    \n",
    "    return df"
   ]
  },
  {
   "cell_type": "code",
   "execution_count": 7,
   "metadata": {},
   "outputs": [
    {
     "name": "stdout",
     "output_type": "stream",
     "text": [
      "https://api.energidataservice.dk/dataset/Elspotprices?offset=0&filter={\"PriceArea\":[\"DK1\"]}&start=2011-01-01T00:00&end=2024-10-01T00:00\n"
     ]
    }
   ],
   "source": [
    "# define url and parameters\n",
    "base_url = 'https://api.energidataservice.dk/dataset/Elspotprices?offset=0'\n",
    "start_date = '2011-01-01T00:00'\n",
    "end_date = '2024-10-01T00:00'\n",
    "area = 'DK1'"
   ]
  },
  {
   "cell_type": "code",
   "execution_count": 21,
   "metadata": {},
   "outputs": [],
   "source": [
    "# create the url\n",
    "url = f'{base_url}&filter={{\"PriceArea\":[\"{area}\"]}}&start={start_date}&end={end_date}'\n",
    "\n",
    "# download the data\n",
    "energydata = get_energydata(url)"
   ]
  },
  {
   "cell_type": "code",
   "execution_count": 22,
   "metadata": {},
   "outputs": [
    {
     "data": {
      "text/html": [
       "<div>\n",
       "<style scoped>\n",
       "    .dataframe tbody tr th:only-of-type {\n",
       "        vertical-align: middle;\n",
       "    }\n",
       "\n",
       "    .dataframe tbody tr th {\n",
       "        vertical-align: top;\n",
       "    }\n",
       "\n",
       "    .dataframe thead th {\n",
       "        text-align: right;\n",
       "    }\n",
       "</style>\n",
       "<table border=\"1\" class=\"dataframe\">\n",
       "  <thead>\n",
       "    <tr style=\"text-align: right;\">\n",
       "      <th></th>\n",
       "      <th>HourUTC</th>\n",
       "      <th>HourDK</th>\n",
       "      <th>PriceArea</th>\n",
       "      <th>SpotPriceDKK</th>\n",
       "      <th>SpotPriceEUR</th>\n",
       "    </tr>\n",
       "  </thead>\n",
       "  <tbody>\n",
       "    <tr>\n",
       "      <th>0</th>\n",
       "      <td>2024-09-30T21:00:00</td>\n",
       "      <td>2024-09-30T23:00:00</td>\n",
       "      <td>DK1</td>\n",
       "      <td>73.370003</td>\n",
       "      <td>9.840000</td>\n",
       "    </tr>\n",
       "    <tr>\n",
       "      <th>1</th>\n",
       "      <td>2024-09-30T20:00:00</td>\n",
       "      <td>2024-09-30T22:00:00</td>\n",
       "      <td>DK1</td>\n",
       "      <td>149.199997</td>\n",
       "      <td>20.010000</td>\n",
       "    </tr>\n",
       "    <tr>\n",
       "      <th>2</th>\n",
       "      <td>2024-09-30T19:00:00</td>\n",
       "      <td>2024-09-30T21:00:00</td>\n",
       "      <td>DK1</td>\n",
       "      <td>163.509995</td>\n",
       "      <td>21.930000</td>\n",
       "    </tr>\n",
       "    <tr>\n",
       "      <th>3</th>\n",
       "      <td>2024-09-30T18:00:00</td>\n",
       "      <td>2024-09-30T20:00:00</td>\n",
       "      <td>DK1</td>\n",
       "      <td>270.660004</td>\n",
       "      <td>36.299999</td>\n",
       "    </tr>\n",
       "    <tr>\n",
       "      <th>4</th>\n",
       "      <td>2024-09-30T17:00:00</td>\n",
       "      <td>2024-09-30T19:00:00</td>\n",
       "      <td>DK1</td>\n",
       "      <td>273.119995</td>\n",
       "      <td>36.630001</td>\n",
       "    </tr>\n",
       "    <tr>\n",
       "      <th>...</th>\n",
       "      <td>...</td>\n",
       "      <td>...</td>\n",
       "      <td>...</td>\n",
       "      <td>...</td>\n",
       "      <td>...</td>\n",
       "    </tr>\n",
       "    <tr>\n",
       "      <th>120522</th>\n",
       "      <td>2011-01-01T03:00:00</td>\n",
       "      <td>2011-01-01T04:00:00</td>\n",
       "      <td>DK1</td>\n",
       "      <td>2.530000</td>\n",
       "      <td>0.340000</td>\n",
       "    </tr>\n",
       "    <tr>\n",
       "      <th>120523</th>\n",
       "      <td>2011-01-01T02:00:00</td>\n",
       "      <td>2011-01-01T03:00:00</td>\n",
       "      <td>DK1</td>\n",
       "      <td>-11.400000</td>\n",
       "      <td>-1.530000</td>\n",
       "    </tr>\n",
       "    <tr>\n",
       "      <th>120524</th>\n",
       "      <td>2011-01-01T01:00:00</td>\n",
       "      <td>2011-01-01T02:00:00</td>\n",
       "      <td>DK1</td>\n",
       "      <td>-11.400000</td>\n",
       "      <td>-1.530000</td>\n",
       "    </tr>\n",
       "    <tr>\n",
       "      <th>120525</th>\n",
       "      <td>2011-01-01T00:00:00</td>\n",
       "      <td>2011-01-01T01:00:00</td>\n",
       "      <td>DK1</td>\n",
       "      <td>13.640000</td>\n",
       "      <td>1.830000</td>\n",
       "    </tr>\n",
       "    <tr>\n",
       "      <th>120526</th>\n",
       "      <td>2010-12-31T23:00:00</td>\n",
       "      <td>2011-01-01T00:00:00</td>\n",
       "      <td>DK1</td>\n",
       "      <td>2.380000</td>\n",
       "      <td>0.320000</td>\n",
       "    </tr>\n",
       "  </tbody>\n",
       "</table>\n",
       "<p>120527 rows × 5 columns</p>\n",
       "</div>"
      ],
      "text/plain": [
       "                    HourUTC               HourDK PriceArea  SpotPriceDKK  \\\n",
       "0       2024-09-30T21:00:00  2024-09-30T23:00:00       DK1     73.370003   \n",
       "1       2024-09-30T20:00:00  2024-09-30T22:00:00       DK1    149.199997   \n",
       "2       2024-09-30T19:00:00  2024-09-30T21:00:00       DK1    163.509995   \n",
       "3       2024-09-30T18:00:00  2024-09-30T20:00:00       DK1    270.660004   \n",
       "4       2024-09-30T17:00:00  2024-09-30T19:00:00       DK1    273.119995   \n",
       "...                     ...                  ...       ...           ...   \n",
       "120522  2011-01-01T03:00:00  2011-01-01T04:00:00       DK1      2.530000   \n",
       "120523  2011-01-01T02:00:00  2011-01-01T03:00:00       DK1    -11.400000   \n",
       "120524  2011-01-01T01:00:00  2011-01-01T02:00:00       DK1    -11.400000   \n",
       "120525  2011-01-01T00:00:00  2011-01-01T01:00:00       DK1     13.640000   \n",
       "120526  2010-12-31T23:00:00  2011-01-01T00:00:00       DK1      2.380000   \n",
       "\n",
       "        SpotPriceEUR  \n",
       "0           9.840000  \n",
       "1          20.010000  \n",
       "2          21.930000  \n",
       "3          36.299999  \n",
       "4          36.630001  \n",
       "...              ...  \n",
       "120522      0.340000  \n",
       "120523     -1.530000  \n",
       "120524     -1.530000  \n",
       "120525      1.830000  \n",
       "120526      0.320000  \n",
       "\n",
       "[120527 rows x 5 columns]"
      ]
     },
     "execution_count": 22,
     "metadata": {},
     "output_type": "execute_result"
    }
   ],
   "source": [
    "energydata"
   ]
  }
 ],
 "metadata": {
  "kernelspec": {
   "display_name": "base",
   "language": "python",
   "name": "python3"
  },
  "language_info": {
   "codemirror_mode": {
    "name": "ipython",
    "version": 3
   },
   "file_extension": ".py",
   "mimetype": "text/x-python",
   "name": "python",
   "nbconvert_exporter": "python",
   "pygments_lexer": "ipython3",
   "version": "3.11.8"
  }
 },
 "nbformat": 4,
 "nbformat_minor": 2
}
