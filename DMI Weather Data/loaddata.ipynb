{
 "cells": [
  {
   "cell_type": "markdown",
   "metadata": {},
   "source": [
    "Download data from DMI:\n",
    "=======================\n",
    "https://dmigw.govcloud.dk/v2/metObs/bulk/?api-key=d40321ee-7de5-4417-a0bf-108bd34061ab\n",
    "\n",
    "https://dmigw.govcloud.dk/v2/climateData/bulk/?api-key=fa9056ec-2f41-4042-828b-91750e966966"
   ]
  },
  {
   "cell_type": "code",
   "execution_count": 2,
   "metadata": {},
   "outputs": [],
   "source": [
    "forecast_api_key = 'e55dced6-70fb-44f1-a658-cdef62c74b6a'\n",
    "climate_api_key = 'fa9056ec-2f41-4042-828b-91750e966966'\n",
    "metobs_api_key = 'd40321ee-7de5-4417-a0bf-108bd34061ab'"
   ]
  },
  {
   "cell_type": "code",
   "execution_count": 12,
   "metadata": {},
   "outputs": [],
   "source": [
    "import os\n",
    "import json\n",
    "import pandas as pd\n",
    "import geopandas as gpd\n",
    "from shapely.geometry import Polygon\n",
    "import plotly.express as px\n",
    "import plotly.graph_objects as go"
   ]
  },
  {
   "cell_type": "code",
   "execution_count": 4,
   "metadata": {},
   "outputs": [],
   "source": [
    "def load_json_files(folder_path):\n",
    "    data = []  # List to hold all records\n",
    "\n",
    "    # Iterate over all .txt files in the folder\n",
    "    for filename in os.listdir(folder_path):\n",
    "        if filename.endswith(\".txt\"):  # Process only .txt files\n",
    "            file_path = os.path.join(folder_path, filename)\n",
    "            with open(file_path, 'r', encoding='utf-8') as file:\n",
    "                for line in file:\n",
    "                    if line.strip():  # Check if the line is not empty\n",
    "                        try:\n",
    "                            # Parse each line as a separate JSON object\n",
    "                            json_obj = json.loads(line)\n",
    "                            \n",
    "                            # Extract specific fields from the JSON\n",
    "                            properties = json_obj.get('properties', {})\n",
    "                            geometry = json_obj.get('geometry', {})\n",
    "                            \n",
    "                            # Unpack coordinates (assuming it's a Polygon)\n",
    "                            coordinates = geometry.get('coordinates', [[]])\n",
    "                            flat_coords = coordinates[0] if coordinates else []\n",
    "\n",
    "                            # Append unpacked data\n",
    "                            data.append({\n",
    "                                'file': filename,\n",
    "                                'calculatedAt': properties.get('calculatedAt'),\n",
    "                                'cellId': properties.get('cellId'),\n",
    "                                'created': properties.get('created'),\n",
    "                                'from': properties.get('from'),\n",
    "                                'parameterId': properties.get('parameterId'),\n",
    "                                'qcStatus': properties.get('qcStatus'),\n",
    "                                'timeResolution': properties.get('timeResolution'),\n",
    "                                'to': properties.get('to'),\n",
    "                                'value': properties.get('value'),\n",
    "                                'geometry_type': geometry.get('type'),\n",
    "                                'coordinates': flat_coords,  # Store unpacked coordinates\n",
    "                                'feature_id': json_obj.get('id')  # Extract feature ID\n",
    "                            })\n",
    "                        except json.JSONDecodeError as e:\n",
    "                            print(f\"Error decoding JSON in file {filename}: {e}\")\n",
    "\n",
    "    # Convert the list of dictionaries into a dataframe\n",
    "    df = pd.DataFrame(data)\n",
    "\n",
    "\n",
    "    return df"
   ]
  },
  {
   "cell_type": "code",
   "execution_count": 5,
   "metadata": {},
   "outputs": [
    {
     "data": {
      "text/html": [
       "<div>\n",
       "<style scoped>\n",
       "    .dataframe tbody tr th:only-of-type {\n",
       "        vertical-align: middle;\n",
       "    }\n",
       "\n",
       "    .dataframe tbody tr th {\n",
       "        vertical-align: top;\n",
       "    }\n",
       "\n",
       "    .dataframe thead th {\n",
       "        text-align: right;\n",
       "    }\n",
       "</style>\n",
       "<table border=\"1\" class=\"dataframe\">\n",
       "  <thead>\n",
       "    <tr style=\"text-align: right;\">\n",
       "      <th></th>\n",
       "      <th>file</th>\n",
       "      <th>calculatedAt</th>\n",
       "      <th>cellId</th>\n",
       "      <th>created</th>\n",
       "      <th>from</th>\n",
       "      <th>parameterId</th>\n",
       "      <th>qcStatus</th>\n",
       "      <th>timeResolution</th>\n",
       "      <th>to</th>\n",
       "      <th>value</th>\n",
       "      <th>geometry_type</th>\n",
       "      <th>coordinates</th>\n",
       "      <th>feature_id</th>\n",
       "    </tr>\n",
       "  </thead>\n",
       "  <tbody>\n",
       "    <tr>\n",
       "      <th>0</th>\n",
       "      <td>2024-01-19.txt</td>\n",
       "      <td>2024-01-21T15:07:07.298000</td>\n",
       "      <td>20km_606_66</td>\n",
       "      <td>2024-01-22T12:23:25.352484+00:00</td>\n",
       "      <td>2024-01-19T23:00:00+00:00</td>\n",
       "      <td>temp_soil_30</td>\n",
       "      <td>none</td>\n",
       "      <td>hour</td>\n",
       "      <td>2024-01-20T00:00:00+00:00</td>\n",
       "      <td>2.4</td>\n",
       "      <td>Polygon</td>\n",
       "      <td>[[11.4807, 54.6619], [11.7904, 54.6552], [11.8...</td>\n",
       "      <td>0020e993-841f-dfe0-17aa-fc258d6b230b</td>\n",
       "    </tr>\n",
       "    <tr>\n",
       "      <th>1</th>\n",
       "      <td>2024-01-19.txt</td>\n",
       "      <td>2024-02-27T13:36:45.153000</td>\n",
       "      <td>20km_618_70</td>\n",
       "      <td>2024-02-27T13:39:41.416613+00:00</td>\n",
       "      <td>2024-01-19T23:00:00+00:00</td>\n",
       "      <td>min_temp</td>\n",
       "      <td>manual</td>\n",
       "      <td>hour</td>\n",
       "      <td>2024-01-20T00:00:00+00:00</td>\n",
       "      <td>1.4</td>\n",
       "      <td>Polygon</td>\n",
       "      <td>[[12.1848, 55.7244], [12.5026, 55.7157], [12.5...</td>\n",
       "      <td>0035b981-c4ee-a509-988b-8e4e15a36473</td>\n",
       "    </tr>\n",
       "    <tr>\n",
       "      <th>2</th>\n",
       "      <td>2024-01-19.txt</td>\n",
       "      <td>2024-02-27T18:11:34.682000</td>\n",
       "      <td>20km_632_48</td>\n",
       "      <td>2024-02-27T18:11:58.158608+00:00</td>\n",
       "      <td>2024-01-20T00:00:00.001000+01:00</td>\n",
       "      <td>min_temp</td>\n",
       "      <td>manual</td>\n",
       "      <td>day</td>\n",
       "      <td>2024-01-21T00:00:00+01:00</td>\n",
       "      <td>0.4</td>\n",
       "      <td>Polygon</td>\n",
       "      <td>[[8.6706, 57.0231], [9, 57.0235], [9, 57.2032]...</td>\n",
       "      <td>00374820-11cb-5c02-ab40-068c0dfc6e2d</td>\n",
       "    </tr>\n",
       "    <tr>\n",
       "      <th>3</th>\n",
       "      <td>2024-01-19.txt</td>\n",
       "      <td>2024-02-28T05:17:59.838000</td>\n",
       "      <td>20km_620_44</td>\n",
       "      <td>2024-02-28T05:32:04.499419+00:00</td>\n",
       "      <td>2024-01-19T23:00:00+00:00</td>\n",
       "      <td>mean_pressure</td>\n",
       "      <td>manual</td>\n",
       "      <td>hour</td>\n",
       "      <td>2024-01-20T00:00:00+00:00</td>\n",
       "      <td>1010.2</td>\n",
       "      <td>Polygon</td>\n",
       "      <td>[[8.0394, 55.9416], [8.3596, 55.9437], [8.3566...</td>\n",
       "      <td>00412bab-098e-34d4-dc36-f8aadb23bdea</td>\n",
       "    </tr>\n",
       "    <tr>\n",
       "      <th>4</th>\n",
       "      <td>2024-01-19.txt</td>\n",
       "      <td>2024-02-27T10:37:24.110000</td>\n",
       "      <td>20km_612_56</td>\n",
       "      <td>2024-02-27T10:39:40.520203+00:00</td>\n",
       "      <td>2024-01-20T00:00:00.001000+01:00</td>\n",
       "      <td>max_temp_w_date</td>\n",
       "      <td>manual</td>\n",
       "      <td>day</td>\n",
       "      <td>2024-01-21T00:00:00+01:00</td>\n",
       "      <td>4.9</td>\n",
       "      <td>Polygon</td>\n",
       "      <td>[[9.9432, 55.2229], [10.2575, 55.2201], [10.26...</td>\n",
       "      <td>0042242a-b0dc-37f6-383e-1c3eb8d0304b</td>\n",
       "    </tr>\n",
       "  </tbody>\n",
       "</table>\n",
       "</div>"
      ],
      "text/plain": [
       "             file                calculatedAt       cellId  \\\n",
       "0  2024-01-19.txt  2024-01-21T15:07:07.298000  20km_606_66   \n",
       "1  2024-01-19.txt  2024-02-27T13:36:45.153000  20km_618_70   \n",
       "2  2024-01-19.txt  2024-02-27T18:11:34.682000  20km_632_48   \n",
       "3  2024-01-19.txt  2024-02-28T05:17:59.838000  20km_620_44   \n",
       "4  2024-01-19.txt  2024-02-27T10:37:24.110000  20km_612_56   \n",
       "\n",
       "                            created                              from  \\\n",
       "0  2024-01-22T12:23:25.352484+00:00         2024-01-19T23:00:00+00:00   \n",
       "1  2024-02-27T13:39:41.416613+00:00         2024-01-19T23:00:00+00:00   \n",
       "2  2024-02-27T18:11:58.158608+00:00  2024-01-20T00:00:00.001000+01:00   \n",
       "3  2024-02-28T05:32:04.499419+00:00         2024-01-19T23:00:00+00:00   \n",
       "4  2024-02-27T10:39:40.520203+00:00  2024-01-20T00:00:00.001000+01:00   \n",
       "\n",
       "       parameterId qcStatus timeResolution                         to   value  \\\n",
       "0     temp_soil_30     none           hour  2024-01-20T00:00:00+00:00     2.4   \n",
       "1         min_temp   manual           hour  2024-01-20T00:00:00+00:00     1.4   \n",
       "2         min_temp   manual            day  2024-01-21T00:00:00+01:00     0.4   \n",
       "3    mean_pressure   manual           hour  2024-01-20T00:00:00+00:00  1010.2   \n",
       "4  max_temp_w_date   manual            day  2024-01-21T00:00:00+01:00     4.9   \n",
       "\n",
       "  geometry_type                                        coordinates  \\\n",
       "0       Polygon  [[11.4807, 54.6619], [11.7904, 54.6552], [11.8...   \n",
       "1       Polygon  [[12.1848, 55.7244], [12.5026, 55.7157], [12.5...   \n",
       "2       Polygon  [[8.6706, 57.0231], [9, 57.0235], [9, 57.2032]...   \n",
       "3       Polygon  [[8.0394, 55.9416], [8.3596, 55.9437], [8.3566...   \n",
       "4       Polygon  [[9.9432, 55.2229], [10.2575, 55.2201], [10.26...   \n",
       "\n",
       "                             feature_id  \n",
       "0  0020e993-841f-dfe0-17aa-fc258d6b230b  \n",
       "1  0035b981-c4ee-a509-988b-8e4e15a36473  \n",
       "2  00374820-11cb-5c02-ab40-068c0dfc6e2d  \n",
       "3  00412bab-098e-34d4-dc36-f8aadb23bdea  \n",
       "4  0042242a-b0dc-37f6-383e-1c3eb8d0304b  "
      ]
     },
     "metadata": {},
     "output_type": "display_data"
    }
   ],
   "source": [
    "# Path to the folder containing the .txt files\n",
    "folder_path = '/Users/johan/Downloads/all'\n",
    "\n",
    "# Load the JSON files and create the dataframe\n",
    "df = load_json_files(folder_path)\n",
    "\n",
    "# Display the dataframe\n",
    "display(df.head())  # Print first few rows\n",
    "\n",
    "# Save to a CSV if needed\n",
    "# df.to_csv('unpacked_data.csv', index=False)"
   ]
  },
  {
   "cell_type": "code",
   "execution_count": 6,
   "metadata": {},
   "outputs": [
    {
     "data": {
      "text/plain": [
       "array(['temp_soil_30', 'min_temp', 'mean_pressure', 'max_temp_w_date',\n",
       "       'max_wind_speed_3sec', 'no_summer_days', 'no_days_acc_precip_10',\n",
       "       'no_days_acc_precip_1', 'vapour_pressure_deficit_mean',\n",
       "       'leaf_moisture', 'mean_temp', 'drought_index', 'mean_radiation',\n",
       "       'mean_wind_speed', 'temp_grass', 'acc_precip', 'mean_cloud_cover',\n",
       "       'mean_wind_dir', 'acc_heating_degree_days_17',\n",
       "       'max_wind_speed_10min', 'no_ice_days', 'mean_relative_hum',\n",
       "       'bright_sunshine', 'temp_soil_10', 'no_tropical_nights',\n",
       "       'no_days_acc_precip_01', 'pot_evaporation_makkink',\n",
       "       'max_precip_30m', 'snow_depth'], dtype=object)"
      ]
     },
     "metadata": {},
     "output_type": "display_data"
    }
   ],
   "source": [
    "display(df['parameterId'].unique())"
   ]
  },
  {
   "cell_type": "code",
   "execution_count": 7,
   "metadata": {},
   "outputs": [
    {
     "data": {
      "text/html": [
       "<div>\n",
       "<style scoped>\n",
       "    .dataframe tbody tr th:only-of-type {\n",
       "        vertical-align: middle;\n",
       "    }\n",
       "\n",
       "    .dataframe tbody tr th {\n",
       "        vertical-align: top;\n",
       "    }\n",
       "\n",
       "    .dataframe thead th {\n",
       "        text-align: right;\n",
       "    }\n",
       "</style>\n",
       "<table border=\"1\" class=\"dataframe\">\n",
       "  <thead>\n",
       "    <tr style=\"text-align: right;\">\n",
       "      <th></th>\n",
       "      <th>file</th>\n",
       "      <th>calculatedAt</th>\n",
       "      <th>cellId</th>\n",
       "      <th>created</th>\n",
       "      <th>from</th>\n",
       "      <th>parameterId</th>\n",
       "      <th>qcStatus</th>\n",
       "      <th>timeResolution</th>\n",
       "      <th>to</th>\n",
       "      <th>value</th>\n",
       "      <th>geometry_type</th>\n",
       "      <th>coordinates</th>\n",
       "      <th>feature_id</th>\n",
       "    </tr>\n",
       "  </thead>\n",
       "  <tbody>\n",
       "    <tr>\n",
       "      <th>18</th>\n",
       "      <td>2024-01-19.txt</td>\n",
       "      <td>2024-02-27T01:32:08.480000</td>\n",
       "      <td>20km_622_44</td>\n",
       "      <td>2024-02-27T01:33:57.948542+00:00</td>\n",
       "      <td>2024-01-20T00:00:00.001000+01:00</td>\n",
       "      <td>mean_temp</td>\n",
       "      <td>manual</td>\n",
       "      <td>day</td>\n",
       "      <td>2024-01-21T00:00:00+01:00</td>\n",
       "      <td>4.5</td>\n",
       "      <td>Polygon</td>\n",
       "      <td>[[8.0349, 56.1213], [8.3566, 56.1234], [8.3536...</td>\n",
       "      <td>009defbc-19cb-ff82-792d-7a31985267de</td>\n",
       "    </tr>\n",
       "    <tr>\n",
       "      <th>203</th>\n",
       "      <td>2024-01-19.txt</td>\n",
       "      <td>2024-02-27T01:32:07.766000</td>\n",
       "      <td>20km_630_46</td>\n",
       "      <td>2024-02-27T01:33:57.691677+00:00</td>\n",
       "      <td>2024-01-20T00:00:00.001000+01:00</td>\n",
       "      <td>mean_temp</td>\n",
       "      <td>manual</td>\n",
       "      <td>day</td>\n",
       "      <td>2024-01-21T00:00:00+01:00</td>\n",
       "      <td>3.0</td>\n",
       "      <td>Polygon</td>\n",
       "      <td>[[8.3443, 56.8421], [8.6721, 56.8434], [8.6706...</td>\n",
       "      <td>068b3177-4c4f-9219-3113-e51fb4457088</td>\n",
       "    </tr>\n",
       "    <tr>\n",
       "      <th>217</th>\n",
       "      <td>2024-01-19.txt</td>\n",
       "      <td>2024-02-27T01:32:06.392000</td>\n",
       "      <td>20km_614_56</td>\n",
       "      <td>2024-02-27T01:33:57.267794+00:00</td>\n",
       "      <td>2024-01-20T00:00:00.001000+01:00</td>\n",
       "      <td>mean_temp</td>\n",
       "      <td>manual</td>\n",
       "      <td>day</td>\n",
       "      <td>2024-01-21T00:00:00+01:00</td>\n",
       "      <td>3.7</td>\n",
       "      <td>Polygon</td>\n",
       "      <td>[[9.9475, 55.4026], [10.2632, 55.3997], [10.26...</td>\n",
       "      <td>06dc4026-8bda-872e-3618-a97bc3b4230b</td>\n",
       "    </tr>\n",
       "    <tr>\n",
       "      <th>230</th>\n",
       "      <td>2024-01-19.txt</td>\n",
       "      <td>2024-02-27T01:32:07.715000</td>\n",
       "      <td>20km_620_70</td>\n",
       "      <td>2024-02-27T01:33:57.676104+00:00</td>\n",
       "      <td>2024-01-20T00:00:00.001000+01:00</td>\n",
       "      <td>mean_temp</td>\n",
       "      <td>manual</td>\n",
       "      <td>day</td>\n",
       "      <td>2024-01-21T00:00:00+01:00</td>\n",
       "      <td>2.1</td>\n",
       "      <td>Polygon</td>\n",
       "      <td>[[12.1995, 55.9038], [12.5188, 55.8951], [12.5...</td>\n",
       "      <td>0779d4e6-b70b-589d-9f37-7ff0811e02bc</td>\n",
       "    </tr>\n",
       "    <tr>\n",
       "      <th>237</th>\n",
       "      <td>2024-01-19.txt</td>\n",
       "      <td>2024-02-27T01:32:07.300000</td>\n",
       "      <td>20km_620_66</td>\n",
       "      <td>2024-02-27T01:33:57.542440+00:00</td>\n",
       "      <td>2024-01-20T00:00:00.001000+01:00</td>\n",
       "      <td>mean_temp</td>\n",
       "      <td>manual</td>\n",
       "      <td>day</td>\n",
       "      <td>2024-01-21T00:00:00+01:00</td>\n",
       "      <td>2.5</td>\n",
       "      <td>Polygon</td>\n",
       "      <td>[[11.5604, 55.9188], [11.88, 55.9117], [11.893...</td>\n",
       "      <td>07af1e65-27cf-64f9-6813-da278520ef97</td>\n",
       "    </tr>\n",
       "    <tr>\n",
       "      <th>...</th>\n",
       "      <td>...</td>\n",
       "      <td>...</td>\n",
       "      <td>...</td>\n",
       "      <td>...</td>\n",
       "      <td>...</td>\n",
       "      <td>...</td>\n",
       "      <td>...</td>\n",
       "      <td>...</td>\n",
       "      <td>...</td>\n",
       "      <td>...</td>\n",
       "      <td>...</td>\n",
       "      <td>...</td>\n",
       "      <td>...</td>\n",
       "    </tr>\n",
       "    <tr>\n",
       "      <th>2405494</th>\n",
       "      <td>2024-01-14.txt</td>\n",
       "      <td>2024-02-27T01:13:01.948000</td>\n",
       "      <td>20km_614_62</td>\n",
       "      <td>2024-02-27T01:13:22.268474+00:00</td>\n",
       "      <td>2024-01-15T00:00:00.001000+01:00</td>\n",
       "      <td>mean_temp</td>\n",
       "      <td>manual</td>\n",
       "      <td>day</td>\n",
       "      <td>2024-01-16T00:00:00+01:00</td>\n",
       "      <td>-1.1</td>\n",
       "      <td>Polygon</td>\n",
       "      <td>[[10.8945, 55.3916], [11.2101, 55.3863], [11.2...</td>\n",
       "      <td>fb05b697-83bf-3976-97dd-48a735c4ff63</td>\n",
       "    </tr>\n",
       "    <tr>\n",
       "      <th>2405526</th>\n",
       "      <td>2024-01-14.txt</td>\n",
       "      <td>2024-02-27T01:13:02.480000</td>\n",
       "      <td>20km_626_56</td>\n",
       "      <td>2024-02-27T01:13:22.449065+00:00</td>\n",
       "      <td>2024-01-15T00:00:00.001000+01:00</td>\n",
       "      <td>mean_temp</td>\n",
       "      <td>manual</td>\n",
       "      <td>day</td>\n",
       "      <td>2024-01-16T00:00:00+01:00</td>\n",
       "      <td>-4.4</td>\n",
       "      <td>Polygon</td>\n",
       "      <td>[[9.9742, 56.4806], [10.2988, 56.4777], [10.30...</td>\n",
       "      <td>fc0aec52-da27-c0fa-085a-4c1489bb3447</td>\n",
       "    </tr>\n",
       "    <tr>\n",
       "      <th>2405563</th>\n",
       "      <td>2024-01-14.txt</td>\n",
       "      <td>2024-02-27T01:13:01.608000</td>\n",
       "      <td>20km_618_56</td>\n",
       "      <td>2024-02-27T01:13:22.168234+00:00</td>\n",
       "      <td>2024-01-15T00:00:00.001000+01:00</td>\n",
       "      <td>mean_temp</td>\n",
       "      <td>manual</td>\n",
       "      <td>day</td>\n",
       "      <td>2024-01-16T00:00:00+01:00</td>\n",
       "      <td>-2.8</td>\n",
       "      <td>Polygon</td>\n",
       "      <td>[[9.9562, 55.762], [10.2748, 55.7591], [10.280...</td>\n",
       "      <td>fd23c7e2-022a-cb43-33c1-fb39f4f1a7e0</td>\n",
       "    </tr>\n",
       "    <tr>\n",
       "      <th>2405591</th>\n",
       "      <td>2024-01-14.txt</td>\n",
       "      <td>2024-02-27T01:13:02.952000</td>\n",
       "      <td>20km_616_52</td>\n",
       "      <td>2024-02-27T01:13:22.587783+00:00</td>\n",
       "      <td>2024-01-15T00:00:00.001000+01:00</td>\n",
       "      <td>mean_temp</td>\n",
       "      <td>manual</td>\n",
       "      <td>day</td>\n",
       "      <td>2024-01-16T00:00:00+01:00</td>\n",
       "      <td>-2.3</td>\n",
       "      <td>Polygon</td>\n",
       "      <td>[[9.3173, 55.5856], [9.6346, 55.5843], [9.6375...</td>\n",
       "      <td>fdedb999-9ce6-2314-4ba4-41af92b46456</td>\n",
       "    </tr>\n",
       "    <tr>\n",
       "      <th>2405659</th>\n",
       "      <td>2024-01-14.txt</td>\n",
       "      <td>2024-02-27T01:13:03.084000</td>\n",
       "      <td>20km_636_58</td>\n",
       "      <td>2024-02-27T01:13:22.640927+00:00</td>\n",
       "      <td>2024-01-15T00:00:00.001000+01:00</td>\n",
       "      <td>mean_temp</td>\n",
       "      <td>manual</td>\n",
       "      <td>day</td>\n",
       "      <td>2024-01-16T00:00:00+01:00</td>\n",
       "      <td>-4.4</td>\n",
       "      <td>Polygon</td>\n",
       "      <td>[[10.3304, 57.3758], [10.6629, 57.3718], [10.6...</td>\n",
       "      <td>ffb28e08-5308-ec59-0095-69ecadc25054</td>\n",
       "    </tr>\n",
       "  </tbody>\n",
       "</table>\n",
       "<p>5518 rows × 13 columns</p>\n",
       "</div>"
      ],
      "text/plain": [
       "                   file                calculatedAt       cellId  \\\n",
       "18       2024-01-19.txt  2024-02-27T01:32:08.480000  20km_622_44   \n",
       "203      2024-01-19.txt  2024-02-27T01:32:07.766000  20km_630_46   \n",
       "217      2024-01-19.txt  2024-02-27T01:32:06.392000  20km_614_56   \n",
       "230      2024-01-19.txt  2024-02-27T01:32:07.715000  20km_620_70   \n",
       "237      2024-01-19.txt  2024-02-27T01:32:07.300000  20km_620_66   \n",
       "...                 ...                         ...          ...   \n",
       "2405494  2024-01-14.txt  2024-02-27T01:13:01.948000  20km_614_62   \n",
       "2405526  2024-01-14.txt  2024-02-27T01:13:02.480000  20km_626_56   \n",
       "2405563  2024-01-14.txt  2024-02-27T01:13:01.608000  20km_618_56   \n",
       "2405591  2024-01-14.txt  2024-02-27T01:13:02.952000  20km_616_52   \n",
       "2405659  2024-01-14.txt  2024-02-27T01:13:03.084000  20km_636_58   \n",
       "\n",
       "                                  created                              from  \\\n",
       "18       2024-02-27T01:33:57.948542+00:00  2024-01-20T00:00:00.001000+01:00   \n",
       "203      2024-02-27T01:33:57.691677+00:00  2024-01-20T00:00:00.001000+01:00   \n",
       "217      2024-02-27T01:33:57.267794+00:00  2024-01-20T00:00:00.001000+01:00   \n",
       "230      2024-02-27T01:33:57.676104+00:00  2024-01-20T00:00:00.001000+01:00   \n",
       "237      2024-02-27T01:33:57.542440+00:00  2024-01-20T00:00:00.001000+01:00   \n",
       "...                                   ...                               ...   \n",
       "2405494  2024-02-27T01:13:22.268474+00:00  2024-01-15T00:00:00.001000+01:00   \n",
       "2405526  2024-02-27T01:13:22.449065+00:00  2024-01-15T00:00:00.001000+01:00   \n",
       "2405563  2024-02-27T01:13:22.168234+00:00  2024-01-15T00:00:00.001000+01:00   \n",
       "2405591  2024-02-27T01:13:22.587783+00:00  2024-01-15T00:00:00.001000+01:00   \n",
       "2405659  2024-02-27T01:13:22.640927+00:00  2024-01-15T00:00:00.001000+01:00   \n",
       "\n",
       "        parameterId qcStatus timeResolution                         to  value  \\\n",
       "18        mean_temp   manual            day  2024-01-21T00:00:00+01:00    4.5   \n",
       "203       mean_temp   manual            day  2024-01-21T00:00:00+01:00    3.0   \n",
       "217       mean_temp   manual            day  2024-01-21T00:00:00+01:00    3.7   \n",
       "230       mean_temp   manual            day  2024-01-21T00:00:00+01:00    2.1   \n",
       "237       mean_temp   manual            day  2024-01-21T00:00:00+01:00    2.5   \n",
       "...             ...      ...            ...                        ...    ...   \n",
       "2405494   mean_temp   manual            day  2024-01-16T00:00:00+01:00   -1.1   \n",
       "2405526   mean_temp   manual            day  2024-01-16T00:00:00+01:00   -4.4   \n",
       "2405563   mean_temp   manual            day  2024-01-16T00:00:00+01:00   -2.8   \n",
       "2405591   mean_temp   manual            day  2024-01-16T00:00:00+01:00   -2.3   \n",
       "2405659   mean_temp   manual            day  2024-01-16T00:00:00+01:00   -4.4   \n",
       "\n",
       "        geometry_type                                        coordinates  \\\n",
       "18            Polygon  [[8.0349, 56.1213], [8.3566, 56.1234], [8.3536...   \n",
       "203           Polygon  [[8.3443, 56.8421], [8.6721, 56.8434], [8.6706...   \n",
       "217           Polygon  [[9.9475, 55.4026], [10.2632, 55.3997], [10.26...   \n",
       "230           Polygon  [[12.1995, 55.9038], [12.5188, 55.8951], [12.5...   \n",
       "237           Polygon  [[11.5604, 55.9188], [11.88, 55.9117], [11.893...   \n",
       "...               ...                                                ...   \n",
       "2405494       Polygon  [[10.8945, 55.3916], [11.2101, 55.3863], [11.2...   \n",
       "2405526       Polygon  [[9.9742, 56.4806], [10.2988, 56.4777], [10.30...   \n",
       "2405563       Polygon  [[9.9562, 55.762], [10.2748, 55.7591], [10.280...   \n",
       "2405591       Polygon  [[9.3173, 55.5856], [9.6346, 55.5843], [9.6375...   \n",
       "2405659       Polygon  [[10.3304, 57.3758], [10.6629, 57.3718], [10.6...   \n",
       "\n",
       "                                   feature_id  \n",
       "18       009defbc-19cb-ff82-792d-7a31985267de  \n",
       "203      068b3177-4c4f-9219-3113-e51fb4457088  \n",
       "217      06dc4026-8bda-872e-3618-a97bc3b4230b  \n",
       "230      0779d4e6-b70b-589d-9f37-7ff0811e02bc  \n",
       "237      07af1e65-27cf-64f9-6813-da278520ef97  \n",
       "...                                       ...  \n",
       "2405494  fb05b697-83bf-3976-97dd-48a735c4ff63  \n",
       "2405526  fc0aec52-da27-c0fa-085a-4c1489bb3447  \n",
       "2405563  fd23c7e2-022a-cb43-33c1-fb39f4f1a7e0  \n",
       "2405591  fdedb999-9ce6-2314-4ba4-41af92b46456  \n",
       "2405659  ffb28e08-5308-ec59-0095-69ecadc25054  \n",
       "\n",
       "[5518 rows x 13 columns]"
      ]
     },
     "metadata": {},
     "output_type": "display_data"
    }
   ],
   "source": [
    "# Filter the DataFrame\n",
    "filtered_df = df[(df['parameterId'] == 'mean_temp') & (df['timeResolution'] == 'day')]\n",
    "\n",
    "# Display the filtered DataFrame\n",
    "display(filtered_df)"
   ]
  },
  {
   "cell_type": "code",
   "execution_count": 18,
   "metadata": {},
   "outputs": [],
   "source": [
    "def plot_polygons_from_df(df):\n",
    "    # Initialize a list to store the polygons and their properties\n",
    "    polygons = []\n",
    "    \n",
    "    # Iterate over the rows in the dataframe to convert coordinates to Polygons\n",
    "    for index, row in df.iterrows():\n",
    "        coordinates = row['coordinates']\n",
    "        \n",
    "        if coordinates:  # Ensure there are coordinates\n",
    "            try:\n",
    "                # Create a Shapely Polygon from the coordinates\n",
    "                polygon = Polygon(coordinates)\n",
    "                polygons.append(polygon)\n",
    "            except ValueError:\n",
    "                print(f\"Invalid polygon at row {index}\")\n",
    "                polygons.append(None)\n",
    "        else:\n",
    "            polygons.append(None)\n",
    "\n",
    "    # Add the polygons as a geometry column to the DataFrame\n",
    "    df['geometry'] = polygons\n",
    "\n",
    "    # Drop duplicate polygons to avoid plotting them multiple times\n",
    "    df_unique = df.drop_duplicates(subset=['geometry'])\n",
    "\n",
    "    # Extract coordinates in Plotly compatible format (lon, lat for each polygon)\n",
    "    fig = go.Figure()\n",
    "\n",
    "    for i, row in df_unique.iterrows():\n",
    "        polygon_coords = row['coordinates']\n",
    "        if polygon_coords:\n",
    "            # Extract the longitude and latitude from the polygon coordinates\n",
    "            lons, lats = zip(*polygon_coords)\n",
    "\n",
    "            # Close the polygon by repeating the first point at the end\n",
    "            lons = list(lons) + [lons[0]]\n",
    "            lats = list(lats) + [lats[0]]\n",
    "\n",
    "            # Add the polygon to the Plotly map\n",
    "            fig.add_trace(go.Scattermapbox(\n",
    "                fill=\"toself\",\n",
    "                lon=lons,\n",
    "                lat=lats,\n",
    "                mode=\"lines\",\n",
    "                line=dict(width=1),\n",
    "                name=row['cellId'],  # Show the parameter ID in the legend\n",
    "                text=f\"Value: {row['value']} Date: {row['from']}\",  # Add value as hover info\n",
    "                hoverinfo=\"text\"\n",
    "            ))\n",
    "\n",
    "    # Set up the layout for Plotly Mapbox\n",
    "    fig.update_layout(\n",
    "        mapbox_style=\"carto-positron\",  # You can also use \"carto-positron\", \"satellite\" etc.\n",
    "        mapbox_zoom=5,  # Adjust zoom level\n",
    "        mapbox_center={\"lat\": 55.0, \"lon\": 9.5},  # Adjust the center based on your data\n",
    "        height=600,\n",
    "        margin={\"r\":0,\"t\":0,\"l\":0,\"b\":0},\n",
    "        showlegend=True\n",
    "    )\n",
    "\n",
    "    # Show the figure\n",
    "    fig.show()"
   ]
  },
  {
   "cell_type": "code",
   "execution_count": 19,
   "metadata": {},
   "outputs": [
    {
     "name": "stderr",
     "output_type": "stream",
     "text": [
      "/var/folders/yw/jsw5n53s1cb1s2q6tt0msrm00000gn/T/ipykernel_4561/2535145423.py:21: SettingWithCopyWarning:\n",
      "\n",
      "\n",
      "A value is trying to be set on a copy of a slice from a DataFrame.\n",
      "Try using .loc[row_indexer,col_indexer] = value instead\n",
      "\n",
      "See the caveats in the documentation: https://pandas.pydata.org/pandas-docs/stable/user_guide/indexing.html#returning-a-view-versus-a-copy\n",
      "\n"
     ]
    },
    {
     "data": {
      "application/vnd.plotly.v1+json": {
       "config": {
        "plotlyServerURL": "https://plot.ly"
       },
       "data": [
        {
         "fill": "toself",
         "hoverinfo": "text",
         "lat": [
          56.1213,
          56.1234,
          56.3031,
          56.301,
          56.1213,
          56.1213
         ],
         "line": {
          "width": 1
         },
         "lon": [
          8.0349,
          8.3566,
          8.3536,
          8.0304,
          8.0349,
          8.0349
         ],
         "mode": "lines",
         "name": "20km_622_44",
         "text": "Value: 4.5 Date: 2024-01-20T00:00:00.001000+01:00",
         "type": "scattermapbox"
        },
        {
         "fill": "toself",
         "hoverinfo": "text",
         "lat": [
          56.8421,
          56.8434,
          57.0231,
          57.0218,
          56.8421,
          56.8421
         ],
         "line": {
          "width": 1
         },
         "lon": [
          8.3443,
          8.6721,
          8.6706,
          8.3412,
          8.3443,
          8.3443
         ],
         "mode": "lines",
         "name": "20km_630_46",
         "text": "Value: 3.0 Date: 2024-01-20T00:00:00.001000+01:00",
         "type": "scattermapbox"
        },
        {
         "fill": "toself",
         "hoverinfo": "text",
         "lat": [
          55.4026,
          55.3997,
          55.5794,
          55.5823,
          55.4026,
          55.4026
         ],
         "line": {
          "width": 1
         },
         "lon": [
          9.9475,
          10.2632,
          10.269,
          9.9518,
          9.9475,
          9.9475
         ],
         "mode": "lines",
         "name": "20km_614_56",
         "text": "Value: 3.7 Date: 2024-01-20T00:00:00.001000+01:00",
         "type": "scattermapbox"
        },
        {
         "fill": "toself",
         "hoverinfo": "text",
         "lat": [
          55.9038,
          55.8951,
          56.0744,
          56.0832,
          55.9038,
          55.9038
         ],
         "line": {
          "width": 1
         },
         "lon": [
          12.1995,
          12.5188,
          12.5351,
          12.2143,
          12.1995,
          12.1995
         ],
         "mode": "lines",
         "name": "20km_620_70",
         "text": "Value: 2.1 Date: 2024-01-20T00:00:00.001000+01:00",
         "type": "scattermapbox"
        },
        {
         "fill": "toself",
         "hoverinfo": "text",
         "lat": [
          55.9188,
          55.9117,
          56.0912,
          56.0983,
          55.9188,
          55.9188
         ],
         "line": {
          "width": 1
         },
         "lon": [
          11.5604,
          11.88,
          11.8934,
          11.5723,
          11.5604,
          11.5604
         ],
         "mode": "lines",
         "name": "20km_620_66",
         "text": "Value: 2.5 Date: 2024-01-20T00:00:00.001000+01:00",
         "type": "scattermapbox"
        },
        {
         "fill": "toself",
         "hoverinfo": "text",
         "lat": [
          56.4806,
          56.4777,
          56.6573,
          56.6603,
          56.4806,
          56.4806
         ],
         "line": {
          "width": 1
         },
         "lon": [
          9.9742,
          10.2988,
          10.305,
          9.9788,
          9.9742,
          9.9742
         ],
         "mode": "lines",
         "name": "20km_626_56",
         "text": "Value: 2.1 Date: 2024-01-20T00:00:00.001000+01:00",
         "type": "scattermapbox"
        },
        {
         "fill": "toself",
         "hoverinfo": "text",
         "lat": [
          54.6873,
          54.6869,
          54.8667,
          54.8671,
          54.6873,
          54.6873
         ],
         "line": {
          "width": 1
         },
         "lon": [
          9,
          9.3102,
          9.3116,
          9,
          9,
          9
         ],
         "mode": "lines",
         "name": "20km_606_50",
         "text": "Value: 4.1 Date: 2024-01-20T00:00:00.001000+01:00",
         "type": "scattermapbox"
        },
        {
         "fill": "toself",
         "hoverinfo": "text",
         "lat": [
          56.8399,
          56.8369,
          57.0166,
          57.0196,
          56.8399,
          56.8399
         ],
         "line": {
          "width": 1
         },
         "lon": [
          9.9835,
          10.3112,
          10.3176,
          9.9882,
          9.9835,
          9.9835
         ],
         "mode": "lines",
         "name": "20km_630_56",
         "text": "Value: 1.9 Date: 2024-01-20T00:00:00.001000+01:00",
         "type": "scattermapbox"
        },
        {
         "fill": "toself",
         "hoverinfo": "text",
         "lat": [
          55.9416,
          55.9437,
          56.1234,
          56.1213,
          55.9416,
          55.9416
         ],
         "line": {
          "width": 1
         },
         "lon": [
          8.0394,
          8.3596,
          8.3566,
          8.0349,
          8.0394,
          8.0394
         ],
         "mode": "lines",
         "name": "20km_620_44",
         "text": "Value: 4.6 Date: 2024-01-20T00:00:00.001000+01:00",
         "type": "scattermapbox"
        },
        {
         "fill": "toself",
         "hoverinfo": "text",
         "lat": [
          55.9117,
          55.9038,
          56.0832,
          56.0912,
          55.9117,
          55.9117
         ],
         "line": {
          "width": 1
         },
         "lon": [
          11.88,
          12.1995,
          12.2143,
          11.8934,
          11.88,
          11.88
         ],
         "mode": "lines",
         "name": "20km_620_68",
         "text": "Value: 2.1 Date: 2024-01-20T00:00:00.001000+01:00",
         "type": "scattermapbox"
        },
        {
         "fill": "toself",
         "hoverinfo": "text",
         "lat": [
          56.0832,
          56.0744,
          56.2538,
          56.2626,
          56.0832,
          56.0832
         ],
         "line": {
          "width": 1
         },
         "lon": [
          12.2143,
          12.5351,
          12.5516,
          12.2294,
          12.2143,
          12.2143
         ],
         "mode": "lines",
         "name": "20km_622_70",
         "text": "Value: 1.5 Date: 2024-01-20T00:00:00.001000+01:00",
         "type": "scattermapbox"
        },
        {
         "fill": "toself",
         "hoverinfo": "text",
         "lat": [
          55.5712,
          55.5659,
          55.7454,
          55.7508,
          55.5712,
          55.5712
         ],
         "line": {
          "width": 1
         },
         "lon": [
          10.9032,
          11.2201,
          11.2303,
          10.9119,
          10.9032,
          10.9032
         ],
         "mode": "lines",
         "name": "20km_616_62",
         "text": "Value: 3.2 Date: 2024-01-20T00:00:00.001000+01:00",
         "type": "scattermapbox"
        },
        {
         "fill": "toself",
         "hoverinfo": "text",
         "lat": [
          55.545,
          55.5363,
          55.7157,
          55.7244,
          55.545,
          55.545
         ],
         "line": {
          "width": 1
         },
         "lon": [
          12.1702,
          12.4866,
          12.5026,
          12.1848,
          12.1702,
          12.1702
         ],
         "mode": "lines",
         "name": "20km_616_70",
         "text": "Value: 2.5 Date: 2024-01-20T00:00:00.001000+01:00",
         "type": "scattermapbox"
        },
        {
         "fill": "toself",
         "hoverinfo": "text",
         "lat": [
          55.0062,
          54.9914,
          55.1702,
          55.1851,
          55.0062,
          55.0062
         ],
         "line": {
          "width": 1
         },
         "lon": [
          14.6318,
          14.9428,
          14.9695,
          14.657,
          14.6318,
          14.6318
         ],
         "mode": "lines",
         "name": "20km_611_86",
         "text": "Value: 2.7 Date: 2024-01-20T00:00:00.001000+01:00",
         "type": "scattermapbox"
        },
        {
         "fill": "toself",
         "hoverinfo": "text",
         "lat": [
          55.5794,
          55.5757,
          55.7553,
          55.7591,
          55.5794,
          55.5794
         ],
         "line": {
          "width": 1
         },
         "lon": [
          10.269,
          10.5861,
          10.5934,
          10.2748,
          10.269,
          10.269
         ],
         "mode": "lines",
         "name": "20km_616_58",
         "text": "Value: 3.4 Date: 2024-01-20T00:00:00.001000+01:00",
         "type": "scattermapbox"
        },
        {
         "fill": "toself",
         "hoverinfo": "text",
         "lat": [
          55.4058,
          55.4046,
          55.5843,
          55.5856,
          55.4058,
          55.4058
         ],
         "line": {
          "width": 1
         },
         "lon": [
          9.3159,
          9.6317,
          9.6346,
          9.3173,
          9.3159,
          9.3159
         ],
         "mode": "lines",
         "name": "20km_614_52",
         "text": "Value: 3.8 Date: 2024-01-20T00:00:00.001000+01:00",
         "type": "scattermapbox"
        },
        {
         "fill": "toself",
         "hoverinfo": "text",
         "lat": [
          55.3802,
          55.3732,
          55.5527,
          55.5597,
          55.3802,
          55.3802
         ],
         "line": {
          "width": 1
         },
         "lon": [
          11.5255,
          11.8407,
          11.8537,
          11.537,
          11.5255,
          11.5255
         ],
         "mode": "lines",
         "name": "20km_614_66",
         "text": "Value: 2.8 Date: 2024-01-20T00:00:00.001000+01:00",
         "type": "scattermapbox"
        },
        {
         "fill": "toself",
         "hoverinfo": "text",
         "lat": [
          56.4845,
          56.484,
          56.6637,
          56.6641,
          56.4845,
          56.4845
         ],
         "line": {
          "width": 1
         },
         "lon": [
          9,
          9.3247,
          9.3263,
          9,
          9,
          9
         ],
         "mode": "lines",
         "name": "20km_626_50",
         "text": "Value: 3.1 Date: 2024-01-20T00:00:00.001000+01:00",
         "type": "scattermapbox"
        },
        {
         "fill": "toself",
         "hoverinfo": "text",
         "lat": [
          55.2261,
          55.2265,
          55.4062,
          55.4058,
          55.2261,
          55.2261
         ],
         "line": {
          "width": 1
         },
         "lon": [
          8.6856,
          9,
          9,
          8.6841,
          8.6856,
          8.6856
         ],
         "mode": "lines",
         "name": "20km_612_48",
         "text": "Value: 4.0 Date: 2024-01-20T00:00:00.001000+01:00",
         "type": "scattermapbox"
        },
        {
         "fill": "toself",
         "hoverinfo": "text",
         "lat": [
          55.0066,
          54.9982,
          55.1776,
          55.1861,
          55.0066,
          55.0066
         ],
         "line": {
          "width": 1
         },
         "lon": [
          12.1276,
          12.4397,
          12.4552,
          12.1416,
          12.1276,
          12.1276
         ],
         "mode": "lines",
         "name": "20km_610_70",
         "text": "Value: 3.1 Date: 2024-01-20T00:00:00.001000+01:00",
         "type": "scattermapbox"
        },
        {
         "fill": "toself",
         "hoverinfo": "text",
         "lat": [
          54.8271,
          54.8188,
          54.9982,
          55.0066,
          54.8271,
          54.8271
         ],
         "line": {
          "width": 1
         },
         "lon": [
          12.1137,
          12.4245,
          12.4397,
          12.1276,
          12.1137,
          12.1137
         ],
         "mode": "lines",
         "name": "20km_608_70",
         "text": "Value: 3.2 Date: 2024-01-20T00:00:00.001000+01:00",
         "type": "scattermapbox"
        },
        {
         "fill": "toself",
         "hoverinfo": "text",
         "lat": [
          56.1247,
          56.1234,
          56.3031,
          56.3043,
          56.1247,
          56.1247
         ],
         "line": {
          "width": 1
         },
         "lon": [
          9.3217,
          9.6434,
          9.6464,
          9.3232,
          9.3217,
          9.3217
         ],
         "mode": "lines",
         "name": "20km_622_52",
         "text": "Value: 3.4 Date: 2024-01-20T00:00:00.001000+01:00",
         "type": "scattermapbox"
        },
        {
         "fill": "toself",
         "hoverinfo": "text",
         "lat": [
          55.9416,
          55.9387,
          56.1184,
          56.1213,
          55.9416,
          55.9416
         ],
         "line": {
          "width": 1
         },
         "lon": [
          9.9606,
          10.2807,
          10.2867,
          9.9651,
          9.9606,
          9.9606
         ],
         "mode": "lines",
         "name": "20km_620_56",
         "text": "Value: 2.7 Date: 2024-01-20T00:00:00.001000+01:00",
         "type": "scattermapbox"
        },
        {
         "fill": "toself",
         "hoverinfo": "text",
         "lat": [
          55.7657,
          55.7653,
          55.945,
          55.9454,
          55.7657,
          55.7657
         ],
         "line": {
          "width": 1
         },
         "lon": [
          9,
          9.3187,
          9.3202,
          9,
          9,
          9
         ],
         "mode": "lines",
         "name": "20km_618_50",
         "text": "Value: 3.8 Date: 2024-01-20T00:00:00.001000+01:00",
         "type": "scattermapbox"
        },
        {
         "fill": "toself",
         "hoverinfo": "text",
         "lat": [
          54.4883,
          54.4824,
          54.6619,
          54.6679,
          54.4883,
          54.4883
         ],
         "line": {
          "width": 1
         },
         "lon": [
          11.1613,
          11.4698,
          11.4807,
          11.1709,
          11.1613,
          11.1613
         ],
         "mode": "lines",
         "name": "20km_604_64",
         "text": "Value: 3.0 Date: 2024-01-20T00:00:00.001000+01:00",
         "type": "scattermapbox"
        },
        {
         "fill": "toself",
         "hoverinfo": "text",
         "lat": [
          54.6679,
          54.6619,
          54.8415,
          54.8475,
          54.6679,
          54.6679
         ],
         "line": {
          "width": 1
         },
         "lon": [
          11.1709,
          11.4807,
          11.4917,
          11.1805,
          11.1709,
          11.1709
         ],
         "mode": "lines",
         "name": "20km_606_64",
         "text": "Value: 3.1 Date: 2024-01-20T00:00:00.001000+01:00",
         "type": "scattermapbox"
        },
        {
         "fill": "toself",
         "hoverinfo": "text",
         "lat": [
          57.3758,
          57.3718,
          57.5514,
          57.5554,
          57.3758,
          57.3758
         ],
         "line": {
          "width": 1
         },
         "lon": [
          10.3304,
          10.6629,
          10.671,
          10.3369,
          10.3304,
          10.3304
         ],
         "mode": "lines",
         "name": "20km_636_58",
         "text": "Value: 0.9 Date: 2024-01-20T00:00:00.001000+01:00",
         "type": "scattermapbox"
        },
        {
         "fill": "toself",
         "hoverinfo": "text",
         "lat": [
          57.2027,
          57.2014,
          57.3811,
          57.3824,
          57.2027,
          57.2027
         ],
         "line": {
          "width": 1
         },
         "lon": [
          9.331,
          9.662,
          9.6653,
          9.3326,
          9.331,
          9.331
         ],
         "mode": "lines",
         "name": "20km_634_52",
         "text": "Value: 1.9 Date: 2024-01-20T00:00:00.001000+01:00",
         "type": "scattermapbox"
        },
        {
         "fill": "toself",
         "hoverinfo": "text",
         "lat": [
          56.0912,
          56.0832,
          56.2626,
          56.2706,
          56.0912,
          56.0912
         ],
         "line": {
          "width": 1
         },
         "lon": [
          11.8934,
          12.2143,
          12.2294,
          11.9069,
          11.8934,
          11.8934
         ],
         "mode": "lines",
         "name": "20km_622_68",
         "text": "Value: 1.6 Date: 2024-01-20T00:00:00.001000+01:00",
         "type": "scattermapbox"
        },
        {
         "fill": "toself",
         "hoverinfo": "text",
         "lat": [
          55.0211,
          55.0142,
          55.1937,
          55.2006,
          55.0211,
          55.0211
         ],
         "line": {
          "width": 1
         },
         "lon": [
          11.5028,
          11.8153,
          11.8279,
          11.5141,
          11.5028,
          11.5028
         ],
         "mode": "lines",
         "name": "20km_610_66",
         "text": "Value: 3.1 Date: 2024-01-20T00:00:00.001000+01:00",
         "type": "scattermapbox"
        },
        {
         "fill": "toself",
         "hoverinfo": "text",
         "lat": [
          55.5843,
          55.5823,
          55.762,
          55.764,
          55.5843,
          55.5843
         ],
         "line": {
          "width": 1
         },
         "lon": [
          9.6346,
          9.9518,
          9.9562,
          9.6375,
          9.6346,
          9.6346
         ],
         "mode": "lines",
         "name": "20km_616_54",
         "text": "Value: 3.6 Date: 2024-01-20T00:00:00.001000+01:00",
         "type": "scattermapbox"
        },
        {
         "fill": "toself",
         "hoverinfo": "text",
         "lat": [
          56.8434,
          56.8421,
          57.0218,
          57.0231,
          56.8434,
          56.8434
         ],
         "line": {
          "width": 1
         },
         "lon": [
          9.3279,
          9.6557,
          9.6588,
          9.3294,
          9.3279,
          9.3279
         ],
         "mode": "lines",
         "name": "20km_630_52",
         "text": "Value: 2.2 Date: 2024-01-20T00:00:00.001000+01:00",
         "type": "scattermapbox"
        },
        {
         "fill": "toself",
         "hoverinfo": "text",
         "lat": [
          55.4026,
          55.4046,
          55.5843,
          55.5823,
          55.4026,
          55.4026
         ],
         "line": {
          "width": 1
         },
         "lon": [
          8.0525,
          8.3683,
          8.3654,
          8.0482,
          8.0525,
          8.0525
         ],
         "mode": "lines",
         "name": "20km_614_44",
         "text": "Value: 4.8 Date: 2024-01-20T00:00:00.001000+01:00",
         "type": "scattermapbox"
        },
        {
         "fill": "toself",
         "hoverinfo": "text",
         "lat": [
          56.3048,
          56.3043,
          56.484,
          56.4845,
          56.3048,
          56.3048
         ],
         "line": {
          "width": 1
         },
         "lon": [
          9,
          9.3232,
          9.3247,
          9,
          9,
          9
         ],
         "mode": "lines",
         "name": "20km_624_50",
         "text": "Value: 3.6 Date: 2024-01-20T00:00:00.001000+01:00",
         "type": "scattermapbox"
        },
        {
         "fill": "toself",
         "hoverinfo": "text",
         "lat": [
          55.0323,
          55.0271,
          55.2067,
          55.212,
          55.0323,
          55.0323
         ],
         "line": {
          "width": 1
         },
         "lon": [
          10.8775,
          11.1902,
          11.2001,
          10.886,
          10.8775,
          10.8775
         ],
         "mode": "lines",
         "name": "20km_610_62",
         "text": "Value: 3.5 Date: 2024-01-20T00:00:00.001000+01:00",
         "type": "scattermapbox"
        },
        {
         "fill": "toself",
         "hoverinfo": "text",
         "lat": [
          54.8475,
          54.8415,
          55.0211,
          55.0271,
          54.8475,
          54.8475
         ],
         "line": {
          "width": 1
         },
         "lon": [
          11.1805,
          11.4917,
          11.5028,
          11.1902,
          11.1805,
          11.1805
         ],
         "mode": "lines",
         "name": "20km_608_64",
         "text": "Value: 3.2 Date: 2024-01-20T00:00:00.001000+01:00",
         "type": "scattermapbox"
        },
        {
         "fill": "toself",
         "hoverinfo": "text",
         "lat": [
          57.0218,
          57.0196,
          57.1992,
          57.2014,
          57.0218,
          57.0218
         ],
         "line": {
          "width": 1
         },
         "lon": [
          9.6588,
          9.9882,
          9.993,
          9.662,
          9.6588,
          9.6588
         ],
         "mode": "lines",
         "name": "20km_632_54",
         "text": "Value: 1.8 Date: 2024-01-20T00:00:00.001000+01:00",
         "type": "scattermapbox"
        },
        {
         "fill": "toself",
         "hoverinfo": "text",
         "lat": [
          54.8188,
          54.8096,
          54.9889,
          54.9982,
          54.8188,
          54.8188
         ],
         "line": {
          "width": 1
         },
         "lon": [
          12.4245,
          12.7351,
          12.7517,
          12.4397,
          12.4245,
          12.4245
         ],
         "mode": "lines",
         "name": "20km_608_72",
         "text": "Value: 3.1 Date: 2024-01-20T00:00:00.001000+01:00",
         "type": "scattermapbox"
        },
        {
         "fill": "toself",
         "hoverinfo": "text",
         "lat": [
          56.4828,
          56.4806,
          56.6603,
          56.6624,
          56.4828,
          56.4828
         ],
         "line": {
          "width": 1
         },
         "lon": [
          9.6495,
          9.9742,
          9.9788,
          9.6526,
          9.6495,
          9.6495
         ],
         "mode": "lines",
         "name": "20km_626_54",
         "text": "Value: 2.4 Date: 2024-01-20T00:00:00.001000+01:00",
         "type": "scattermapbox"
        },
        {
         "fill": "toself",
         "hoverinfo": "text",
         "lat": [
          54.8571,
          54.8527,
          55.0323,
          55.0367,
          54.8571,
          54.8571
         ],
         "line": {
          "width": 1
         },
         "lon": [
          10.5578,
          10.8692,
          10.8775,
          10.5648,
          10.5578,
          10.5578
         ],
         "mode": "lines",
         "name": "20km_608_60",
         "text": "Value: 3.3 Date: 2024-01-20T00:00:00.001000+01:00",
         "type": "scattermapbox"
        },
        {
         "fill": "toself",
         "hoverinfo": "text",
         "lat": [
          55.5527,
          55.545,
          55.7244,
          55.7322,
          55.5527,
          55.5527
         ],
         "line": {
          "width": 1
         },
         "lon": [
          11.8537,
          12.1702,
          12.1848,
          11.8668,
          11.8537,
          11.8537
         ],
         "mode": "lines",
         "name": "20km_616_68",
         "text": "Value: 2.4 Date: 2024-01-20T00:00:00.001000+01:00",
         "type": "scattermapbox"
        },
        {
         "fill": "toself",
         "hoverinfo": "text",
         "lat": [
          55.5823,
          55.5794,
          55.7591,
          55.762,
          55.5823,
          55.5823
         ],
         "line": {
          "width": 1
         },
         "lon": [
          9.9518,
          10.269,
          10.2748,
          9.9562,
          9.9518,
          9.9518
         ],
         "mode": "lines",
         "name": "20km_616_56",
         "text": "Value: 3.4 Date: 2024-01-20T00:00:00.001000+01:00",
         "type": "scattermapbox"
        },
        {
         "fill": "toself",
         "hoverinfo": "text",
         "lat": [
          56.8434,
          56.8438,
          57.0235,
          57.0231,
          56.8434,
          56.8434
         ],
         "line": {
          "width": 1
         },
         "lon": [
          8.6721,
          9,
          9,
          8.6706,
          8.6721,
          8.6721
         ],
         "mode": "lines",
         "name": "20km_630_48",
         "text": "Value: 2.8 Date: 2024-01-20T00:00:00.001000+01:00",
         "type": "scattermapbox"
        },
        {
         "fill": "toself",
         "hoverinfo": "text",
         "lat": [
          56.3031,
          56.301,
          56.4806,
          56.4828,
          56.3031,
          56.3031
         ],
         "line": {
          "width": 1
         },
         "lon": [
          9.6464,
          9.9696,
          9.9742,
          9.6495,
          9.6464,
          9.6464
         ],
         "mode": "lines",
         "name": "20km_624_54",
         "text": "Value: 2.6 Date: 2024-01-20T00:00:00.001000+01:00",
         "type": "scattermapbox"
        },
        {
         "fill": "toself",
         "hoverinfo": "text",
         "lat": [
          56.301,
          56.298,
          56.4777,
          56.4806,
          56.301,
          56.301
         ],
         "line": {
          "width": 1
         },
         "lon": [
          9.9696,
          10.2927,
          10.2988,
          9.9742,
          9.9696,
          9.9696
         ],
         "mode": "lines",
         "name": "20km_624_56",
         "text": "Value: 2.4 Date: 2024-01-20T00:00:00.001000+01:00",
         "type": "scattermapbox"
        },
        {
         "fill": "toself",
         "hoverinfo": "text",
         "lat": [
          55.7157,
          55.7062,
          55.8855,
          55.8951,
          55.7157,
          55.7157
         ],
         "line": {
          "width": 1
         },
         "lon": [
          12.5026,
          12.8203,
          12.8379,
          12.5188,
          12.5026,
          12.5026
         ],
         "mode": "lines",
         "name": "20km_618_72",
         "text": "Value: 2.4 Date: 2024-01-20T00:00:00.001000+01:00",
         "type": "scattermapbox"
        },
        {
         "fill": "toself",
         "hoverinfo": "text",
         "lat": [
          56.4777,
          56.4738,
          56.6535,
          56.6573,
          56.4777,
          56.4777
         ],
         "line": {
          "width": 1
         },
         "lon": [
          10.2988,
          10.6234,
          10.6311,
          10.305,
          10.2988,
          10.2988
         ],
         "mode": "lines",
         "name": "20km_626_58",
         "text": "Value: 2.2 Date: 2024-01-20T00:00:00.001000+01:00",
         "type": "scattermapbox"
        },
        {
         "fill": "toself",
         "hoverinfo": "text",
         "lat": [
          56.1247,
          56.1251,
          56.3048,
          56.3043,
          56.1247,
          56.1247
         ],
         "line": {
          "width": 1
         },
         "lon": [
          8.6783,
          9,
          9,
          8.6768,
          8.6783,
          8.6783
         ],
         "mode": "lines",
         "name": "20km_622_48",
         "text": "Value: 4.0 Date: 2024-01-20T00:00:00.001000+01:00",
         "type": "scattermapbox"
        },
        {
         "fill": "toself",
         "hoverinfo": "text",
         "lat": [
          55.764,
          55.7653,
          55.945,
          55.9437,
          55.764,
          55.764
         ],
         "line": {
          "width": 1
         },
         "lon": [
          8.3625,
          8.6813,
          8.6798,
          8.3596,
          8.3625,
          8.3625
         ],
         "mode": "lines",
         "name": "20km_618_46",
         "text": "Value: 4.4 Date: 2024-01-20T00:00:00.001000+01:00",
         "type": "scattermapbox"
        },
        {
         "fill": "toself",
         "hoverinfo": "text",
         "lat": [
          57.1962,
          57.1922,
          57.3718,
          57.3758,
          57.1962,
          57.1962
         ],
         "line": {
          "width": 1
         },
         "lon": [
          10.3239,
          10.6548,
          10.6629,
          10.3304,
          10.3239,
          10.3239
         ],
         "mode": "lines",
         "name": "20km_634_58",
         "text": "Value: 1.0 Date: 2024-01-20T00:00:00.001000+01:00",
         "type": "scattermapbox"
        },
        {
         "fill": "toself",
         "hoverinfo": "text",
         "lat": [
          55.5757,
          55.5712,
          55.7508,
          55.7553,
          55.5757,
          55.5757
         ],
         "line": {
          "width": 1
         },
         "lon": [
          10.5861,
          10.9032,
          10.9119,
          10.5934,
          10.5861,
          10.5861
         ],
         "mode": "lines",
         "name": "20km_616_60",
         "text": "Value: 3.3 Date: 2024-01-20T00:00:00.001000+01:00",
         "type": "scattermapbox"
        },
        {
         "fill": "toself",
         "hoverinfo": "text",
         "lat": [
          56.8399,
          56.8421,
          57.0218,
          57.0196,
          56.8399,
          56.8399
         ],
         "line": {
          "width": 1
         },
         "lon": [
          8.0165,
          8.3443,
          8.3412,
          8.0118,
          8.0165,
          8.0165
         ],
         "mode": "lines",
         "name": "20km_630_44",
         "text": "Value: 3.7 Date: 2024-01-20T00:00:00.001000+01:00",
         "type": "scattermapbox"
        },
        {
         "fill": "toself",
         "hoverinfo": "text",
         "lat": [
          55.0142,
          55.0066,
          55.1861,
          55.1937,
          55.0142,
          55.0142
         ],
         "line": {
          "width": 1
         },
         "lon": [
          11.8153,
          12.1276,
          12.1416,
          11.8279,
          11.8153,
          11.8153
         ],
         "mode": "lines",
         "name": "20km_610_68",
         "text": "Value: 2.9 Date: 2024-01-20T00:00:00.001000+01:00",
         "type": "scattermapbox"
        },
        {
         "fill": "toself",
         "hoverinfo": "text",
         "lat": [
          54.8667,
          54.8671,
          55.0468,
          55.0464,
          54.8667,
          54.8667
         ],
         "line": {
          "width": 1
         },
         "lon": [
          8.6884,
          9,
          9,
          8.687,
          8.6884,
          8.6884
         ],
         "mode": "lines",
         "name": "20km_608_48",
         "text": "Value: 4.0 Date: 2024-01-20T00:00:00.001000+01:00",
         "type": "scattermapbox"
        },
        {
         "fill": "toself",
         "hoverinfo": "text",
         "lat": [
          56.484,
          56.4845,
          56.6641,
          56.6637,
          56.484,
          56.484
         ],
         "line": {
          "width": 1
         },
         "lon": [
          8.6753,
          9,
          9,
          8.6737,
          8.6753,
          8.6753
         ],
         "mode": "lines",
         "name": "20km_626_48",
         "text": "Value: 3.5 Date: 2024-01-20T00:00:00.001000+01:00",
         "type": "scattermapbox"
        },
        {
         "fill": "toself",
         "hoverinfo": "text",
         "lat": [
          55.0464,
          55.0452,
          55.2249,
          55.2261,
          55.0464,
          55.0464
         ],
         "line": {
          "width": 1
         },
         "lon": [
          9.313,
          9.626,
          9.6288,
          9.3144,
          9.313,
          9.313
         ],
         "mode": "lines",
         "name": "20km_610_52",
         "text": "Value: 3.7 Date: 2024-01-20T00:00:00.001000+01:00",
         "type": "scattermapbox"
        },
        {
         "fill": "toself",
         "hoverinfo": "text",
         "lat": [
          54.8415,
          54.8347,
          55.0142,
          55.0211,
          54.8415,
          54.8415
         ],
         "line": {
          "width": 1
         },
         "lon": [
          11.4917,
          11.8028,
          11.8153,
          11.5028,
          11.4917,
          11.4917
         ],
         "mode": "lines",
         "name": "20km_608_66",
         "text": "Value: 3.2 Date: 2024-01-20T00:00:00.001000+01:00",
         "type": "scattermapbox"
        },
        {
         "fill": "toself",
         "hoverinfo": "text",
         "lat": [
          55.762,
          55.7591,
          55.9387,
          55.9416,
          55.762,
          55.762
         ],
         "line": {
          "width": 1
         },
         "lon": [
          9.9562,
          10.2748,
          10.2807,
          9.9606,
          9.9562,
          9.9562
         ],
         "mode": "lines",
         "name": "20km_618_56",
         "text": "Value: 3.1 Date: 2024-01-20T00:00:00.001000+01:00",
         "type": "scattermapbox"
        },
        {
         "fill": "toself",
         "hoverinfo": "text",
         "lat": [
          56.1146,
          56.11,
          56.2896,
          56.2942,
          56.1146,
          56.1146
         ],
         "line": {
          "width": 1
         },
         "lon": [
          10.6082,
          10.9297,
          10.9387,
          10.6158,
          10.6082,
          10.6082
         ],
         "mode": "lines",
         "name": "20km_622_60",
         "text": "Value: 2.8 Date: 2024-01-20T00:00:00.001000+01:00",
         "type": "scattermapbox"
        },
        {
         "fill": "toself",
         "hoverinfo": "text",
         "lat": [
          54.6774,
          54.6731,
          54.8527,
          54.8571,
          54.6774,
          54.6774
         ],
         "line": {
          "width": 1
         },
         "lon": [
          10.5509,
          10.8609,
          10.8692,
          10.5578,
          10.5509,
          10.5509
         ],
         "mode": "lines",
         "name": "20km_606_60",
         "text": "Value: 3.3 Date: 2024-01-20T00:00:00.001000+01:00",
         "type": "scattermapbox"
        },
        {
         "fill": "toself",
         "hoverinfo": "text",
         "lat": [
          55.2201,
          55.2164,
          55.3961,
          55.3997,
          55.2201,
          55.2201
         ],
         "line": {
          "width": 1
         },
         "lon": [
          10.2575,
          10.5718,
          10.5789,
          10.2632,
          10.2575,
          10.2575
         ],
         "mode": "lines",
         "name": "20km_612_58",
         "text": "Value: 3.6 Date: 2024-01-20T00:00:00.001000+01:00",
         "type": "scattermapbox"
        },
        {
         "fill": "toself",
         "hoverinfo": "text",
         "lat": [
          55.762,
          55.764,
          55.9437,
          55.9416,
          55.762,
          55.762
         ],
         "line": {
          "width": 1
         },
         "lon": [
          8.0438,
          8.3625,
          8.3596,
          8.0394,
          8.0438,
          8.0438
         ],
         "mode": "lines",
         "name": "20km_618_44",
         "text": "Value: 4.6 Date: 2024-01-20T00:00:00.001000+01:00",
         "type": "scattermapbox"
        },
        {
         "fill": "toself",
         "hoverinfo": "text",
         "lat": [
          55.945,
          55.9437,
          56.1234,
          56.1247,
          55.945,
          55.945
         ],
         "line": {
          "width": 1
         },
         "lon": [
          9.3202,
          9.6404,
          9.6434,
          9.3217,
          9.3202,
          9.3202
         ],
         "mode": "lines",
         "name": "20km_620_52",
         "text": "Value: 3.6 Date: 2024-01-20T00:00:00.001000+01:00",
         "type": "scattermapbox"
        },
        {
         "fill": "toself",
         "hoverinfo": "text",
         "lat": [
          56.3043,
          56.3031,
          56.4828,
          56.484,
          56.3043,
          56.3043
         ],
         "line": {
          "width": 1
         },
         "lon": [
          9.3232,
          9.6464,
          9.6495,
          9.3247,
          9.3232,
          9.3232
         ],
         "mode": "lines",
         "name": "20km_624_52",
         "text": "Value: 3.0 Date: 2024-01-20T00:00:00.001000+01:00",
         "type": "scattermapbox"
        },
        {
         "fill": "toself",
         "hoverinfo": "text",
         "lat": [
          55.0432,
          55.0404,
          55.2201,
          55.2229,
          55.0432,
          55.0432
         ],
         "line": {
          "width": 1
         },
         "lon": [
          9.939,
          10.2519,
          10.2575,
          9.9432,
          9.939,
          9.939
         ],
         "mode": "lines",
         "name": "20km_610_56",
         "text": "Value: 3.6 Date: 2024-01-20T00:00:00.001000+01:00",
         "type": "scattermapbox"
        },
        {
         "fill": "toself",
         "hoverinfo": "text",
         "lat": [
          54.681,
          54.6774,
          54.8571,
          54.8607,
          54.681,
          54.681
         ],
         "line": {
          "width": 1
         },
         "lon": [
          10.2408,
          10.5509,
          10.5578,
          10.2463,
          10.2408,
          10.2408
         ],
         "mode": "lines",
         "name": "20km_606_58",
         "text": "Value: 3.4 Date: 2024-01-20T00:00:00.001000+01:00",
         "type": "scattermapbox"
        },
        {
         "fill": "toself",
         "hoverinfo": "text",
         "lat": [
          55.1861,
          55.1776,
          55.357,
          55.3655,
          55.1861,
          55.1861
         ],
         "line": {
          "width": 1
         },
         "lon": [
          12.1416,
          12.4552,
          12.4708,
          12.1558,
          12.1416,
          12.1416
         ],
         "mode": "lines",
         "name": "20km_612_70",
         "text": "Value: 2.8 Date: 2024-01-20T00:00:00.001000+01:00",
         "type": "scattermapbox"
        },
        {
         "fill": "toself",
         "hoverinfo": "text",
         "lat": [
          56.6603,
          56.6573,
          56.8369,
          56.8399,
          56.6603,
          56.6603
         ],
         "line": {
          "width": 1
         },
         "lon": [
          9.9788,
          10.305,
          10.3112,
          9.9835,
          9.9788,
          9.9788
         ],
         "mode": "lines",
         "name": "20km_628_56",
         "text": "Value: 2.1 Date: 2024-01-20T00:00:00.001000+01:00",
         "type": "scattermapbox"
        },
        {
         "fill": "toself",
         "hoverinfo": "text",
         "lat": [
          57.5585,
          57.5554,
          57.735,
          57.7381,
          57.5585,
          57.5585
         ],
         "line": {
          "width": 1
         },
         "lon": [
          10.0028,
          10.3369,
          10.3436,
          10.0077,
          10.0028,
          10.0028
         ],
         "mode": "lines",
         "name": "20km_638_56",
         "text": "Value: 1.1 Date: 2024-01-20T00:00:00.001000+01:00",
         "type": "scattermapbox"
        },
        {
         "fill": "toself",
         "hoverinfo": "text",
         "lat": [
          56.1251,
          56.1247,
          56.3043,
          56.3048,
          56.1251,
          56.1251
         ],
         "line": {
          "width": 1
         },
         "lon": [
          9,
          9.3217,
          9.3232,
          9,
          9,
          9
         ],
         "mode": "lines",
         "name": "20km_622_50",
         "text": "Value: 3.8 Date: 2024-01-20T00:00:00.001000+01:00",
         "type": "scattermapbox"
        },
        {
         "fill": "toself",
         "hoverinfo": "text",
         "lat": [
          55.3961,
          55.3916,
          55.5712,
          55.5757,
          55.3961,
          55.3961
         ],
         "line": {
          "width": 1
         },
         "lon": [
          10.5789,
          10.8945,
          10.9032,
          10.5861,
          10.5789,
          10.5789
         ],
         "mode": "lines",
         "name": "20km_614_60",
         "text": "Value: 3.5 Date: 2024-01-20T00:00:00.001000+01:00",
         "type": "scattermapbox"
        },
        {
         "fill": "toself",
         "hoverinfo": "text",
         "lat": [
          57.3789,
          57.3758,
          57.5554,
          57.5585,
          57.3789,
          57.3789
         ],
         "line": {
          "width": 1
         },
         "lon": [
          9.9979,
          10.3304,
          10.3369,
          10.0028,
          9.9979,
          9.9979
         ],
         "mode": "lines",
         "name": "20km_636_56",
         "text": "Value: 1.0 Date: 2024-01-20T00:00:00.001000+01:00",
         "type": "scattermapbox"
        },
        {
         "fill": "toself",
         "hoverinfo": "text",
         "lat": [
          55.0404,
          55.0367,
          55.2164,
          55.2201,
          55.0404,
          55.0404
         ],
         "line": {
          "width": 1
         },
         "lon": [
          10.2519,
          10.5648,
          10.5718,
          10.2575,
          10.2519,
          10.2519
         ],
         "mode": "lines",
         "name": "20km_610_58",
         "text": "Value: 3.5 Date: 2024-01-20T00:00:00.001000+01:00",
         "type": "scattermapbox"
        },
        {
         "fill": "toself",
         "hoverinfo": "text",
         "lat": [
          56.4738,
          56.4692,
          56.6488,
          56.6535,
          56.4738,
          56.4738
         ],
         "line": {
          "width": 1
         },
         "lon": [
          10.6234,
          10.9479,
          10.9571,
          10.6311,
          10.6234,
          10.6234
         ],
         "mode": "lines",
         "name": "20km_626_60",
         "text": "Value: 2.3 Date: 2024-01-20T00:00:00.001000+01:00",
         "type": "scattermapbox"
        },
        {
         "fill": "toself",
         "hoverinfo": "text",
         "lat": [
          55.0468,
          55.0464,
          55.2261,
          55.2265,
          55.0468,
          55.0468
         ],
         "line": {
          "width": 1
         },
         "lon": [
          9,
          9.313,
          9.3144,
          9,
          9,
          9
         ],
         "mode": "lines",
         "name": "20km_610_50",
         "text": "Value: 3.7 Date: 2024-01-20T00:00:00.001000+01:00",
         "type": "scattermapbox"
        },
        {
         "fill": "toself",
         "hoverinfo": "text",
         "lat": [
          55.2067,
          55.2006,
          55.3802,
          55.3863,
          55.2067,
          55.2067
         ],
         "line": {
          "width": 1
         },
         "lon": [
          11.2001,
          11.5141,
          11.5255,
          11.2101,
          11.2001,
          11.2001
         ],
         "mode": "lines",
         "name": "20km_612_64",
         "text": "Value: 3.5 Date: 2024-01-20T00:00:00.001000+01:00",
         "type": "scattermapbox"
        },
        {
         "fill": "toself",
         "hoverinfo": "text",
         "lat": [
          56.301,
          56.3031,
          56.4828,
          56.4806,
          56.301,
          56.301
         ],
         "line": {
          "width": 1
         },
         "lon": [
          8.0304,
          8.3536,
          8.3505,
          8.0258,
          8.0304,
          8.0304
         ],
         "mode": "lines",
         "name": "20km_624_44",
         "text": "Value: 4.3 Date: 2024-01-20T00:00:00.001000+01:00",
         "type": "scattermapbox"
        },
        {
         "fill": "toself",
         "hoverinfo": "text",
         "lat": [
          56.1213,
          56.1184,
          56.298,
          56.301,
          56.1213,
          56.1213
         ],
         "line": {
          "width": 1
         },
         "lon": [
          9.9651,
          10.2867,
          10.2927,
          9.9696,
          9.9651,
          9.9651
         ],
         "mode": "lines",
         "name": "20km_622_56",
         "text": "Value: 2.6 Date: 2024-01-20T00:00:00.001000+01:00",
         "type": "scattermapbox"
        },
        {
         "fill": "toself",
         "hoverinfo": "text",
         "lat": [
          55.4046,
          55.4058,
          55.5856,
          55.5843,
          55.4046,
          55.4046
         ],
         "line": {
          "width": 1
         },
         "lon": [
          8.3683,
          8.6841,
          8.6827,
          8.3654,
          8.3683,
          8.3683
         ],
         "mode": "lines",
         "name": "20km_614_46",
         "text": "Value: 4.6 Date: 2024-01-20T00:00:00.001000+01:00",
         "type": "scattermapbox"
        },
        {
         "fill": "toself",
         "hoverinfo": "text",
         "lat": [
          56.6637,
          56.6624,
          56.8421,
          56.8434,
          56.6637,
          56.6637
         ],
         "line": {
          "width": 1
         },
         "lon": [
          9.3263,
          9.6526,
          9.6557,
          9.3279,
          9.3263,
          9.3263
         ],
         "mode": "lines",
         "name": "20km_628_52",
         "text": "Value: 2.3 Date: 2024-01-20T00:00:00.001000+01:00",
         "type": "scattermapbox"
        },
        {
         "fill": "toself",
         "hoverinfo": "text",
         "lat": [
          55.3863,
          55.3802,
          55.5597,
          55.5659,
          55.3863,
          55.3863
         ],
         "line": {
          "width": 1
         },
         "lon": [
          11.2101,
          11.5255,
          11.537,
          11.2201,
          11.2101,
          11.2101
         ],
         "mode": "lines",
         "name": "20km_614_64",
         "text": "Value: 3.2 Date: 2024-01-20T00:00:00.001000+01:00",
         "type": "scattermapbox"
        },
        {
         "fill": "toself",
         "hoverinfo": "text",
         "lat": [
          55.7454,
          55.7392,
          55.9188,
          55.925,
          55.7454,
          55.7454
         ],
         "line": {
          "width": 1
         },
         "lon": [
          11.2303,
          11.5486,
          11.5604,
          11.2406,
          11.2303,
          11.2303
         ],
         "mode": "lines",
         "name": "20km_618_64",
         "text": "Value: 2.8 Date: 2024-01-20T00:00:00.001000+01:00",
         "type": "scattermapbox"
        },
        {
         "fill": "toself",
         "hoverinfo": "text",
         "lat": [
          55.4062,
          55.4058,
          55.5856,
          55.586,
          55.4062,
          55.4062
         ],
         "line": {
          "width": 1
         },
         "lon": [
          9,
          9.3159,
          9.3173,
          9,
          9,
          9
         ],
         "mode": "lines",
         "name": "20km_614_50",
         "text": "Value: 3.7 Date: 2024-01-20T00:00:00.001000+01:00",
         "type": "scattermapbox"
        },
        {
         "fill": "toself",
         "hoverinfo": "text",
         "lat": [
          55.7553,
          55.7508,
          55.9304,
          55.935,
          55.7553,
          55.7553
         ],
         "line": {
          "width": 1
         },
         "lon": [
          10.5934,
          10.9119,
          10.9208,
          10.6008,
          10.5934,
          10.5934
         ],
         "mode": "lines",
         "name": "20km_618_60",
         "text": "Value: 3.2 Date: 2024-01-20T00:00:00.001000+01:00",
         "type": "scattermapbox"
        },
        {
         "fill": "toself",
         "hoverinfo": "text",
         "lat": [
          56.6641,
          56.6637,
          56.8434,
          56.8438,
          56.6641,
          56.6641
         ],
         "line": {
          "width": 1
         },
         "lon": [
          9,
          9.3263,
          9.3279,
          9,
          9,
          9
         ],
         "mode": "lines",
         "name": "20km_628_50",
         "text": "Value: 2.7 Date: 2024-01-20T00:00:00.001000+01:00",
         "type": "scattermapbox"
        },
        {
         "fill": "toself",
         "hoverinfo": "text",
         "lat": [
          55.1851,
          55.1702,
          55.3489,
          55.3639,
          55.1851,
          55.1851
         ],
         "line": {
          "width": 1
         },
         "lon": [
          14.657,
          14.9695,
          14.9964,
          14.6826,
          14.657,
          14.657
         ],
         "mode": "lines",
         "name": "20km_613_86",
         "text": "Value: 2.6 Date: 2024-01-20T00:00:00.001000+01:00",
         "type": "scattermapbox"
        },
        {
         "fill": "toself",
         "hoverinfo": "text",
         "lat": [
          54.4824,
          54.4757,
          54.6552,
          54.6619,
          54.4824,
          54.4824
         ],
         "line": {
          "width": 1
         },
         "lon": [
          11.4698,
          11.7781,
          11.7904,
          11.4807,
          11.4698,
          11.4698
         ],
         "mode": "lines",
         "name": "20km_604_66",
         "text": "Value: 3.0 Date: 2024-01-20T00:00:00.001000+01:00",
         "type": "scattermapbox"
        },
        {
         "fill": "toself",
         "hoverinfo": "text",
         "lat": [
          55.4046,
          55.4026,
          55.5823,
          55.5843,
          55.4046,
          55.4046
         ],
         "line": {
          "width": 1
         },
         "lon": [
          9.6317,
          9.9475,
          9.9518,
          9.6346,
          9.6317,
          9.6317
         ],
         "mode": "lines",
         "name": "20km_614_54",
         "text": "Value: 3.7 Date: 2024-01-20T00:00:00.001000+01:00",
         "type": "scattermapbox"
        },
        {
         "fill": "toself",
         "hoverinfo": "text",
         "lat": [
          55.0271,
          55.0211,
          55.2006,
          55.2067,
          55.0271,
          55.0271
         ],
         "line": {
          "width": 1
         },
         "lon": [
          11.1902,
          11.5028,
          11.5141,
          11.2001,
          11.1902,
          11.1902
         ],
         "mode": "lines",
         "name": "20km_610_64",
         "text": "Value: 3.6 Date: 2024-01-20T00:00:00.001000+01:00",
         "type": "scattermapbox"
        },
        {
         "fill": "toself",
         "hoverinfo": "text",
         "lat": [
          54.8347,
          54.8271,
          55.0066,
          55.0142,
          54.8347,
          54.8347
         ],
         "line": {
          "width": 1
         },
         "lon": [
          11.8028,
          12.1137,
          12.1276,
          11.8153,
          11.8028,
          11.8028
         ],
         "mode": "lines",
         "name": "20km_608_68",
         "text": "Value: 3.1 Date: 2024-01-20T00:00:00.001000+01:00",
         "type": "scattermapbox"
        },
        {
         "fill": "toself",
         "hoverinfo": "text",
         "lat": [
          55.2261,
          55.2249,
          55.4046,
          55.4058,
          55.2261,
          55.2261
         ],
         "line": {
          "width": 1
         },
         "lon": [
          9.3144,
          9.6288,
          9.6317,
          9.3159,
          9.3144,
          9.3144
         ],
         "mode": "lines",
         "name": "20km_612_52",
         "text": "Value: 3.7 Date: 2024-01-20T00:00:00.001000+01:00",
         "type": "scattermapbox"
        },
        {
         "fill": "toself",
         "hoverinfo": "text",
         "lat": [
          54.6869,
          54.6858,
          54.8655,
          54.8667,
          54.6869,
          54.6869
         ],
         "line": {
          "width": 1
         },
         "lon": [
          9.3102,
          9.6205,
          9.6232,
          9.3116,
          9.3102,
          9.3102
         ],
         "mode": "lines",
         "name": "20km_606_52",
         "text": "Value: 4.0 Date: 2024-01-20T00:00:00.001000+01:00",
         "type": "scattermapbox"
        },
        {
         "fill": "toself",
         "hoverinfo": "text",
         "lat": [
          55.5856,
          55.586,
          55.7657,
          55.7653,
          55.5856,
          55.5856
         ],
         "line": {
          "width": 1
         },
         "lon": [
          8.6827,
          9,
          9,
          8.6813,
          8.6827,
          8.6827
         ],
         "mode": "lines",
         "name": "20km_616_48",
         "text": "Value: 4.0 Date: 2024-01-20T00:00:00.001000+01:00",
         "type": "scattermapbox"
        },
        {
         "fill": "toself",
         "hoverinfo": "text",
         "lat": [
          55.7591,
          55.7553,
          55.935,
          55.9387,
          55.7591,
          55.7591
         ],
         "line": {
          "width": 1
         },
         "lon": [
          10.2748,
          10.5934,
          10.6008,
          10.2807,
          10.2748,
          10.2748
         ],
         "mode": "lines",
         "name": "20km_618_58",
         "text": "Value: 3.2 Date: 2024-01-20T00:00:00.001000+01:00",
         "type": "scattermapbox"
        },
        {
         "fill": "toself",
         "hoverinfo": "text",
         "lat": [
          55.9454,
          55.945,
          56.1247,
          56.1251,
          55.9454,
          55.9454
         ],
         "line": {
          "width": 1
         },
         "lon": [
          9,
          9.3202,
          9.3217,
          9,
          9,
          9
         ],
         "mode": "lines",
         "name": "20km_620_50",
         "text": "Value: 3.8 Date: 2024-01-20T00:00:00.001000+01:00",
         "type": "scattermapbox"
        },
        {
         "fill": "toself",
         "hoverinfo": "text",
         "lat": [
          56.6624,
          56.6603,
          56.8399,
          56.8421,
          56.6624,
          56.6624
         ],
         "line": {
          "width": 1
         },
         "lon": [
          9.6526,
          9.9788,
          9.9835,
          9.6557,
          9.6526,
          9.6526
         ],
         "mode": "lines",
         "name": "20km_628_54",
         "text": "Value: 2.3 Date: 2024-01-20T00:00:00.001000+01:00",
         "type": "scattermapbox"
        },
        {
         "fill": "toself",
         "hoverinfo": "text",
         "lat": [
          55.2265,
          55.2261,
          55.4058,
          55.4062,
          55.2265,
          55.2265
         ],
         "line": {
          "width": 1
         },
         "lon": [
          9,
          9.3144,
          9.3159,
          9,
          9,
          9
         ],
         "mode": "lines",
         "name": "20km_612_50",
         "text": "Value: 3.7 Date: 2024-01-20T00:00:00.001000+01:00",
         "type": "scattermapbox"
        },
        {
         "fill": "toself",
         "hoverinfo": "text",
         "lat": [
          54.4757,
          54.4682,
          54.6477,
          54.6552,
          54.4757,
          54.4757
         ],
         "line": {
          "width": 1
         },
         "lon": [
          11.7781,
          12.0863,
          12.0999,
          11.7904,
          11.7781,
          11.7781
         ],
         "mode": "lines",
         "name": "20km_604_68",
         "text": "Value: 2.8 Date: 2024-01-20T00:00:00.001000+01:00",
         "type": "scattermapbox"
        },
        {
         "fill": "toself",
         "hoverinfo": "text",
         "lat": [
          54.6619,
          54.6552,
          54.8347,
          54.8415,
          54.6619,
          54.6619
         ],
         "line": {
          "width": 1
         },
         "lon": [
          11.4807,
          11.7904,
          11.8028,
          11.4917,
          11.4807,
          11.4807
         ],
         "mode": "lines",
         "name": "20km_606_66",
         "text": "Value: 3.0 Date: 2024-01-20T00:00:00.001000+01:00",
         "type": "scattermapbox"
        },
        {
         "fill": "toself",
         "hoverinfo": "text",
         "lat": [
          55.5823,
          55.5843,
          55.764,
          55.762,
          55.5823,
          55.5823
         ],
         "line": {
          "width": 1
         },
         "lon": [
          8.0482,
          8.3654,
          8.3625,
          8.0438,
          8.0482,
          8.0482
         ],
         "mode": "lines",
         "name": "20km_616_44",
         "text": "Value: 4.7 Date: 2024-01-20T00:00:00.001000+01:00",
         "type": "scattermapbox"
        },
        {
         "fill": "toself",
         "hoverinfo": "text",
         "lat": [
          55.945,
          55.9454,
          56.1251,
          56.1247,
          55.945,
          55.945
         ],
         "line": {
          "width": 1
         },
         "lon": [
          8.6798,
          9,
          9,
          8.6783,
          8.6798,
          8.6798
         ],
         "mode": "lines",
         "name": "20km_620_48",
         "text": "Value: 4.1 Date: 2024-01-20T00:00:00.001000+01:00",
         "type": "scattermapbox"
        },
        {
         "fill": "toself",
         "hoverinfo": "text",
         "lat": [
          56.6401,
          56.6333,
          56.8127,
          56.8196,
          56.6401,
          56.6401
         ],
         "line": {
          "width": 1
         },
         "lon": [
          11.446,
          11.7717,
          11.7849,
          11.4576,
          11.446,
          11.446
         ],
         "mode": "lines",
         "name": "20km_628_65",
         "text": "Value: 2.2 Date: 2024-01-20T00:00:00.001000+01:00",
         "type": "scattermapbox"
        },
        {
         "fill": "toself",
         "hoverinfo": "text",
         "lat": [
          56.484,
          56.4828,
          56.6624,
          56.6637,
          56.484,
          56.484
         ],
         "line": {
          "width": 1
         },
         "lon": [
          9.3247,
          9.6495,
          9.6526,
          9.3263,
          9.3247,
          9.3247
         ],
         "mode": "lines",
         "name": "20km_626_52",
         "text": "Value: 2.7 Date: 2024-01-20T00:00:00.001000+01:00",
         "type": "scattermapbox"
        },
        {
         "fill": "toself",
         "hoverinfo": "text",
         "lat": [
          57.5554,
          57.5514,
          57.731,
          57.735,
          57.5554,
          57.5554
         ],
         "line": {
          "width": 1
         },
         "lon": [
          10.3369,
          10.671,
          10.6793,
          10.3436,
          10.3369,
          10.3369
         ],
         "mode": "lines",
         "name": "20km_638_58",
         "text": "Value: 1.1 Date: 2024-01-20T00:00:00.001000+01:00",
         "type": "scattermapbox"
        },
        {
         "fill": "toself",
         "hoverinfo": "text",
         "lat": [
          56.4806,
          56.4828,
          56.6624,
          56.6603,
          56.4806,
          56.4806
         ],
         "line": {
          "width": 1
         },
         "lon": [
          8.0258,
          8.3505,
          8.3474,
          8.0212,
          8.0258,
          8.0258
         ],
         "mode": "lines",
         "name": "20km_626_44",
         "text": "Value: 4.3 Date: 2024-01-20T00:00:00.001000+01:00",
         "type": "scattermapbox"
        },
        {
         "fill": "toself",
         "hoverinfo": "text",
         "lat": [
          55.7508,
          55.7454,
          55.925,
          55.9304,
          55.7508,
          55.7508
         ],
         "line": {
          "width": 1
         },
         "lon": [
          10.9119,
          11.2303,
          11.2406,
          10.9208,
          10.9119,
          10.9119
         ],
         "mode": "lines",
         "name": "20km_618_62",
         "text": "Value: 3.0 Date: 2024-01-20T00:00:00.001000+01:00",
         "type": "scattermapbox"
        },
        {
         "fill": "toself",
         "hoverinfo": "text",
         "lat": [
          55.9437,
          55.945,
          56.1247,
          56.1234,
          55.9437,
          55.9437
         ],
         "line": {
          "width": 1
         },
         "lon": [
          8.3596,
          8.6798,
          8.6783,
          8.3566,
          8.3596,
          8.3596
         ],
         "mode": "lines",
         "name": "20km_620_46",
         "text": "Value: 4.3 Date: 2024-01-20T00:00:00.001000+01:00",
         "type": "scattermapbox"
        },
        {
         "fill": "toself",
         "hoverinfo": "text",
         "lat": [
          54.8607,
          54.8571,
          55.0367,
          55.0404,
          54.8607,
          54.8607
         ],
         "line": {
          "width": 1
         },
         "lon": [
          10.2463,
          10.5578,
          10.5648,
          10.2519,
          10.2463,
          10.2463
         ],
         "mode": "lines",
         "name": "20km_608_58",
         "text": "Value: 3.4 Date: 2024-01-20T00:00:00.001000+01:00",
         "type": "scattermapbox"
        },
        {
         "fill": "toself",
         "hoverinfo": "text",
         "lat": [
          55.5856,
          55.5843,
          55.764,
          55.7653,
          55.5856,
          55.5856
         ],
         "line": {
          "width": 1
         },
         "lon": [
          9.3173,
          9.6346,
          9.6375,
          9.3187,
          9.3173,
          9.3173
         ],
         "mode": "lines",
         "name": "20km_616_52",
         "text": "Value: 3.7 Date: 2024-01-20T00:00:00.001000+01:00",
         "type": "scattermapbox"
        },
        {
         "fill": "toself",
         "hoverinfo": "text",
         "lat": [
          56.6624,
          56.6637,
          56.8434,
          56.8421,
          56.6624,
          56.6624
         ],
         "line": {
          "width": 1
         },
         "lon": [
          8.3474,
          8.6737,
          8.6721,
          8.3443,
          8.3474,
          8.3474
         ],
         "mode": "lines",
         "name": "20km_628_46",
         "text": "Value: 3.6 Date: 2024-01-20T00:00:00.001000+01:00",
         "type": "scattermapbox"
        },
        {
         "fill": "toself",
         "hoverinfo": "text",
         "lat": [
          54.6731,
          54.6679,
          54.8475,
          54.8527,
          54.6731,
          54.6731
         ],
         "line": {
          "width": 1
         },
         "lon": [
          10.8609,
          11.1709,
          11.1805,
          10.8692,
          10.8609,
          10.8609
         ],
         "mode": "lines",
         "name": "20km_606_62",
         "text": "Value: 3.2 Date: 2024-01-20T00:00:00.001000+01:00",
         "type": "scattermapbox"
        },
        {
         "fill": "toself",
         "hoverinfo": "text",
         "lat": [
          55.1702,
          55.1544,
          55.3331,
          55.3489,
          55.1702,
          55.1702
         ],
         "line": {
          "width": 1
         },
         "lon": [
          14.9695,
          15.2816,
          15.3099,
          14.9964,
          14.9695,
          14.9695
         ],
         "mode": "lines",
         "name": "20km_613_88",
         "text": "Value: 2.5 Date: 2024-01-20T00:00:00.001000+01:00",
         "type": "scattermapbox"
        },
        {
         "fill": "toself",
         "hoverinfo": "text",
         "lat": [
          55.2164,
          55.212,
          55.3916,
          55.3961,
          55.2164,
          55.2164
         ],
         "line": {
          "width": 1
         },
         "lon": [
          10.5718,
          10.886,
          10.8945,
          10.5789,
          10.5718,
          10.5718
         ],
         "mode": "lines",
         "name": "20km_612_60",
         "text": "Value: 3.5 Date: 2024-01-20T00:00:00.001000+01:00",
         "type": "scattermapbox"
        },
        {
         "fill": "toself",
         "hoverinfo": "text",
         "lat": [
          54.8655,
          54.8667,
          55.0464,
          55.0452,
          54.8655,
          54.8655
         ],
         "line": {
          "width": 1
         },
         "lon": [
          8.3768,
          8.6884,
          8.687,
          8.374,
          8.3768,
          8.3768
         ],
         "mode": "lines",
         "name": "20km_608_46",
         "text": "Value: 4.2 Date: 2024-01-20T00:00:00.001000+01:00",
         "type": "scattermapbox"
        },
        {
         "fill": "toself",
         "hoverinfo": "text",
         "lat": [
          56.1184,
          56.1146,
          56.2942,
          56.298,
          56.1184,
          56.1184
         ],
         "line": {
          "width": 1
         },
         "lon": [
          10.2867,
          10.6082,
          10.6158,
          10.2927,
          10.2867,
          10.2867
         ],
         "mode": "lines",
         "name": "20km_622_58",
         "text": "Value: 2.8 Date: 2024-01-20T00:00:00.001000+01:00",
         "type": "scattermapbox"
        },
        {
         "fill": "toself",
         "hoverinfo": "text",
         "lat": [
          54.6552,
          54.6477,
          54.8271,
          54.8347,
          54.6552,
          54.6552
         ],
         "line": {
          "width": 1
         },
         "lon": [
          11.7904,
          12.0999,
          12.1137,
          11.8028,
          11.7904,
          11.7904
         ],
         "mode": "lines",
         "name": "20km_606_68",
         "text": "Value: 3.0 Date: 2024-01-20T00:00:00.001000+01:00",
         "type": "scattermapbox"
        },
        {
         "fill": "toself",
         "hoverinfo": "text",
         "lat": [
          55.7653,
          55.7657,
          55.9454,
          55.945,
          55.7653,
          55.7653
         ],
         "line": {
          "width": 1
         },
         "lon": [
          8.6813,
          9,
          9,
          8.6798,
          8.6813,
          8.6813
         ],
         "mode": "lines",
         "name": "20km_618_48",
         "text": "Value: 4.1 Date: 2024-01-20T00:00:00.001000+01:00",
         "type": "scattermapbox"
        },
        {
         "fill": "toself",
         "hoverinfo": "text",
         "lat": [
          55.7322,
          55.7244,
          55.9038,
          55.9117,
          55.7322,
          55.7322
         ],
         "line": {
          "width": 1
         },
         "lon": [
          11.8668,
          12.1848,
          12.1995,
          11.88,
          11.8668,
          11.8668
         ],
         "mode": "lines",
         "name": "20km_618_68",
         "text": "Value: 2.4 Date: 2024-01-20T00:00:00.001000+01:00",
         "type": "scattermapbox"
        },
        {
         "fill": "toself",
         "hoverinfo": "text",
         "lat": [
          54.8527,
          54.8475,
          55.0271,
          55.0323,
          54.8527,
          54.8527
         ],
         "line": {
          "width": 1
         },
         "lon": [
          10.8692,
          11.1805,
          11.1902,
          10.8775,
          10.8692,
          10.8692
         ],
         "mode": "lines",
         "name": "20km_608_62",
         "text": "Value: 3.2 Date: 2024-01-20T00:00:00.001000+01:00",
         "type": "scattermapbox"
        },
        {
         "fill": "toself",
         "hoverinfo": "text",
         "lat": [
          56.6637,
          56.6641,
          56.8438,
          56.8434,
          56.6637,
          56.6637
         ],
         "line": {
          "width": 1
         },
         "lon": [
          8.6737,
          9,
          9,
          8.6721,
          8.6737,
          8.6737
         ],
         "mode": "lines",
         "name": "20km_628_48",
         "text": "Value: 3.2 Date: 2024-01-20T00:00:00.001000+01:00",
         "type": "scattermapbox"
        },
        {
         "fill": "toself",
         "hoverinfo": "text",
         "lat": [
          55.764,
          55.762,
          55.9416,
          55.9437,
          55.764,
          55.764
         ],
         "line": {
          "width": 1
         },
         "lon": [
          9.6375,
          9.9562,
          9.9606,
          9.6404,
          9.6375,
          9.6375
         ],
         "mode": "lines",
         "name": "20km_618_54",
         "text": "Value: 3.6 Date: 2024-01-20T00:00:00.001000+01:00",
         "type": "scattermapbox"
        },
        {
         "fill": "toself",
         "hoverinfo": "text",
         "lat": [
          55.7392,
          55.7322,
          55.9117,
          55.9188,
          55.7392,
          55.7392
         ],
         "line": {
          "width": 1
         },
         "lon": [
          11.5486,
          11.8668,
          11.88,
          11.5604,
          11.5486,
          11.5486
         ],
         "mode": "lines",
         "name": "20km_618_66",
         "text": "Value: 2.7 Date: 2024-01-20T00:00:00.001000+01:00",
         "type": "scattermapbox"
        },
        {
         "fill": "toself",
         "hoverinfo": "text",
         "lat": [
          55.5843,
          55.5856,
          55.7653,
          55.764,
          55.5843,
          55.5843
         ],
         "line": {
          "width": 1
         },
         "lon": [
          8.3654,
          8.6827,
          8.6813,
          8.3625,
          8.3654,
          8.3654
         ],
         "mode": "lines",
         "name": "20km_616_46",
         "text": "Value: 4.4 Date: 2024-01-20T00:00:00.001000+01:00",
         "type": "scattermapbox"
        },
        {
         "fill": "toself",
         "hoverinfo": "text",
         "lat": [
          56.2942,
          56.2896,
          56.4692,
          56.4738,
          56.2942,
          56.2942
         ],
         "line": {
          "width": 1
         },
         "lon": [
          10.6158,
          10.9387,
          10.9479,
          10.6234,
          10.6158,
          10.6158
         ],
         "mode": "lines",
         "name": "20km_624_60",
         "text": "Value: 2.4 Date: 2024-01-20T00:00:00.001000+01:00",
         "type": "scattermapbox"
        },
        {
         "fill": "toself",
         "hoverinfo": "text",
         "lat": [
          56.1234,
          56.1247,
          56.3043,
          56.3031,
          56.1234,
          56.1234
         ],
         "line": {
          "width": 1
         },
         "lon": [
          8.3566,
          8.6783,
          8.6768,
          8.3536,
          8.3566,
          8.3566
         ],
         "mode": "lines",
         "name": "20km_622_46",
         "text": "Value: 4.2 Date: 2024-01-20T00:00:00.001000+01:00",
         "type": "scattermapbox"
        },
        {
         "fill": "toself",
         "hoverinfo": "text",
         "lat": [
          55.3655,
          55.357,
          55.5363,
          55.545,
          55.3655,
          55.3655
         ],
         "line": {
          "width": 1
         },
         "lon": [
          12.1558,
          12.4708,
          12.4866,
          12.1702,
          12.1558,
          12.1558
         ],
         "mode": "lines",
         "name": "20km_614_70",
         "text": "Value: 2.7 Date: 2024-01-20T00:00:00.001000+01:00",
         "type": "scattermapbox"
        },
        {
         "fill": "toself",
         "hoverinfo": "text",
         "lat": [
          57.3811,
          57.3789,
          57.5585,
          57.5607,
          57.3811,
          57.3811
         ],
         "line": {
          "width": 1
         },
         "lon": [
          9.6653,
          9.9979,
          10.0028,
          9.6686,
          9.6653,
          9.6653
         ],
         "mode": "lines",
         "name": "20km_636_54",
         "text": "Value: 1.4 Date: 2024-01-20T00:00:00.001000+01:00",
         "type": "scattermapbox"
        },
        {
         "fill": "toself",
         "hoverinfo": "text",
         "lat": [
          54.8635,
          54.8607,
          55.0404,
          55.0432,
          54.8635,
          54.8635
         ],
         "line": {
          "width": 1
         },
         "lon": [
          9.9348,
          10.2463,
          10.2519,
          9.939,
          9.9348,
          9.9348
         ],
         "mode": "lines",
         "name": "20km_608_56",
         "text": "Value: 3.5 Date: 2024-01-20T00:00:00.001000+01:00",
         "type": "scattermapbox"
        },
        {
         "fill": "toself",
         "hoverinfo": "text",
         "lat": [
          57.0231,
          57.0235,
          57.2032,
          57.2027,
          57.0231,
          57.0231
         ],
         "line": {
          "width": 1
         },
         "lon": [
          8.6706,
          9,
          9,
          8.669,
          8.6706,
          8.6706
         ],
         "mode": "lines",
         "name": "20km_632_48",
         "text": "Value: 2.7 Date: 2024-01-20T00:00:00.001000+01:00",
         "type": "scattermapbox"
        },
        {
         "fill": "toself",
         "hoverinfo": "text",
         "lat": [
          55.9437,
          55.9416,
          56.1213,
          56.1234,
          55.9437,
          55.9437
         ],
         "line": {
          "width": 1
         },
         "lon": [
          9.6404,
          9.9606,
          9.9651,
          9.6434,
          9.6404,
          9.6404
         ],
         "mode": "lines",
         "name": "20km_620_54",
         "text": "Value: 3.2 Date: 2024-01-20T00:00:00.001000+01:00",
         "type": "scattermapbox"
        },
        {
         "fill": "toself",
         "hoverinfo": "text",
         "lat": [
          55.0452,
          55.0432,
          55.2229,
          55.2249,
          55.0452,
          55.0452
         ],
         "line": {
          "width": 1
         },
         "lon": [
          9.626,
          9.939,
          9.9432,
          9.6288,
          9.626,
          9.626
         ],
         "mode": "lines",
         "name": "20km_610_54",
         "text": "Value: 3.7 Date: 2024-01-20T00:00:00.001000+01:00",
         "type": "scattermapbox"
        },
        {
         "fill": "toself",
         "hoverinfo": "text",
         "lat": [
          57.1992,
          57.1962,
          57.3758,
          57.3789,
          57.1992,
          57.1992
         ],
         "line": {
          "width": 1
         },
         "lon": [
          9.993,
          10.3239,
          10.3304,
          9.9979,
          9.993,
          9.993
         ],
         "mode": "lines",
         "name": "20km_634_56",
         "text": "Value: 1.2 Date: 2024-01-20T00:00:00.001000+01:00",
         "type": "scattermapbox"
        },
        {
         "fill": "toself",
         "hoverinfo": "text",
         "lat": [
          55.7653,
          55.764,
          55.9437,
          55.945,
          55.7653,
          55.7653
         ],
         "line": {
          "width": 1
         },
         "lon": [
          9.3187,
          9.6375,
          9.6404,
          9.3202,
          9.3187,
          9.3187
         ],
         "mode": "lines",
         "name": "20km_618_52",
         "text": "Value: 3.7 Date: 2024-01-20T00:00:00.001000+01:00",
         "type": "scattermapbox"
        },
        {
         "fill": "toself",
         "hoverinfo": "text",
         "lat": [
          57.0166,
          57.0127,
          57.1922,
          57.1962,
          57.0166,
          57.0166
         ],
         "line": {
          "width": 1
         },
         "lon": [
          10.3176,
          10.6468,
          10.6548,
          10.3239,
          10.3176,
          10.3176
         ],
         "mode": "lines",
         "name": "20km_632_58",
         "text": "Value: 1.5 Date: 2024-01-20T00:00:00.001000+01:00",
         "type": "scattermapbox"
        },
        {
         "fill": "toself",
         "hoverinfo": "text",
         "lat": [
          57.0235,
          57.0231,
          57.2027,
          57.2032,
          57.0235,
          57.0235
         ],
         "line": {
          "width": 1
         },
         "lon": [
          9,
          9.3294,
          9.331,
          9,
          9,
          9
         ],
         "mode": "lines",
         "name": "20km_632_50",
         "text": "Value: 2.4 Date: 2024-01-20T00:00:00.001000+01:00",
         "type": "scattermapbox"
        },
        {
         "fill": "toself",
         "hoverinfo": "text",
         "lat": [
          55.586,
          55.5856,
          55.7653,
          55.7657,
          55.586,
          55.586
         ],
         "line": {
          "width": 1
         },
         "lon": [
          9,
          9.3173,
          9.3187,
          9,
          9,
          9
         ],
         "mode": "lines",
         "name": "20km_616_50",
         "text": "Value: 3.7 Date: 2024-01-20T00:00:00.001000+01:00",
         "type": "scattermapbox"
        },
        {
         "fill": "toself",
         "hoverinfo": "text",
         "lat": [
          55.5659,
          55.5597,
          55.7392,
          55.7454,
          55.5659,
          55.5659
         ],
         "line": {
          "width": 1
         },
         "lon": [
          11.2201,
          11.537,
          11.5486,
          11.2303,
          11.2201,
          11.2201
         ],
         "mode": "lines",
         "name": "20km_616_64",
         "text": "Value: 2.9 Date: 2024-01-20T00:00:00.001000+01:00",
         "type": "scattermapbox"
        },
        {
         "fill": "toself",
         "hoverinfo": "text",
         "lat": [
          56.3031,
          56.3043,
          56.484,
          56.4828,
          56.3031,
          56.3031
         ],
         "line": {
          "width": 1
         },
         "lon": [
          8.3536,
          8.6768,
          8.6753,
          8.3505,
          8.3536,
          8.3536
         ],
         "mode": "lines",
         "name": "20km_624_46",
         "text": "Value: 4.2 Date: 2024-01-20T00:00:00.001000+01:00",
         "type": "scattermapbox"
        },
        {
         "fill": "toself",
         "hoverinfo": "text",
         "lat": [
          55.0367,
          55.0323,
          55.212,
          55.2164,
          55.0367,
          55.0367
         ],
         "line": {
          "width": 1
         },
         "lon": [
          10.5648,
          10.8775,
          10.886,
          10.5718,
          10.5648,
          10.5648
         ],
         "mode": "lines",
         "name": "20km_610_60",
         "text": "Value: 3.4 Date: 2024-01-20T00:00:00.001000+01:00",
         "type": "scattermapbox"
        },
        {
         "fill": "toself",
         "hoverinfo": "text",
         "lat": [
          55.2249,
          55.2229,
          55.4026,
          55.4046,
          55.2249,
          55.2249
         ],
         "line": {
          "width": 1
         },
         "lon": [
          9.6288,
          9.9432,
          9.9475,
          9.6317,
          9.6288,
          9.6288
         ],
         "mode": "lines",
         "name": "20km_612_54",
         "text": "Value: 3.8 Date: 2024-01-20T00:00:00.001000+01:00",
         "type": "scattermapbox"
        },
        {
         "fill": "toself",
         "hoverinfo": "text",
         "lat": [
          55.2006,
          55.1937,
          55.3732,
          55.3802,
          55.2006,
          55.2006
         ],
         "line": {
          "width": 1
         },
         "lon": [
          11.5141,
          11.8279,
          11.8407,
          11.5255,
          11.5141,
          11.5141
         ],
         "mode": "lines",
         "name": "20km_612_66",
         "text": "Value: 3.0 Date: 2024-01-20T00:00:00.001000+01:00",
         "type": "scattermapbox"
        },
        {
         "fill": "toself",
         "hoverinfo": "text",
         "lat": [
          55.5363,
          55.5269,
          55.7062,
          55.7157,
          55.5363,
          55.5363
         ],
         "line": {
          "width": 1
         },
         "lon": [
          12.4866,
          12.8028,
          12.8203,
          12.5026,
          12.4866,
          12.4866
         ],
         "mode": "lines",
         "name": "20km_616_72",
         "text": "Value: 2.7 Date: 2024-01-20T00:00:00.001000+01:00",
         "type": "scattermapbox"
        },
        {
         "fill": "toself",
         "hoverinfo": "text",
         "lat": [
          54.6858,
          54.6838,
          54.8635,
          54.8655,
          54.6858,
          54.6858
         ],
         "line": {
          "width": 1
         },
         "lon": [
          9.6205,
          9.9307,
          9.9348,
          9.6232,
          9.6205,
          9.6205
         ],
         "mode": "lines",
         "name": "20km_606_54",
         "text": "Value: 3.6 Date: 2024-01-20T00:00:00.001000+01:00",
         "type": "scattermapbox"
        },
        {
         "fill": "toself",
         "hoverinfo": "text",
         "lat": [
          57.0231,
          57.0218,
          57.2014,
          57.2027,
          57.0231,
          57.0231
         ],
         "line": {
          "width": 1
         },
         "lon": [
          9.3294,
          9.6588,
          9.662,
          9.331,
          9.3294,
          9.3294
         ],
         "mode": "lines",
         "name": "20km_632_52",
         "text": "Value: 2.0 Date: 2024-01-20T00:00:00.001000+01:00",
         "type": "scattermapbox"
        },
        {
         "fill": "toself",
         "hoverinfo": "text",
         "lat": [
          55.212,
          55.2067,
          55.3863,
          55.3916,
          55.212,
          55.212
         ],
         "line": {
          "width": 1
         },
         "lon": [
          10.886,
          11.2001,
          11.2101,
          10.8945,
          10.886,
          10.886
         ],
         "mode": "lines",
         "name": "20km_612_62",
         "text": "Value: 3.5 Date: 2024-01-20T00:00:00.001000+01:00",
         "type": "scattermapbox"
        },
        {
         "fill": "toself",
         "hoverinfo": "text",
         "lat": [
          54.8671,
          54.8667,
          55.0464,
          55.0468,
          54.8671,
          54.8671
         ],
         "line": {
          "width": 1
         },
         "lon": [
          9,
          9.3116,
          9.313,
          9,
          9,
          9
         ],
         "mode": "lines",
         "name": "20km_608_50",
         "text": "Value: 4.0 Date: 2024-01-20T00:00:00.001000+01:00",
         "type": "scattermapbox"
        },
        {
         "fill": "toself",
         "hoverinfo": "text",
         "lat": [
          56.298,
          56.2942,
          56.4738,
          56.4777,
          56.298,
          56.298
         ],
         "line": {
          "width": 1
         },
         "lon": [
          10.2927,
          10.6158,
          10.6234,
          10.2988,
          10.2927,
          10.2927
         ],
         "mode": "lines",
         "name": "20km_624_58",
         "text": "Value: 2.4 Date: 2024-01-20T00:00:00.001000+01:00",
         "type": "scattermapbox"
        },
        {
         "fill": "toself",
         "hoverinfo": "text",
         "lat": [
          54.8655,
          54.8635,
          55.0432,
          55.0452,
          54.8655,
          54.8655
         ],
         "line": {
          "width": 1
         },
         "lon": [
          9.6232,
          9.9348,
          9.939,
          9.626,
          9.6232,
          9.6232
         ],
         "mode": "lines",
         "name": "20km_608_54",
         "text": "Value: 3.6 Date: 2024-01-20T00:00:00.001000+01:00",
         "type": "scattermapbox"
        },
        {
         "fill": "toself",
         "hoverinfo": "text",
         "lat": [
          55.925,
          55.9188,
          56.0983,
          56.1046,
          55.925,
          55.925
         ],
         "line": {
          "width": 1
         },
         "lon": [
          11.2406,
          11.5604,
          11.5723,
          11.251,
          11.2406,
          11.2406
         ],
         "mode": "lines",
         "name": "20km_620_64",
         "text": "Value: 2.7 Date: 2024-01-20T00:00:00.001000+01:00",
         "type": "scattermapbox"
        },
        {
         "fill": "toself",
         "hoverinfo": "text",
         "lat": [
          56.4828,
          56.484,
          56.6637,
          56.6624,
          56.4828,
          56.4828
         ],
         "line": {
          "width": 1
         },
         "lon": [
          8.3505,
          8.6753,
          8.6737,
          8.3474,
          8.3505,
          8.3505
         ],
         "mode": "lines",
         "name": "20km_626_46",
         "text": "Value: 3.9 Date: 2024-01-20T00:00:00.001000+01:00",
         "type": "scattermapbox"
        },
        {
         "fill": "toself",
         "hoverinfo": "text",
         "lat": [
          56.8438,
          56.8434,
          57.0231,
          57.0235,
          56.8438,
          56.8438
         ],
         "line": {
          "width": 1
         },
         "lon": [
          9,
          9.3279,
          9.3294,
          9,
          9,
          9
         ],
         "mode": "lines",
         "name": "20km_630_50",
         "text": "Value: 2.5 Date: 2024-01-20T00:00:00.001000+01:00",
         "type": "scattermapbox"
        },
        {
         "fill": "toself",
         "hoverinfo": "text",
         "lat": [
          56.1234,
          56.1213,
          56.301,
          56.3031,
          56.1234,
          56.1234
         ],
         "line": {
          "width": 1
         },
         "lon": [
          9.6434,
          9.9651,
          9.9696,
          9.6464,
          9.6434,
          9.6434
         ],
         "mode": "lines",
         "name": "20km_622_54",
         "text": "Value: 2.9 Date: 2024-01-20T00:00:00.001000+01:00",
         "type": "scattermapbox"
        },
        {
         "fill": "toself",
         "hoverinfo": "text",
         "lat": [
          55.3916,
          55.3863,
          55.5659,
          55.5712,
          55.3916,
          55.3916
         ],
         "line": {
          "width": 1
         },
         "lon": [
          10.8945,
          11.2101,
          11.2201,
          10.9032,
          10.8945,
          10.8945
         ],
         "mode": "lines",
         "name": "20km_614_62",
         "text": "Value: 3.3 Date: 2024-01-20T00:00:00.001000+01:00",
         "type": "scattermapbox"
        },
        {
         "fill": "toself",
         "hoverinfo": "text",
         "lat": [
          56.8369,
          56.8331,
          57.0127,
          57.0166,
          56.8369,
          56.8369
         ],
         "line": {
          "width": 1
         },
         "lon": [
          10.3112,
          10.6389,
          10.6468,
          10.3176,
          10.3112,
          10.3112
         ],
         "mode": "lines",
         "name": "20km_630_58",
         "text": "Value: 1.7 Date: 2024-01-20T00:00:00.001000+01:00",
         "type": "scattermapbox"
        },
        {
         "fill": "toself",
         "hoverinfo": "text",
         "lat": [
          55.7244,
          55.7157,
          55.8951,
          55.9038,
          55.7244,
          55.7244
         ],
         "line": {
          "width": 1
         },
         "lon": [
          12.1848,
          12.5026,
          12.5188,
          12.1995,
          12.1848,
          12.1848
         ],
         "mode": "lines",
         "name": "20km_618_70",
         "text": "Value: 2.3 Date: 2024-01-20T00:00:00.001000+01:00",
         "type": "scattermapbox"
        },
        {
         "fill": "toself",
         "hoverinfo": "text",
         "lat": [
          55.5597,
          55.5527,
          55.7322,
          55.7392,
          55.5597,
          55.5597
         ],
         "line": {
          "width": 1
         },
         "lon": [
          11.537,
          11.8537,
          11.8668,
          11.5486,
          11.537,
          11.537
         ],
         "mode": "lines",
         "name": "20km_616_66",
         "text": "Value: 2.7 Date: 2024-01-20T00:00:00.001000+01:00",
         "type": "scattermapbox"
        },
        {
         "fill": "toself",
         "hoverinfo": "text",
         "lat": [
          55.2249,
          55.2261,
          55.4058,
          55.4046,
          55.2249,
          55.2249
         ],
         "line": {
          "width": 1
         },
         "lon": [
          8.3712,
          8.6856,
          8.6841,
          8.3683,
          8.3712,
          8.3712
         ],
         "mode": "lines",
         "name": "20km_612_46",
         "text": "Value: 4.3 Date: 2024-01-20T00:00:00.001000+01:00",
         "type": "scattermapbox"
        },
        {
         "fill": "toself",
         "hoverinfo": "text",
         "lat": [
          55.0464,
          55.0468,
          55.2265,
          55.2261,
          55.0464,
          55.0464
         ],
         "line": {
          "width": 1
         },
         "lon": [
          8.687,
          9,
          9,
          8.6856,
          8.687,
          8.687
         ],
         "mode": "lines",
         "name": "20km_610_48",
         "text": "Value: 4.0 Date: 2024-01-20T00:00:00.001000+01:00",
         "type": "scattermapbox"
        },
        {
         "fill": "toself",
         "hoverinfo": "text",
         "lat": [
          54.9982,
          54.9889,
          55.1683,
          55.1776,
          54.9982,
          54.9982
         ],
         "line": {
          "width": 1
         },
         "lon": [
          12.4397,
          12.7517,
          12.7686,
          12.4552,
          12.4397,
          12.4397
         ],
         "mode": "lines",
         "name": "20km_610_72",
         "text": "Value: 3.1 Date: 2024-01-20T00:00:00.001000+01:00",
         "type": "scattermapbox"
        },
        {
         "fill": "toself",
         "hoverinfo": "text",
         "lat": [
          56.3043,
          56.3048,
          56.4845,
          56.484,
          56.3043,
          56.3043
         ],
         "line": {
          "width": 1
         },
         "lon": [
          8.6768,
          9,
          9,
          8.6753,
          8.6768,
          8.6768
         ],
         "mode": "lines",
         "name": "20km_624_48",
         "text": "Value: 4.0 Date: 2024-01-20T00:00:00.001000+01:00",
         "type": "scattermapbox"
        },
        {
         "fill": "toself",
         "hoverinfo": "text",
         "lat": [
          56.8421,
          56.8399,
          57.0196,
          57.0218,
          56.8421,
          56.8421
         ],
         "line": {
          "width": 1
         },
         "lon": [
          9.6557,
          9.9835,
          9.9882,
          9.6588,
          9.6557,
          9.6557
         ],
         "mode": "lines",
         "name": "20km_630_54",
         "text": "Value: 2.0 Date: 2024-01-20T00:00:00.001000+01:00",
         "type": "scattermapbox"
        },
        {
         "fill": "toself",
         "hoverinfo": "text",
         "lat": [
          54.9914,
          54.9758,
          55.1544,
          55.1702,
          54.9914,
          54.9914
         ],
         "line": {
          "width": 1
         },
         "lon": [
          14.9428,
          15.2536,
          15.2816,
          14.9695,
          14.9428,
          14.9428
         ],
         "mode": "lines",
         "name": "20km_611_88",
         "text": "Value: 2.2 Date: 2024-01-20T00:00:00.001000+01:00",
         "type": "scattermapbox"
        },
        {
         "fill": "toself",
         "hoverinfo": "text",
         "lat": [
          57.19,
          57.1847,
          57.3643,
          57.3695,
          57.19,
          57.19
         ],
         "line": {
          "width": 1
         },
         "lon": [
          10.8202,
          11.1509,
          11.1614,
          10.8291,
          10.8202,
          10.8202
         ],
         "mode": "lines",
         "name": "20km_634_61",
         "text": "Value: 1.5 Date: 2024-01-20T00:00:00.001000+01:00",
         "type": "scattermapbox"
        },
        {
         "fill": "toself",
         "hoverinfo": "text",
         "lat": [
          54.8667,
          54.8655,
          55.0452,
          55.0464,
          54.8667,
          54.8667
         ],
         "line": {
          "width": 1
         },
         "lon": [
          9.3116,
          9.6232,
          9.626,
          9.313,
          9.3116,
          9.3116
         ],
         "mode": "lines",
         "name": "20km_608_52",
         "text": "Value: 3.8 Date: 2024-01-20T00:00:00.001000+01:00",
         "type": "scattermapbox"
        },
        {
         "fill": "toself",
         "hoverinfo": "text",
         "lat": [
          57.0196,
          57.0166,
          57.1962,
          57.1992,
          57.0196,
          57.0196
         ],
         "line": {
          "width": 1
         },
         "lon": [
          9.9882,
          10.3176,
          10.3239,
          9.993,
          9.9882,
          9.9882
         ],
         "mode": "lines",
         "name": "20km_632_56",
         "text": "Value: 1.6 Date: 2024-01-20T00:00:00.001000+01:00",
         "type": "scattermapbox"
        },
        {
         "fill": "toself",
         "hoverinfo": "text",
         "lat": [
          55.3997,
          55.3961,
          55.5757,
          55.5794,
          55.3997,
          55.3997
         ],
         "line": {
          "width": 1
         },
         "lon": [
          10.2632,
          10.5789,
          10.5861,
          10.269,
          10.2632,
          10.2632
         ],
         "mode": "lines",
         "name": "20km_614_58",
         "text": "Value: 3.7 Date: 2024-01-20T00:00:00.001000+01:00",
         "type": "scattermapbox"
        },
        {
         "fill": "toself",
         "hoverinfo": "text",
         "lat": [
          55.3732,
          55.3655,
          55.545,
          55.5527,
          55.3732,
          55.3732
         ],
         "line": {
          "width": 1
         },
         "lon": [
          11.8407,
          12.1558,
          12.1702,
          11.8537,
          11.8407,
          11.8407
         ],
         "mode": "lines",
         "name": "20km_614_68",
         "text": "Value: 2.6 Date: 2024-01-20T00:00:00.001000+01:00",
         "type": "scattermapbox"
        },
        {
         "fill": "toself",
         "hoverinfo": "text",
         "lat": [
          55.4058,
          55.4062,
          55.586,
          55.5856,
          55.4058,
          55.4058
         ],
         "line": {
          "width": 1
         },
         "lon": [
          8.6841,
          9,
          9,
          8.6827,
          8.6841,
          8.6841
         ],
         "mode": "lines",
         "name": "20km_614_48",
         "text": "Value: 4.0 Date: 2024-01-20T00:00:00.001000+01:00",
         "type": "scattermapbox"
        },
        {
         "fill": "toself",
         "hoverinfo": "text",
         "lat": [
          56.6573,
          56.6535,
          56.8331,
          56.8369,
          56.6573,
          56.6573
         ],
         "line": {
          "width": 1
         },
         "lon": [
          10.305,
          10.6311,
          10.6389,
          10.3112,
          10.305,
          10.305
         ],
         "mode": "lines",
         "name": "20km_628_58",
         "text": "Value: 2.0 Date: 2024-01-20T00:00:00.001000+01:00",
         "type": "scattermapbox"
        },
        {
         "fill": "toself",
         "hoverinfo": "text",
         "lat": [
          55.9387,
          55.935,
          56.1146,
          56.1184,
          55.9387,
          55.9387
         ],
         "line": {
          "width": 1
         },
         "lon": [
          10.2807,
          10.6008,
          10.6082,
          10.2867,
          10.2807,
          10.2807
         ],
         "mode": "lines",
         "name": "20km_620_58",
         "text": "Value: 3.1 Date: 2024-01-20T00:00:00.001000+01:00",
         "type": "scattermapbox"
        },
        {
         "fill": "toself",
         "hoverinfo": "text",
         "lat": [
          55.1937,
          55.1861,
          55.3655,
          55.3732,
          55.1937,
          55.1937
         ],
         "line": {
          "width": 1
         },
         "lon": [
          11.8279,
          12.1416,
          12.1558,
          11.8407,
          11.8279,
          11.8279
         ],
         "mode": "lines",
         "name": "20km_612_68",
         "text": "Value: 2.8 Date: 2024-01-20T00:00:00.001000+01:00",
         "type": "scattermapbox"
        },
        {
         "fill": "toself",
         "hoverinfo": "text",
         "lat": [
          56.6603,
          56.6624,
          56.8421,
          56.8399,
          56.6603,
          56.6603
         ],
         "line": {
          "width": 1
         },
         "lon": [
          8.0212,
          8.3474,
          8.3443,
          8.0165,
          8.0212,
          8.0212
         ],
         "mode": "lines",
         "name": "20km_628_44",
         "text": "Value: 4.0 Date: 2024-01-20T00:00:00.001000+01:00",
         "type": "scattermapbox"
        },
        {
         "fill": "toself",
         "hoverinfo": "text",
         "lat": [
          55.0452,
          55.0464,
          55.2261,
          55.2249,
          55.0452,
          55.0452
         ],
         "line": {
          "width": 1
         },
         "lon": [
          8.374,
          8.687,
          8.6856,
          8.3712,
          8.374,
          8.374
         ],
         "mode": "lines",
         "name": "20km_610_46",
         "text": "Value: 4.3 Date: 2024-01-20T00:00:00.001000+01:00",
         "type": "scattermapbox"
        },
        {
         "fill": "toself",
         "hoverinfo": "text",
         "lat": [
          55.2229,
          55.2201,
          55.3997,
          55.4026,
          55.2229,
          55.2229
         ],
         "line": {
          "width": 1
         },
         "lon": [
          9.9432,
          10.2575,
          10.2632,
          9.9475,
          9.9432,
          9.9432
         ],
         "mode": "lines",
         "name": "20km_612_56",
         "text": "Value: 3.7 Date: 2024-01-20T00:00:00.001000+01:00",
         "type": "scattermapbox"
        },
        {
         "fill": "toself",
         "hoverinfo": "text",
         "lat": [
          57.2014,
          57.1992,
          57.3789,
          57.3811,
          57.2014,
          57.2014
         ],
         "line": {
          "width": 1
         },
         "lon": [
          9.662,
          9.993,
          9.9979,
          9.6653,
          9.662,
          9.662
         ],
         "mode": "lines",
         "name": "20km_634_54",
         "text": "Value: 1.6 Date: 2024-01-20T00:00:00.001000+01:00",
         "type": "scattermapbox"
        },
        {
         "fill": "toself",
         "hoverinfo": "text",
         "lat": [
          57.5607,
          57.5585,
          57.7381,
          57.7403,
          57.5607,
          57.5607
         ],
         "line": {
          "width": 1
         },
         "lon": [
          9.6686,
          10.0028,
          10.0077,
          9.6719,
          9.6686,
          9.6686
         ],
         "mode": "lines",
         "name": "20km_638_54",
         "text": "Value: 1.3 Date: 2024-01-20T00:00:00.001000+01:00",
         "type": "scattermapbox"
        },
        {
         "fill": "toself",
         "hoverinfo": "text",
         "lat": [
          55.8951,
          55.8855,
          56.0648,
          56.0744,
          55.8951,
          55.8951
         ],
         "line": {
          "width": 1
         },
         "lon": [
          12.5188,
          12.8379,
          12.8557,
          12.5351,
          12.5188,
          12.5188
         ],
         "mode": "lines",
         "name": "20km_620_72",
         "text": "Value: 1.8 Date: 2024-01-20T00:00:00.001000+01:00",
         "type": "scattermapbox"
        },
        {
         "fill": "toself",
         "hoverinfo": "text",
         "lat": [
          57.0218,
          57.0231,
          57.2027,
          57.2014,
          57.0218,
          57.0218
         ],
         "line": {
          "width": 1
         },
         "lon": [
          8.3412,
          8.6706,
          8.669,
          8.338,
          8.3412,
          8.3412
         ],
         "mode": "lines",
         "name": "20km_632_46",
         "text": "Value: 2.9 Date: 2024-01-20T00:00:00.001000+01:00",
         "type": "scattermapbox"
        }
       ],
       "layout": {
        "height": 600,
        "mapbox": {
         "center": {
          "lat": 55,
          "lon": 9.5
         },
         "style": "carto-positron",
         "zoom": 5
        },
        "margin": {
         "b": 0,
         "l": 0,
         "r": 0,
         "t": 0
        },
        "showlegend": true,
        "template": {
         "data": {
          "bar": [
           {
            "error_x": {
             "color": "#2a3f5f"
            },
            "error_y": {
             "color": "#2a3f5f"
            },
            "marker": {
             "line": {
              "color": "#E5ECF6",
              "width": 0.5
             },
             "pattern": {
              "fillmode": "overlay",
              "size": 10,
              "solidity": 0.2
             }
            },
            "type": "bar"
           }
          ],
          "barpolar": [
           {
            "marker": {
             "line": {
              "color": "#E5ECF6",
              "width": 0.5
             },
             "pattern": {
              "fillmode": "overlay",
              "size": 10,
              "solidity": 0.2
             }
            },
            "type": "barpolar"
           }
          ],
          "carpet": [
           {
            "aaxis": {
             "endlinecolor": "#2a3f5f",
             "gridcolor": "white",
             "linecolor": "white",
             "minorgridcolor": "white",
             "startlinecolor": "#2a3f5f"
            },
            "baxis": {
             "endlinecolor": "#2a3f5f",
             "gridcolor": "white",
             "linecolor": "white",
             "minorgridcolor": "white",
             "startlinecolor": "#2a3f5f"
            },
            "type": "carpet"
           }
          ],
          "choropleth": [
           {
            "colorbar": {
             "outlinewidth": 0,
             "ticks": ""
            },
            "type": "choropleth"
           }
          ],
          "contour": [
           {
            "colorbar": {
             "outlinewidth": 0,
             "ticks": ""
            },
            "colorscale": [
             [
              0,
              "#0d0887"
             ],
             [
              0.1111111111111111,
              "#46039f"
             ],
             [
              0.2222222222222222,
              "#7201a8"
             ],
             [
              0.3333333333333333,
              "#9c179e"
             ],
             [
              0.4444444444444444,
              "#bd3786"
             ],
             [
              0.5555555555555556,
              "#d8576b"
             ],
             [
              0.6666666666666666,
              "#ed7953"
             ],
             [
              0.7777777777777778,
              "#fb9f3a"
             ],
             [
              0.8888888888888888,
              "#fdca26"
             ],
             [
              1,
              "#f0f921"
             ]
            ],
            "type": "contour"
           }
          ],
          "contourcarpet": [
           {
            "colorbar": {
             "outlinewidth": 0,
             "ticks": ""
            },
            "type": "contourcarpet"
           }
          ],
          "heatmap": [
           {
            "colorbar": {
             "outlinewidth": 0,
             "ticks": ""
            },
            "colorscale": [
             [
              0,
              "#0d0887"
             ],
             [
              0.1111111111111111,
              "#46039f"
             ],
             [
              0.2222222222222222,
              "#7201a8"
             ],
             [
              0.3333333333333333,
              "#9c179e"
             ],
             [
              0.4444444444444444,
              "#bd3786"
             ],
             [
              0.5555555555555556,
              "#d8576b"
             ],
             [
              0.6666666666666666,
              "#ed7953"
             ],
             [
              0.7777777777777778,
              "#fb9f3a"
             ],
             [
              0.8888888888888888,
              "#fdca26"
             ],
             [
              1,
              "#f0f921"
             ]
            ],
            "type": "heatmap"
           }
          ],
          "heatmapgl": [
           {
            "colorbar": {
             "outlinewidth": 0,
             "ticks": ""
            },
            "colorscale": [
             [
              0,
              "#0d0887"
             ],
             [
              0.1111111111111111,
              "#46039f"
             ],
             [
              0.2222222222222222,
              "#7201a8"
             ],
             [
              0.3333333333333333,
              "#9c179e"
             ],
             [
              0.4444444444444444,
              "#bd3786"
             ],
             [
              0.5555555555555556,
              "#d8576b"
             ],
             [
              0.6666666666666666,
              "#ed7953"
             ],
             [
              0.7777777777777778,
              "#fb9f3a"
             ],
             [
              0.8888888888888888,
              "#fdca26"
             ],
             [
              1,
              "#f0f921"
             ]
            ],
            "type": "heatmapgl"
           }
          ],
          "histogram": [
           {
            "marker": {
             "pattern": {
              "fillmode": "overlay",
              "size": 10,
              "solidity": 0.2
             }
            },
            "type": "histogram"
           }
          ],
          "histogram2d": [
           {
            "colorbar": {
             "outlinewidth": 0,
             "ticks": ""
            },
            "colorscale": [
             [
              0,
              "#0d0887"
             ],
             [
              0.1111111111111111,
              "#46039f"
             ],
             [
              0.2222222222222222,
              "#7201a8"
             ],
             [
              0.3333333333333333,
              "#9c179e"
             ],
             [
              0.4444444444444444,
              "#bd3786"
             ],
             [
              0.5555555555555556,
              "#d8576b"
             ],
             [
              0.6666666666666666,
              "#ed7953"
             ],
             [
              0.7777777777777778,
              "#fb9f3a"
             ],
             [
              0.8888888888888888,
              "#fdca26"
             ],
             [
              1,
              "#f0f921"
             ]
            ],
            "type": "histogram2d"
           }
          ],
          "histogram2dcontour": [
           {
            "colorbar": {
             "outlinewidth": 0,
             "ticks": ""
            },
            "colorscale": [
             [
              0,
              "#0d0887"
             ],
             [
              0.1111111111111111,
              "#46039f"
             ],
             [
              0.2222222222222222,
              "#7201a8"
             ],
             [
              0.3333333333333333,
              "#9c179e"
             ],
             [
              0.4444444444444444,
              "#bd3786"
             ],
             [
              0.5555555555555556,
              "#d8576b"
             ],
             [
              0.6666666666666666,
              "#ed7953"
             ],
             [
              0.7777777777777778,
              "#fb9f3a"
             ],
             [
              0.8888888888888888,
              "#fdca26"
             ],
             [
              1,
              "#f0f921"
             ]
            ],
            "type": "histogram2dcontour"
           }
          ],
          "mesh3d": [
           {
            "colorbar": {
             "outlinewidth": 0,
             "ticks": ""
            },
            "type": "mesh3d"
           }
          ],
          "parcoords": [
           {
            "line": {
             "colorbar": {
              "outlinewidth": 0,
              "ticks": ""
             }
            },
            "type": "parcoords"
           }
          ],
          "pie": [
           {
            "automargin": true,
            "type": "pie"
           }
          ],
          "scatter": [
           {
            "fillpattern": {
             "fillmode": "overlay",
             "size": 10,
             "solidity": 0.2
            },
            "type": "scatter"
           }
          ],
          "scatter3d": [
           {
            "line": {
             "colorbar": {
              "outlinewidth": 0,
              "ticks": ""
             }
            },
            "marker": {
             "colorbar": {
              "outlinewidth": 0,
              "ticks": ""
             }
            },
            "type": "scatter3d"
           }
          ],
          "scattercarpet": [
           {
            "marker": {
             "colorbar": {
              "outlinewidth": 0,
              "ticks": ""
             }
            },
            "type": "scattercarpet"
           }
          ],
          "scattergeo": [
           {
            "marker": {
             "colorbar": {
              "outlinewidth": 0,
              "ticks": ""
             }
            },
            "type": "scattergeo"
           }
          ],
          "scattergl": [
           {
            "marker": {
             "colorbar": {
              "outlinewidth": 0,
              "ticks": ""
             }
            },
            "type": "scattergl"
           }
          ],
          "scattermapbox": [
           {
            "marker": {
             "colorbar": {
              "outlinewidth": 0,
              "ticks": ""
             }
            },
            "type": "scattermapbox"
           }
          ],
          "scatterpolar": [
           {
            "marker": {
             "colorbar": {
              "outlinewidth": 0,
              "ticks": ""
             }
            },
            "type": "scatterpolar"
           }
          ],
          "scatterpolargl": [
           {
            "marker": {
             "colorbar": {
              "outlinewidth": 0,
              "ticks": ""
             }
            },
            "type": "scatterpolargl"
           }
          ],
          "scatterternary": [
           {
            "marker": {
             "colorbar": {
              "outlinewidth": 0,
              "ticks": ""
             }
            },
            "type": "scatterternary"
           }
          ],
          "surface": [
           {
            "colorbar": {
             "outlinewidth": 0,
             "ticks": ""
            },
            "colorscale": [
             [
              0,
              "#0d0887"
             ],
             [
              0.1111111111111111,
              "#46039f"
             ],
             [
              0.2222222222222222,
              "#7201a8"
             ],
             [
              0.3333333333333333,
              "#9c179e"
             ],
             [
              0.4444444444444444,
              "#bd3786"
             ],
             [
              0.5555555555555556,
              "#d8576b"
             ],
             [
              0.6666666666666666,
              "#ed7953"
             ],
             [
              0.7777777777777778,
              "#fb9f3a"
             ],
             [
              0.8888888888888888,
              "#fdca26"
             ],
             [
              1,
              "#f0f921"
             ]
            ],
            "type": "surface"
           }
          ],
          "table": [
           {
            "cells": {
             "fill": {
              "color": "#EBF0F8"
             },
             "line": {
              "color": "white"
             }
            },
            "header": {
             "fill": {
              "color": "#C8D4E3"
             },
             "line": {
              "color": "white"
             }
            },
            "type": "table"
           }
          ]
         },
         "layout": {
          "annotationdefaults": {
           "arrowcolor": "#2a3f5f",
           "arrowhead": 0,
           "arrowwidth": 1
          },
          "autotypenumbers": "strict",
          "coloraxis": {
           "colorbar": {
            "outlinewidth": 0,
            "ticks": ""
           }
          },
          "colorscale": {
           "diverging": [
            [
             0,
             "#8e0152"
            ],
            [
             0.1,
             "#c51b7d"
            ],
            [
             0.2,
             "#de77ae"
            ],
            [
             0.3,
             "#f1b6da"
            ],
            [
             0.4,
             "#fde0ef"
            ],
            [
             0.5,
             "#f7f7f7"
            ],
            [
             0.6,
             "#e6f5d0"
            ],
            [
             0.7,
             "#b8e186"
            ],
            [
             0.8,
             "#7fbc41"
            ],
            [
             0.9,
             "#4d9221"
            ],
            [
             1,
             "#276419"
            ]
           ],
           "sequential": [
            [
             0,
             "#0d0887"
            ],
            [
             0.1111111111111111,
             "#46039f"
            ],
            [
             0.2222222222222222,
             "#7201a8"
            ],
            [
             0.3333333333333333,
             "#9c179e"
            ],
            [
             0.4444444444444444,
             "#bd3786"
            ],
            [
             0.5555555555555556,
             "#d8576b"
            ],
            [
             0.6666666666666666,
             "#ed7953"
            ],
            [
             0.7777777777777778,
             "#fb9f3a"
            ],
            [
             0.8888888888888888,
             "#fdca26"
            ],
            [
             1,
             "#f0f921"
            ]
           ],
           "sequentialminus": [
            [
             0,
             "#0d0887"
            ],
            [
             0.1111111111111111,
             "#46039f"
            ],
            [
             0.2222222222222222,
             "#7201a8"
            ],
            [
             0.3333333333333333,
             "#9c179e"
            ],
            [
             0.4444444444444444,
             "#bd3786"
            ],
            [
             0.5555555555555556,
             "#d8576b"
            ],
            [
             0.6666666666666666,
             "#ed7953"
            ],
            [
             0.7777777777777778,
             "#fb9f3a"
            ],
            [
             0.8888888888888888,
             "#fdca26"
            ],
            [
             1,
             "#f0f921"
            ]
           ]
          },
          "colorway": [
           "#636efa",
           "#EF553B",
           "#00cc96",
           "#ab63fa",
           "#FFA15A",
           "#19d3f3",
           "#FF6692",
           "#B6E880",
           "#FF97FF",
           "#FECB52"
          ],
          "font": {
           "color": "#2a3f5f"
          },
          "geo": {
           "bgcolor": "white",
           "lakecolor": "white",
           "landcolor": "#E5ECF6",
           "showlakes": true,
           "showland": true,
           "subunitcolor": "white"
          },
          "hoverlabel": {
           "align": "left"
          },
          "hovermode": "closest",
          "mapbox": {
           "style": "light"
          },
          "paper_bgcolor": "white",
          "plot_bgcolor": "#E5ECF6",
          "polar": {
           "angularaxis": {
            "gridcolor": "white",
            "linecolor": "white",
            "ticks": ""
           },
           "bgcolor": "#E5ECF6",
           "radialaxis": {
            "gridcolor": "white",
            "linecolor": "white",
            "ticks": ""
           }
          },
          "scene": {
           "xaxis": {
            "backgroundcolor": "#E5ECF6",
            "gridcolor": "white",
            "gridwidth": 2,
            "linecolor": "white",
            "showbackground": true,
            "ticks": "",
            "zerolinecolor": "white"
           },
           "yaxis": {
            "backgroundcolor": "#E5ECF6",
            "gridcolor": "white",
            "gridwidth": 2,
            "linecolor": "white",
            "showbackground": true,
            "ticks": "",
            "zerolinecolor": "white"
           },
           "zaxis": {
            "backgroundcolor": "#E5ECF6",
            "gridcolor": "white",
            "gridwidth": 2,
            "linecolor": "white",
            "showbackground": true,
            "ticks": "",
            "zerolinecolor": "white"
           }
          },
          "shapedefaults": {
           "line": {
            "color": "#2a3f5f"
           }
          },
          "ternary": {
           "aaxis": {
            "gridcolor": "white",
            "linecolor": "white",
            "ticks": ""
           },
           "baxis": {
            "gridcolor": "white",
            "linecolor": "white",
            "ticks": ""
           },
           "bgcolor": "#E5ECF6",
           "caxis": {
            "gridcolor": "white",
            "linecolor": "white",
            "ticks": ""
           }
          },
          "title": {
           "x": 0.05
          },
          "xaxis": {
           "automargin": true,
           "gridcolor": "white",
           "linecolor": "white",
           "ticks": "",
           "title": {
            "standoff": 15
           },
           "zerolinecolor": "white",
           "zerolinewidth": 2
          },
          "yaxis": {
           "automargin": true,
           "gridcolor": "white",
           "linecolor": "white",
           "ticks": "",
           "title": {
            "standoff": 15
           },
           "zerolinecolor": "white",
           "zerolinewidth": 2
          }
         }
        }
       }
      }
     },
     "metadata": {},
     "output_type": "display_data"
    }
   ],
   "source": [
    "# Call the plotting function\n",
    "plot_polygons_from_df(filtered_df)"
   ]
  }
 ],
 "metadata": {
  "kernelspec": {
   "display_name": "base",
   "language": "python",
   "name": "python3"
  },
  "language_info": {
   "codemirror_mode": {
    "name": "ipython",
    "version": 3
   },
   "file_extension": ".py",
   "mimetype": "text/x-python",
   "name": "python",
   "nbconvert_exporter": "python",
   "pygments_lexer": "ipython3",
   "version": "3.11.8"
  }
 },
 "nbformat": 4,
 "nbformat_minor": 2
}
