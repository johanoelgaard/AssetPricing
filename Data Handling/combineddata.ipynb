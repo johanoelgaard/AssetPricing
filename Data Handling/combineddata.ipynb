{
 "cells": [
  {
   "cell_type": "markdown",
   "metadata": {},
   "source": [
    "Combine data from DMI & Energinet\n",
    "=======================\n",
    "This loads in csv file created by the [loadbulkweather.ipynb](loadbulkweather.ipynb) and pulls data from the Energinet API"
   ]
  },
  {
   "cell_type": "code",
   "execution_count": 15,
   "metadata": {},
   "outputs": [
    {
     "name": "stdout",
     "output_type": "stream",
     "text": [
      "The autoreload extension is already loaded. To reload it, use:\n",
      "  %reload_ext autoreload\n"
     ]
    }
   ],
   "source": [
    "import pandas as pd\n",
    "\n",
    "import assetpricing_functions as ap\n",
    "%load_ext autoreload\n",
    "%autoreload 2"
   ]
  },
  {
   "cell_type": "markdown",
   "metadata": {},
   "source": [
    "## Loading DMI data"
   ]
  },
  {
   "cell_type": "code",
   "execution_count": 16,
   "metadata": {},
   "outputs": [],
   "source": [
    "# path to the CSV file\n",
    "path = '/Users/johan/Downloads/weather-out/weather_data.csv' \n",
    "\n",
    "df_weather = pd.read_csv(path)"
   ]
  },
  {
   "cell_type": "code",
   "execution_count": 17,
   "metadata": {},
   "outputs": [
    {
     "name": "stdout",
     "output_type": "stream",
     "text": [
      "<class 'pandas.core.frame.DataFrame'>\n",
      "RangeIndex: 21490296 entries, 0 to 21490295\n",
      "Data columns (total 23 columns):\n",
      " #   Column                        Dtype  \n",
      "---  ------                        -----  \n",
      " 0   cellId                        object \n",
      " 1   from                          object \n",
      " 2   to                            object \n",
      " 3   geometry_type                 object \n",
      " 4   coordinates                   object \n",
      " 5   mean_temp                     float64\n",
      " 6   max_wind_speed_10min          float64\n",
      " 7   temp_soil_30                  float64\n",
      " 8   mean_wind_speed               float64\n",
      " 9   temp_soil_10                  float64\n",
      " 10  mean_pressure                 float64\n",
      " 11  temp_grass                    float64\n",
      " 12  mean_relative_hum             float64\n",
      " 13  min_temp                      float64\n",
      " 14  mean_radiation                float64\n",
      " 15  mean_wind_dir                 int64  \n",
      " 16  bright_sunshine               float64\n",
      " 17  vapour_pressure_deficit_mean  float64\n",
      " 18  leaf_moisture                 float64\n",
      " 19  max_temp_w_date               float64\n",
      " 20  max_wind_speed_3sec           float64\n",
      " 21  mean_cloud_cover              float64\n",
      " 22  acc_precip                    float64\n",
      "dtypes: float64(17), int64(1), object(5)\n",
      "memory usage: 3.7+ GB\n"
     ]
    }
   ],
   "source": [
    "df_weather.info()"
   ]
  },
  {
   "cell_type": "code",
   "execution_count": 18,
   "metadata": {},
   "outputs": [],
   "source": [
    "# keep only the columns we need\n",
    "df_weather = df_weather[['cellId', \n",
    "                         'from',\n",
    "                         'to',\n",
    "                         'coordinates', \n",
    "                         'mean_temp',\n",
    "                         'mean_wind_speed',\n",
    "                         'mean_wind_dir', \n",
    "                        #  'mean_cloud_cover', # problems as some data is missing here\n",
    "                        #  'bright_sunshine' # problems as some data is missing here\n",
    "                         ]]"
   ]
  },
  {
   "cell_type": "code",
   "execution_count": 19,
   "metadata": {},
   "outputs": [
    {
     "data": {
      "text/html": [
       "<div>\n",
       "<style scoped>\n",
       "    .dataframe tbody tr th:only-of-type {\n",
       "        vertical-align: middle;\n",
       "    }\n",
       "\n",
       "    .dataframe tbody tr th {\n",
       "        vertical-align: top;\n",
       "    }\n",
       "\n",
       "    .dataframe thead th {\n",
       "        text-align: right;\n",
       "    }\n",
       "</style>\n",
       "<table border=\"1\" class=\"dataframe\">\n",
       "  <thead>\n",
       "    <tr style=\"text-align: right;\">\n",
       "      <th></th>\n",
       "      <th>cellId</th>\n",
       "      <th>from</th>\n",
       "      <th>to</th>\n",
       "      <th>coordinates</th>\n",
       "      <th>mean_temp</th>\n",
       "      <th>mean_wind_speed</th>\n",
       "      <th>mean_wind_dir</th>\n",
       "      <th>wind_dir</th>\n",
       "      <th>area</th>\n",
       "    </tr>\n",
       "  </thead>\n",
       "  <tbody>\n",
       "    <tr>\n",
       "      <th>0</th>\n",
       "      <td>20km_604_64</td>\n",
       "      <td>2010-12-31 23:00:00+00:00</td>\n",
       "      <td>2011-01-01 00:00:00+00:00</td>\n",
       "      <td>[[[11.1613, 54.4883], [11.4698, 54.4824], [11....</td>\n",
       "      <td>2.0</td>\n",
       "      <td>12.9</td>\n",
       "      <td>249</td>\n",
       "      <td>W</td>\n",
       "      <td>DK2</td>\n",
       "    </tr>\n",
       "    <tr>\n",
       "      <th>1</th>\n",
       "      <td>20km_604_66</td>\n",
       "      <td>2010-12-31 23:00:00+00:00</td>\n",
       "      <td>2011-01-01 00:00:00+00:00</td>\n",
       "      <td>[[[11.4698, 54.4824], [11.7781, 54.4757], [11....</td>\n",
       "      <td>2.0</td>\n",
       "      <td>13.2</td>\n",
       "      <td>250</td>\n",
       "      <td>W</td>\n",
       "      <td>DK2</td>\n",
       "    </tr>\n",
       "    <tr>\n",
       "      <th>2</th>\n",
       "      <td>20km_604_68</td>\n",
       "      <td>2010-12-31 23:00:00+00:00</td>\n",
       "      <td>2011-01-01 00:00:00+00:00</td>\n",
       "      <td>[[[11.7781, 54.4757], [12.0863, 54.4682], [12....</td>\n",
       "      <td>1.8</td>\n",
       "      <td>13.7</td>\n",
       "      <td>248</td>\n",
       "      <td>W</td>\n",
       "      <td>DK2</td>\n",
       "    </tr>\n",
       "    <tr>\n",
       "      <th>3</th>\n",
       "      <td>20km_606_50</td>\n",
       "      <td>2010-12-31 23:00:00+00:00</td>\n",
       "      <td>2011-01-01 00:00:00+00:00</td>\n",
       "      <td>[[[9, 54.6873], [9.3102, 54.6869], [9.3116, 54...</td>\n",
       "      <td>3.0</td>\n",
       "      <td>12.7</td>\n",
       "      <td>250</td>\n",
       "      <td>W</td>\n",
       "      <td>DK1</td>\n",
       "    </tr>\n",
       "    <tr>\n",
       "      <th>4</th>\n",
       "      <td>20km_606_52</td>\n",
       "      <td>2010-12-31 23:00:00+00:00</td>\n",
       "      <td>2011-01-01 00:00:00+00:00</td>\n",
       "      <td>[[[9.3102, 54.6869], [9.6205, 54.6858], [9.623...</td>\n",
       "      <td>3.1</td>\n",
       "      <td>12.6</td>\n",
       "      <td>251</td>\n",
       "      <td>W</td>\n",
       "      <td>DK1</td>\n",
       "    </tr>\n",
       "  </tbody>\n",
       "</table>\n",
       "</div>"
      ],
      "text/plain": [
       "        cellId                      from                        to  \\\n",
       "0  20km_604_64 2010-12-31 23:00:00+00:00 2011-01-01 00:00:00+00:00   \n",
       "1  20km_604_66 2010-12-31 23:00:00+00:00 2011-01-01 00:00:00+00:00   \n",
       "2  20km_604_68 2010-12-31 23:00:00+00:00 2011-01-01 00:00:00+00:00   \n",
       "3  20km_606_50 2010-12-31 23:00:00+00:00 2011-01-01 00:00:00+00:00   \n",
       "4  20km_606_52 2010-12-31 23:00:00+00:00 2011-01-01 00:00:00+00:00   \n",
       "\n",
       "                                         coordinates  mean_temp  \\\n",
       "0  [[[11.1613, 54.4883], [11.4698, 54.4824], [11....        2.0   \n",
       "1  [[[11.4698, 54.4824], [11.7781, 54.4757], [11....        2.0   \n",
       "2  [[[11.7781, 54.4757], [12.0863, 54.4682], [12....        1.8   \n",
       "3  [[[9, 54.6873], [9.3102, 54.6869], [9.3116, 54...        3.0   \n",
       "4  [[[9.3102, 54.6869], [9.6205, 54.6858], [9.623...        3.1   \n",
       "\n",
       "   mean_wind_speed  mean_wind_dir wind_dir area  \n",
       "0             12.9            249        W  DK2  \n",
       "1             13.2            250        W  DK2  \n",
       "2             13.7            248        W  DK2  \n",
       "3             12.7            250        W  DK1  \n",
       "4             12.6            251        W  DK1  "
      ]
     },
     "metadata": {},
     "output_type": "display_data"
    }
   ],
   "source": [
    "# convert to datetime\n",
    "df_weather['from'] = pd.to_datetime(df_weather['from'])\n",
    "df_weather['to'] = pd.to_datetime(df_weather['to'])\n",
    "\n",
    "df_weather['wind_dir'] = df_weather['mean_wind_dir'].apply(ap.degrees_to_cardinal)\n",
    "\n",
    "# adding electricity area to the dataframe\n",
    "df_weather['area'] = df_weather['cellId'].apply(lambda x: 'DK1' if int(x[-2:]) < 62 else 'DK2') # DK1 is the price area for west Denmark, DK2 is for east Denmark https://energinet.dk/El/Systemydelser/Introduktion-til-Systemydelser/Oversigt-over-systemydelser/\n",
    "\n",
    "display(df_weather.head())"
   ]
  },
  {
   "cell_type": "code",
   "execution_count": 20,
   "metadata": {},
   "outputs": [
    {
     "name": "stdout",
     "output_type": "stream",
     "text": [
      "Map saved as: output/polygon_by_area.png\n"
     ]
    },
    {
     "data": {
      "application/vnd.plotly.v1+json": {
       "config": {
        "plotlyServerURL": "https://plot.ly"
       },
       "data": [
        {
         "fill": "toself",
         "fillcolor": "rgba(255, 0, 0, 0.7)",
         "hoverinfo": "text",
         "hovertext": "Cell ID: 20km_604_64<br>Area: DK2",
         "lat": [
          54.4883,
          54.4824,
          54.6619,
          54.6679,
          54.4883
         ],
         "line": {
          "color": "grey",
          "width": 1
         },
         "lon": [
          11.1613,
          11.4698,
          11.4807,
          11.1709,
          11.1613
         ],
         "mode": "lines",
         "name": "20km_604_64",
         "type": "scattermapbox"
        },
        {
         "fill": "toself",
         "fillcolor": "rgba(255, 0, 0, 0.7)",
         "hoverinfo": "text",
         "hovertext": "Cell ID: 20km_604_66<br>Area: DK2",
         "lat": [
          54.4824,
          54.4757,
          54.6552,
          54.6619,
          54.4824
         ],
         "line": {
          "color": "grey",
          "width": 1
         },
         "lon": [
          11.4698,
          11.7781,
          11.7904,
          11.4807,
          11.4698
         ],
         "mode": "lines",
         "name": "20km_604_66",
         "type": "scattermapbox"
        },
        {
         "fill": "toself",
         "fillcolor": "rgba(255, 0, 0, 0.7)",
         "hoverinfo": "text",
         "hovertext": "Cell ID: 20km_604_68<br>Area: DK2",
         "lat": [
          54.4757,
          54.4682,
          54.6477,
          54.6552,
          54.4757
         ],
         "line": {
          "color": "grey",
          "width": 1
         },
         "lon": [
          11.7781,
          12.0863,
          12.0999,
          11.7904,
          11.7781
         ],
         "mode": "lines",
         "name": "20km_604_68",
         "type": "scattermapbox"
        },
        {
         "fill": "toself",
         "fillcolor": "rgba(0, 150, 255, 0.7)",
         "hoverinfo": "text",
         "hovertext": "Cell ID: 20km_606_50<br>Area: DK1",
         "lat": [
          54.6873,
          54.6869,
          54.8667,
          54.8671,
          54.6873
         ],
         "line": {
          "color": "grey",
          "width": 1
         },
         "lon": [
          9,
          9.3102,
          9.3116,
          9,
          9
         ],
         "mode": "lines",
         "name": "20km_606_50",
         "type": "scattermapbox"
        },
        {
         "fill": "toself",
         "fillcolor": "rgba(0, 150, 255, 0.7)",
         "hoverinfo": "text",
         "hovertext": "Cell ID: 20km_606_52<br>Area: DK1",
         "lat": [
          54.6869,
          54.6858,
          54.8655,
          54.8667,
          54.6869
         ],
         "line": {
          "color": "grey",
          "width": 1
         },
         "lon": [
          9.3102,
          9.6205,
          9.6232,
          9.3116,
          9.3102
         ],
         "mode": "lines",
         "name": "20km_606_52",
         "type": "scattermapbox"
        },
        {
         "fill": "toself",
         "fillcolor": "rgba(0, 150, 255, 0.7)",
         "hoverinfo": "text",
         "hovertext": "Cell ID: 20km_606_54<br>Area: DK1",
         "lat": [
          54.6858,
          54.6838,
          54.8635,
          54.8655,
          54.6858
         ],
         "line": {
          "color": "grey",
          "width": 1
         },
         "lon": [
          9.6205,
          9.9307,
          9.9348,
          9.6232,
          9.6205
         ],
         "mode": "lines",
         "name": "20km_606_54",
         "type": "scattermapbox"
        },
        {
         "fill": "toself",
         "fillcolor": "rgba(0, 150, 255, 0.7)",
         "hoverinfo": "text",
         "hovertext": "Cell ID: 20km_606_58<br>Area: DK1",
         "lat": [
          54.681,
          54.6774,
          54.8571,
          54.8607,
          54.681
         ],
         "line": {
          "color": "grey",
          "width": 1
         },
         "lon": [
          10.2408,
          10.5509,
          10.5578,
          10.2463,
          10.2408
         ],
         "mode": "lines",
         "name": "20km_606_58",
         "type": "scattermapbox"
        },
        {
         "fill": "toself",
         "fillcolor": "rgba(0, 150, 255, 0.7)",
         "hoverinfo": "text",
         "hovertext": "Cell ID: 20km_606_60<br>Area: DK1",
         "lat": [
          54.6774,
          54.6731,
          54.8527,
          54.8571,
          54.6774
         ],
         "line": {
          "color": "grey",
          "width": 1
         },
         "lon": [
          10.5509,
          10.8609,
          10.8692,
          10.5578,
          10.5509
         ],
         "mode": "lines",
         "name": "20km_606_60",
         "type": "scattermapbox"
        },
        {
         "fill": "toself",
         "fillcolor": "rgba(255, 0, 0, 0.7)",
         "hoverinfo": "text",
         "hovertext": "Cell ID: 20km_606_62<br>Area: DK2",
         "lat": [
          54.6731,
          54.6679,
          54.8475,
          54.8527,
          54.6731
         ],
         "line": {
          "color": "grey",
          "width": 1
         },
         "lon": [
          10.8609,
          11.1709,
          11.1805,
          10.8692,
          10.8609
         ],
         "mode": "lines",
         "name": "20km_606_62",
         "type": "scattermapbox"
        },
        {
         "fill": "toself",
         "fillcolor": "rgba(255, 0, 0, 0.7)",
         "hoverinfo": "text",
         "hovertext": "Cell ID: 20km_606_64<br>Area: DK2",
         "lat": [
          54.6679,
          54.6619,
          54.8415,
          54.8475,
          54.6679
         ],
         "line": {
          "color": "grey",
          "width": 1
         },
         "lon": [
          11.1709,
          11.4807,
          11.4917,
          11.1805,
          11.1709
         ],
         "mode": "lines",
         "name": "20km_606_64",
         "type": "scattermapbox"
        },
        {
         "fill": "toself",
         "fillcolor": "rgba(255, 0, 0, 0.7)",
         "hoverinfo": "text",
         "hovertext": "Cell ID: 20km_606_66<br>Area: DK2",
         "lat": [
          54.6619,
          54.6552,
          54.8347,
          54.8415,
          54.6619
         ],
         "line": {
          "color": "grey",
          "width": 1
         },
         "lon": [
          11.4807,
          11.7904,
          11.8028,
          11.4917,
          11.4807
         ],
         "mode": "lines",
         "name": "20km_606_66",
         "type": "scattermapbox"
        },
        {
         "fill": "toself",
         "fillcolor": "rgba(255, 0, 0, 0.7)",
         "hoverinfo": "text",
         "hovertext": "Cell ID: 20km_606_68<br>Area: DK2",
         "lat": [
          54.6552,
          54.6477,
          54.8271,
          54.8347,
          54.6552
         ],
         "line": {
          "color": "grey",
          "width": 1
         },
         "lon": [
          11.7904,
          12.0999,
          12.1137,
          11.8028,
          11.7904
         ],
         "mode": "lines",
         "name": "20km_606_68",
         "type": "scattermapbox"
        },
        {
         "fill": "toself",
         "fillcolor": "rgba(0, 150, 255, 0.7)",
         "hoverinfo": "text",
         "hovertext": "Cell ID: 20km_608_46<br>Area: DK1",
         "lat": [
          54.8655,
          54.8667,
          55.0464,
          55.0452,
          54.8655
         ],
         "line": {
          "color": "grey",
          "width": 1
         },
         "lon": [
          8.3768,
          8.6884,
          8.687,
          8.374,
          8.3768
         ],
         "mode": "lines",
         "name": "20km_608_46",
         "type": "scattermapbox"
        },
        {
         "fill": "toself",
         "fillcolor": "rgba(0, 150, 255, 0.7)",
         "hoverinfo": "text",
         "hovertext": "Cell ID: 20km_608_48<br>Area: DK1",
         "lat": [
          54.8667,
          54.8671,
          55.0468,
          55.0464,
          54.8667
         ],
         "line": {
          "color": "grey",
          "width": 1
         },
         "lon": [
          8.6884,
          9,
          9,
          8.687,
          8.6884
         ],
         "mode": "lines",
         "name": "20km_608_48",
         "type": "scattermapbox"
        },
        {
         "fill": "toself",
         "fillcolor": "rgba(0, 150, 255, 0.7)",
         "hoverinfo": "text",
         "hovertext": "Cell ID: 20km_608_50<br>Area: DK1",
         "lat": [
          54.8671,
          54.8667,
          55.0464,
          55.0468,
          54.8671
         ],
         "line": {
          "color": "grey",
          "width": 1
         },
         "lon": [
          9,
          9.3116,
          9.313,
          9,
          9
         ],
         "mode": "lines",
         "name": "20km_608_50",
         "type": "scattermapbox"
        },
        {
         "fill": "toself",
         "fillcolor": "rgba(0, 150, 255, 0.7)",
         "hoverinfo": "text",
         "hovertext": "Cell ID: 20km_608_52<br>Area: DK1",
         "lat": [
          54.8667,
          54.8655,
          55.0452,
          55.0464,
          54.8667
         ],
         "line": {
          "color": "grey",
          "width": 1
         },
         "lon": [
          9.3116,
          9.6232,
          9.626,
          9.313,
          9.3116
         ],
         "mode": "lines",
         "name": "20km_608_52",
         "type": "scattermapbox"
        },
        {
         "fill": "toself",
         "fillcolor": "rgba(0, 150, 255, 0.7)",
         "hoverinfo": "text",
         "hovertext": "Cell ID: 20km_608_54<br>Area: DK1",
         "lat": [
          54.8655,
          54.8635,
          55.0432,
          55.0452,
          54.8655
         ],
         "line": {
          "color": "grey",
          "width": 1
         },
         "lon": [
          9.6232,
          9.9348,
          9.939,
          9.626,
          9.6232
         ],
         "mode": "lines",
         "name": "20km_608_54",
         "type": "scattermapbox"
        },
        {
         "fill": "toself",
         "fillcolor": "rgba(0, 150, 255, 0.7)",
         "hoverinfo": "text",
         "hovertext": "Cell ID: 20km_608_56<br>Area: DK1",
         "lat": [
          54.8635,
          54.8607,
          55.0404,
          55.0432,
          54.8635
         ],
         "line": {
          "color": "grey",
          "width": 1
         },
         "lon": [
          9.9348,
          10.2463,
          10.2519,
          9.939,
          9.9348
         ],
         "mode": "lines",
         "name": "20km_608_56",
         "type": "scattermapbox"
        },
        {
         "fill": "toself",
         "fillcolor": "rgba(0, 150, 255, 0.7)",
         "hoverinfo": "text",
         "hovertext": "Cell ID: 20km_608_58<br>Area: DK1",
         "lat": [
          54.8607,
          54.8571,
          55.0367,
          55.0404,
          54.8607
         ],
         "line": {
          "color": "grey",
          "width": 1
         },
         "lon": [
          10.2463,
          10.5578,
          10.5648,
          10.2519,
          10.2463
         ],
         "mode": "lines",
         "name": "20km_608_58",
         "type": "scattermapbox"
        },
        {
         "fill": "toself",
         "fillcolor": "rgba(0, 150, 255, 0.7)",
         "hoverinfo": "text",
         "hovertext": "Cell ID: 20km_608_60<br>Area: DK1",
         "lat": [
          54.8571,
          54.8527,
          55.0323,
          55.0367,
          54.8571
         ],
         "line": {
          "color": "grey",
          "width": 1
         },
         "lon": [
          10.5578,
          10.8692,
          10.8775,
          10.5648,
          10.5578
         ],
         "mode": "lines",
         "name": "20km_608_60",
         "type": "scattermapbox"
        },
        {
         "fill": "toself",
         "fillcolor": "rgba(255, 0, 0, 0.7)",
         "hoverinfo": "text",
         "hovertext": "Cell ID: 20km_608_62<br>Area: DK2",
         "lat": [
          54.8527,
          54.8475,
          55.0271,
          55.0323,
          54.8527
         ],
         "line": {
          "color": "grey",
          "width": 1
         },
         "lon": [
          10.8692,
          11.1805,
          11.1902,
          10.8775,
          10.8692
         ],
         "mode": "lines",
         "name": "20km_608_62",
         "type": "scattermapbox"
        },
        {
         "fill": "toself",
         "fillcolor": "rgba(255, 0, 0, 0.7)",
         "hoverinfo": "text",
         "hovertext": "Cell ID: 20km_608_64<br>Area: DK2",
         "lat": [
          54.8475,
          54.8415,
          55.0211,
          55.0271,
          54.8475
         ],
         "line": {
          "color": "grey",
          "width": 1
         },
         "lon": [
          11.1805,
          11.4917,
          11.5028,
          11.1902,
          11.1805
         ],
         "mode": "lines",
         "name": "20km_608_64",
         "type": "scattermapbox"
        },
        {
         "fill": "toself",
         "fillcolor": "rgba(255, 0, 0, 0.7)",
         "hoverinfo": "text",
         "hovertext": "Cell ID: 20km_608_66<br>Area: DK2",
         "lat": [
          54.8415,
          54.8347,
          55.0142,
          55.0211,
          54.8415
         ],
         "line": {
          "color": "grey",
          "width": 1
         },
         "lon": [
          11.4917,
          11.8028,
          11.8153,
          11.5028,
          11.4917
         ],
         "mode": "lines",
         "name": "20km_608_66",
         "type": "scattermapbox"
        },
        {
         "fill": "toself",
         "fillcolor": "rgba(255, 0, 0, 0.7)",
         "hoverinfo": "text",
         "hovertext": "Cell ID: 20km_608_68<br>Area: DK2",
         "lat": [
          54.8347,
          54.8271,
          55.0066,
          55.0142,
          54.8347
         ],
         "line": {
          "color": "grey",
          "width": 1
         },
         "lon": [
          11.8028,
          12.1137,
          12.1276,
          11.8153,
          11.8028
         ],
         "mode": "lines",
         "name": "20km_608_68",
         "type": "scattermapbox"
        },
        {
         "fill": "toself",
         "fillcolor": "rgba(255, 0, 0, 0.7)",
         "hoverinfo": "text",
         "hovertext": "Cell ID: 20km_608_70<br>Area: DK2",
         "lat": [
          54.8271,
          54.8188,
          54.9982,
          55.0066,
          54.8271
         ],
         "line": {
          "color": "grey",
          "width": 1
         },
         "lon": [
          12.1137,
          12.4245,
          12.4397,
          12.1276,
          12.1137
         ],
         "mode": "lines",
         "name": "20km_608_70",
         "type": "scattermapbox"
        },
        {
         "fill": "toself",
         "fillcolor": "rgba(255, 0, 0, 0.7)",
         "hoverinfo": "text",
         "hovertext": "Cell ID: 20km_608_72<br>Area: DK2",
         "lat": [
          54.8188,
          54.8096,
          54.9889,
          54.9982,
          54.8188
         ],
         "line": {
          "color": "grey",
          "width": 1
         },
         "lon": [
          12.4245,
          12.7351,
          12.7517,
          12.4397,
          12.4245
         ],
         "mode": "lines",
         "name": "20km_608_72",
         "type": "scattermapbox"
        },
        {
         "fill": "toself",
         "fillcolor": "rgba(0, 150, 255, 0.7)",
         "hoverinfo": "text",
         "hovertext": "Cell ID: 20km_610_46<br>Area: DK1",
         "lat": [
          55.0452,
          55.0464,
          55.2261,
          55.2249,
          55.0452
         ],
         "line": {
          "color": "grey",
          "width": 1
         },
         "lon": [
          8.374,
          8.687,
          8.6856,
          8.3712,
          8.374
         ],
         "mode": "lines",
         "name": "20km_610_46",
         "type": "scattermapbox"
        },
        {
         "fill": "toself",
         "fillcolor": "rgba(0, 150, 255, 0.7)",
         "hoverinfo": "text",
         "hovertext": "Cell ID: 20km_610_48<br>Area: DK1",
         "lat": [
          55.0464,
          55.0468,
          55.2265,
          55.2261,
          55.0464
         ],
         "line": {
          "color": "grey",
          "width": 1
         },
         "lon": [
          8.687,
          9,
          9,
          8.6856,
          8.687
         ],
         "mode": "lines",
         "name": "20km_610_48",
         "type": "scattermapbox"
        },
        {
         "fill": "toself",
         "fillcolor": "rgba(0, 150, 255, 0.7)",
         "hoverinfo": "text",
         "hovertext": "Cell ID: 20km_610_50<br>Area: DK1",
         "lat": [
          55.0468,
          55.0464,
          55.2261,
          55.2265,
          55.0468
         ],
         "line": {
          "color": "grey",
          "width": 1
         },
         "lon": [
          9,
          9.313,
          9.3144,
          9,
          9
         ],
         "mode": "lines",
         "name": "20km_610_50",
         "type": "scattermapbox"
        },
        {
         "fill": "toself",
         "fillcolor": "rgba(0, 150, 255, 0.7)",
         "hoverinfo": "text",
         "hovertext": "Cell ID: 20km_610_52<br>Area: DK1",
         "lat": [
          55.0464,
          55.0452,
          55.2249,
          55.2261,
          55.0464
         ],
         "line": {
          "color": "grey",
          "width": 1
         },
         "lon": [
          9.313,
          9.626,
          9.6288,
          9.3144,
          9.313
         ],
         "mode": "lines",
         "name": "20km_610_52",
         "type": "scattermapbox"
        },
        {
         "fill": "toself",
         "fillcolor": "rgba(0, 150, 255, 0.7)",
         "hoverinfo": "text",
         "hovertext": "Cell ID: 20km_610_54<br>Area: DK1",
         "lat": [
          55.0452,
          55.0432,
          55.2229,
          55.2249,
          55.0452
         ],
         "line": {
          "color": "grey",
          "width": 1
         },
         "lon": [
          9.626,
          9.939,
          9.9432,
          9.6288,
          9.626
         ],
         "mode": "lines",
         "name": "20km_610_54",
         "type": "scattermapbox"
        },
        {
         "fill": "toself",
         "fillcolor": "rgba(0, 150, 255, 0.7)",
         "hoverinfo": "text",
         "hovertext": "Cell ID: 20km_610_56<br>Area: DK1",
         "lat": [
          55.0432,
          55.0404,
          55.2201,
          55.2229,
          55.0432
         ],
         "line": {
          "color": "grey",
          "width": 1
         },
         "lon": [
          9.939,
          10.2519,
          10.2575,
          9.9432,
          9.939
         ],
         "mode": "lines",
         "name": "20km_610_56",
         "type": "scattermapbox"
        },
        {
         "fill": "toself",
         "fillcolor": "rgba(0, 150, 255, 0.7)",
         "hoverinfo": "text",
         "hovertext": "Cell ID: 20km_610_58<br>Area: DK1",
         "lat": [
          55.0404,
          55.0367,
          55.2164,
          55.2201,
          55.0404
         ],
         "line": {
          "color": "grey",
          "width": 1
         },
         "lon": [
          10.2519,
          10.5648,
          10.5718,
          10.2575,
          10.2519
         ],
         "mode": "lines",
         "name": "20km_610_58",
         "type": "scattermapbox"
        },
        {
         "fill": "toself",
         "fillcolor": "rgba(0, 150, 255, 0.7)",
         "hoverinfo": "text",
         "hovertext": "Cell ID: 20km_610_60<br>Area: DK1",
         "lat": [
          55.0367,
          55.0323,
          55.212,
          55.2164,
          55.0367
         ],
         "line": {
          "color": "grey",
          "width": 1
         },
         "lon": [
          10.5648,
          10.8775,
          10.886,
          10.5718,
          10.5648
         ],
         "mode": "lines",
         "name": "20km_610_60",
         "type": "scattermapbox"
        },
        {
         "fill": "toself",
         "fillcolor": "rgba(255, 0, 0, 0.7)",
         "hoverinfo": "text",
         "hovertext": "Cell ID: 20km_610_62<br>Area: DK2",
         "lat": [
          55.0323,
          55.0271,
          55.2067,
          55.212,
          55.0323
         ],
         "line": {
          "color": "grey",
          "width": 1
         },
         "lon": [
          10.8775,
          11.1902,
          11.2001,
          10.886,
          10.8775
         ],
         "mode": "lines",
         "name": "20km_610_62",
         "type": "scattermapbox"
        },
        {
         "fill": "toself",
         "fillcolor": "rgba(255, 0, 0, 0.7)",
         "hoverinfo": "text",
         "hovertext": "Cell ID: 20km_610_64<br>Area: DK2",
         "lat": [
          55.0271,
          55.0211,
          55.2006,
          55.2067,
          55.0271
         ],
         "line": {
          "color": "grey",
          "width": 1
         },
         "lon": [
          11.1902,
          11.5028,
          11.5141,
          11.2001,
          11.1902
         ],
         "mode": "lines",
         "name": "20km_610_64",
         "type": "scattermapbox"
        },
        {
         "fill": "toself",
         "fillcolor": "rgba(255, 0, 0, 0.7)",
         "hoverinfo": "text",
         "hovertext": "Cell ID: 20km_610_66<br>Area: DK2",
         "lat": [
          55.0211,
          55.0142,
          55.1937,
          55.2006,
          55.0211
         ],
         "line": {
          "color": "grey",
          "width": 1
         },
         "lon": [
          11.5028,
          11.8153,
          11.8279,
          11.5141,
          11.5028
         ],
         "mode": "lines",
         "name": "20km_610_66",
         "type": "scattermapbox"
        },
        {
         "fill": "toself",
         "fillcolor": "rgba(255, 0, 0, 0.7)",
         "hoverinfo": "text",
         "hovertext": "Cell ID: 20km_610_68<br>Area: DK2",
         "lat": [
          55.0142,
          55.0066,
          55.1861,
          55.1937,
          55.0142
         ],
         "line": {
          "color": "grey",
          "width": 1
         },
         "lon": [
          11.8153,
          12.1276,
          12.1416,
          11.8279,
          11.8153
         ],
         "mode": "lines",
         "name": "20km_610_68",
         "type": "scattermapbox"
        },
        {
         "fill": "toself",
         "fillcolor": "rgba(255, 0, 0, 0.7)",
         "hoverinfo": "text",
         "hovertext": "Cell ID: 20km_610_70<br>Area: DK2",
         "lat": [
          55.0066,
          54.9982,
          55.1776,
          55.1861,
          55.0066
         ],
         "line": {
          "color": "grey",
          "width": 1
         },
         "lon": [
          12.1276,
          12.4397,
          12.4552,
          12.1416,
          12.1276
         ],
         "mode": "lines",
         "name": "20km_610_70",
         "type": "scattermapbox"
        },
        {
         "fill": "toself",
         "fillcolor": "rgba(255, 0, 0, 0.7)",
         "hoverinfo": "text",
         "hovertext": "Cell ID: 20km_610_72<br>Area: DK2",
         "lat": [
          54.9982,
          54.9889,
          55.1683,
          55.1776,
          54.9982
         ],
         "line": {
          "color": "grey",
          "width": 1
         },
         "lon": [
          12.4397,
          12.7517,
          12.7686,
          12.4552,
          12.4397
         ],
         "mode": "lines",
         "name": "20km_610_72",
         "type": "scattermapbox"
        },
        {
         "fill": "toself",
         "fillcolor": "rgba(255, 0, 0, 0.7)",
         "hoverinfo": "text",
         "hovertext": "Cell ID: 20km_611_86<br>Area: DK2",
         "lat": [
          55.0062,
          54.9914,
          55.1702,
          55.1851,
          55.0062
         ],
         "line": {
          "color": "grey",
          "width": 1
         },
         "lon": [
          14.6318,
          14.9428,
          14.9695,
          14.657,
          14.6318
         ],
         "mode": "lines",
         "name": "20km_611_86",
         "type": "scattermapbox"
        },
        {
         "fill": "toself",
         "fillcolor": "rgba(255, 0, 0, 0.7)",
         "hoverinfo": "text",
         "hovertext": "Cell ID: 20km_611_88<br>Area: DK2",
         "lat": [
          54.9914,
          54.9758,
          55.1544,
          55.1702,
          54.9914
         ],
         "line": {
          "color": "grey",
          "width": 1
         },
         "lon": [
          14.9428,
          15.2536,
          15.2816,
          14.9695,
          14.9428
         ],
         "mode": "lines",
         "name": "20km_611_88",
         "type": "scattermapbox"
        },
        {
         "fill": "toself",
         "fillcolor": "rgba(0, 150, 255, 0.7)",
         "hoverinfo": "text",
         "hovertext": "Cell ID: 20km_612_46<br>Area: DK1",
         "lat": [
          55.2249,
          55.2261,
          55.4058,
          55.4046,
          55.2249
         ],
         "line": {
          "color": "grey",
          "width": 1
         },
         "lon": [
          8.3712,
          8.6856,
          8.6841,
          8.3683,
          8.3712
         ],
         "mode": "lines",
         "name": "20km_612_46",
         "type": "scattermapbox"
        },
        {
         "fill": "toself",
         "fillcolor": "rgba(0, 150, 255, 0.7)",
         "hoverinfo": "text",
         "hovertext": "Cell ID: 20km_612_48<br>Area: DK1",
         "lat": [
          55.2261,
          55.2265,
          55.4062,
          55.4058,
          55.2261
         ],
         "line": {
          "color": "grey",
          "width": 1
         },
         "lon": [
          8.6856,
          9,
          9,
          8.6841,
          8.6856
         ],
         "mode": "lines",
         "name": "20km_612_48",
         "type": "scattermapbox"
        },
        {
         "fill": "toself",
         "fillcolor": "rgba(0, 150, 255, 0.7)",
         "hoverinfo": "text",
         "hovertext": "Cell ID: 20km_612_50<br>Area: DK1",
         "lat": [
          55.2265,
          55.2261,
          55.4058,
          55.4062,
          55.2265
         ],
         "line": {
          "color": "grey",
          "width": 1
         },
         "lon": [
          9,
          9.3144,
          9.3159,
          9,
          9
         ],
         "mode": "lines",
         "name": "20km_612_50",
         "type": "scattermapbox"
        },
        {
         "fill": "toself",
         "fillcolor": "rgba(0, 150, 255, 0.7)",
         "hoverinfo": "text",
         "hovertext": "Cell ID: 20km_612_52<br>Area: DK1",
         "lat": [
          55.2261,
          55.2249,
          55.4046,
          55.4058,
          55.2261
         ],
         "line": {
          "color": "grey",
          "width": 1
         },
         "lon": [
          9.3144,
          9.6288,
          9.6317,
          9.3159,
          9.3144
         ],
         "mode": "lines",
         "name": "20km_612_52",
         "type": "scattermapbox"
        },
        {
         "fill": "toself",
         "fillcolor": "rgba(0, 150, 255, 0.7)",
         "hoverinfo": "text",
         "hovertext": "Cell ID: 20km_612_54<br>Area: DK1",
         "lat": [
          55.2249,
          55.2229,
          55.4026,
          55.4046,
          55.2249
         ],
         "line": {
          "color": "grey",
          "width": 1
         },
         "lon": [
          9.6288,
          9.9432,
          9.9475,
          9.6317,
          9.6288
         ],
         "mode": "lines",
         "name": "20km_612_54",
         "type": "scattermapbox"
        },
        {
         "fill": "toself",
         "fillcolor": "rgba(0, 150, 255, 0.7)",
         "hoverinfo": "text",
         "hovertext": "Cell ID: 20km_612_56<br>Area: DK1",
         "lat": [
          55.2229,
          55.2201,
          55.3997,
          55.4026,
          55.2229
         ],
         "line": {
          "color": "grey",
          "width": 1
         },
         "lon": [
          9.9432,
          10.2575,
          10.2632,
          9.9475,
          9.9432
         ],
         "mode": "lines",
         "name": "20km_612_56",
         "type": "scattermapbox"
        },
        {
         "fill": "toself",
         "fillcolor": "rgba(0, 150, 255, 0.7)",
         "hoverinfo": "text",
         "hovertext": "Cell ID: 20km_612_58<br>Area: DK1",
         "lat": [
          55.2201,
          55.2164,
          55.3961,
          55.3997,
          55.2201
         ],
         "line": {
          "color": "grey",
          "width": 1
         },
         "lon": [
          10.2575,
          10.5718,
          10.5789,
          10.2632,
          10.2575
         ],
         "mode": "lines",
         "name": "20km_612_58",
         "type": "scattermapbox"
        },
        {
         "fill": "toself",
         "fillcolor": "rgba(0, 150, 255, 0.7)",
         "hoverinfo": "text",
         "hovertext": "Cell ID: 20km_612_60<br>Area: DK1",
         "lat": [
          55.2164,
          55.212,
          55.3916,
          55.3961,
          55.2164
         ],
         "line": {
          "color": "grey",
          "width": 1
         },
         "lon": [
          10.5718,
          10.886,
          10.8945,
          10.5789,
          10.5718
         ],
         "mode": "lines",
         "name": "20km_612_60",
         "type": "scattermapbox"
        },
        {
         "fill": "toself",
         "fillcolor": "rgba(255, 0, 0, 0.7)",
         "hoverinfo": "text",
         "hovertext": "Cell ID: 20km_612_62<br>Area: DK2",
         "lat": [
          55.212,
          55.2067,
          55.3863,
          55.3916,
          55.212
         ],
         "line": {
          "color": "grey",
          "width": 1
         },
         "lon": [
          10.886,
          11.2001,
          11.2101,
          10.8945,
          10.886
         ],
         "mode": "lines",
         "name": "20km_612_62",
         "type": "scattermapbox"
        },
        {
         "fill": "toself",
         "fillcolor": "rgba(255, 0, 0, 0.7)",
         "hoverinfo": "text",
         "hovertext": "Cell ID: 20km_612_64<br>Area: DK2",
         "lat": [
          55.2067,
          55.2006,
          55.3802,
          55.3863,
          55.2067
         ],
         "line": {
          "color": "grey",
          "width": 1
         },
         "lon": [
          11.2001,
          11.5141,
          11.5255,
          11.2101,
          11.2001
         ],
         "mode": "lines",
         "name": "20km_612_64",
         "type": "scattermapbox"
        },
        {
         "fill": "toself",
         "fillcolor": "rgba(255, 0, 0, 0.7)",
         "hoverinfo": "text",
         "hovertext": "Cell ID: 20km_612_66<br>Area: DK2",
         "lat": [
          55.2006,
          55.1937,
          55.3732,
          55.3802,
          55.2006
         ],
         "line": {
          "color": "grey",
          "width": 1
         },
         "lon": [
          11.5141,
          11.8279,
          11.8407,
          11.5255,
          11.5141
         ],
         "mode": "lines",
         "name": "20km_612_66",
         "type": "scattermapbox"
        },
        {
         "fill": "toself",
         "fillcolor": "rgba(255, 0, 0, 0.7)",
         "hoverinfo": "text",
         "hovertext": "Cell ID: 20km_612_68<br>Area: DK2",
         "lat": [
          55.1937,
          55.1861,
          55.3655,
          55.3732,
          55.1937
         ],
         "line": {
          "color": "grey",
          "width": 1
         },
         "lon": [
          11.8279,
          12.1416,
          12.1558,
          11.8407,
          11.8279
         ],
         "mode": "lines",
         "name": "20km_612_68",
         "type": "scattermapbox"
        },
        {
         "fill": "toself",
         "fillcolor": "rgba(255, 0, 0, 0.7)",
         "hoverinfo": "text",
         "hovertext": "Cell ID: 20km_612_70<br>Area: DK2",
         "lat": [
          55.1861,
          55.1776,
          55.357,
          55.3655,
          55.1861
         ],
         "line": {
          "color": "grey",
          "width": 1
         },
         "lon": [
          12.1416,
          12.4552,
          12.4708,
          12.1558,
          12.1416
         ],
         "mode": "lines",
         "name": "20km_612_70",
         "type": "scattermapbox"
        },
        {
         "fill": "toself",
         "fillcolor": "rgba(255, 0, 0, 0.7)",
         "hoverinfo": "text",
         "hovertext": "Cell ID: 20km_613_86<br>Area: DK2",
         "lat": [
          55.1851,
          55.1702,
          55.3489,
          55.3639,
          55.1851
         ],
         "line": {
          "color": "grey",
          "width": 1
         },
         "lon": [
          14.657,
          14.9695,
          14.9964,
          14.6826,
          14.657
         ],
         "mode": "lines",
         "name": "20km_613_86",
         "type": "scattermapbox"
        },
        {
         "fill": "toself",
         "fillcolor": "rgba(255, 0, 0, 0.7)",
         "hoverinfo": "text",
         "hovertext": "Cell ID: 20km_613_88<br>Area: DK2",
         "lat": [
          55.1702,
          55.1544,
          55.3331,
          55.3489,
          55.1702
         ],
         "line": {
          "color": "grey",
          "width": 1
         },
         "lon": [
          14.9695,
          15.2816,
          15.3099,
          14.9964,
          14.9695
         ],
         "mode": "lines",
         "name": "20km_613_88",
         "type": "scattermapbox"
        },
        {
         "fill": "toself",
         "fillcolor": "rgba(0, 150, 255, 0.7)",
         "hoverinfo": "text",
         "hovertext": "Cell ID: 20km_614_44<br>Area: DK1",
         "lat": [
          55.4026,
          55.4046,
          55.5843,
          55.5823,
          55.4026
         ],
         "line": {
          "color": "grey",
          "width": 1
         },
         "lon": [
          8.0525,
          8.3683,
          8.3654,
          8.0482,
          8.0525
         ],
         "mode": "lines",
         "name": "20km_614_44",
         "type": "scattermapbox"
        },
        {
         "fill": "toself",
         "fillcolor": "rgba(0, 150, 255, 0.7)",
         "hoverinfo": "text",
         "hovertext": "Cell ID: 20km_614_46<br>Area: DK1",
         "lat": [
          55.4046,
          55.4058,
          55.5856,
          55.5843,
          55.4046
         ],
         "line": {
          "color": "grey",
          "width": 1
         },
         "lon": [
          8.3683,
          8.6841,
          8.6827,
          8.3654,
          8.3683
         ],
         "mode": "lines",
         "name": "20km_614_46",
         "type": "scattermapbox"
        },
        {
         "fill": "toself",
         "fillcolor": "rgba(0, 150, 255, 0.7)",
         "hoverinfo": "text",
         "hovertext": "Cell ID: 20km_614_48<br>Area: DK1",
         "lat": [
          55.4058,
          55.4062,
          55.586,
          55.5856,
          55.4058
         ],
         "line": {
          "color": "grey",
          "width": 1
         },
         "lon": [
          8.6841,
          9,
          9,
          8.6827,
          8.6841
         ],
         "mode": "lines",
         "name": "20km_614_48",
         "type": "scattermapbox"
        },
        {
         "fill": "toself",
         "fillcolor": "rgba(0, 150, 255, 0.7)",
         "hoverinfo": "text",
         "hovertext": "Cell ID: 20km_614_50<br>Area: DK1",
         "lat": [
          55.4062,
          55.4058,
          55.5856,
          55.586,
          55.4062
         ],
         "line": {
          "color": "grey",
          "width": 1
         },
         "lon": [
          9,
          9.3159,
          9.3173,
          9,
          9
         ],
         "mode": "lines",
         "name": "20km_614_50",
         "type": "scattermapbox"
        },
        {
         "fill": "toself",
         "fillcolor": "rgba(0, 150, 255, 0.7)",
         "hoverinfo": "text",
         "hovertext": "Cell ID: 20km_614_52<br>Area: DK1",
         "lat": [
          55.4058,
          55.4046,
          55.5843,
          55.5856,
          55.4058
         ],
         "line": {
          "color": "grey",
          "width": 1
         },
         "lon": [
          9.3159,
          9.6317,
          9.6346,
          9.3173,
          9.3159
         ],
         "mode": "lines",
         "name": "20km_614_52",
         "type": "scattermapbox"
        },
        {
         "fill": "toself",
         "fillcolor": "rgba(0, 150, 255, 0.7)",
         "hoverinfo": "text",
         "hovertext": "Cell ID: 20km_614_54<br>Area: DK1",
         "lat": [
          55.4046,
          55.4026,
          55.5823,
          55.5843,
          55.4046
         ],
         "line": {
          "color": "grey",
          "width": 1
         },
         "lon": [
          9.6317,
          9.9475,
          9.9518,
          9.6346,
          9.6317
         ],
         "mode": "lines",
         "name": "20km_614_54",
         "type": "scattermapbox"
        },
        {
         "fill": "toself",
         "fillcolor": "rgba(0, 150, 255, 0.7)",
         "hoverinfo": "text",
         "hovertext": "Cell ID: 20km_614_56<br>Area: DK1",
         "lat": [
          55.4026,
          55.3997,
          55.5794,
          55.5823,
          55.4026
         ],
         "line": {
          "color": "grey",
          "width": 1
         },
         "lon": [
          9.9475,
          10.2632,
          10.269,
          9.9518,
          9.9475
         ],
         "mode": "lines",
         "name": "20km_614_56",
         "type": "scattermapbox"
        },
        {
         "fill": "toself",
         "fillcolor": "rgba(0, 150, 255, 0.7)",
         "hoverinfo": "text",
         "hovertext": "Cell ID: 20km_614_58<br>Area: DK1",
         "lat": [
          55.3997,
          55.3961,
          55.5757,
          55.5794,
          55.3997
         ],
         "line": {
          "color": "grey",
          "width": 1
         },
         "lon": [
          10.2632,
          10.5789,
          10.5861,
          10.269,
          10.2632
         ],
         "mode": "lines",
         "name": "20km_614_58",
         "type": "scattermapbox"
        },
        {
         "fill": "toself",
         "fillcolor": "rgba(0, 150, 255, 0.7)",
         "hoverinfo": "text",
         "hovertext": "Cell ID: 20km_614_60<br>Area: DK1",
         "lat": [
          55.3961,
          55.3916,
          55.5712,
          55.5757,
          55.3961
         ],
         "line": {
          "color": "grey",
          "width": 1
         },
         "lon": [
          10.5789,
          10.8945,
          10.9032,
          10.5861,
          10.5789
         ],
         "mode": "lines",
         "name": "20km_614_60",
         "type": "scattermapbox"
        },
        {
         "fill": "toself",
         "fillcolor": "rgba(255, 0, 0, 0.7)",
         "hoverinfo": "text",
         "hovertext": "Cell ID: 20km_614_62<br>Area: DK2",
         "lat": [
          55.3916,
          55.3863,
          55.5659,
          55.5712,
          55.3916
         ],
         "line": {
          "color": "grey",
          "width": 1
         },
         "lon": [
          10.8945,
          11.2101,
          11.2201,
          10.9032,
          10.8945
         ],
         "mode": "lines",
         "name": "20km_614_62",
         "type": "scattermapbox"
        },
        {
         "fill": "toself",
         "fillcolor": "rgba(255, 0, 0, 0.7)",
         "hoverinfo": "text",
         "hovertext": "Cell ID: 20km_614_64<br>Area: DK2",
         "lat": [
          55.3863,
          55.3802,
          55.5597,
          55.5659,
          55.3863
         ],
         "line": {
          "color": "grey",
          "width": 1
         },
         "lon": [
          11.2101,
          11.5255,
          11.537,
          11.2201,
          11.2101
         ],
         "mode": "lines",
         "name": "20km_614_64",
         "type": "scattermapbox"
        },
        {
         "fill": "toself",
         "fillcolor": "rgba(255, 0, 0, 0.7)",
         "hoverinfo": "text",
         "hovertext": "Cell ID: 20km_614_66<br>Area: DK2",
         "lat": [
          55.3802,
          55.3732,
          55.5527,
          55.5597,
          55.3802
         ],
         "line": {
          "color": "grey",
          "width": 1
         },
         "lon": [
          11.5255,
          11.8407,
          11.8537,
          11.537,
          11.5255
         ],
         "mode": "lines",
         "name": "20km_614_66",
         "type": "scattermapbox"
        },
        {
         "fill": "toself",
         "fillcolor": "rgba(255, 0, 0, 0.7)",
         "hoverinfo": "text",
         "hovertext": "Cell ID: 20km_614_68<br>Area: DK2",
         "lat": [
          55.3732,
          55.3655,
          55.545,
          55.5527,
          55.3732
         ],
         "line": {
          "color": "grey",
          "width": 1
         },
         "lon": [
          11.8407,
          12.1558,
          12.1702,
          11.8537,
          11.8407
         ],
         "mode": "lines",
         "name": "20km_614_68",
         "type": "scattermapbox"
        },
        {
         "fill": "toself",
         "fillcolor": "rgba(255, 0, 0, 0.7)",
         "hoverinfo": "text",
         "hovertext": "Cell ID: 20km_614_70<br>Area: DK2",
         "lat": [
          55.3655,
          55.357,
          55.5363,
          55.545,
          55.3655
         ],
         "line": {
          "color": "grey",
          "width": 1
         },
         "lon": [
          12.1558,
          12.4708,
          12.4866,
          12.1702,
          12.1558
         ],
         "mode": "lines",
         "name": "20km_614_70",
         "type": "scattermapbox"
        },
        {
         "fill": "toself",
         "fillcolor": "rgba(0, 150, 255, 0.7)",
         "hoverinfo": "text",
         "hovertext": "Cell ID: 20km_616_44<br>Area: DK1",
         "lat": [
          55.5823,
          55.5843,
          55.764,
          55.762,
          55.5823
         ],
         "line": {
          "color": "grey",
          "width": 1
         },
         "lon": [
          8.0482,
          8.3654,
          8.3625,
          8.0438,
          8.0482
         ],
         "mode": "lines",
         "name": "20km_616_44",
         "type": "scattermapbox"
        },
        {
         "fill": "toself",
         "fillcolor": "rgba(0, 150, 255, 0.7)",
         "hoverinfo": "text",
         "hovertext": "Cell ID: 20km_616_46<br>Area: DK1",
         "lat": [
          55.5843,
          55.5856,
          55.7653,
          55.764,
          55.5843
         ],
         "line": {
          "color": "grey",
          "width": 1
         },
         "lon": [
          8.3654,
          8.6827,
          8.6813,
          8.3625,
          8.3654
         ],
         "mode": "lines",
         "name": "20km_616_46",
         "type": "scattermapbox"
        },
        {
         "fill": "toself",
         "fillcolor": "rgba(0, 150, 255, 0.7)",
         "hoverinfo": "text",
         "hovertext": "Cell ID: 20km_616_48<br>Area: DK1",
         "lat": [
          55.5856,
          55.586,
          55.7657,
          55.7653,
          55.5856
         ],
         "line": {
          "color": "grey",
          "width": 1
         },
         "lon": [
          8.6827,
          9,
          9,
          8.6813,
          8.6827
         ],
         "mode": "lines",
         "name": "20km_616_48",
         "type": "scattermapbox"
        },
        {
         "fill": "toself",
         "fillcolor": "rgba(0, 150, 255, 0.7)",
         "hoverinfo": "text",
         "hovertext": "Cell ID: 20km_616_50<br>Area: DK1",
         "lat": [
          55.586,
          55.5856,
          55.7653,
          55.7657,
          55.586
         ],
         "line": {
          "color": "grey",
          "width": 1
         },
         "lon": [
          9,
          9.3173,
          9.3187,
          9,
          9
         ],
         "mode": "lines",
         "name": "20km_616_50",
         "type": "scattermapbox"
        },
        {
         "fill": "toself",
         "fillcolor": "rgba(0, 150, 255, 0.7)",
         "hoverinfo": "text",
         "hovertext": "Cell ID: 20km_616_52<br>Area: DK1",
         "lat": [
          55.5856,
          55.5843,
          55.764,
          55.7653,
          55.5856
         ],
         "line": {
          "color": "grey",
          "width": 1
         },
         "lon": [
          9.3173,
          9.6346,
          9.6375,
          9.3187,
          9.3173
         ],
         "mode": "lines",
         "name": "20km_616_52",
         "type": "scattermapbox"
        },
        {
         "fill": "toself",
         "fillcolor": "rgba(0, 150, 255, 0.7)",
         "hoverinfo": "text",
         "hovertext": "Cell ID: 20km_616_54<br>Area: DK1",
         "lat": [
          55.5843,
          55.5823,
          55.762,
          55.764,
          55.5843
         ],
         "line": {
          "color": "grey",
          "width": 1
         },
         "lon": [
          9.6346,
          9.9518,
          9.9562,
          9.6375,
          9.6346
         ],
         "mode": "lines",
         "name": "20km_616_54",
         "type": "scattermapbox"
        },
        {
         "fill": "toself",
         "fillcolor": "rgba(0, 150, 255, 0.7)",
         "hoverinfo": "text",
         "hovertext": "Cell ID: 20km_616_56<br>Area: DK1",
         "lat": [
          55.5823,
          55.5794,
          55.7591,
          55.762,
          55.5823
         ],
         "line": {
          "color": "grey",
          "width": 1
         },
         "lon": [
          9.9518,
          10.269,
          10.2748,
          9.9562,
          9.9518
         ],
         "mode": "lines",
         "name": "20km_616_56",
         "type": "scattermapbox"
        },
        {
         "fill": "toself",
         "fillcolor": "rgba(0, 150, 255, 0.7)",
         "hoverinfo": "text",
         "hovertext": "Cell ID: 20km_616_58<br>Area: DK1",
         "lat": [
          55.5794,
          55.5757,
          55.7553,
          55.7591,
          55.5794
         ],
         "line": {
          "color": "grey",
          "width": 1
         },
         "lon": [
          10.269,
          10.5861,
          10.5934,
          10.2748,
          10.269
         ],
         "mode": "lines",
         "name": "20km_616_58",
         "type": "scattermapbox"
        },
        {
         "fill": "toself",
         "fillcolor": "rgba(0, 150, 255, 0.7)",
         "hoverinfo": "text",
         "hovertext": "Cell ID: 20km_616_60<br>Area: DK1",
         "lat": [
          55.5757,
          55.5712,
          55.7508,
          55.7553,
          55.5757
         ],
         "line": {
          "color": "grey",
          "width": 1
         },
         "lon": [
          10.5861,
          10.9032,
          10.9119,
          10.5934,
          10.5861
         ],
         "mode": "lines",
         "name": "20km_616_60",
         "type": "scattermapbox"
        },
        {
         "fill": "toself",
         "fillcolor": "rgba(255, 0, 0, 0.7)",
         "hoverinfo": "text",
         "hovertext": "Cell ID: 20km_616_62<br>Area: DK2",
         "lat": [
          55.5712,
          55.5659,
          55.7454,
          55.7508,
          55.5712
         ],
         "line": {
          "color": "grey",
          "width": 1
         },
         "lon": [
          10.9032,
          11.2201,
          11.2303,
          10.9119,
          10.9032
         ],
         "mode": "lines",
         "name": "20km_616_62",
         "type": "scattermapbox"
        },
        {
         "fill": "toself",
         "fillcolor": "rgba(255, 0, 0, 0.7)",
         "hoverinfo": "text",
         "hovertext": "Cell ID: 20km_616_64<br>Area: DK2",
         "lat": [
          55.5659,
          55.5597,
          55.7392,
          55.7454,
          55.5659
         ],
         "line": {
          "color": "grey",
          "width": 1
         },
         "lon": [
          11.2201,
          11.537,
          11.5486,
          11.2303,
          11.2201
         ],
         "mode": "lines",
         "name": "20km_616_64",
         "type": "scattermapbox"
        },
        {
         "fill": "toself",
         "fillcolor": "rgba(255, 0, 0, 0.7)",
         "hoverinfo": "text",
         "hovertext": "Cell ID: 20km_616_66<br>Area: DK2",
         "lat": [
          55.5597,
          55.5527,
          55.7322,
          55.7392,
          55.5597
         ],
         "line": {
          "color": "grey",
          "width": 1
         },
         "lon": [
          11.537,
          11.8537,
          11.8668,
          11.5486,
          11.537
         ],
         "mode": "lines",
         "name": "20km_616_66",
         "type": "scattermapbox"
        },
        {
         "fill": "toself",
         "fillcolor": "rgba(255, 0, 0, 0.7)",
         "hoverinfo": "text",
         "hovertext": "Cell ID: 20km_616_68<br>Area: DK2",
         "lat": [
          55.5527,
          55.545,
          55.7244,
          55.7322,
          55.5527
         ],
         "line": {
          "color": "grey",
          "width": 1
         },
         "lon": [
          11.8537,
          12.1702,
          12.1848,
          11.8668,
          11.8537
         ],
         "mode": "lines",
         "name": "20km_616_68",
         "type": "scattermapbox"
        },
        {
         "fill": "toself",
         "fillcolor": "rgba(255, 0, 0, 0.7)",
         "hoverinfo": "text",
         "hovertext": "Cell ID: 20km_616_70<br>Area: DK2",
         "lat": [
          55.545,
          55.5363,
          55.7157,
          55.7244,
          55.545
         ],
         "line": {
          "color": "grey",
          "width": 1
         },
         "lon": [
          12.1702,
          12.4866,
          12.5026,
          12.1848,
          12.1702
         ],
         "mode": "lines",
         "name": "20km_616_70",
         "type": "scattermapbox"
        },
        {
         "fill": "toself",
         "fillcolor": "rgba(255, 0, 0, 0.7)",
         "hoverinfo": "text",
         "hovertext": "Cell ID: 20km_616_72<br>Area: DK2",
         "lat": [
          55.5363,
          55.5269,
          55.7062,
          55.7157,
          55.5363
         ],
         "line": {
          "color": "grey",
          "width": 1
         },
         "lon": [
          12.4866,
          12.8028,
          12.8203,
          12.5026,
          12.4866
         ],
         "mode": "lines",
         "name": "20km_616_72",
         "type": "scattermapbox"
        },
        {
         "fill": "toself",
         "fillcolor": "rgba(0, 150, 255, 0.7)",
         "hoverinfo": "text",
         "hovertext": "Cell ID: 20km_618_44<br>Area: DK1",
         "lat": [
          55.762,
          55.764,
          55.9437,
          55.9416,
          55.762
         ],
         "line": {
          "color": "grey",
          "width": 1
         },
         "lon": [
          8.0438,
          8.3625,
          8.3596,
          8.0394,
          8.0438
         ],
         "mode": "lines",
         "name": "20km_618_44",
         "type": "scattermapbox"
        },
        {
         "fill": "toself",
         "fillcolor": "rgba(0, 150, 255, 0.7)",
         "hoverinfo": "text",
         "hovertext": "Cell ID: 20km_618_46<br>Area: DK1",
         "lat": [
          55.764,
          55.7653,
          55.945,
          55.9437,
          55.764
         ],
         "line": {
          "color": "grey",
          "width": 1
         },
         "lon": [
          8.3625,
          8.6813,
          8.6798,
          8.3596,
          8.3625
         ],
         "mode": "lines",
         "name": "20km_618_46",
         "type": "scattermapbox"
        },
        {
         "fill": "toself",
         "fillcolor": "rgba(0, 150, 255, 0.7)",
         "hoverinfo": "text",
         "hovertext": "Cell ID: 20km_618_48<br>Area: DK1",
         "lat": [
          55.7653,
          55.7657,
          55.9454,
          55.945,
          55.7653
         ],
         "line": {
          "color": "grey",
          "width": 1
         },
         "lon": [
          8.6813,
          9,
          9,
          8.6798,
          8.6813
         ],
         "mode": "lines",
         "name": "20km_618_48",
         "type": "scattermapbox"
        },
        {
         "fill": "toself",
         "fillcolor": "rgba(0, 150, 255, 0.7)",
         "hoverinfo": "text",
         "hovertext": "Cell ID: 20km_618_50<br>Area: DK1",
         "lat": [
          55.7657,
          55.7653,
          55.945,
          55.9454,
          55.7657
         ],
         "line": {
          "color": "grey",
          "width": 1
         },
         "lon": [
          9,
          9.3187,
          9.3202,
          9,
          9
         ],
         "mode": "lines",
         "name": "20km_618_50",
         "type": "scattermapbox"
        },
        {
         "fill": "toself",
         "fillcolor": "rgba(0, 150, 255, 0.7)",
         "hoverinfo": "text",
         "hovertext": "Cell ID: 20km_618_52<br>Area: DK1",
         "lat": [
          55.7653,
          55.764,
          55.9437,
          55.945,
          55.7653
         ],
         "line": {
          "color": "grey",
          "width": 1
         },
         "lon": [
          9.3187,
          9.6375,
          9.6404,
          9.3202,
          9.3187
         ],
         "mode": "lines",
         "name": "20km_618_52",
         "type": "scattermapbox"
        },
        {
         "fill": "toself",
         "fillcolor": "rgba(0, 150, 255, 0.7)",
         "hoverinfo": "text",
         "hovertext": "Cell ID: 20km_618_54<br>Area: DK1",
         "lat": [
          55.764,
          55.762,
          55.9416,
          55.9437,
          55.764
         ],
         "line": {
          "color": "grey",
          "width": 1
         },
         "lon": [
          9.6375,
          9.9562,
          9.9606,
          9.6404,
          9.6375
         ],
         "mode": "lines",
         "name": "20km_618_54",
         "type": "scattermapbox"
        },
        {
         "fill": "toself",
         "fillcolor": "rgba(0, 150, 255, 0.7)",
         "hoverinfo": "text",
         "hovertext": "Cell ID: 20km_618_56<br>Area: DK1",
         "lat": [
          55.762,
          55.7591,
          55.9387,
          55.9416,
          55.762
         ],
         "line": {
          "color": "grey",
          "width": 1
         },
         "lon": [
          9.9562,
          10.2748,
          10.2807,
          9.9606,
          9.9562
         ],
         "mode": "lines",
         "name": "20km_618_56",
         "type": "scattermapbox"
        },
        {
         "fill": "toself",
         "fillcolor": "rgba(0, 150, 255, 0.7)",
         "hoverinfo": "text",
         "hovertext": "Cell ID: 20km_618_58<br>Area: DK1",
         "lat": [
          55.7591,
          55.7553,
          55.935,
          55.9387,
          55.7591
         ],
         "line": {
          "color": "grey",
          "width": 1
         },
         "lon": [
          10.2748,
          10.5934,
          10.6008,
          10.2807,
          10.2748
         ],
         "mode": "lines",
         "name": "20km_618_58",
         "type": "scattermapbox"
        },
        {
         "fill": "toself",
         "fillcolor": "rgba(0, 150, 255, 0.7)",
         "hoverinfo": "text",
         "hovertext": "Cell ID: 20km_618_60<br>Area: DK1",
         "lat": [
          55.7553,
          55.7508,
          55.9304,
          55.935,
          55.7553
         ],
         "line": {
          "color": "grey",
          "width": 1
         },
         "lon": [
          10.5934,
          10.9119,
          10.9208,
          10.6008,
          10.5934
         ],
         "mode": "lines",
         "name": "20km_618_60",
         "type": "scattermapbox"
        },
        {
         "fill": "toself",
         "fillcolor": "rgba(255, 0, 0, 0.7)",
         "hoverinfo": "text",
         "hovertext": "Cell ID: 20km_618_62<br>Area: DK2",
         "lat": [
          55.7508,
          55.7454,
          55.925,
          55.9304,
          55.7508
         ],
         "line": {
          "color": "grey",
          "width": 1
         },
         "lon": [
          10.9119,
          11.2303,
          11.2406,
          10.9208,
          10.9119
         ],
         "mode": "lines",
         "name": "20km_618_62",
         "type": "scattermapbox"
        },
        {
         "fill": "toself",
         "fillcolor": "rgba(255, 0, 0, 0.7)",
         "hoverinfo": "text",
         "hovertext": "Cell ID: 20km_618_64<br>Area: DK2",
         "lat": [
          55.7454,
          55.7392,
          55.9188,
          55.925,
          55.7454
         ],
         "line": {
          "color": "grey",
          "width": 1
         },
         "lon": [
          11.2303,
          11.5486,
          11.5604,
          11.2406,
          11.2303
         ],
         "mode": "lines",
         "name": "20km_618_64",
         "type": "scattermapbox"
        },
        {
         "fill": "toself",
         "fillcolor": "rgba(255, 0, 0, 0.7)",
         "hoverinfo": "text",
         "hovertext": "Cell ID: 20km_618_66<br>Area: DK2",
         "lat": [
          55.7392,
          55.7322,
          55.9117,
          55.9188,
          55.7392
         ],
         "line": {
          "color": "grey",
          "width": 1
         },
         "lon": [
          11.5486,
          11.8668,
          11.88,
          11.5604,
          11.5486
         ],
         "mode": "lines",
         "name": "20km_618_66",
         "type": "scattermapbox"
        },
        {
         "fill": "toself",
         "fillcolor": "rgba(255, 0, 0, 0.7)",
         "hoverinfo": "text",
         "hovertext": "Cell ID: 20km_618_68<br>Area: DK2",
         "lat": [
          55.7322,
          55.7244,
          55.9038,
          55.9117,
          55.7322
         ],
         "line": {
          "color": "grey",
          "width": 1
         },
         "lon": [
          11.8668,
          12.1848,
          12.1995,
          11.88,
          11.8668
         ],
         "mode": "lines",
         "name": "20km_618_68",
         "type": "scattermapbox"
        },
        {
         "fill": "toself",
         "fillcolor": "rgba(255, 0, 0, 0.7)",
         "hoverinfo": "text",
         "hovertext": "Cell ID: 20km_618_70<br>Area: DK2",
         "lat": [
          55.7244,
          55.7157,
          55.8951,
          55.9038,
          55.7244
         ],
         "line": {
          "color": "grey",
          "width": 1
         },
         "lon": [
          12.1848,
          12.5026,
          12.5188,
          12.1995,
          12.1848
         ],
         "mode": "lines",
         "name": "20km_618_70",
         "type": "scattermapbox"
        },
        {
         "fill": "toself",
         "fillcolor": "rgba(255, 0, 0, 0.7)",
         "hoverinfo": "text",
         "hovertext": "Cell ID: 20km_618_72<br>Area: DK2",
         "lat": [
          55.7157,
          55.7062,
          55.8855,
          55.8951,
          55.7157
         ],
         "line": {
          "color": "grey",
          "width": 1
         },
         "lon": [
          12.5026,
          12.8203,
          12.8379,
          12.5188,
          12.5026
         ],
         "mode": "lines",
         "name": "20km_618_72",
         "type": "scattermapbox"
        },
        {
         "fill": "toself",
         "fillcolor": "rgba(0, 150, 255, 0.7)",
         "hoverinfo": "text",
         "hovertext": "Cell ID: 20km_620_44<br>Area: DK1",
         "lat": [
          55.9416,
          55.9437,
          56.1234,
          56.1213,
          55.9416
         ],
         "line": {
          "color": "grey",
          "width": 1
         },
         "lon": [
          8.0394,
          8.3596,
          8.3566,
          8.0349,
          8.0394
         ],
         "mode": "lines",
         "name": "20km_620_44",
         "type": "scattermapbox"
        },
        {
         "fill": "toself",
         "fillcolor": "rgba(0, 150, 255, 0.7)",
         "hoverinfo": "text",
         "hovertext": "Cell ID: 20km_620_46<br>Area: DK1",
         "lat": [
          55.9437,
          55.945,
          56.1247,
          56.1234,
          55.9437
         ],
         "line": {
          "color": "grey",
          "width": 1
         },
         "lon": [
          8.3596,
          8.6798,
          8.6783,
          8.3566,
          8.3596
         ],
         "mode": "lines",
         "name": "20km_620_46",
         "type": "scattermapbox"
        },
        {
         "fill": "toself",
         "fillcolor": "rgba(0, 150, 255, 0.7)",
         "hoverinfo": "text",
         "hovertext": "Cell ID: 20km_620_48<br>Area: DK1",
         "lat": [
          55.945,
          55.9454,
          56.1251,
          56.1247,
          55.945
         ],
         "line": {
          "color": "grey",
          "width": 1
         },
         "lon": [
          8.6798,
          9,
          9,
          8.6783,
          8.6798
         ],
         "mode": "lines",
         "name": "20km_620_48",
         "type": "scattermapbox"
        },
        {
         "fill": "toself",
         "fillcolor": "rgba(0, 150, 255, 0.7)",
         "hoverinfo": "text",
         "hovertext": "Cell ID: 20km_620_50<br>Area: DK1",
         "lat": [
          55.9454,
          55.945,
          56.1247,
          56.1251,
          55.9454
         ],
         "line": {
          "color": "grey",
          "width": 1
         },
         "lon": [
          9,
          9.3202,
          9.3217,
          9,
          9
         ],
         "mode": "lines",
         "name": "20km_620_50",
         "type": "scattermapbox"
        },
        {
         "fill": "toself",
         "fillcolor": "rgba(0, 150, 255, 0.7)",
         "hoverinfo": "text",
         "hovertext": "Cell ID: 20km_620_52<br>Area: DK1",
         "lat": [
          55.945,
          55.9437,
          56.1234,
          56.1247,
          55.945
         ],
         "line": {
          "color": "grey",
          "width": 1
         },
         "lon": [
          9.3202,
          9.6404,
          9.6434,
          9.3217,
          9.3202
         ],
         "mode": "lines",
         "name": "20km_620_52",
         "type": "scattermapbox"
        },
        {
         "fill": "toself",
         "fillcolor": "rgba(0, 150, 255, 0.7)",
         "hoverinfo": "text",
         "hovertext": "Cell ID: 20km_620_54<br>Area: DK1",
         "lat": [
          55.9437,
          55.9416,
          56.1213,
          56.1234,
          55.9437
         ],
         "line": {
          "color": "grey",
          "width": 1
         },
         "lon": [
          9.6404,
          9.9606,
          9.9651,
          9.6434,
          9.6404
         ],
         "mode": "lines",
         "name": "20km_620_54",
         "type": "scattermapbox"
        },
        {
         "fill": "toself",
         "fillcolor": "rgba(0, 150, 255, 0.7)",
         "hoverinfo": "text",
         "hovertext": "Cell ID: 20km_620_56<br>Area: DK1",
         "lat": [
          55.9416,
          55.9387,
          56.1184,
          56.1213,
          55.9416
         ],
         "line": {
          "color": "grey",
          "width": 1
         },
         "lon": [
          9.9606,
          10.2807,
          10.2867,
          9.9651,
          9.9606
         ],
         "mode": "lines",
         "name": "20km_620_56",
         "type": "scattermapbox"
        },
        {
         "fill": "toself",
         "fillcolor": "rgba(0, 150, 255, 0.7)",
         "hoverinfo": "text",
         "hovertext": "Cell ID: 20km_620_58<br>Area: DK1",
         "lat": [
          55.9387,
          55.935,
          56.1146,
          56.1184,
          55.9387
         ],
         "line": {
          "color": "grey",
          "width": 1
         },
         "lon": [
          10.2807,
          10.6008,
          10.6082,
          10.2867,
          10.2807
         ],
         "mode": "lines",
         "name": "20km_620_58",
         "type": "scattermapbox"
        },
        {
         "fill": "toself",
         "fillcolor": "rgba(255, 0, 0, 0.7)",
         "hoverinfo": "text",
         "hovertext": "Cell ID: 20km_620_64<br>Area: DK2",
         "lat": [
          55.925,
          55.9188,
          56.0983,
          56.1046,
          55.925
         ],
         "line": {
          "color": "grey",
          "width": 1
         },
         "lon": [
          11.2406,
          11.5604,
          11.5723,
          11.251,
          11.2406
         ],
         "mode": "lines",
         "name": "20km_620_64",
         "type": "scattermapbox"
        },
        {
         "fill": "toself",
         "fillcolor": "rgba(255, 0, 0, 0.7)",
         "hoverinfo": "text",
         "hovertext": "Cell ID: 20km_620_66<br>Area: DK2",
         "lat": [
          55.9188,
          55.9117,
          56.0912,
          56.0983,
          55.9188
         ],
         "line": {
          "color": "grey",
          "width": 1
         },
         "lon": [
          11.5604,
          11.88,
          11.8934,
          11.5723,
          11.5604
         ],
         "mode": "lines",
         "name": "20km_620_66",
         "type": "scattermapbox"
        },
        {
         "fill": "toself",
         "fillcolor": "rgba(255, 0, 0, 0.7)",
         "hoverinfo": "text",
         "hovertext": "Cell ID: 20km_620_68<br>Area: DK2",
         "lat": [
          55.9117,
          55.9038,
          56.0832,
          56.0912,
          55.9117
         ],
         "line": {
          "color": "grey",
          "width": 1
         },
         "lon": [
          11.88,
          12.1995,
          12.2143,
          11.8934,
          11.88
         ],
         "mode": "lines",
         "name": "20km_620_68",
         "type": "scattermapbox"
        },
        {
         "fill": "toself",
         "fillcolor": "rgba(255, 0, 0, 0.7)",
         "hoverinfo": "text",
         "hovertext": "Cell ID: 20km_620_70<br>Area: DK2",
         "lat": [
          55.9038,
          55.8951,
          56.0744,
          56.0832,
          55.9038
         ],
         "line": {
          "color": "grey",
          "width": 1
         },
         "lon": [
          12.1995,
          12.5188,
          12.5351,
          12.2143,
          12.1995
         ],
         "mode": "lines",
         "name": "20km_620_70",
         "type": "scattermapbox"
        },
        {
         "fill": "toself",
         "fillcolor": "rgba(255, 0, 0, 0.7)",
         "hoverinfo": "text",
         "hovertext": "Cell ID: 20km_620_72<br>Area: DK2",
         "lat": [
          55.8951,
          55.8855,
          56.0648,
          56.0744,
          55.8951
         ],
         "line": {
          "color": "grey",
          "width": 1
         },
         "lon": [
          12.5188,
          12.8379,
          12.8557,
          12.5351,
          12.5188
         ],
         "mode": "lines",
         "name": "20km_620_72",
         "type": "scattermapbox"
        },
        {
         "fill": "toself",
         "fillcolor": "rgba(0, 150, 255, 0.7)",
         "hoverinfo": "text",
         "hovertext": "Cell ID: 20km_622_44<br>Area: DK1",
         "lat": [
          56.1213,
          56.1234,
          56.3031,
          56.301,
          56.1213
         ],
         "line": {
          "color": "grey",
          "width": 1
         },
         "lon": [
          8.0349,
          8.3566,
          8.3536,
          8.0304,
          8.0349
         ],
         "mode": "lines",
         "name": "20km_622_44",
         "type": "scattermapbox"
        },
        {
         "fill": "toself",
         "fillcolor": "rgba(0, 150, 255, 0.7)",
         "hoverinfo": "text",
         "hovertext": "Cell ID: 20km_622_46<br>Area: DK1",
         "lat": [
          56.1234,
          56.1247,
          56.3043,
          56.3031,
          56.1234
         ],
         "line": {
          "color": "grey",
          "width": 1
         },
         "lon": [
          8.3566,
          8.6783,
          8.6768,
          8.3536,
          8.3566
         ],
         "mode": "lines",
         "name": "20km_622_46",
         "type": "scattermapbox"
        },
        {
         "fill": "toself",
         "fillcolor": "rgba(0, 150, 255, 0.7)",
         "hoverinfo": "text",
         "hovertext": "Cell ID: 20km_622_48<br>Area: DK1",
         "lat": [
          56.1247,
          56.1251,
          56.3048,
          56.3043,
          56.1247
         ],
         "line": {
          "color": "grey",
          "width": 1
         },
         "lon": [
          8.6783,
          9,
          9,
          8.6768,
          8.6783
         ],
         "mode": "lines",
         "name": "20km_622_48",
         "type": "scattermapbox"
        },
        {
         "fill": "toself",
         "fillcolor": "rgba(0, 150, 255, 0.7)",
         "hoverinfo": "text",
         "hovertext": "Cell ID: 20km_622_50<br>Area: DK1",
         "lat": [
          56.1251,
          56.1247,
          56.3043,
          56.3048,
          56.1251
         ],
         "line": {
          "color": "grey",
          "width": 1
         },
         "lon": [
          9,
          9.3217,
          9.3232,
          9,
          9
         ],
         "mode": "lines",
         "name": "20km_622_50",
         "type": "scattermapbox"
        },
        {
         "fill": "toself",
         "fillcolor": "rgba(0, 150, 255, 0.7)",
         "hoverinfo": "text",
         "hovertext": "Cell ID: 20km_622_52<br>Area: DK1",
         "lat": [
          56.1247,
          56.1234,
          56.3031,
          56.3043,
          56.1247
         ],
         "line": {
          "color": "grey",
          "width": 1
         },
         "lon": [
          9.3217,
          9.6434,
          9.6464,
          9.3232,
          9.3217
         ],
         "mode": "lines",
         "name": "20km_622_52",
         "type": "scattermapbox"
        },
        {
         "fill": "toself",
         "fillcolor": "rgba(0, 150, 255, 0.7)",
         "hoverinfo": "text",
         "hovertext": "Cell ID: 20km_622_54<br>Area: DK1",
         "lat": [
          56.1234,
          56.1213,
          56.301,
          56.3031,
          56.1234
         ],
         "line": {
          "color": "grey",
          "width": 1
         },
         "lon": [
          9.6434,
          9.9651,
          9.9696,
          9.6464,
          9.6434
         ],
         "mode": "lines",
         "name": "20km_622_54",
         "type": "scattermapbox"
        },
        {
         "fill": "toself",
         "fillcolor": "rgba(0, 150, 255, 0.7)",
         "hoverinfo": "text",
         "hovertext": "Cell ID: 20km_622_56<br>Area: DK1",
         "lat": [
          56.1213,
          56.1184,
          56.298,
          56.301,
          56.1213
         ],
         "line": {
          "color": "grey",
          "width": 1
         },
         "lon": [
          9.9651,
          10.2867,
          10.2927,
          9.9696,
          9.9651
         ],
         "mode": "lines",
         "name": "20km_622_56",
         "type": "scattermapbox"
        },
        {
         "fill": "toself",
         "fillcolor": "rgba(0, 150, 255, 0.7)",
         "hoverinfo": "text",
         "hovertext": "Cell ID: 20km_622_58<br>Area: DK1",
         "lat": [
          56.1184,
          56.1146,
          56.2942,
          56.298,
          56.1184
         ],
         "line": {
          "color": "grey",
          "width": 1
         },
         "lon": [
          10.2867,
          10.6082,
          10.6158,
          10.2927,
          10.2867
         ],
         "mode": "lines",
         "name": "20km_622_58",
         "type": "scattermapbox"
        },
        {
         "fill": "toself",
         "fillcolor": "rgba(0, 150, 255, 0.7)",
         "hoverinfo": "text",
         "hovertext": "Cell ID: 20km_622_60<br>Area: DK1",
         "lat": [
          56.1146,
          56.11,
          56.2896,
          56.2942,
          56.1146
         ],
         "line": {
          "color": "grey",
          "width": 1
         },
         "lon": [
          10.6082,
          10.9297,
          10.9387,
          10.6158,
          10.6082
         ],
         "mode": "lines",
         "name": "20km_622_60",
         "type": "scattermapbox"
        },
        {
         "fill": "toself",
         "fillcolor": "rgba(255, 0, 0, 0.7)",
         "hoverinfo": "text",
         "hovertext": "Cell ID: 20km_622_68<br>Area: DK2",
         "lat": [
          56.0912,
          56.0832,
          56.2626,
          56.2706,
          56.0912
         ],
         "line": {
          "color": "grey",
          "width": 1
         },
         "lon": [
          11.8934,
          12.2143,
          12.2294,
          11.9069,
          11.8934
         ],
         "mode": "lines",
         "name": "20km_622_68",
         "type": "scattermapbox"
        },
        {
         "fill": "toself",
         "fillcolor": "rgba(255, 0, 0, 0.7)",
         "hoverinfo": "text",
         "hovertext": "Cell ID: 20km_622_70<br>Area: DK2",
         "lat": [
          56.0832,
          56.0744,
          56.2538,
          56.2626,
          56.0832
         ],
         "line": {
          "color": "grey",
          "width": 1
         },
         "lon": [
          12.2143,
          12.5351,
          12.5516,
          12.2294,
          12.2143
         ],
         "mode": "lines",
         "name": "20km_622_70",
         "type": "scattermapbox"
        },
        {
         "fill": "toself",
         "fillcolor": "rgba(0, 150, 255, 0.7)",
         "hoverinfo": "text",
         "hovertext": "Cell ID: 20km_624_44<br>Area: DK1",
         "lat": [
          56.301,
          56.3031,
          56.4828,
          56.4806,
          56.301
         ],
         "line": {
          "color": "grey",
          "width": 1
         },
         "lon": [
          8.0304,
          8.3536,
          8.3505,
          8.0258,
          8.0304
         ],
         "mode": "lines",
         "name": "20km_624_44",
         "type": "scattermapbox"
        },
        {
         "fill": "toself",
         "fillcolor": "rgba(0, 150, 255, 0.7)",
         "hoverinfo": "text",
         "hovertext": "Cell ID: 20km_624_46<br>Area: DK1",
         "lat": [
          56.3031,
          56.3043,
          56.484,
          56.4828,
          56.3031
         ],
         "line": {
          "color": "grey",
          "width": 1
         },
         "lon": [
          8.3536,
          8.6768,
          8.6753,
          8.3505,
          8.3536
         ],
         "mode": "lines",
         "name": "20km_624_46",
         "type": "scattermapbox"
        },
        {
         "fill": "toself",
         "fillcolor": "rgba(0, 150, 255, 0.7)",
         "hoverinfo": "text",
         "hovertext": "Cell ID: 20km_624_48<br>Area: DK1",
         "lat": [
          56.3043,
          56.3048,
          56.4845,
          56.484,
          56.3043
         ],
         "line": {
          "color": "grey",
          "width": 1
         },
         "lon": [
          8.6768,
          9,
          9,
          8.6753,
          8.6768
         ],
         "mode": "lines",
         "name": "20km_624_48",
         "type": "scattermapbox"
        },
        {
         "fill": "toself",
         "fillcolor": "rgba(0, 150, 255, 0.7)",
         "hoverinfo": "text",
         "hovertext": "Cell ID: 20km_624_50<br>Area: DK1",
         "lat": [
          56.3048,
          56.3043,
          56.484,
          56.4845,
          56.3048
         ],
         "line": {
          "color": "grey",
          "width": 1
         },
         "lon": [
          9,
          9.3232,
          9.3247,
          9,
          9
         ],
         "mode": "lines",
         "name": "20km_624_50",
         "type": "scattermapbox"
        },
        {
         "fill": "toself",
         "fillcolor": "rgba(0, 150, 255, 0.7)",
         "hoverinfo": "text",
         "hovertext": "Cell ID: 20km_624_52<br>Area: DK1",
         "lat": [
          56.3043,
          56.3031,
          56.4828,
          56.484,
          56.3043
         ],
         "line": {
          "color": "grey",
          "width": 1
         },
         "lon": [
          9.3232,
          9.6464,
          9.6495,
          9.3247,
          9.3232
         ],
         "mode": "lines",
         "name": "20km_624_52",
         "type": "scattermapbox"
        },
        {
         "fill": "toself",
         "fillcolor": "rgba(0, 150, 255, 0.7)",
         "hoverinfo": "text",
         "hovertext": "Cell ID: 20km_624_54<br>Area: DK1",
         "lat": [
          56.3031,
          56.301,
          56.4806,
          56.4828,
          56.3031
         ],
         "line": {
          "color": "grey",
          "width": 1
         },
         "lon": [
          9.6464,
          9.9696,
          9.9742,
          9.6495,
          9.6464
         ],
         "mode": "lines",
         "name": "20km_624_54",
         "type": "scattermapbox"
        },
        {
         "fill": "toself",
         "fillcolor": "rgba(0, 150, 255, 0.7)",
         "hoverinfo": "text",
         "hovertext": "Cell ID: 20km_624_56<br>Area: DK1",
         "lat": [
          56.301,
          56.298,
          56.4777,
          56.4806,
          56.301
         ],
         "line": {
          "color": "grey",
          "width": 1
         },
         "lon": [
          9.9696,
          10.2927,
          10.2988,
          9.9742,
          9.9696
         ],
         "mode": "lines",
         "name": "20km_624_56",
         "type": "scattermapbox"
        },
        {
         "fill": "toself",
         "fillcolor": "rgba(0, 150, 255, 0.7)",
         "hoverinfo": "text",
         "hovertext": "Cell ID: 20km_624_58<br>Area: DK1",
         "lat": [
          56.298,
          56.2942,
          56.4738,
          56.4777,
          56.298
         ],
         "line": {
          "color": "grey",
          "width": 1
         },
         "lon": [
          10.2927,
          10.6158,
          10.6234,
          10.2988,
          10.2927
         ],
         "mode": "lines",
         "name": "20km_624_58",
         "type": "scattermapbox"
        },
        {
         "fill": "toself",
         "fillcolor": "rgba(0, 150, 255, 0.7)",
         "hoverinfo": "text",
         "hovertext": "Cell ID: 20km_624_60<br>Area: DK1",
         "lat": [
          56.2942,
          56.2896,
          56.4692,
          56.4738,
          56.2942
         ],
         "line": {
          "color": "grey",
          "width": 1
         },
         "lon": [
          10.6158,
          10.9387,
          10.9479,
          10.6234,
          10.6158
         ],
         "mode": "lines",
         "name": "20km_624_60",
         "type": "scattermapbox"
        },
        {
         "fill": "toself",
         "fillcolor": "rgba(0, 150, 255, 0.7)",
         "hoverinfo": "text",
         "hovertext": "Cell ID: 20km_626_44<br>Area: DK1",
         "lat": [
          56.4806,
          56.4828,
          56.6624,
          56.6603,
          56.4806
         ],
         "line": {
          "color": "grey",
          "width": 1
         },
         "lon": [
          8.0258,
          8.3505,
          8.3474,
          8.0212,
          8.0258
         ],
         "mode": "lines",
         "name": "20km_626_44",
         "type": "scattermapbox"
        },
        {
         "fill": "toself",
         "fillcolor": "rgba(0, 150, 255, 0.7)",
         "hoverinfo": "text",
         "hovertext": "Cell ID: 20km_626_46<br>Area: DK1",
         "lat": [
          56.4828,
          56.484,
          56.6637,
          56.6624,
          56.4828
         ],
         "line": {
          "color": "grey",
          "width": 1
         },
         "lon": [
          8.3505,
          8.6753,
          8.6737,
          8.3474,
          8.3505
         ],
         "mode": "lines",
         "name": "20km_626_46",
         "type": "scattermapbox"
        },
        {
         "fill": "toself",
         "fillcolor": "rgba(0, 150, 255, 0.7)",
         "hoverinfo": "text",
         "hovertext": "Cell ID: 20km_626_48<br>Area: DK1",
         "lat": [
          56.484,
          56.4845,
          56.6641,
          56.6637,
          56.484
         ],
         "line": {
          "color": "grey",
          "width": 1
         },
         "lon": [
          8.6753,
          9,
          9,
          8.6737,
          8.6753
         ],
         "mode": "lines",
         "name": "20km_626_48",
         "type": "scattermapbox"
        },
        {
         "fill": "toself",
         "fillcolor": "rgba(0, 150, 255, 0.7)",
         "hoverinfo": "text",
         "hovertext": "Cell ID: 20km_626_50<br>Area: DK1",
         "lat": [
          56.4845,
          56.484,
          56.6637,
          56.6641,
          56.4845
         ],
         "line": {
          "color": "grey",
          "width": 1
         },
         "lon": [
          9,
          9.3247,
          9.3263,
          9,
          9
         ],
         "mode": "lines",
         "name": "20km_626_50",
         "type": "scattermapbox"
        },
        {
         "fill": "toself",
         "fillcolor": "rgba(0, 150, 255, 0.7)",
         "hoverinfo": "text",
         "hovertext": "Cell ID: 20km_626_52<br>Area: DK1",
         "lat": [
          56.484,
          56.4828,
          56.6624,
          56.6637,
          56.484
         ],
         "line": {
          "color": "grey",
          "width": 1
         },
         "lon": [
          9.3247,
          9.6495,
          9.6526,
          9.3263,
          9.3247
         ],
         "mode": "lines",
         "name": "20km_626_52",
         "type": "scattermapbox"
        },
        {
         "fill": "toself",
         "fillcolor": "rgba(0, 150, 255, 0.7)",
         "hoverinfo": "text",
         "hovertext": "Cell ID: 20km_626_54<br>Area: DK1",
         "lat": [
          56.4828,
          56.4806,
          56.6603,
          56.6624,
          56.4828
         ],
         "line": {
          "color": "grey",
          "width": 1
         },
         "lon": [
          9.6495,
          9.9742,
          9.9788,
          9.6526,
          9.6495
         ],
         "mode": "lines",
         "name": "20km_626_54",
         "type": "scattermapbox"
        },
        {
         "fill": "toself",
         "fillcolor": "rgba(0, 150, 255, 0.7)",
         "hoverinfo": "text",
         "hovertext": "Cell ID: 20km_626_56<br>Area: DK1",
         "lat": [
          56.4806,
          56.4777,
          56.6573,
          56.6603,
          56.4806
         ],
         "line": {
          "color": "grey",
          "width": 1
         },
         "lon": [
          9.9742,
          10.2988,
          10.305,
          9.9788,
          9.9742
         ],
         "mode": "lines",
         "name": "20km_626_56",
         "type": "scattermapbox"
        },
        {
         "fill": "toself",
         "fillcolor": "rgba(0, 150, 255, 0.7)",
         "hoverinfo": "text",
         "hovertext": "Cell ID: 20km_626_58<br>Area: DK1",
         "lat": [
          56.4777,
          56.4738,
          56.6535,
          56.6573,
          56.4777
         ],
         "line": {
          "color": "grey",
          "width": 1
         },
         "lon": [
          10.2988,
          10.6234,
          10.6311,
          10.305,
          10.2988
         ],
         "mode": "lines",
         "name": "20km_626_58",
         "type": "scattermapbox"
        },
        {
         "fill": "toself",
         "fillcolor": "rgba(0, 150, 255, 0.7)",
         "hoverinfo": "text",
         "hovertext": "Cell ID: 20km_626_60<br>Area: DK1",
         "lat": [
          56.4738,
          56.4692,
          56.6488,
          56.6535,
          56.4738
         ],
         "line": {
          "color": "grey",
          "width": 1
         },
         "lon": [
          10.6234,
          10.9479,
          10.9571,
          10.6311,
          10.6234
         ],
         "mode": "lines",
         "name": "20km_626_60",
         "type": "scattermapbox"
        },
        {
         "fill": "toself",
         "fillcolor": "rgba(0, 150, 255, 0.7)",
         "hoverinfo": "text",
         "hovertext": "Cell ID: 20km_628_44<br>Area: DK1",
         "lat": [
          56.6603,
          56.6624,
          56.8421,
          56.8399,
          56.6603
         ],
         "line": {
          "color": "grey",
          "width": 1
         },
         "lon": [
          8.0212,
          8.3474,
          8.3443,
          8.0165,
          8.0212
         ],
         "mode": "lines",
         "name": "20km_628_44",
         "type": "scattermapbox"
        },
        {
         "fill": "toself",
         "fillcolor": "rgba(0, 150, 255, 0.7)",
         "hoverinfo": "text",
         "hovertext": "Cell ID: 20km_628_46<br>Area: DK1",
         "lat": [
          56.6624,
          56.6637,
          56.8434,
          56.8421,
          56.6624
         ],
         "line": {
          "color": "grey",
          "width": 1
         },
         "lon": [
          8.3474,
          8.6737,
          8.6721,
          8.3443,
          8.3474
         ],
         "mode": "lines",
         "name": "20km_628_46",
         "type": "scattermapbox"
        },
        {
         "fill": "toself",
         "fillcolor": "rgba(0, 150, 255, 0.7)",
         "hoverinfo": "text",
         "hovertext": "Cell ID: 20km_628_48<br>Area: DK1",
         "lat": [
          56.6637,
          56.6641,
          56.8438,
          56.8434,
          56.6637
         ],
         "line": {
          "color": "grey",
          "width": 1
         },
         "lon": [
          8.6737,
          9,
          9,
          8.6721,
          8.6737
         ],
         "mode": "lines",
         "name": "20km_628_48",
         "type": "scattermapbox"
        },
        {
         "fill": "toself",
         "fillcolor": "rgba(0, 150, 255, 0.7)",
         "hoverinfo": "text",
         "hovertext": "Cell ID: 20km_628_50<br>Area: DK1",
         "lat": [
          56.6641,
          56.6637,
          56.8434,
          56.8438,
          56.6641
         ],
         "line": {
          "color": "grey",
          "width": 1
         },
         "lon": [
          9,
          9.3263,
          9.3279,
          9,
          9
         ],
         "mode": "lines",
         "name": "20km_628_50",
         "type": "scattermapbox"
        },
        {
         "fill": "toself",
         "fillcolor": "rgba(0, 150, 255, 0.7)",
         "hoverinfo": "text",
         "hovertext": "Cell ID: 20km_628_52<br>Area: DK1",
         "lat": [
          56.6637,
          56.6624,
          56.8421,
          56.8434,
          56.6637
         ],
         "line": {
          "color": "grey",
          "width": 1
         },
         "lon": [
          9.3263,
          9.6526,
          9.6557,
          9.3279,
          9.3263
         ],
         "mode": "lines",
         "name": "20km_628_52",
         "type": "scattermapbox"
        },
        {
         "fill": "toself",
         "fillcolor": "rgba(0, 150, 255, 0.7)",
         "hoverinfo": "text",
         "hovertext": "Cell ID: 20km_628_54<br>Area: DK1",
         "lat": [
          56.6624,
          56.6603,
          56.8399,
          56.8421,
          56.6624
         ],
         "line": {
          "color": "grey",
          "width": 1
         },
         "lon": [
          9.6526,
          9.9788,
          9.9835,
          9.6557,
          9.6526
         ],
         "mode": "lines",
         "name": "20km_628_54",
         "type": "scattermapbox"
        },
        {
         "fill": "toself",
         "fillcolor": "rgba(0, 150, 255, 0.7)",
         "hoverinfo": "text",
         "hovertext": "Cell ID: 20km_628_56<br>Area: DK1",
         "lat": [
          56.6603,
          56.6573,
          56.8369,
          56.8399,
          56.6603
         ],
         "line": {
          "color": "grey",
          "width": 1
         },
         "lon": [
          9.9788,
          10.305,
          10.3112,
          9.9835,
          9.9788
         ],
         "mode": "lines",
         "name": "20km_628_56",
         "type": "scattermapbox"
        },
        {
         "fill": "toself",
         "fillcolor": "rgba(0, 150, 255, 0.7)",
         "hoverinfo": "text",
         "hovertext": "Cell ID: 20km_628_58<br>Area: DK1",
         "lat": [
          56.6573,
          56.6535,
          56.8331,
          56.8369,
          56.6573
         ],
         "line": {
          "color": "grey",
          "width": 1
         },
         "lon": [
          10.305,
          10.6311,
          10.6389,
          10.3112,
          10.305
         ],
         "mode": "lines",
         "name": "20km_628_58",
         "type": "scattermapbox"
        },
        {
         "fill": "toself",
         "fillcolor": "rgba(255, 0, 0, 0.7)",
         "hoverinfo": "text",
         "hovertext": "Cell ID: 20km_628_65<br>Area: DK2",
         "lat": [
          56.6401,
          56.6333,
          56.8127,
          56.8196,
          56.6401
         ],
         "line": {
          "color": "grey",
          "width": 1
         },
         "lon": [
          11.446,
          11.7717,
          11.7849,
          11.4576,
          11.446
         ],
         "mode": "lines",
         "name": "20km_628_65",
         "type": "scattermapbox"
        },
        {
         "fill": "toself",
         "fillcolor": "rgba(0, 150, 255, 0.7)",
         "hoverinfo": "text",
         "hovertext": "Cell ID: 20km_630_44<br>Area: DK1",
         "lat": [
          56.8399,
          56.8421,
          57.0218,
          57.0196,
          56.8399
         ],
         "line": {
          "color": "grey",
          "width": 1
         },
         "lon": [
          8.0165,
          8.3443,
          8.3412,
          8.0118,
          8.0165
         ],
         "mode": "lines",
         "name": "20km_630_44",
         "type": "scattermapbox"
        },
        {
         "fill": "toself",
         "fillcolor": "rgba(0, 150, 255, 0.7)",
         "hoverinfo": "text",
         "hovertext": "Cell ID: 20km_630_46<br>Area: DK1",
         "lat": [
          56.8421,
          56.8434,
          57.0231,
          57.0218,
          56.8421
         ],
         "line": {
          "color": "grey",
          "width": 1
         },
         "lon": [
          8.3443,
          8.6721,
          8.6706,
          8.3412,
          8.3443
         ],
         "mode": "lines",
         "name": "20km_630_46",
         "type": "scattermapbox"
        },
        {
         "fill": "toself",
         "fillcolor": "rgba(0, 150, 255, 0.7)",
         "hoverinfo": "text",
         "hovertext": "Cell ID: 20km_630_48<br>Area: DK1",
         "lat": [
          56.8434,
          56.8438,
          57.0235,
          57.0231,
          56.8434
         ],
         "line": {
          "color": "grey",
          "width": 1
         },
         "lon": [
          8.6721,
          9,
          9,
          8.6706,
          8.6721
         ],
         "mode": "lines",
         "name": "20km_630_48",
         "type": "scattermapbox"
        },
        {
         "fill": "toself",
         "fillcolor": "rgba(0, 150, 255, 0.7)",
         "hoverinfo": "text",
         "hovertext": "Cell ID: 20km_630_50<br>Area: DK1",
         "lat": [
          56.8438,
          56.8434,
          57.0231,
          57.0235,
          56.8438
         ],
         "line": {
          "color": "grey",
          "width": 1
         },
         "lon": [
          9,
          9.3279,
          9.3294,
          9,
          9
         ],
         "mode": "lines",
         "name": "20km_630_50",
         "type": "scattermapbox"
        },
        {
         "fill": "toself",
         "fillcolor": "rgba(0, 150, 255, 0.7)",
         "hoverinfo": "text",
         "hovertext": "Cell ID: 20km_630_52<br>Area: DK1",
         "lat": [
          56.8434,
          56.8421,
          57.0218,
          57.0231,
          56.8434
         ],
         "line": {
          "color": "grey",
          "width": 1
         },
         "lon": [
          9.3279,
          9.6557,
          9.6588,
          9.3294,
          9.3279
         ],
         "mode": "lines",
         "name": "20km_630_52",
         "type": "scattermapbox"
        },
        {
         "fill": "toself",
         "fillcolor": "rgba(0, 150, 255, 0.7)",
         "hoverinfo": "text",
         "hovertext": "Cell ID: 20km_630_54<br>Area: DK1",
         "lat": [
          56.8421,
          56.8399,
          57.0196,
          57.0218,
          56.8421
         ],
         "line": {
          "color": "grey",
          "width": 1
         },
         "lon": [
          9.6557,
          9.9835,
          9.9882,
          9.6588,
          9.6557
         ],
         "mode": "lines",
         "name": "20km_630_54",
         "type": "scattermapbox"
        },
        {
         "fill": "toself",
         "fillcolor": "rgba(0, 150, 255, 0.7)",
         "hoverinfo": "text",
         "hovertext": "Cell ID: 20km_630_56<br>Area: DK1",
         "lat": [
          56.8399,
          56.8369,
          57.0166,
          57.0196,
          56.8399
         ],
         "line": {
          "color": "grey",
          "width": 1
         },
         "lon": [
          9.9835,
          10.3112,
          10.3176,
          9.9882,
          9.9835
         ],
         "mode": "lines",
         "name": "20km_630_56",
         "type": "scattermapbox"
        },
        {
         "fill": "toself",
         "fillcolor": "rgba(0, 150, 255, 0.7)",
         "hoverinfo": "text",
         "hovertext": "Cell ID: 20km_630_58<br>Area: DK1",
         "lat": [
          56.8369,
          56.8331,
          57.0127,
          57.0166,
          56.8369
         ],
         "line": {
          "color": "grey",
          "width": 1
         },
         "lon": [
          10.3112,
          10.6389,
          10.6468,
          10.3176,
          10.3112
         ],
         "mode": "lines",
         "name": "20km_630_58",
         "type": "scattermapbox"
        },
        {
         "fill": "toself",
         "fillcolor": "rgba(0, 150, 255, 0.7)",
         "hoverinfo": "text",
         "hovertext": "Cell ID: 20km_632_46<br>Area: DK1",
         "lat": [
          57.0218,
          57.0231,
          57.2027,
          57.2014,
          57.0218
         ],
         "line": {
          "color": "grey",
          "width": 1
         },
         "lon": [
          8.3412,
          8.6706,
          8.669,
          8.338,
          8.3412
         ],
         "mode": "lines",
         "name": "20km_632_46",
         "type": "scattermapbox"
        },
        {
         "fill": "toself",
         "fillcolor": "rgba(0, 150, 255, 0.7)",
         "hoverinfo": "text",
         "hovertext": "Cell ID: 20km_632_48<br>Area: DK1",
         "lat": [
          57.0231,
          57.0235,
          57.2032,
          57.2027,
          57.0231
         ],
         "line": {
          "color": "grey",
          "width": 1
         },
         "lon": [
          8.6706,
          9,
          9,
          8.669,
          8.6706
         ],
         "mode": "lines",
         "name": "20km_632_48",
         "type": "scattermapbox"
        },
        {
         "fill": "toself",
         "fillcolor": "rgba(0, 150, 255, 0.7)",
         "hoverinfo": "text",
         "hovertext": "Cell ID: 20km_632_50<br>Area: DK1",
         "lat": [
          57.0235,
          57.0231,
          57.2027,
          57.2032,
          57.0235
         ],
         "line": {
          "color": "grey",
          "width": 1
         },
         "lon": [
          9,
          9.3294,
          9.331,
          9,
          9
         ],
         "mode": "lines",
         "name": "20km_632_50",
         "type": "scattermapbox"
        },
        {
         "fill": "toself",
         "fillcolor": "rgba(0, 150, 255, 0.7)",
         "hoverinfo": "text",
         "hovertext": "Cell ID: 20km_632_52<br>Area: DK1",
         "lat": [
          57.0231,
          57.0218,
          57.2014,
          57.2027,
          57.0231
         ],
         "line": {
          "color": "grey",
          "width": 1
         },
         "lon": [
          9.3294,
          9.6588,
          9.662,
          9.331,
          9.3294
         ],
         "mode": "lines",
         "name": "20km_632_52",
         "type": "scattermapbox"
        },
        {
         "fill": "toself",
         "fillcolor": "rgba(0, 150, 255, 0.7)",
         "hoverinfo": "text",
         "hovertext": "Cell ID: 20km_632_54<br>Area: DK1",
         "lat": [
          57.0218,
          57.0196,
          57.1992,
          57.2014,
          57.0218
         ],
         "line": {
          "color": "grey",
          "width": 1
         },
         "lon": [
          9.6588,
          9.9882,
          9.993,
          9.662,
          9.6588
         ],
         "mode": "lines",
         "name": "20km_632_54",
         "type": "scattermapbox"
        },
        {
         "fill": "toself",
         "fillcolor": "rgba(0, 150, 255, 0.7)",
         "hoverinfo": "text",
         "hovertext": "Cell ID: 20km_632_56<br>Area: DK1",
         "lat": [
          57.0196,
          57.0166,
          57.1962,
          57.1992,
          57.0196
         ],
         "line": {
          "color": "grey",
          "width": 1
         },
         "lon": [
          9.9882,
          10.3176,
          10.3239,
          9.993,
          9.9882
         ],
         "mode": "lines",
         "name": "20km_632_56",
         "type": "scattermapbox"
        },
        {
         "fill": "toself",
         "fillcolor": "rgba(0, 150, 255, 0.7)",
         "hoverinfo": "text",
         "hovertext": "Cell ID: 20km_632_58<br>Area: DK1",
         "lat": [
          57.0166,
          57.0127,
          57.1922,
          57.1962,
          57.0166
         ],
         "line": {
          "color": "grey",
          "width": 1
         },
         "lon": [
          10.3176,
          10.6468,
          10.6548,
          10.3239,
          10.3176
         ],
         "mode": "lines",
         "name": "20km_632_58",
         "type": "scattermapbox"
        },
        {
         "fill": "toself",
         "fillcolor": "rgba(0, 150, 255, 0.7)",
         "hoverinfo": "text",
         "hovertext": "Cell ID: 20km_634_52<br>Area: DK1",
         "lat": [
          57.2027,
          57.2014,
          57.3811,
          57.3824,
          57.2027
         ],
         "line": {
          "color": "grey",
          "width": 1
         },
         "lon": [
          9.331,
          9.662,
          9.6653,
          9.3326,
          9.331
         ],
         "mode": "lines",
         "name": "20km_634_52",
         "type": "scattermapbox"
        },
        {
         "fill": "toself",
         "fillcolor": "rgba(0, 150, 255, 0.7)",
         "hoverinfo": "text",
         "hovertext": "Cell ID: 20km_634_54<br>Area: DK1",
         "lat": [
          57.2014,
          57.1992,
          57.3789,
          57.3811,
          57.2014
         ],
         "line": {
          "color": "grey",
          "width": 1
         },
         "lon": [
          9.662,
          9.993,
          9.9979,
          9.6653,
          9.662
         ],
         "mode": "lines",
         "name": "20km_634_54",
         "type": "scattermapbox"
        },
        {
         "fill": "toself",
         "fillcolor": "rgba(0, 150, 255, 0.7)",
         "hoverinfo": "text",
         "hovertext": "Cell ID: 20km_634_56<br>Area: DK1",
         "lat": [
          57.1992,
          57.1962,
          57.3758,
          57.3789,
          57.1992
         ],
         "line": {
          "color": "grey",
          "width": 1
         },
         "lon": [
          9.993,
          10.3239,
          10.3304,
          9.9979,
          9.993
         ],
         "mode": "lines",
         "name": "20km_634_56",
         "type": "scattermapbox"
        },
        {
         "fill": "toself",
         "fillcolor": "rgba(0, 150, 255, 0.7)",
         "hoverinfo": "text",
         "hovertext": "Cell ID: 20km_634_58<br>Area: DK1",
         "lat": [
          57.1962,
          57.1922,
          57.3718,
          57.3758,
          57.1962
         ],
         "line": {
          "color": "grey",
          "width": 1
         },
         "lon": [
          10.3239,
          10.6548,
          10.6629,
          10.3304,
          10.3239
         ],
         "mode": "lines",
         "name": "20km_634_58",
         "type": "scattermapbox"
        },
        {
         "fill": "toself",
         "fillcolor": "rgba(0, 150, 255, 0.7)",
         "hoverinfo": "text",
         "hovertext": "Cell ID: 20km_634_61<br>Area: DK1",
         "lat": [
          57.19,
          57.1847,
          57.3643,
          57.3695,
          57.19
         ],
         "line": {
          "color": "grey",
          "width": 1
         },
         "lon": [
          10.8202,
          11.1509,
          11.1614,
          10.8291,
          10.8202
         ],
         "mode": "lines",
         "name": "20km_634_61",
         "type": "scattermapbox"
        },
        {
         "fill": "toself",
         "fillcolor": "rgba(0, 150, 255, 0.7)",
         "hoverinfo": "text",
         "hovertext": "Cell ID: 20km_636_54<br>Area: DK1",
         "lat": [
          57.3811,
          57.3789,
          57.5585,
          57.5607,
          57.3811
         ],
         "line": {
          "color": "grey",
          "width": 1
         },
         "lon": [
          9.6653,
          9.9979,
          10.0028,
          9.6686,
          9.6653
         ],
         "mode": "lines",
         "name": "20km_636_54",
         "type": "scattermapbox"
        },
        {
         "fill": "toself",
         "fillcolor": "rgba(0, 150, 255, 0.7)",
         "hoverinfo": "text",
         "hovertext": "Cell ID: 20km_636_56<br>Area: DK1",
         "lat": [
          57.3789,
          57.3758,
          57.5554,
          57.5585,
          57.3789
         ],
         "line": {
          "color": "grey",
          "width": 1
         },
         "lon": [
          9.9979,
          10.3304,
          10.3369,
          10.0028,
          9.9979
         ],
         "mode": "lines",
         "name": "20km_636_56",
         "type": "scattermapbox"
        },
        {
         "fill": "toself",
         "fillcolor": "rgba(0, 150, 255, 0.7)",
         "hoverinfo": "text",
         "hovertext": "Cell ID: 20km_636_58<br>Area: DK1",
         "lat": [
          57.3758,
          57.3718,
          57.5514,
          57.5554,
          57.3758
         ],
         "line": {
          "color": "grey",
          "width": 1
         },
         "lon": [
          10.3304,
          10.6629,
          10.671,
          10.3369,
          10.3304
         ],
         "mode": "lines",
         "name": "20km_636_58",
         "type": "scattermapbox"
        },
        {
         "fill": "toself",
         "fillcolor": "rgba(0, 150, 255, 0.7)",
         "hoverinfo": "text",
         "hovertext": "Cell ID: 20km_638_54<br>Area: DK1",
         "lat": [
          57.5607,
          57.5585,
          57.7381,
          57.7403,
          57.5607
         ],
         "line": {
          "color": "grey",
          "width": 1
         },
         "lon": [
          9.6686,
          10.0028,
          10.0077,
          9.6719,
          9.6686
         ],
         "mode": "lines",
         "name": "20km_638_54",
         "type": "scattermapbox"
        },
        {
         "fill": "toself",
         "fillcolor": "rgba(0, 150, 255, 0.7)",
         "hoverinfo": "text",
         "hovertext": "Cell ID: 20km_638_56<br>Area: DK1",
         "lat": [
          57.5585,
          57.5554,
          57.735,
          57.7381,
          57.5585
         ],
         "line": {
          "color": "grey",
          "width": 1
         },
         "lon": [
          10.0028,
          10.3369,
          10.3436,
          10.0077,
          10.0028
         ],
         "mode": "lines",
         "name": "20km_638_56",
         "type": "scattermapbox"
        },
        {
         "fill": "toself",
         "fillcolor": "rgba(0, 150, 255, 0.7)",
         "hoverinfo": "text",
         "hovertext": "Cell ID: 20km_638_58<br>Area: DK1",
         "lat": [
          57.5554,
          57.5514,
          57.731,
          57.735,
          57.5554
         ],
         "line": {
          "color": "grey",
          "width": 1
         },
         "lon": [
          10.3369,
          10.671,
          10.6793,
          10.3436,
          10.3369
         ],
         "mode": "lines",
         "name": "20km_638_58",
         "type": "scattermapbox"
        }
       ],
       "layout": {
        "height": 600,
        "mapbox": {
         "center": {
          "lat": 56,
          "lon": 11
         },
         "style": "carto-positron",
         "zoom": 5.8
        },
        "margin": {
         "b": 0,
         "l": 0,
         "r": 0,
         "t": 0
        },
        "showlegend": false,
        "template": {
         "data": {
          "bar": [
           {
            "error_x": {
             "color": "#2a3f5f"
            },
            "error_y": {
             "color": "#2a3f5f"
            },
            "marker": {
             "line": {
              "color": "#E5ECF6",
              "width": 0.5
             },
             "pattern": {
              "fillmode": "overlay",
              "size": 10,
              "solidity": 0.2
             }
            },
            "type": "bar"
           }
          ],
          "barpolar": [
           {
            "marker": {
             "line": {
              "color": "#E5ECF6",
              "width": 0.5
             },
             "pattern": {
              "fillmode": "overlay",
              "size": 10,
              "solidity": 0.2
             }
            },
            "type": "barpolar"
           }
          ],
          "carpet": [
           {
            "aaxis": {
             "endlinecolor": "#2a3f5f",
             "gridcolor": "white",
             "linecolor": "white",
             "minorgridcolor": "white",
             "startlinecolor": "#2a3f5f"
            },
            "baxis": {
             "endlinecolor": "#2a3f5f",
             "gridcolor": "white",
             "linecolor": "white",
             "minorgridcolor": "white",
             "startlinecolor": "#2a3f5f"
            },
            "type": "carpet"
           }
          ],
          "choropleth": [
           {
            "colorbar": {
             "outlinewidth": 0,
             "ticks": ""
            },
            "type": "choropleth"
           }
          ],
          "contour": [
           {
            "colorbar": {
             "outlinewidth": 0,
             "ticks": ""
            },
            "colorscale": [
             [
              0,
              "#0d0887"
             ],
             [
              0.1111111111111111,
              "#46039f"
             ],
             [
              0.2222222222222222,
              "#7201a8"
             ],
             [
              0.3333333333333333,
              "#9c179e"
             ],
             [
              0.4444444444444444,
              "#bd3786"
             ],
             [
              0.5555555555555556,
              "#d8576b"
             ],
             [
              0.6666666666666666,
              "#ed7953"
             ],
             [
              0.7777777777777778,
              "#fb9f3a"
             ],
             [
              0.8888888888888888,
              "#fdca26"
             ],
             [
              1,
              "#f0f921"
             ]
            ],
            "type": "contour"
           }
          ],
          "contourcarpet": [
           {
            "colorbar": {
             "outlinewidth": 0,
             "ticks": ""
            },
            "type": "contourcarpet"
           }
          ],
          "heatmap": [
           {
            "colorbar": {
             "outlinewidth": 0,
             "ticks": ""
            },
            "colorscale": [
             [
              0,
              "#0d0887"
             ],
             [
              0.1111111111111111,
              "#46039f"
             ],
             [
              0.2222222222222222,
              "#7201a8"
             ],
             [
              0.3333333333333333,
              "#9c179e"
             ],
             [
              0.4444444444444444,
              "#bd3786"
             ],
             [
              0.5555555555555556,
              "#d8576b"
             ],
             [
              0.6666666666666666,
              "#ed7953"
             ],
             [
              0.7777777777777778,
              "#fb9f3a"
             ],
             [
              0.8888888888888888,
              "#fdca26"
             ],
             [
              1,
              "#f0f921"
             ]
            ],
            "type": "heatmap"
           }
          ],
          "heatmapgl": [
           {
            "colorbar": {
             "outlinewidth": 0,
             "ticks": ""
            },
            "colorscale": [
             [
              0,
              "#0d0887"
             ],
             [
              0.1111111111111111,
              "#46039f"
             ],
             [
              0.2222222222222222,
              "#7201a8"
             ],
             [
              0.3333333333333333,
              "#9c179e"
             ],
             [
              0.4444444444444444,
              "#bd3786"
             ],
             [
              0.5555555555555556,
              "#d8576b"
             ],
             [
              0.6666666666666666,
              "#ed7953"
             ],
             [
              0.7777777777777778,
              "#fb9f3a"
             ],
             [
              0.8888888888888888,
              "#fdca26"
             ],
             [
              1,
              "#f0f921"
             ]
            ],
            "type": "heatmapgl"
           }
          ],
          "histogram": [
           {
            "marker": {
             "pattern": {
              "fillmode": "overlay",
              "size": 10,
              "solidity": 0.2
             }
            },
            "type": "histogram"
           }
          ],
          "histogram2d": [
           {
            "colorbar": {
             "outlinewidth": 0,
             "ticks": ""
            },
            "colorscale": [
             [
              0,
              "#0d0887"
             ],
             [
              0.1111111111111111,
              "#46039f"
             ],
             [
              0.2222222222222222,
              "#7201a8"
             ],
             [
              0.3333333333333333,
              "#9c179e"
             ],
             [
              0.4444444444444444,
              "#bd3786"
             ],
             [
              0.5555555555555556,
              "#d8576b"
             ],
             [
              0.6666666666666666,
              "#ed7953"
             ],
             [
              0.7777777777777778,
              "#fb9f3a"
             ],
             [
              0.8888888888888888,
              "#fdca26"
             ],
             [
              1,
              "#f0f921"
             ]
            ],
            "type": "histogram2d"
           }
          ],
          "histogram2dcontour": [
           {
            "colorbar": {
             "outlinewidth": 0,
             "ticks": ""
            },
            "colorscale": [
             [
              0,
              "#0d0887"
             ],
             [
              0.1111111111111111,
              "#46039f"
             ],
             [
              0.2222222222222222,
              "#7201a8"
             ],
             [
              0.3333333333333333,
              "#9c179e"
             ],
             [
              0.4444444444444444,
              "#bd3786"
             ],
             [
              0.5555555555555556,
              "#d8576b"
             ],
             [
              0.6666666666666666,
              "#ed7953"
             ],
             [
              0.7777777777777778,
              "#fb9f3a"
             ],
             [
              0.8888888888888888,
              "#fdca26"
             ],
             [
              1,
              "#f0f921"
             ]
            ],
            "type": "histogram2dcontour"
           }
          ],
          "mesh3d": [
           {
            "colorbar": {
             "outlinewidth": 0,
             "ticks": ""
            },
            "type": "mesh3d"
           }
          ],
          "parcoords": [
           {
            "line": {
             "colorbar": {
              "outlinewidth": 0,
              "ticks": ""
             }
            },
            "type": "parcoords"
           }
          ],
          "pie": [
           {
            "automargin": true,
            "type": "pie"
           }
          ],
          "scatter": [
           {
            "fillpattern": {
             "fillmode": "overlay",
             "size": 10,
             "solidity": 0.2
            },
            "type": "scatter"
           }
          ],
          "scatter3d": [
           {
            "line": {
             "colorbar": {
              "outlinewidth": 0,
              "ticks": ""
             }
            },
            "marker": {
             "colorbar": {
              "outlinewidth": 0,
              "ticks": ""
             }
            },
            "type": "scatter3d"
           }
          ],
          "scattercarpet": [
           {
            "marker": {
             "colorbar": {
              "outlinewidth": 0,
              "ticks": ""
             }
            },
            "type": "scattercarpet"
           }
          ],
          "scattergeo": [
           {
            "marker": {
             "colorbar": {
              "outlinewidth": 0,
              "ticks": ""
             }
            },
            "type": "scattergeo"
           }
          ],
          "scattergl": [
           {
            "marker": {
             "colorbar": {
              "outlinewidth": 0,
              "ticks": ""
             }
            },
            "type": "scattergl"
           }
          ],
          "scattermapbox": [
           {
            "marker": {
             "colorbar": {
              "outlinewidth": 0,
              "ticks": ""
             }
            },
            "type": "scattermapbox"
           }
          ],
          "scatterpolar": [
           {
            "marker": {
             "colorbar": {
              "outlinewidth": 0,
              "ticks": ""
             }
            },
            "type": "scatterpolar"
           }
          ],
          "scatterpolargl": [
           {
            "marker": {
             "colorbar": {
              "outlinewidth": 0,
              "ticks": ""
             }
            },
            "type": "scatterpolargl"
           }
          ],
          "scatterternary": [
           {
            "marker": {
             "colorbar": {
              "outlinewidth": 0,
              "ticks": ""
             }
            },
            "type": "scatterternary"
           }
          ],
          "surface": [
           {
            "colorbar": {
             "outlinewidth": 0,
             "ticks": ""
            },
            "colorscale": [
             [
              0,
              "#0d0887"
             ],
             [
              0.1111111111111111,
              "#46039f"
             ],
             [
              0.2222222222222222,
              "#7201a8"
             ],
             [
              0.3333333333333333,
              "#9c179e"
             ],
             [
              0.4444444444444444,
              "#bd3786"
             ],
             [
              0.5555555555555556,
              "#d8576b"
             ],
             [
              0.6666666666666666,
              "#ed7953"
             ],
             [
              0.7777777777777778,
              "#fb9f3a"
             ],
             [
              0.8888888888888888,
              "#fdca26"
             ],
             [
              1,
              "#f0f921"
             ]
            ],
            "type": "surface"
           }
          ],
          "table": [
           {
            "cells": {
             "fill": {
              "color": "#EBF0F8"
             },
             "line": {
              "color": "white"
             }
            },
            "header": {
             "fill": {
              "color": "#C8D4E3"
             },
             "line": {
              "color": "white"
             }
            },
            "type": "table"
           }
          ]
         },
         "layout": {
          "annotationdefaults": {
           "arrowcolor": "#2a3f5f",
           "arrowhead": 0,
           "arrowwidth": 1
          },
          "autotypenumbers": "strict",
          "coloraxis": {
           "colorbar": {
            "outlinewidth": 0,
            "ticks": ""
           }
          },
          "colorscale": {
           "diverging": [
            [
             0,
             "#8e0152"
            ],
            [
             0.1,
             "#c51b7d"
            ],
            [
             0.2,
             "#de77ae"
            ],
            [
             0.3,
             "#f1b6da"
            ],
            [
             0.4,
             "#fde0ef"
            ],
            [
             0.5,
             "#f7f7f7"
            ],
            [
             0.6,
             "#e6f5d0"
            ],
            [
             0.7,
             "#b8e186"
            ],
            [
             0.8,
             "#7fbc41"
            ],
            [
             0.9,
             "#4d9221"
            ],
            [
             1,
             "#276419"
            ]
           ],
           "sequential": [
            [
             0,
             "#0d0887"
            ],
            [
             0.1111111111111111,
             "#46039f"
            ],
            [
             0.2222222222222222,
             "#7201a8"
            ],
            [
             0.3333333333333333,
             "#9c179e"
            ],
            [
             0.4444444444444444,
             "#bd3786"
            ],
            [
             0.5555555555555556,
             "#d8576b"
            ],
            [
             0.6666666666666666,
             "#ed7953"
            ],
            [
             0.7777777777777778,
             "#fb9f3a"
            ],
            [
             0.8888888888888888,
             "#fdca26"
            ],
            [
             1,
             "#f0f921"
            ]
           ],
           "sequentialminus": [
            [
             0,
             "#0d0887"
            ],
            [
             0.1111111111111111,
             "#46039f"
            ],
            [
             0.2222222222222222,
             "#7201a8"
            ],
            [
             0.3333333333333333,
             "#9c179e"
            ],
            [
             0.4444444444444444,
             "#bd3786"
            ],
            [
             0.5555555555555556,
             "#d8576b"
            ],
            [
             0.6666666666666666,
             "#ed7953"
            ],
            [
             0.7777777777777778,
             "#fb9f3a"
            ],
            [
             0.8888888888888888,
             "#fdca26"
            ],
            [
             1,
             "#f0f921"
            ]
           ]
          },
          "colorway": [
           "#636efa",
           "#EF553B",
           "#00cc96",
           "#ab63fa",
           "#FFA15A",
           "#19d3f3",
           "#FF6692",
           "#B6E880",
           "#FF97FF",
           "#FECB52"
          ],
          "font": {
           "color": "#2a3f5f"
          },
          "geo": {
           "bgcolor": "white",
           "lakecolor": "white",
           "landcolor": "#E5ECF6",
           "showlakes": true,
           "showland": true,
           "subunitcolor": "white"
          },
          "hoverlabel": {
           "align": "left"
          },
          "hovermode": "closest",
          "mapbox": {
           "style": "light"
          },
          "paper_bgcolor": "white",
          "plot_bgcolor": "#E5ECF6",
          "polar": {
           "angularaxis": {
            "gridcolor": "white",
            "linecolor": "white",
            "ticks": ""
           },
           "bgcolor": "#E5ECF6",
           "radialaxis": {
            "gridcolor": "white",
            "linecolor": "white",
            "ticks": ""
           }
          },
          "scene": {
           "xaxis": {
            "backgroundcolor": "#E5ECF6",
            "gridcolor": "white",
            "gridwidth": 2,
            "linecolor": "white",
            "showbackground": true,
            "ticks": "",
            "zerolinecolor": "white"
           },
           "yaxis": {
            "backgroundcolor": "#E5ECF6",
            "gridcolor": "white",
            "gridwidth": 2,
            "linecolor": "white",
            "showbackground": true,
            "ticks": "",
            "zerolinecolor": "white"
           },
           "zaxis": {
            "backgroundcolor": "#E5ECF6",
            "gridcolor": "white",
            "gridwidth": 2,
            "linecolor": "white",
            "showbackground": true,
            "ticks": "",
            "zerolinecolor": "white"
           }
          },
          "shapedefaults": {
           "line": {
            "color": "#2a3f5f"
           }
          },
          "ternary": {
           "aaxis": {
            "gridcolor": "white",
            "linecolor": "white",
            "ticks": ""
           },
           "baxis": {
            "gridcolor": "white",
            "linecolor": "white",
            "ticks": ""
           },
           "bgcolor": "#E5ECF6",
           "caxis": {
            "gridcolor": "white",
            "linecolor": "white",
            "ticks": ""
           }
          },
          "title": {
           "x": 0.05
          },
          "xaxis": {
           "automargin": true,
           "gridcolor": "white",
           "linecolor": "white",
           "ticks": "",
           "title": {
            "standoff": 15
           },
           "zerolinecolor": "white",
           "zerolinewidth": 2
          },
          "yaxis": {
           "automargin": true,
           "gridcolor": "white",
           "linecolor": "white",
           "ticks": "",
           "title": {
            "standoff": 15
           },
           "zerolinecolor": "white",
           "zerolinewidth": 2
          }
         }
        }
       }
      }
     },
     "metadata": {},
     "output_type": "display_data"
    }
   ],
   "source": [
    "# create df with only cellId, geometry type and coordinates\n",
    "df_geometry = df_weather[['cellId', 'area', 'coordinates']].drop_duplicates()\n",
    "\n",
    "# plot the map of the data points\n",
    "ap.plot_polygons(df_geometry, color_by='area', save='polygon_by_area.png')"
   ]
  },
  {
   "cell_type": "code",
   "execution_count": 21,
   "metadata": {},
   "outputs": [
    {
     "data": {
      "text/html": [
       "<div>\n",
       "<style scoped>\n",
       "    .dataframe tbody tr th:only-of-type {\n",
       "        vertical-align: middle;\n",
       "    }\n",
       "\n",
       "    .dataframe tbody tr th {\n",
       "        vertical-align: top;\n",
       "    }\n",
       "\n",
       "    .dataframe thead th {\n",
       "        text-align: right;\n",
       "    }\n",
       "</style>\n",
       "<table border=\"1\" class=\"dataframe\">\n",
       "  <thead>\n",
       "    <tr style=\"text-align: right;\">\n",
       "      <th></th>\n",
       "      <th>cellId</th>\n",
       "      <th>from</th>\n",
       "      <th>to</th>\n",
       "      <th>coordinates</th>\n",
       "      <th>mean_temp</th>\n",
       "      <th>mean_wind_speed</th>\n",
       "      <th>mean_wind_dir</th>\n",
       "      <th>wind_dir</th>\n",
       "      <th>area</th>\n",
       "    </tr>\n",
       "  </thead>\n",
       "  <tbody>\n",
       "    <tr>\n",
       "      <th>3123010</th>\n",
       "      <td>20km_604_64</td>\n",
       "      <td>2013-01-01 00:00:00+00:00</td>\n",
       "      <td>2013-01-01 01:00:00+00:00</td>\n",
       "      <td>[[[11.1613, 54.4883], [11.4698, 54.4824], [11....</td>\n",
       "      <td>NaN</td>\n",
       "      <td>11.3</td>\n",
       "      <td>198</td>\n",
       "      <td>S</td>\n",
       "      <td>DK2</td>\n",
       "    </tr>\n",
       "    <tr>\n",
       "      <th>3123011</th>\n",
       "      <td>20km_604_66</td>\n",
       "      <td>2013-01-01 00:00:00+00:00</td>\n",
       "      <td>2013-01-01 01:00:00+00:00</td>\n",
       "      <td>[[[11.4698, 54.4824], [11.7781, 54.4757], [11....</td>\n",
       "      <td>NaN</td>\n",
       "      <td>11.7</td>\n",
       "      <td>200</td>\n",
       "      <td>S</td>\n",
       "      <td>DK2</td>\n",
       "    </tr>\n",
       "    <tr>\n",
       "      <th>3123012</th>\n",
       "      <td>20km_604_68</td>\n",
       "      <td>2013-01-01 00:00:00+00:00</td>\n",
       "      <td>2013-01-01 01:00:00+00:00</td>\n",
       "      <td>[[[11.7781, 54.4757], [12.0863, 54.4682], [12....</td>\n",
       "      <td>NaN</td>\n",
       "      <td>12.2</td>\n",
       "      <td>202</td>\n",
       "      <td>S</td>\n",
       "      <td>DK2</td>\n",
       "    </tr>\n",
       "    <tr>\n",
       "      <th>3123013</th>\n",
       "      <td>20km_606_50</td>\n",
       "      <td>2013-01-01 00:00:00+00:00</td>\n",
       "      <td>2013-01-01 01:00:00+00:00</td>\n",
       "      <td>[[[9, 54.6873], [9.3102, 54.6869], [9.3116, 54...</td>\n",
       "      <td>NaN</td>\n",
       "      <td>8.8</td>\n",
       "      <td>218</td>\n",
       "      <td>SW</td>\n",
       "      <td>DK1</td>\n",
       "    </tr>\n",
       "    <tr>\n",
       "      <th>3123014</th>\n",
       "      <td>20km_606_52</td>\n",
       "      <td>2013-01-01 00:00:00+00:00</td>\n",
       "      <td>2013-01-01 01:00:00+00:00</td>\n",
       "      <td>[[[9.3102, 54.6869], [9.6205, 54.6858], [9.623...</td>\n",
       "      <td>NaN</td>\n",
       "      <td>8.7</td>\n",
       "      <td>218</td>\n",
       "      <td>SW</td>\n",
       "      <td>DK1</td>\n",
       "    </tr>\n",
       "    <tr>\n",
       "      <th>...</th>\n",
       "      <td>...</td>\n",
       "      <td>...</td>\n",
       "      <td>...</td>\n",
       "      <td>...</td>\n",
       "      <td>...</td>\n",
       "      <td>...</td>\n",
       "      <td>...</td>\n",
       "      <td>...</td>\n",
       "      <td>...</td>\n",
       "    </tr>\n",
       "    <tr>\n",
       "      <th>4682107</th>\n",
       "      <td>20km_636_56</td>\n",
       "      <td>2013-12-31 22:00:00+00:00</td>\n",
       "      <td>2013-12-31 23:00:00+00:00</td>\n",
       "      <td>[[[9.9979, 57.3789], [10.3304, 57.3758], [10.3...</td>\n",
       "      <td>NaN</td>\n",
       "      <td>NaN</td>\n",
       "      <td>163</td>\n",
       "      <td>S</td>\n",
       "      <td>DK1</td>\n",
       "    </tr>\n",
       "    <tr>\n",
       "      <th>4682108</th>\n",
       "      <td>20km_636_58</td>\n",
       "      <td>2013-12-31 22:00:00+00:00</td>\n",
       "      <td>2013-12-31 23:00:00+00:00</td>\n",
       "      <td>[[[10.3304, 57.3758], [10.6629, 57.3718], [10....</td>\n",
       "      <td>NaN</td>\n",
       "      <td>NaN</td>\n",
       "      <td>165</td>\n",
       "      <td>S</td>\n",
       "      <td>DK1</td>\n",
       "    </tr>\n",
       "    <tr>\n",
       "      <th>4682109</th>\n",
       "      <td>20km_638_54</td>\n",
       "      <td>2013-12-31 22:00:00+00:00</td>\n",
       "      <td>2013-12-31 23:00:00+00:00</td>\n",
       "      <td>[[[9.6686, 57.5607], [10.0028, 57.5585], [10.0...</td>\n",
       "      <td>NaN</td>\n",
       "      <td>NaN</td>\n",
       "      <td>163</td>\n",
       "      <td>S</td>\n",
       "      <td>DK1</td>\n",
       "    </tr>\n",
       "    <tr>\n",
       "      <th>4682110</th>\n",
       "      <td>20km_638_56</td>\n",
       "      <td>2013-12-31 22:00:00+00:00</td>\n",
       "      <td>2013-12-31 23:00:00+00:00</td>\n",
       "      <td>[[[10.0028, 57.5585], [10.3369, 57.5554], [10....</td>\n",
       "      <td>NaN</td>\n",
       "      <td>NaN</td>\n",
       "      <td>165</td>\n",
       "      <td>S</td>\n",
       "      <td>DK1</td>\n",
       "    </tr>\n",
       "    <tr>\n",
       "      <th>4682111</th>\n",
       "      <td>20km_638_58</td>\n",
       "      <td>2013-12-31 22:00:00+00:00</td>\n",
       "      <td>2013-12-31 23:00:00+00:00</td>\n",
       "      <td>[[[10.3369, 57.5554], [10.671, 57.5514], [10.6...</td>\n",
       "      <td>NaN</td>\n",
       "      <td>NaN</td>\n",
       "      <td>166</td>\n",
       "      <td>S</td>\n",
       "      <td>DK1</td>\n",
       "    </tr>\n",
       "  </tbody>\n",
       "</table>\n",
       "<p>1559102 rows × 9 columns</p>\n",
       "</div>"
      ],
      "text/plain": [
       "              cellId                      from                        to  \\\n",
       "3123010  20km_604_64 2013-01-01 00:00:00+00:00 2013-01-01 01:00:00+00:00   \n",
       "3123011  20km_604_66 2013-01-01 00:00:00+00:00 2013-01-01 01:00:00+00:00   \n",
       "3123012  20km_604_68 2013-01-01 00:00:00+00:00 2013-01-01 01:00:00+00:00   \n",
       "3123013  20km_606_50 2013-01-01 00:00:00+00:00 2013-01-01 01:00:00+00:00   \n",
       "3123014  20km_606_52 2013-01-01 00:00:00+00:00 2013-01-01 01:00:00+00:00   \n",
       "...              ...                       ...                       ...   \n",
       "4682107  20km_636_56 2013-12-31 22:00:00+00:00 2013-12-31 23:00:00+00:00   \n",
       "4682108  20km_636_58 2013-12-31 22:00:00+00:00 2013-12-31 23:00:00+00:00   \n",
       "4682109  20km_638_54 2013-12-31 22:00:00+00:00 2013-12-31 23:00:00+00:00   \n",
       "4682110  20km_638_56 2013-12-31 22:00:00+00:00 2013-12-31 23:00:00+00:00   \n",
       "4682111  20km_638_58 2013-12-31 22:00:00+00:00 2013-12-31 23:00:00+00:00   \n",
       "\n",
       "                                               coordinates  mean_temp  \\\n",
       "3123010  [[[11.1613, 54.4883], [11.4698, 54.4824], [11....        NaN   \n",
       "3123011  [[[11.4698, 54.4824], [11.7781, 54.4757], [11....        NaN   \n",
       "3123012  [[[11.7781, 54.4757], [12.0863, 54.4682], [12....        NaN   \n",
       "3123013  [[[9, 54.6873], [9.3102, 54.6869], [9.3116, 54...        NaN   \n",
       "3123014  [[[9.3102, 54.6869], [9.6205, 54.6858], [9.623...        NaN   \n",
       "...                                                    ...        ...   \n",
       "4682107  [[[9.9979, 57.3789], [10.3304, 57.3758], [10.3...        NaN   \n",
       "4682108  [[[10.3304, 57.3758], [10.6629, 57.3718], [10....        NaN   \n",
       "4682109  [[[9.6686, 57.5607], [10.0028, 57.5585], [10.0...        NaN   \n",
       "4682110  [[[10.0028, 57.5585], [10.3369, 57.5554], [10....        NaN   \n",
       "4682111  [[[10.3369, 57.5554], [10.671, 57.5514], [10.6...        NaN   \n",
       "\n",
       "         mean_wind_speed  mean_wind_dir wind_dir area  \n",
       "3123010             11.3            198        S  DK2  \n",
       "3123011             11.7            200        S  DK2  \n",
       "3123012             12.2            202        S  DK2  \n",
       "3123013              8.8            218       SW  DK1  \n",
       "3123014              8.7            218       SW  DK1  \n",
       "...                  ...            ...      ...  ...  \n",
       "4682107              NaN            163        S  DK1  \n",
       "4682108              NaN            165        S  DK1  \n",
       "4682109              NaN            163        S  DK1  \n",
       "4682110              NaN            165        S  DK1  \n",
       "4682111              NaN            166        S  DK1  \n",
       "\n",
       "[1559102 rows x 9 columns]"
      ]
     },
     "metadata": {},
     "output_type": "display_data"
    }
   ],
   "source": [
    "# show rows with missing values\n",
    "display(df_weather[df_weather.isnull().any(axis=1)])"
   ]
  },
  {
   "cell_type": "code",
   "execution_count": 22,
   "metadata": {},
   "outputs": [],
   "source": [
    "# removing dk2 as we will only use dk1\n",
    "df_weather_dk1 = df_weather[df_weather['area'] == 'DK1'].drop(columns=['area','coordinates','mean_wind_dir'], axis=1)\n",
    "\n",
    "# removing anything before 2014 as 2013 is missing temperature data and decemeber 2013 is missing wind data\n",
    "df_weather_dk1 = df_weather_dk1[df_weather_dk1['from'] >= '2014-01-01']\n",
    "\n",
    "# create wind direction dummies\n",
    "df_weather_dk1 = pd.get_dummies(df_weather_dk1, columns=['wind_dir'], prefix='wind_dir')\n",
    "\n",
    "# reset index\n",
    "df_weather_dk1.reset_index(drop=True, inplace=True)"
   ]
  },
  {
   "cell_type": "code",
   "execution_count": 23,
   "metadata": {},
   "outputs": [
    {
     "data": {
      "text/plain": [
       "cellId             0\n",
       "from               0\n",
       "to                 0\n",
       "mean_temp          0\n",
       "mean_wind_speed    0\n",
       "wind_dir_E         0\n",
       "wind_dir_N         0\n",
       "wind_dir_NE        0\n",
       "wind_dir_NW        0\n",
       "wind_dir_S         0\n",
       "wind_dir_SE        0\n",
       "wind_dir_SW        0\n",
       "wind_dir_W         0\n",
       "dtype: int64"
      ]
     },
     "metadata": {},
     "output_type": "display_data"
    },
    {
     "name": "stdout",
     "output_type": "stream",
     "text": [
      "<class 'pandas.core.frame.DataFrame'>\n",
      "RangeIndex: 11803375 entries, 0 to 11803374\n",
      "Data columns (total 13 columns):\n",
      " #   Column           Dtype              \n",
      "---  ------           -----              \n",
      " 0   cellId           object             \n",
      " 1   from             datetime64[ns, UTC]\n",
      " 2   to               datetime64[ns, UTC]\n",
      " 3   mean_temp        float64            \n",
      " 4   mean_wind_speed  float64            \n",
      " 5   wind_dir_E       bool               \n",
      " 6   wind_dir_N       bool               \n",
      " 7   wind_dir_NE      bool               \n",
      " 8   wind_dir_NW      bool               \n",
      " 9   wind_dir_S       bool               \n",
      " 10  wind_dir_SE      bool               \n",
      " 11  wind_dir_SW      bool               \n",
      " 12  wind_dir_W       bool               \n",
      "dtypes: bool(8), datetime64[ns, UTC](2), float64(2), object(1)\n",
      "memory usage: 540.3+ MB\n",
      "None\n"
     ]
    },
    {
     "data": {
      "text/html": [
       "<div>\n",
       "<style scoped>\n",
       "    .dataframe tbody tr th:only-of-type {\n",
       "        vertical-align: middle;\n",
       "    }\n",
       "\n",
       "    .dataframe tbody tr th {\n",
       "        vertical-align: top;\n",
       "    }\n",
       "\n",
       "    .dataframe thead th {\n",
       "        text-align: right;\n",
       "    }\n",
       "</style>\n",
       "<table border=\"1\" class=\"dataframe\">\n",
       "  <thead>\n",
       "    <tr style=\"text-align: right;\">\n",
       "      <th></th>\n",
       "      <th>cellId</th>\n",
       "      <th>from</th>\n",
       "      <th>to</th>\n",
       "      <th>mean_temp</th>\n",
       "      <th>mean_wind_speed</th>\n",
       "      <th>wind_dir_E</th>\n",
       "      <th>wind_dir_N</th>\n",
       "      <th>wind_dir_NE</th>\n",
       "      <th>wind_dir_NW</th>\n",
       "      <th>wind_dir_S</th>\n",
       "      <th>wind_dir_SE</th>\n",
       "      <th>wind_dir_SW</th>\n",
       "      <th>wind_dir_W</th>\n",
       "    </tr>\n",
       "  </thead>\n",
       "  <tbody>\n",
       "    <tr>\n",
       "      <th>0</th>\n",
       "      <td>20km_606_50</td>\n",
       "      <td>2014-01-01 00:00:00+00:00</td>\n",
       "      <td>2014-01-01 01:00:00+00:00</td>\n",
       "      <td>3.3</td>\n",
       "      <td>4.3</td>\n",
       "      <td>False</td>\n",
       "      <td>False</td>\n",
       "      <td>False</td>\n",
       "      <td>False</td>\n",
       "      <td>False</td>\n",
       "      <td>True</td>\n",
       "      <td>False</td>\n",
       "      <td>False</td>\n",
       "    </tr>\n",
       "    <tr>\n",
       "      <th>1</th>\n",
       "      <td>20km_606_52</td>\n",
       "      <td>2014-01-01 00:00:00+00:00</td>\n",
       "      <td>2014-01-01 01:00:00+00:00</td>\n",
       "      <td>3.4</td>\n",
       "      <td>4.3</td>\n",
       "      <td>False</td>\n",
       "      <td>False</td>\n",
       "      <td>False</td>\n",
       "      <td>False</td>\n",
       "      <td>False</td>\n",
       "      <td>True</td>\n",
       "      <td>False</td>\n",
       "      <td>False</td>\n",
       "    </tr>\n",
       "    <tr>\n",
       "      <th>2</th>\n",
       "      <td>20km_606_54</td>\n",
       "      <td>2014-01-01 00:00:00+00:00</td>\n",
       "      <td>2014-01-01 01:00:00+00:00</td>\n",
       "      <td>4.2</td>\n",
       "      <td>6.2</td>\n",
       "      <td>False</td>\n",
       "      <td>False</td>\n",
       "      <td>False</td>\n",
       "      <td>False</td>\n",
       "      <td>False</td>\n",
       "      <td>True</td>\n",
       "      <td>False</td>\n",
       "      <td>False</td>\n",
       "    </tr>\n",
       "    <tr>\n",
       "      <th>3</th>\n",
       "      <td>20km_606_58</td>\n",
       "      <td>2014-01-01 00:00:00+00:00</td>\n",
       "      <td>2014-01-01 01:00:00+00:00</td>\n",
       "      <td>3.6</td>\n",
       "      <td>6.5</td>\n",
       "      <td>False</td>\n",
       "      <td>False</td>\n",
       "      <td>False</td>\n",
       "      <td>False</td>\n",
       "      <td>False</td>\n",
       "      <td>True</td>\n",
       "      <td>False</td>\n",
       "      <td>False</td>\n",
       "    </tr>\n",
       "    <tr>\n",
       "      <th>4</th>\n",
       "      <td>20km_606_60</td>\n",
       "      <td>2014-01-01 00:00:00+00:00</td>\n",
       "      <td>2014-01-01 01:00:00+00:00</td>\n",
       "      <td>3.5</td>\n",
       "      <td>6.7</td>\n",
       "      <td>False</td>\n",
       "      <td>False</td>\n",
       "      <td>False</td>\n",
       "      <td>False</td>\n",
       "      <td>False</td>\n",
       "      <td>True</td>\n",
       "      <td>False</td>\n",
       "      <td>False</td>\n",
       "    </tr>\n",
       "  </tbody>\n",
       "</table>\n",
       "</div>"
      ],
      "text/plain": [
       "        cellId                      from                        to  mean_temp  \\\n",
       "0  20km_606_50 2014-01-01 00:00:00+00:00 2014-01-01 01:00:00+00:00        3.3   \n",
       "1  20km_606_52 2014-01-01 00:00:00+00:00 2014-01-01 01:00:00+00:00        3.4   \n",
       "2  20km_606_54 2014-01-01 00:00:00+00:00 2014-01-01 01:00:00+00:00        4.2   \n",
       "3  20km_606_58 2014-01-01 00:00:00+00:00 2014-01-01 01:00:00+00:00        3.6   \n",
       "4  20km_606_60 2014-01-01 00:00:00+00:00 2014-01-01 01:00:00+00:00        3.5   \n",
       "\n",
       "   mean_wind_speed  wind_dir_E  wind_dir_N  wind_dir_NE  wind_dir_NW  \\\n",
       "0              4.3       False       False        False        False   \n",
       "1              4.3       False       False        False        False   \n",
       "2              6.2       False       False        False        False   \n",
       "3              6.5       False       False        False        False   \n",
       "4              6.7       False       False        False        False   \n",
       "\n",
       "   wind_dir_S  wind_dir_SE  wind_dir_SW  wind_dir_W  \n",
       "0       False         True        False       False  \n",
       "1       False         True        False       False  \n",
       "2       False         True        False       False  \n",
       "3       False         True        False       False  \n",
       "4       False         True        False       False  "
      ]
     },
     "metadata": {},
     "output_type": "display_data"
    }
   ],
   "source": [
    "# check for missing values\n",
    "display(df_weather_dk1.isnull().sum())\n",
    "\n",
    "# print info\n",
    "print(df_weather_dk1.info())\n",
    "\n",
    "# show the first rows\n",
    "display(df_weather_dk1.head())"
   ]
  },
  {
   "cell_type": "code",
   "execution_count": 24,
   "metadata": {},
   "outputs": [
    {
     "data": {
      "text/html": [
       "<div>\n",
       "<style scoped>\n",
       "    .dataframe tbody tr th:only-of-type {\n",
       "        vertical-align: middle;\n",
       "    }\n",
       "\n",
       "    .dataframe tbody tr th {\n",
       "        vertical-align: top;\n",
       "    }\n",
       "\n",
       "    .dataframe thead th {\n",
       "        text-align: right;\n",
       "    }\n",
       "</style>\n",
       "<table border=\"1\" class=\"dataframe\">\n",
       "  <thead>\n",
       "    <tr style=\"text-align: right;\">\n",
       "      <th></th>\n",
       "      <th>from</th>\n",
       "      <th>to</th>\n",
       "      <th>mean_temp_20km_606_50</th>\n",
       "      <th>mean_temp_20km_606_52</th>\n",
       "      <th>mean_temp_20km_606_54</th>\n",
       "      <th>mean_temp_20km_606_58</th>\n",
       "      <th>mean_temp_20km_606_60</th>\n",
       "      <th>mean_temp_20km_608_46</th>\n",
       "      <th>mean_temp_20km_608_48</th>\n",
       "      <th>mean_temp_20km_608_50</th>\n",
       "      <th>...</th>\n",
       "      <th>wind_dir_W_20km_634_54</th>\n",
       "      <th>wind_dir_W_20km_634_56</th>\n",
       "      <th>wind_dir_W_20km_634_58</th>\n",
       "      <th>wind_dir_W_20km_634_61</th>\n",
       "      <th>wind_dir_W_20km_636_54</th>\n",
       "      <th>wind_dir_W_20km_636_56</th>\n",
       "      <th>wind_dir_W_20km_636_58</th>\n",
       "      <th>wind_dir_W_20km_638_54</th>\n",
       "      <th>wind_dir_W_20km_638_56</th>\n",
       "      <th>wind_dir_W_20km_638_58</th>\n",
       "    </tr>\n",
       "  </thead>\n",
       "  <tbody>\n",
       "    <tr>\n",
       "      <th>0</th>\n",
       "      <td>2014-01-01 00:00:00+00:00</td>\n",
       "      <td>2014-01-01 01:00:00+00:00</td>\n",
       "      <td>3.3</td>\n",
       "      <td>3.4</td>\n",
       "      <td>4.2</td>\n",
       "      <td>3.6</td>\n",
       "      <td>3.5</td>\n",
       "      <td>3.7</td>\n",
       "      <td>3.4</td>\n",
       "      <td>3.3</td>\n",
       "      <td>...</td>\n",
       "      <td>False</td>\n",
       "      <td>False</td>\n",
       "      <td>False</td>\n",
       "      <td>False</td>\n",
       "      <td>False</td>\n",
       "      <td>False</td>\n",
       "      <td>False</td>\n",
       "      <td>False</td>\n",
       "      <td>False</td>\n",
       "      <td>False</td>\n",
       "    </tr>\n",
       "    <tr>\n",
       "      <th>1</th>\n",
       "      <td>2014-01-01 01:00:00+00:00</td>\n",
       "      <td>2014-01-01 02:00:00+00:00</td>\n",
       "      <td>2.8</td>\n",
       "      <td>2.9</td>\n",
       "      <td>4.2</td>\n",
       "      <td>3.6</td>\n",
       "      <td>3.5</td>\n",
       "      <td>3.4</td>\n",
       "      <td>3.0</td>\n",
       "      <td>2.8</td>\n",
       "      <td>...</td>\n",
       "      <td>False</td>\n",
       "      <td>False</td>\n",
       "      <td>False</td>\n",
       "      <td>False</td>\n",
       "      <td>False</td>\n",
       "      <td>False</td>\n",
       "      <td>False</td>\n",
       "      <td>False</td>\n",
       "      <td>False</td>\n",
       "      <td>False</td>\n",
       "    </tr>\n",
       "    <tr>\n",
       "      <th>2</th>\n",
       "      <td>2014-01-01 02:00:00+00:00</td>\n",
       "      <td>2014-01-01 03:00:00+00:00</td>\n",
       "      <td>3.6</td>\n",
       "      <td>3.6</td>\n",
       "      <td>4.3</td>\n",
       "      <td>3.5</td>\n",
       "      <td>3.4</td>\n",
       "      <td>3.4</td>\n",
       "      <td>3.5</td>\n",
       "      <td>3.6</td>\n",
       "      <td>...</td>\n",
       "      <td>False</td>\n",
       "      <td>False</td>\n",
       "      <td>False</td>\n",
       "      <td>False</td>\n",
       "      <td>False</td>\n",
       "      <td>False</td>\n",
       "      <td>False</td>\n",
       "      <td>False</td>\n",
       "      <td>False</td>\n",
       "      <td>False</td>\n",
       "    </tr>\n",
       "    <tr>\n",
       "      <th>3</th>\n",
       "      <td>2014-01-01 03:00:00+00:00</td>\n",
       "      <td>2014-01-01 04:00:00+00:00</td>\n",
       "      <td>2.6</td>\n",
       "      <td>2.7</td>\n",
       "      <td>4.1</td>\n",
       "      <td>3.3</td>\n",
       "      <td>3.2</td>\n",
       "      <td>3.4</td>\n",
       "      <td>2.8</td>\n",
       "      <td>2.6</td>\n",
       "      <td>...</td>\n",
       "      <td>False</td>\n",
       "      <td>False</td>\n",
       "      <td>False</td>\n",
       "      <td>False</td>\n",
       "      <td>False</td>\n",
       "      <td>False</td>\n",
       "      <td>False</td>\n",
       "      <td>False</td>\n",
       "      <td>False</td>\n",
       "      <td>False</td>\n",
       "    </tr>\n",
       "    <tr>\n",
       "      <th>4</th>\n",
       "      <td>2014-01-01 04:00:00+00:00</td>\n",
       "      <td>2014-01-01 05:00:00+00:00</td>\n",
       "      <td>3.0</td>\n",
       "      <td>3.1</td>\n",
       "      <td>3.7</td>\n",
       "      <td>3.0</td>\n",
       "      <td>2.8</td>\n",
       "      <td>3.5</td>\n",
       "      <td>3.1</td>\n",
       "      <td>3.0</td>\n",
       "      <td>...</td>\n",
       "      <td>False</td>\n",
       "      <td>False</td>\n",
       "      <td>False</td>\n",
       "      <td>False</td>\n",
       "      <td>False</td>\n",
       "      <td>False</td>\n",
       "      <td>False</td>\n",
       "      <td>False</td>\n",
       "      <td>False</td>\n",
       "      <td>False</td>\n",
       "    </tr>\n",
       "    <tr>\n",
       "      <th>...</th>\n",
       "      <td>...</td>\n",
       "      <td>...</td>\n",
       "      <td>...</td>\n",
       "      <td>...</td>\n",
       "      <td>...</td>\n",
       "      <td>...</td>\n",
       "      <td>...</td>\n",
       "      <td>...</td>\n",
       "      <td>...</td>\n",
       "      <td>...</td>\n",
       "      <td>...</td>\n",
       "      <td>...</td>\n",
       "      <td>...</td>\n",
       "      <td>...</td>\n",
       "      <td>...</td>\n",
       "      <td>...</td>\n",
       "      <td>...</td>\n",
       "      <td>...</td>\n",
       "      <td>...</td>\n",
       "      <td>...</td>\n",
       "      <td>...</td>\n",
       "    </tr>\n",
       "    <tr>\n",
       "      <th>94422</th>\n",
       "      <td>2024-10-09 06:00:00+00:00</td>\n",
       "      <td>2024-10-09 07:00:00+00:00</td>\n",
       "      <td>11.7</td>\n",
       "      <td>11.7</td>\n",
       "      <td>13.0</td>\n",
       "      <td>13.2</td>\n",
       "      <td>13.3</td>\n",
       "      <td>11.0</td>\n",
       "      <td>11.4</td>\n",
       "      <td>11.6</td>\n",
       "      <td>...</td>\n",
       "      <td>False</td>\n",
       "      <td>False</td>\n",
       "      <td>False</td>\n",
       "      <td>False</td>\n",
       "      <td>False</td>\n",
       "      <td>False</td>\n",
       "      <td>False</td>\n",
       "      <td>False</td>\n",
       "      <td>False</td>\n",
       "      <td>False</td>\n",
       "    </tr>\n",
       "    <tr>\n",
       "      <th>94423</th>\n",
       "      <td>2024-10-09 07:00:00+00:00</td>\n",
       "      <td>2024-10-09 08:00:00+00:00</td>\n",
       "      <td>12.4</td>\n",
       "      <td>12.4</td>\n",
       "      <td>13.5</td>\n",
       "      <td>13.8</td>\n",
       "      <td>13.8</td>\n",
       "      <td>12.0</td>\n",
       "      <td>12.2</td>\n",
       "      <td>12.4</td>\n",
       "      <td>...</td>\n",
       "      <td>False</td>\n",
       "      <td>False</td>\n",
       "      <td>False</td>\n",
       "      <td>False</td>\n",
       "      <td>False</td>\n",
       "      <td>False</td>\n",
       "      <td>False</td>\n",
       "      <td>False</td>\n",
       "      <td>False</td>\n",
       "      <td>False</td>\n",
       "    </tr>\n",
       "    <tr>\n",
       "      <th>94424</th>\n",
       "      <td>2024-10-09 08:00:00+00:00</td>\n",
       "      <td>2024-10-09 09:00:00+00:00</td>\n",
       "      <td>12.7</td>\n",
       "      <td>12.8</td>\n",
       "      <td>13.6</td>\n",
       "      <td>14.1</td>\n",
       "      <td>14.1</td>\n",
       "      <td>12.4</td>\n",
       "      <td>12.6</td>\n",
       "      <td>12.7</td>\n",
       "      <td>...</td>\n",
       "      <td>False</td>\n",
       "      <td>False</td>\n",
       "      <td>False</td>\n",
       "      <td>False</td>\n",
       "      <td>False</td>\n",
       "      <td>False</td>\n",
       "      <td>False</td>\n",
       "      <td>False</td>\n",
       "      <td>False</td>\n",
       "      <td>False</td>\n",
       "    </tr>\n",
       "    <tr>\n",
       "      <th>94425</th>\n",
       "      <td>2024-10-09 09:00:00+00:00</td>\n",
       "      <td>2024-10-09 10:00:00+00:00</td>\n",
       "      <td>13.5</td>\n",
       "      <td>13.4</td>\n",
       "      <td>13.4</td>\n",
       "      <td>13.8</td>\n",
       "      <td>13.9</td>\n",
       "      <td>13.2</td>\n",
       "      <td>13.4</td>\n",
       "      <td>13.4</td>\n",
       "      <td>...</td>\n",
       "      <td>False</td>\n",
       "      <td>False</td>\n",
       "      <td>False</td>\n",
       "      <td>False</td>\n",
       "      <td>False</td>\n",
       "      <td>False</td>\n",
       "      <td>False</td>\n",
       "      <td>False</td>\n",
       "      <td>False</td>\n",
       "      <td>False</td>\n",
       "    </tr>\n",
       "    <tr>\n",
       "      <th>94426</th>\n",
       "      <td>2024-10-09 10:00:00+00:00</td>\n",
       "      <td>2024-10-09 11:00:00+00:00</td>\n",
       "      <td>14.2</td>\n",
       "      <td>14.1</td>\n",
       "      <td>13.9</td>\n",
       "      <td>13.6</td>\n",
       "      <td>13.5</td>\n",
       "      <td>13.7</td>\n",
       "      <td>14.0</td>\n",
       "      <td>14.2</td>\n",
       "      <td>...</td>\n",
       "      <td>False</td>\n",
       "      <td>False</td>\n",
       "      <td>False</td>\n",
       "      <td>False</td>\n",
       "      <td>False</td>\n",
       "      <td>False</td>\n",
       "      <td>False</td>\n",
       "      <td>False</td>\n",
       "      <td>False</td>\n",
       "      <td>False</td>\n",
       "    </tr>\n",
       "  </tbody>\n",
       "</table>\n",
       "<p>94427 rows × 1127 columns</p>\n",
       "</div>"
      ],
      "text/plain": [
       "                           from                        to  \\\n",
       "0     2014-01-01 00:00:00+00:00 2014-01-01 01:00:00+00:00   \n",
       "1     2014-01-01 01:00:00+00:00 2014-01-01 02:00:00+00:00   \n",
       "2     2014-01-01 02:00:00+00:00 2014-01-01 03:00:00+00:00   \n",
       "3     2014-01-01 03:00:00+00:00 2014-01-01 04:00:00+00:00   \n",
       "4     2014-01-01 04:00:00+00:00 2014-01-01 05:00:00+00:00   \n",
       "...                         ...                       ...   \n",
       "94422 2024-10-09 06:00:00+00:00 2024-10-09 07:00:00+00:00   \n",
       "94423 2024-10-09 07:00:00+00:00 2024-10-09 08:00:00+00:00   \n",
       "94424 2024-10-09 08:00:00+00:00 2024-10-09 09:00:00+00:00   \n",
       "94425 2024-10-09 09:00:00+00:00 2024-10-09 10:00:00+00:00   \n",
       "94426 2024-10-09 10:00:00+00:00 2024-10-09 11:00:00+00:00   \n",
       "\n",
       "       mean_temp_20km_606_50  mean_temp_20km_606_52  mean_temp_20km_606_54  \\\n",
       "0                        3.3                    3.4                    4.2   \n",
       "1                        2.8                    2.9                    4.2   \n",
       "2                        3.6                    3.6                    4.3   \n",
       "3                        2.6                    2.7                    4.1   \n",
       "4                        3.0                    3.1                    3.7   \n",
       "...                      ...                    ...                    ...   \n",
       "94422                   11.7                   11.7                   13.0   \n",
       "94423                   12.4                   12.4                   13.5   \n",
       "94424                   12.7                   12.8                   13.6   \n",
       "94425                   13.5                   13.4                   13.4   \n",
       "94426                   14.2                   14.1                   13.9   \n",
       "\n",
       "       mean_temp_20km_606_58  mean_temp_20km_606_60  mean_temp_20km_608_46  \\\n",
       "0                        3.6                    3.5                    3.7   \n",
       "1                        3.6                    3.5                    3.4   \n",
       "2                        3.5                    3.4                    3.4   \n",
       "3                        3.3                    3.2                    3.4   \n",
       "4                        3.0                    2.8                    3.5   \n",
       "...                      ...                    ...                    ...   \n",
       "94422                   13.2                   13.3                   11.0   \n",
       "94423                   13.8                   13.8                   12.0   \n",
       "94424                   14.1                   14.1                   12.4   \n",
       "94425                   13.8                   13.9                   13.2   \n",
       "94426                   13.6                   13.5                   13.7   \n",
       "\n",
       "       mean_temp_20km_608_48  mean_temp_20km_608_50  ...  \\\n",
       "0                        3.4                    3.3  ...   \n",
       "1                        3.0                    2.8  ...   \n",
       "2                        3.5                    3.6  ...   \n",
       "3                        2.8                    2.6  ...   \n",
       "4                        3.1                    3.0  ...   \n",
       "...                      ...                    ...  ...   \n",
       "94422                   11.4                   11.6  ...   \n",
       "94423                   12.2                   12.4  ...   \n",
       "94424                   12.6                   12.7  ...   \n",
       "94425                   13.4                   13.4  ...   \n",
       "94426                   14.0                   14.2  ...   \n",
       "\n",
       "       wind_dir_W_20km_634_54  wind_dir_W_20km_634_56  wind_dir_W_20km_634_58  \\\n",
       "0                       False                   False                   False   \n",
       "1                       False                   False                   False   \n",
       "2                       False                   False                   False   \n",
       "3                       False                   False                   False   \n",
       "4                       False                   False                   False   \n",
       "...                       ...                     ...                     ...   \n",
       "94422                   False                   False                   False   \n",
       "94423                   False                   False                   False   \n",
       "94424                   False                   False                   False   \n",
       "94425                   False                   False                   False   \n",
       "94426                   False                   False                   False   \n",
       "\n",
       "       wind_dir_W_20km_634_61  wind_dir_W_20km_636_54  wind_dir_W_20km_636_56  \\\n",
       "0                       False                   False                   False   \n",
       "1                       False                   False                   False   \n",
       "2                       False                   False                   False   \n",
       "3                       False                   False                   False   \n",
       "4                       False                   False                   False   \n",
       "...                       ...                     ...                     ...   \n",
       "94422                   False                   False                   False   \n",
       "94423                   False                   False                   False   \n",
       "94424                   False                   False                   False   \n",
       "94425                   False                   False                   False   \n",
       "94426                   False                   False                   False   \n",
       "\n",
       "       wind_dir_W_20km_636_58  wind_dir_W_20km_638_54  wind_dir_W_20km_638_56  \\\n",
       "0                       False                   False                   False   \n",
       "1                       False                   False                   False   \n",
       "2                       False                   False                   False   \n",
       "3                       False                   False                   False   \n",
       "4                       False                   False                   False   \n",
       "...                       ...                     ...                     ...   \n",
       "94422                   False                   False                   False   \n",
       "94423                   False                   False                   False   \n",
       "94424                   False                   False                   False   \n",
       "94425                   False                   False                   False   \n",
       "94426                   False                   False                   False   \n",
       "\n",
       "       wind_dir_W_20km_638_58  \n",
       "0                       False  \n",
       "1                       False  \n",
       "2                       False  \n",
       "3                       False  \n",
       "4                       False  \n",
       "...                       ...  \n",
       "94422                   False  \n",
       "94423                   False  \n",
       "94424                   False  \n",
       "94425                   False  \n",
       "94426                   False  \n",
       "\n",
       "[94427 rows x 1127 columns]"
      ]
     },
     "execution_count": 24,
     "metadata": {},
     "output_type": "execute_result"
    }
   ],
   "source": [
    "df_wide_dk1 = df_weather_dk1.pivot_table(index=['from','to'], columns='cellId', \n",
    "                                             values=['mean_temp', 'mean_wind_speed',\n",
    "                                                     'wind_dir_N', 'wind_dir_NE', 'wind_dir_E', \n",
    "                                                     'wind_dir_SE', 'wind_dir_S', 'wind_dir_SW',\n",
    "                                                      'wind_dir_W'], \n",
    "                                             aggfunc='first').reset_index()\n",
    "\n",
    "# column names\n",
    "df_wide_dk1.columns = ['_'.join(col).strip() if isinstance(col, tuple) else col for col in df_wide_dk1.columns]\n",
    "\n",
    "# rename columns\n",
    "df_wide_dk1.rename(columns={'from_': 'from', 'to_': 'to'}, inplace=True)\n",
    "\n",
    "df_wide_dk1"
   ]
  },
  {
   "cell_type": "markdown",
   "metadata": {},
   "source": [
    "## Energinet data\n",
    "\n",
    "--------\n",
    "https://www.energidataservice.dk/tso-electricity/Elspotprices\n"
   ]
  },
  {
   "cell_type": "code",
   "execution_count": 25,
   "metadata": {},
   "outputs": [],
   "source": [
    "# define url and parameters\n",
    "base_url = 'https://api.energidataservice.dk/dataset/Elspotprices'\n",
    "params = {\n",
    "    'offset': 0,\n",
    "    'start': '2014-01-01T00:00',\n",
    "    'end': '2024-10-01T03:00',\n",
    "    'filter': '{\"PriceArea\":[\"DK1\"]}' # DK1 is the price area for west Denmark, DK2 is for east Denmark https://energinet.dk/El/Systemydelser/Introduktion-til-Systemydelser/Oversigt-over-systemydelser/\n",
    "    }"
   ]
  },
  {
   "cell_type": "code",
   "execution_count": 26,
   "metadata": {},
   "outputs": [
    {
     "data": {
      "text/html": [
       "<div>\n",
       "<style scoped>\n",
       "    .dataframe tbody tr th:only-of-type {\n",
       "        vertical-align: middle;\n",
       "    }\n",
       "\n",
       "    .dataframe tbody tr th {\n",
       "        vertical-align: top;\n",
       "    }\n",
       "\n",
       "    .dataframe thead th {\n",
       "        text-align: right;\n",
       "    }\n",
       "</style>\n",
       "<table border=\"1\" class=\"dataframe\">\n",
       "  <thead>\n",
       "    <tr style=\"text-align: right;\">\n",
       "      <th></th>\n",
       "      <th>HourUTC</th>\n",
       "      <th>SpotPriceDKK</th>\n",
       "    </tr>\n",
       "  </thead>\n",
       "  <tbody>\n",
       "    <tr>\n",
       "      <th>0</th>\n",
       "      <td>2024-10-01 00:00:00+00:00</td>\n",
       "      <td>0.370000</td>\n",
       "    </tr>\n",
       "    <tr>\n",
       "      <th>1</th>\n",
       "      <td>2024-09-30 23:00:00+00:00</td>\n",
       "      <td>0.520000</td>\n",
       "    </tr>\n",
       "    <tr>\n",
       "      <th>2</th>\n",
       "      <td>2024-09-30 22:00:00+00:00</td>\n",
       "      <td>23.930000</td>\n",
       "    </tr>\n",
       "    <tr>\n",
       "      <th>3</th>\n",
       "      <td>2024-09-30 21:00:00+00:00</td>\n",
       "      <td>73.370003</td>\n",
       "    </tr>\n",
       "    <tr>\n",
       "      <th>4</th>\n",
       "      <td>2024-09-30 20:00:00+00:00</td>\n",
       "      <td>149.199997</td>\n",
       "    </tr>\n",
       "    <tr>\n",
       "      <th>...</th>\n",
       "      <td>...</td>\n",
       "      <td>...</td>\n",
       "    </tr>\n",
       "    <tr>\n",
       "      <th>94221</th>\n",
       "      <td>2014-01-01 03:00:00+00:00</td>\n",
       "      <td>86.970001</td>\n",
       "    </tr>\n",
       "    <tr>\n",
       "      <th>94222</th>\n",
       "      <td>2014-01-01 02:00:00+00:00</td>\n",
       "      <td>87.269997</td>\n",
       "    </tr>\n",
       "    <tr>\n",
       "      <th>94223</th>\n",
       "      <td>2014-01-01 01:00:00+00:00</td>\n",
       "      <td>90.180000</td>\n",
       "    </tr>\n",
       "    <tr>\n",
       "      <th>94224</th>\n",
       "      <td>2014-01-01 00:00:00+00:00</td>\n",
       "      <td>96.669998</td>\n",
       "    </tr>\n",
       "    <tr>\n",
       "      <th>94225</th>\n",
       "      <td>2013-12-31 23:00:00+00:00</td>\n",
       "      <td>113.010002</td>\n",
       "    </tr>\n",
       "  </tbody>\n",
       "</table>\n",
       "<p>94226 rows × 2 columns</p>\n",
       "</div>"
      ],
      "text/plain": [
       "                        HourUTC  SpotPriceDKK\n",
       "0     2024-10-01 00:00:00+00:00      0.370000\n",
       "1     2024-09-30 23:00:00+00:00      0.520000\n",
       "2     2024-09-30 22:00:00+00:00     23.930000\n",
       "3     2024-09-30 21:00:00+00:00     73.370003\n",
       "4     2024-09-30 20:00:00+00:00    149.199997\n",
       "...                         ...           ...\n",
       "94221 2014-01-01 03:00:00+00:00     86.970001\n",
       "94222 2014-01-01 02:00:00+00:00     87.269997\n",
       "94223 2014-01-01 01:00:00+00:00     90.180000\n",
       "94224 2014-01-01 00:00:00+00:00     96.669998\n",
       "94225 2013-12-31 23:00:00+00:00    113.010002\n",
       "\n",
       "[94226 rows x 2 columns]"
      ]
     },
     "execution_count": 26,
     "metadata": {},
     "output_type": "execute_result"
    }
   ],
   "source": [
    "# download the data\n",
    "df_energy = ap.get_energydata(url=base_url, params=params)\n",
    "\n",
    "# drop the HourDK column as dmi data is in UTC\n",
    "df_energy.drop(columns=['HourDK', 'PriceArea', 'SpotPriceEUR'], inplace=True)\n",
    "\n",
    "# convert to datetime\n",
    "df_energy['HourUTC'] = pd.to_datetime(df_energy['HourUTC']).dt.tz_localize('UTC')\n",
    "df_energy\n"
   ]
  },
  {
   "cell_type": "markdown",
   "metadata": {},
   "source": [
    "## Combine datasets\n",
    "\n"
   ]
  },
  {
   "cell_type": "code",
   "execution_count": 27,
   "metadata": {},
   "outputs": [
    {
     "data": {
      "text/html": [
       "<div>\n",
       "<style scoped>\n",
       "    .dataframe tbody tr th:only-of-type {\n",
       "        vertical-align: middle;\n",
       "    }\n",
       "\n",
       "    .dataframe tbody tr th {\n",
       "        vertical-align: top;\n",
       "    }\n",
       "\n",
       "    .dataframe thead th {\n",
       "        text-align: right;\n",
       "    }\n",
       "</style>\n",
       "<table border=\"1\" class=\"dataframe\">\n",
       "  <thead>\n",
       "    <tr style=\"text-align: right;\">\n",
       "      <th></th>\n",
       "      <th>SpotPriceDKK</th>\n",
       "      <th>from</th>\n",
       "      <th>to</th>\n",
       "      <th>mean_temp_20km_606_50</th>\n",
       "      <th>mean_temp_20km_606_52</th>\n",
       "      <th>mean_temp_20km_606_54</th>\n",
       "      <th>mean_temp_20km_606_58</th>\n",
       "      <th>mean_temp_20km_606_60</th>\n",
       "      <th>mean_temp_20km_608_46</th>\n",
       "      <th>mean_temp_20km_608_48</th>\n",
       "      <th>...</th>\n",
       "      <th>wind_dir_W_20km_634_54</th>\n",
       "      <th>wind_dir_W_20km_634_56</th>\n",
       "      <th>wind_dir_W_20km_634_58</th>\n",
       "      <th>wind_dir_W_20km_634_61</th>\n",
       "      <th>wind_dir_W_20km_636_54</th>\n",
       "      <th>wind_dir_W_20km_636_56</th>\n",
       "      <th>wind_dir_W_20km_636_58</th>\n",
       "      <th>wind_dir_W_20km_638_54</th>\n",
       "      <th>wind_dir_W_20km_638_56</th>\n",
       "      <th>wind_dir_W_20km_638_58</th>\n",
       "    </tr>\n",
       "  </thead>\n",
       "  <tbody>\n",
       "    <tr>\n",
       "      <th>0</th>\n",
       "      <td>0.370000</td>\n",
       "      <td>2024-10-01 00:00:00+00:00</td>\n",
       "      <td>2024-10-01 01:00:00+00:00</td>\n",
       "      <td>11.4</td>\n",
       "      <td>11.5</td>\n",
       "      <td>12.7</td>\n",
       "      <td>11.6</td>\n",
       "      <td>11.2</td>\n",
       "      <td>11.1</td>\n",
       "      <td>11.4</td>\n",
       "      <td>...</td>\n",
       "      <td>False</td>\n",
       "      <td>False</td>\n",
       "      <td>False</td>\n",
       "      <td>False</td>\n",
       "      <td>False</td>\n",
       "      <td>False</td>\n",
       "      <td>False</td>\n",
       "      <td>False</td>\n",
       "      <td>False</td>\n",
       "      <td>False</td>\n",
       "    </tr>\n",
       "    <tr>\n",
       "      <th>1</th>\n",
       "      <td>0.520000</td>\n",
       "      <td>2024-09-30 23:00:00+00:00</td>\n",
       "      <td>2024-10-01 00:00:00+00:00</td>\n",
       "      <td>11.8</td>\n",
       "      <td>11.8</td>\n",
       "      <td>12.8</td>\n",
       "      <td>11.8</td>\n",
       "      <td>11.4</td>\n",
       "      <td>11.2</td>\n",
       "      <td>11.6</td>\n",
       "      <td>...</td>\n",
       "      <td>False</td>\n",
       "      <td>False</td>\n",
       "      <td>False</td>\n",
       "      <td>False</td>\n",
       "      <td>False</td>\n",
       "      <td>False</td>\n",
       "      <td>False</td>\n",
       "      <td>False</td>\n",
       "      <td>False</td>\n",
       "      <td>False</td>\n",
       "    </tr>\n",
       "    <tr>\n",
       "      <th>2</th>\n",
       "      <td>23.930000</td>\n",
       "      <td>2024-09-30 22:00:00+00:00</td>\n",
       "      <td>2024-09-30 23:00:00+00:00</td>\n",
       "      <td>11.8</td>\n",
       "      <td>11.8</td>\n",
       "      <td>12.9</td>\n",
       "      <td>11.9</td>\n",
       "      <td>11.5</td>\n",
       "      <td>11.0</td>\n",
       "      <td>11.6</td>\n",
       "      <td>...</td>\n",
       "      <td>False</td>\n",
       "      <td>False</td>\n",
       "      <td>False</td>\n",
       "      <td>False</td>\n",
       "      <td>False</td>\n",
       "      <td>False</td>\n",
       "      <td>False</td>\n",
       "      <td>False</td>\n",
       "      <td>False</td>\n",
       "      <td>False</td>\n",
       "    </tr>\n",
       "    <tr>\n",
       "      <th>3</th>\n",
       "      <td>73.370003</td>\n",
       "      <td>2024-09-30 21:00:00+00:00</td>\n",
       "      <td>2024-09-30 22:00:00+00:00</td>\n",
       "      <td>12.0</td>\n",
       "      <td>12.0</td>\n",
       "      <td>13.0</td>\n",
       "      <td>12.1</td>\n",
       "      <td>11.7</td>\n",
       "      <td>11.0</td>\n",
       "      <td>11.7</td>\n",
       "      <td>...</td>\n",
       "      <td>False</td>\n",
       "      <td>False</td>\n",
       "      <td>False</td>\n",
       "      <td>False</td>\n",
       "      <td>False</td>\n",
       "      <td>False</td>\n",
       "      <td>False</td>\n",
       "      <td>False</td>\n",
       "      <td>False</td>\n",
       "      <td>False</td>\n",
       "    </tr>\n",
       "    <tr>\n",
       "      <th>4</th>\n",
       "      <td>149.199997</td>\n",
       "      <td>2024-09-30 20:00:00+00:00</td>\n",
       "      <td>2024-09-30 21:00:00+00:00</td>\n",
       "      <td>11.9</td>\n",
       "      <td>12.0</td>\n",
       "      <td>13.2</td>\n",
       "      <td>12.3</td>\n",
       "      <td>11.9</td>\n",
       "      <td>10.9</td>\n",
       "      <td>11.7</td>\n",
       "      <td>...</td>\n",
       "      <td>False</td>\n",
       "      <td>False</td>\n",
       "      <td>False</td>\n",
       "      <td>False</td>\n",
       "      <td>False</td>\n",
       "      <td>False</td>\n",
       "      <td>False</td>\n",
       "      <td>False</td>\n",
       "      <td>False</td>\n",
       "      <td>False</td>\n",
       "    </tr>\n",
       "    <tr>\n",
       "      <th>...</th>\n",
       "      <td>...</td>\n",
       "      <td>...</td>\n",
       "      <td>...</td>\n",
       "      <td>...</td>\n",
       "      <td>...</td>\n",
       "      <td>...</td>\n",
       "      <td>...</td>\n",
       "      <td>...</td>\n",
       "      <td>...</td>\n",
       "      <td>...</td>\n",
       "      <td>...</td>\n",
       "      <td>...</td>\n",
       "      <td>...</td>\n",
       "      <td>...</td>\n",
       "      <td>...</td>\n",
       "      <td>...</td>\n",
       "      <td>...</td>\n",
       "      <td>...</td>\n",
       "      <td>...</td>\n",
       "      <td>...</td>\n",
       "      <td>...</td>\n",
       "    </tr>\n",
       "    <tr>\n",
       "      <th>94220</th>\n",
       "      <td>84.660004</td>\n",
       "      <td>2014-01-01 04:00:00+00:00</td>\n",
       "      <td>2014-01-01 05:00:00+00:00</td>\n",
       "      <td>3.0</td>\n",
       "      <td>3.1</td>\n",
       "      <td>3.7</td>\n",
       "      <td>3.0</td>\n",
       "      <td>2.8</td>\n",
       "      <td>3.5</td>\n",
       "      <td>3.1</td>\n",
       "      <td>...</td>\n",
       "      <td>False</td>\n",
       "      <td>False</td>\n",
       "      <td>False</td>\n",
       "      <td>False</td>\n",
       "      <td>False</td>\n",
       "      <td>False</td>\n",
       "      <td>False</td>\n",
       "      <td>False</td>\n",
       "      <td>False</td>\n",
       "      <td>False</td>\n",
       "    </tr>\n",
       "    <tr>\n",
       "      <th>94221</th>\n",
       "      <td>86.970001</td>\n",
       "      <td>2014-01-01 03:00:00+00:00</td>\n",
       "      <td>2014-01-01 04:00:00+00:00</td>\n",
       "      <td>2.6</td>\n",
       "      <td>2.7</td>\n",
       "      <td>4.1</td>\n",
       "      <td>3.3</td>\n",
       "      <td>3.2</td>\n",
       "      <td>3.4</td>\n",
       "      <td>2.8</td>\n",
       "      <td>...</td>\n",
       "      <td>False</td>\n",
       "      <td>False</td>\n",
       "      <td>False</td>\n",
       "      <td>False</td>\n",
       "      <td>False</td>\n",
       "      <td>False</td>\n",
       "      <td>False</td>\n",
       "      <td>False</td>\n",
       "      <td>False</td>\n",
       "      <td>False</td>\n",
       "    </tr>\n",
       "    <tr>\n",
       "      <th>94222</th>\n",
       "      <td>87.269997</td>\n",
       "      <td>2014-01-01 02:00:00+00:00</td>\n",
       "      <td>2014-01-01 03:00:00+00:00</td>\n",
       "      <td>3.6</td>\n",
       "      <td>3.6</td>\n",
       "      <td>4.3</td>\n",
       "      <td>3.5</td>\n",
       "      <td>3.4</td>\n",
       "      <td>3.4</td>\n",
       "      <td>3.5</td>\n",
       "      <td>...</td>\n",
       "      <td>False</td>\n",
       "      <td>False</td>\n",
       "      <td>False</td>\n",
       "      <td>False</td>\n",
       "      <td>False</td>\n",
       "      <td>False</td>\n",
       "      <td>False</td>\n",
       "      <td>False</td>\n",
       "      <td>False</td>\n",
       "      <td>False</td>\n",
       "    </tr>\n",
       "    <tr>\n",
       "      <th>94223</th>\n",
       "      <td>90.180000</td>\n",
       "      <td>2014-01-01 01:00:00+00:00</td>\n",
       "      <td>2014-01-01 02:00:00+00:00</td>\n",
       "      <td>2.8</td>\n",
       "      <td>2.9</td>\n",
       "      <td>4.2</td>\n",
       "      <td>3.6</td>\n",
       "      <td>3.5</td>\n",
       "      <td>3.4</td>\n",
       "      <td>3.0</td>\n",
       "      <td>...</td>\n",
       "      <td>False</td>\n",
       "      <td>False</td>\n",
       "      <td>False</td>\n",
       "      <td>False</td>\n",
       "      <td>False</td>\n",
       "      <td>False</td>\n",
       "      <td>False</td>\n",
       "      <td>False</td>\n",
       "      <td>False</td>\n",
       "      <td>False</td>\n",
       "    </tr>\n",
       "    <tr>\n",
       "      <th>94224</th>\n",
       "      <td>96.669998</td>\n",
       "      <td>2014-01-01 00:00:00+00:00</td>\n",
       "      <td>2014-01-01 01:00:00+00:00</td>\n",
       "      <td>3.3</td>\n",
       "      <td>3.4</td>\n",
       "      <td>4.2</td>\n",
       "      <td>3.6</td>\n",
       "      <td>3.5</td>\n",
       "      <td>3.7</td>\n",
       "      <td>3.4</td>\n",
       "      <td>...</td>\n",
       "      <td>False</td>\n",
       "      <td>False</td>\n",
       "      <td>False</td>\n",
       "      <td>False</td>\n",
       "      <td>False</td>\n",
       "      <td>False</td>\n",
       "      <td>False</td>\n",
       "      <td>False</td>\n",
       "      <td>False</td>\n",
       "      <td>False</td>\n",
       "    </tr>\n",
       "  </tbody>\n",
       "</table>\n",
       "<p>94225 rows × 1128 columns</p>\n",
       "</div>"
      ],
      "text/plain": [
       "       SpotPriceDKK                      from                        to  \\\n",
       "0          0.370000 2024-10-01 00:00:00+00:00 2024-10-01 01:00:00+00:00   \n",
       "1          0.520000 2024-09-30 23:00:00+00:00 2024-10-01 00:00:00+00:00   \n",
       "2         23.930000 2024-09-30 22:00:00+00:00 2024-09-30 23:00:00+00:00   \n",
       "3         73.370003 2024-09-30 21:00:00+00:00 2024-09-30 22:00:00+00:00   \n",
       "4        149.199997 2024-09-30 20:00:00+00:00 2024-09-30 21:00:00+00:00   \n",
       "...             ...                       ...                       ...   \n",
       "94220     84.660004 2014-01-01 04:00:00+00:00 2014-01-01 05:00:00+00:00   \n",
       "94221     86.970001 2014-01-01 03:00:00+00:00 2014-01-01 04:00:00+00:00   \n",
       "94222     87.269997 2014-01-01 02:00:00+00:00 2014-01-01 03:00:00+00:00   \n",
       "94223     90.180000 2014-01-01 01:00:00+00:00 2014-01-01 02:00:00+00:00   \n",
       "94224     96.669998 2014-01-01 00:00:00+00:00 2014-01-01 01:00:00+00:00   \n",
       "\n",
       "       mean_temp_20km_606_50  mean_temp_20km_606_52  mean_temp_20km_606_54  \\\n",
       "0                       11.4                   11.5                   12.7   \n",
       "1                       11.8                   11.8                   12.8   \n",
       "2                       11.8                   11.8                   12.9   \n",
       "3                       12.0                   12.0                   13.0   \n",
       "4                       11.9                   12.0                   13.2   \n",
       "...                      ...                    ...                    ...   \n",
       "94220                    3.0                    3.1                    3.7   \n",
       "94221                    2.6                    2.7                    4.1   \n",
       "94222                    3.6                    3.6                    4.3   \n",
       "94223                    2.8                    2.9                    4.2   \n",
       "94224                    3.3                    3.4                    4.2   \n",
       "\n",
       "       mean_temp_20km_606_58  mean_temp_20km_606_60  mean_temp_20km_608_46  \\\n",
       "0                       11.6                   11.2                   11.1   \n",
       "1                       11.8                   11.4                   11.2   \n",
       "2                       11.9                   11.5                   11.0   \n",
       "3                       12.1                   11.7                   11.0   \n",
       "4                       12.3                   11.9                   10.9   \n",
       "...                      ...                    ...                    ...   \n",
       "94220                    3.0                    2.8                    3.5   \n",
       "94221                    3.3                    3.2                    3.4   \n",
       "94222                    3.5                    3.4                    3.4   \n",
       "94223                    3.6                    3.5                    3.4   \n",
       "94224                    3.6                    3.5                    3.7   \n",
       "\n",
       "       mean_temp_20km_608_48  ...  wind_dir_W_20km_634_54  \\\n",
       "0                       11.4  ...                   False   \n",
       "1                       11.6  ...                   False   \n",
       "2                       11.6  ...                   False   \n",
       "3                       11.7  ...                   False   \n",
       "4                       11.7  ...                   False   \n",
       "...                      ...  ...                     ...   \n",
       "94220                    3.1  ...                   False   \n",
       "94221                    2.8  ...                   False   \n",
       "94222                    3.5  ...                   False   \n",
       "94223                    3.0  ...                   False   \n",
       "94224                    3.4  ...                   False   \n",
       "\n",
       "       wind_dir_W_20km_634_56  wind_dir_W_20km_634_58  wind_dir_W_20km_634_61  \\\n",
       "0                       False                   False                   False   \n",
       "1                       False                   False                   False   \n",
       "2                       False                   False                   False   \n",
       "3                       False                   False                   False   \n",
       "4                       False                   False                   False   \n",
       "...                       ...                     ...                     ...   \n",
       "94220                   False                   False                   False   \n",
       "94221                   False                   False                   False   \n",
       "94222                   False                   False                   False   \n",
       "94223                   False                   False                   False   \n",
       "94224                   False                   False                   False   \n",
       "\n",
       "       wind_dir_W_20km_636_54  wind_dir_W_20km_636_56  wind_dir_W_20km_636_58  \\\n",
       "0                       False                   False                   False   \n",
       "1                       False                   False                   False   \n",
       "2                       False                   False                   False   \n",
       "3                       False                   False                   False   \n",
       "4                       False                   False                   False   \n",
       "...                       ...                     ...                     ...   \n",
       "94220                   False                   False                   False   \n",
       "94221                   False                   False                   False   \n",
       "94222                   False                   False                   False   \n",
       "94223                   False                   False                   False   \n",
       "94224                   False                   False                   False   \n",
       "\n",
       "       wind_dir_W_20km_638_54  wind_dir_W_20km_638_56  wind_dir_W_20km_638_58  \n",
       "0                       False                   False                   False  \n",
       "1                       False                   False                   False  \n",
       "2                       False                   False                   False  \n",
       "3                       False                   False                   False  \n",
       "4                       False                   False                   False  \n",
       "...                       ...                     ...                     ...  \n",
       "94220                   False                   False                   False  \n",
       "94221                   False                   False                   False  \n",
       "94222                   False                   False                   False  \n",
       "94223                   False                   False                   False  \n",
       "94224                   False                   False                   False  \n",
       "\n",
       "[94225 rows x 1128 columns]"
      ]
     },
     "metadata": {},
     "output_type": "display_data"
    }
   ],
   "source": [
    "# join on from and HourUTC\n",
    "df = pd.merge(df_energy, df_wide_dk1, left_on=['HourUTC'], right_on=['from'], how='inner').drop(columns=['HourUTC'], axis=1)\n",
    "\n",
    "display(df)"
   ]
  },
  {
   "cell_type": "code",
   "execution_count": 28,
   "metadata": {},
   "outputs": [],
   "source": [
    "# save the data\n",
    "df.to_csv('/Users/johan/Downloads/data.csv', index=False)"
   ]
  }
 ],
 "metadata": {
  "kernelspec": {
   "display_name": "base",
   "language": "python",
   "name": "python3"
  },
  "language_info": {
   "codemirror_mode": {
    "name": "ipython",
    "version": 3
   },
   "file_extension": ".py",
   "mimetype": "text/x-python",
   "name": "python",
   "nbconvert_exporter": "python",
   "pygments_lexer": "ipython3",
   "version": "3.11.8"
  }
 },
 "nbformat": 4,
 "nbformat_minor": 2
}
