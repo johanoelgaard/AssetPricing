{
 "cells": [
  {
   "cell_type": "markdown",
   "metadata": {},
   "source": [
    "Combine data from DMI & Energinet\n",
    "=======================\n",
    "This loads in csv file created by the [loadbulkweather.ipynb](loadbulkweather.ipynb) and pulls data from the Energinet API"
   ]
  },
  {
   "cell_type": "code",
   "execution_count": 1,
   "metadata": {},
   "outputs": [],
   "source": [
    "import pandas as pd\n",
    "\n",
    "import assetpricing_functions as ap\n",
    "%load_ext autoreload\n",
    "%autoreload 2"
   ]
  },
  {
   "cell_type": "markdown",
   "metadata": {},
   "source": [
    "## Loading DMI data"
   ]
  },
  {
   "cell_type": "code",
   "execution_count": 2,
   "metadata": {},
   "outputs": [],
   "source": [
    "# path to the CSV file\n",
    "path = '/Users/johan/Downloads/weather-out/weather_data.csv' \n",
    "\n",
    "df_weather = pd.read_csv(path)"
   ]
  },
  {
   "cell_type": "code",
   "execution_count": 3,
   "metadata": {},
   "outputs": [],
   "source": [
    "# convert to datetime\n",
    "df_weather['from'] = pd.to_datetime(df_weather['from'])\n",
    "df_weather['to'] = pd.to_datetime(df_weather['to'])\n",
    "\n",
    "# adding electricity area to the dataframe\n",
    "df_weather['area'] = df_weather['cellId'].apply(lambda x: 'DK1' if int(x[-2:]) < 62 else 'DK2') # DK1 is the price area for west Denmark, DK2 is for east Denmark https://energinet.dk/El/Systemydelser/Introduktion-til-Systemydelser/Oversigt-over-systemydelser/\n",
    "\n",
    "df_weather.head()"
   ]
  },
  {
   "cell_type": "code",
   "execution_count": 4,
   "metadata": {},
   "outputs": [
    {
     "name": "stdout",
     "output_type": "stream",
     "text": [
      "Map saved as: output/polygon_by_area.png\n"
     ]
    },
    {
     "data": {
      "application/vnd.plotly.v1+json": {
       "config": {
        "plotlyServerURL": "https://plot.ly"
       },
       "data": [
        {
         "fill": "toself",
         "fillcolor": "rgba(255, 0, 0, 0.7)",
         "hoverinfo": "text",
         "hovertext": "Cell ID: 20km_604_64<br>Area: DK2",
         "lat": [
          54.4883,
          54.4824,
          54.6619,
          54.6679,
          54.4883
         ],
         "line": {
          "color": "grey",
          "width": 1
         },
         "lon": [
          11.1613,
          11.4698,
          11.4807,
          11.1709,
          11.1613
         ],
         "mode": "lines",
         "name": "20km_604_64",
         "type": "scattermapbox"
        },
        {
         "fill": "toself",
         "fillcolor": "rgba(255, 0, 0, 0.7)",
         "hoverinfo": "text",
         "hovertext": "Cell ID: 20km_604_66<br>Area: DK2",
         "lat": [
          54.4824,
          54.4757,
          54.6552,
          54.6619,
          54.4824
         ],
         "line": {
          "color": "grey",
          "width": 1
         },
         "lon": [
          11.4698,
          11.7781,
          11.7904,
          11.4807,
          11.4698
         ],
         "mode": "lines",
         "name": "20km_604_66",
         "type": "scattermapbox"
        },
        {
         "fill": "toself",
         "fillcolor": "rgba(255, 0, 0, 0.7)",
         "hoverinfo": "text",
         "hovertext": "Cell ID: 20km_604_68<br>Area: DK2",
         "lat": [
          54.4757,
          54.4682,
          54.6477,
          54.6552,
          54.4757
         ],
         "line": {
          "color": "grey",
          "width": 1
         },
         "lon": [
          11.7781,
          12.0863,
          12.0999,
          11.7904,
          11.7781
         ],
         "mode": "lines",
         "name": "20km_604_68",
         "type": "scattermapbox"
        },
        {
         "fill": "toself",
         "fillcolor": "rgba(0, 150, 255, 0.7)",
         "hoverinfo": "text",
         "hovertext": "Cell ID: 20km_606_50<br>Area: DK1",
         "lat": [
          54.6873,
          54.6869,
          54.8667,
          54.8671,
          54.6873
         ],
         "line": {
          "color": "grey",
          "width": 1
         },
         "lon": [
          9,
          9.3102,
          9.3116,
          9,
          9
         ],
         "mode": "lines",
         "name": "20km_606_50",
         "type": "scattermapbox"
        },
        {
         "fill": "toself",
         "fillcolor": "rgba(0, 150, 255, 0.7)",
         "hoverinfo": "text",
         "hovertext": "Cell ID: 20km_606_52<br>Area: DK1",
         "lat": [
          54.6869,
          54.6858,
          54.8655,
          54.8667,
          54.6869
         ],
         "line": {
          "color": "grey",
          "width": 1
         },
         "lon": [
          9.3102,
          9.6205,
          9.6232,
          9.3116,
          9.3102
         ],
         "mode": "lines",
         "name": "20km_606_52",
         "type": "scattermapbox"
        },
        {
         "fill": "toself",
         "fillcolor": "rgba(0, 150, 255, 0.7)",
         "hoverinfo": "text",
         "hovertext": "Cell ID: 20km_606_54<br>Area: DK1",
         "lat": [
          54.6858,
          54.6838,
          54.8635,
          54.8655,
          54.6858
         ],
         "line": {
          "color": "grey",
          "width": 1
         },
         "lon": [
          9.6205,
          9.9307,
          9.9348,
          9.6232,
          9.6205
         ],
         "mode": "lines",
         "name": "20km_606_54",
         "type": "scattermapbox"
        },
        {
         "fill": "toself",
         "fillcolor": "rgba(0, 150, 255, 0.7)",
         "hoverinfo": "text",
         "hovertext": "Cell ID: 20km_606_58<br>Area: DK1",
         "lat": [
          54.681,
          54.6774,
          54.8571,
          54.8607,
          54.681
         ],
         "line": {
          "color": "grey",
          "width": 1
         },
         "lon": [
          10.2408,
          10.5509,
          10.5578,
          10.2463,
          10.2408
         ],
         "mode": "lines",
         "name": "20km_606_58",
         "type": "scattermapbox"
        },
        {
         "fill": "toself",
         "fillcolor": "rgba(0, 150, 255, 0.7)",
         "hoverinfo": "text",
         "hovertext": "Cell ID: 20km_606_60<br>Area: DK1",
         "lat": [
          54.6774,
          54.6731,
          54.8527,
          54.8571,
          54.6774
         ],
         "line": {
          "color": "grey",
          "width": 1
         },
         "lon": [
          10.5509,
          10.8609,
          10.8692,
          10.5578,
          10.5509
         ],
         "mode": "lines",
         "name": "20km_606_60",
         "type": "scattermapbox"
        },
        {
         "fill": "toself",
         "fillcolor": "rgba(255, 0, 0, 0.7)",
         "hoverinfo": "text",
         "hovertext": "Cell ID: 20km_606_62<br>Area: DK2",
         "lat": [
          54.6731,
          54.6679,
          54.8475,
          54.8527,
          54.6731
         ],
         "line": {
          "color": "grey",
          "width": 1
         },
         "lon": [
          10.8609,
          11.1709,
          11.1805,
          10.8692,
          10.8609
         ],
         "mode": "lines",
         "name": "20km_606_62",
         "type": "scattermapbox"
        },
        {
         "fill": "toself",
         "fillcolor": "rgba(255, 0, 0, 0.7)",
         "hoverinfo": "text",
         "hovertext": "Cell ID: 20km_606_64<br>Area: DK2",
         "lat": [
          54.6679,
          54.6619,
          54.8415,
          54.8475,
          54.6679
         ],
         "line": {
          "color": "grey",
          "width": 1
         },
         "lon": [
          11.1709,
          11.4807,
          11.4917,
          11.1805,
          11.1709
         ],
         "mode": "lines",
         "name": "20km_606_64",
         "type": "scattermapbox"
        },
        {
         "fill": "toself",
         "fillcolor": "rgba(255, 0, 0, 0.7)",
         "hoverinfo": "text",
         "hovertext": "Cell ID: 20km_606_66<br>Area: DK2",
         "lat": [
          54.6619,
          54.6552,
          54.8347,
          54.8415,
          54.6619
         ],
         "line": {
          "color": "grey",
          "width": 1
         },
         "lon": [
          11.4807,
          11.7904,
          11.8028,
          11.4917,
          11.4807
         ],
         "mode": "lines",
         "name": "20km_606_66",
         "type": "scattermapbox"
        },
        {
         "fill": "toself",
         "fillcolor": "rgba(255, 0, 0, 0.7)",
         "hoverinfo": "text",
         "hovertext": "Cell ID: 20km_606_68<br>Area: DK2",
         "lat": [
          54.6552,
          54.6477,
          54.8271,
          54.8347,
          54.6552
         ],
         "line": {
          "color": "grey",
          "width": 1
         },
         "lon": [
          11.7904,
          12.0999,
          12.1137,
          11.8028,
          11.7904
         ],
         "mode": "lines",
         "name": "20km_606_68",
         "type": "scattermapbox"
        },
        {
         "fill": "toself",
         "fillcolor": "rgba(0, 150, 255, 0.7)",
         "hoverinfo": "text",
         "hovertext": "Cell ID: 20km_608_46<br>Area: DK1",
         "lat": [
          54.8655,
          54.8667,
          55.0464,
          55.0452,
          54.8655
         ],
         "line": {
          "color": "grey",
          "width": 1
         },
         "lon": [
          8.3768,
          8.6884,
          8.687,
          8.374,
          8.3768
         ],
         "mode": "lines",
         "name": "20km_608_46",
         "type": "scattermapbox"
        },
        {
         "fill": "toself",
         "fillcolor": "rgba(0, 150, 255, 0.7)",
         "hoverinfo": "text",
         "hovertext": "Cell ID: 20km_608_48<br>Area: DK1",
         "lat": [
          54.8667,
          54.8671,
          55.0468,
          55.0464,
          54.8667
         ],
         "line": {
          "color": "grey",
          "width": 1
         },
         "lon": [
          8.6884,
          9,
          9,
          8.687,
          8.6884
         ],
         "mode": "lines",
         "name": "20km_608_48",
         "type": "scattermapbox"
        },
        {
         "fill": "toself",
         "fillcolor": "rgba(0, 150, 255, 0.7)",
         "hoverinfo": "text",
         "hovertext": "Cell ID: 20km_608_50<br>Area: DK1",
         "lat": [
          54.8671,
          54.8667,
          55.0464,
          55.0468,
          54.8671
         ],
         "line": {
          "color": "grey",
          "width": 1
         },
         "lon": [
          9,
          9.3116,
          9.313,
          9,
          9
         ],
         "mode": "lines",
         "name": "20km_608_50",
         "type": "scattermapbox"
        },
        {
         "fill": "toself",
         "fillcolor": "rgba(0, 150, 255, 0.7)",
         "hoverinfo": "text",
         "hovertext": "Cell ID: 20km_608_52<br>Area: DK1",
         "lat": [
          54.8667,
          54.8655,
          55.0452,
          55.0464,
          54.8667
         ],
         "line": {
          "color": "grey",
          "width": 1
         },
         "lon": [
          9.3116,
          9.6232,
          9.626,
          9.313,
          9.3116
         ],
         "mode": "lines",
         "name": "20km_608_52",
         "type": "scattermapbox"
        },
        {
         "fill": "toself",
         "fillcolor": "rgba(0, 150, 255, 0.7)",
         "hoverinfo": "text",
         "hovertext": "Cell ID: 20km_608_54<br>Area: DK1",
         "lat": [
          54.8655,
          54.8635,
          55.0432,
          55.0452,
          54.8655
         ],
         "line": {
          "color": "grey",
          "width": 1
         },
         "lon": [
          9.6232,
          9.9348,
          9.939,
          9.626,
          9.6232
         ],
         "mode": "lines",
         "name": "20km_608_54",
         "type": "scattermapbox"
        },
        {
         "fill": "toself",
         "fillcolor": "rgba(0, 150, 255, 0.7)",
         "hoverinfo": "text",
         "hovertext": "Cell ID: 20km_608_56<br>Area: DK1",
         "lat": [
          54.8635,
          54.8607,
          55.0404,
          55.0432,
          54.8635
         ],
         "line": {
          "color": "grey",
          "width": 1
         },
         "lon": [
          9.9348,
          10.2463,
          10.2519,
          9.939,
          9.9348
         ],
         "mode": "lines",
         "name": "20km_608_56",
         "type": "scattermapbox"
        },
        {
         "fill": "toself",
         "fillcolor": "rgba(0, 150, 255, 0.7)",
         "hoverinfo": "text",
         "hovertext": "Cell ID: 20km_608_58<br>Area: DK1",
         "lat": [
          54.8607,
          54.8571,
          55.0367,
          55.0404,
          54.8607
         ],
         "line": {
          "color": "grey",
          "width": 1
         },
         "lon": [
          10.2463,
          10.5578,
          10.5648,
          10.2519,
          10.2463
         ],
         "mode": "lines",
         "name": "20km_608_58",
         "type": "scattermapbox"
        },
        {
         "fill": "toself",
         "fillcolor": "rgba(0, 150, 255, 0.7)",
         "hoverinfo": "text",
         "hovertext": "Cell ID: 20km_608_60<br>Area: DK1",
         "lat": [
          54.8571,
          54.8527,
          55.0323,
          55.0367,
          54.8571
         ],
         "line": {
          "color": "grey",
          "width": 1
         },
         "lon": [
          10.5578,
          10.8692,
          10.8775,
          10.5648,
          10.5578
         ],
         "mode": "lines",
         "name": "20km_608_60",
         "type": "scattermapbox"
        },
        {
         "fill": "toself",
         "fillcolor": "rgba(255, 0, 0, 0.7)",
         "hoverinfo": "text",
         "hovertext": "Cell ID: 20km_608_62<br>Area: DK2",
         "lat": [
          54.8527,
          54.8475,
          55.0271,
          55.0323,
          54.8527
         ],
         "line": {
          "color": "grey",
          "width": 1
         },
         "lon": [
          10.8692,
          11.1805,
          11.1902,
          10.8775,
          10.8692
         ],
         "mode": "lines",
         "name": "20km_608_62",
         "type": "scattermapbox"
        },
        {
         "fill": "toself",
         "fillcolor": "rgba(255, 0, 0, 0.7)",
         "hoverinfo": "text",
         "hovertext": "Cell ID: 20km_608_64<br>Area: DK2",
         "lat": [
          54.8475,
          54.8415,
          55.0211,
          55.0271,
          54.8475
         ],
         "line": {
          "color": "grey",
          "width": 1
         },
         "lon": [
          11.1805,
          11.4917,
          11.5028,
          11.1902,
          11.1805
         ],
         "mode": "lines",
         "name": "20km_608_64",
         "type": "scattermapbox"
        },
        {
         "fill": "toself",
         "fillcolor": "rgba(255, 0, 0, 0.7)",
         "hoverinfo": "text",
         "hovertext": "Cell ID: 20km_608_66<br>Area: DK2",
         "lat": [
          54.8415,
          54.8347,
          55.0142,
          55.0211,
          54.8415
         ],
         "line": {
          "color": "grey",
          "width": 1
         },
         "lon": [
          11.4917,
          11.8028,
          11.8153,
          11.5028,
          11.4917
         ],
         "mode": "lines",
         "name": "20km_608_66",
         "type": "scattermapbox"
        },
        {
         "fill": "toself",
         "fillcolor": "rgba(255, 0, 0, 0.7)",
         "hoverinfo": "text",
         "hovertext": "Cell ID: 20km_608_68<br>Area: DK2",
         "lat": [
          54.8347,
          54.8271,
          55.0066,
          55.0142,
          54.8347
         ],
         "line": {
          "color": "grey",
          "width": 1
         },
         "lon": [
          11.8028,
          12.1137,
          12.1276,
          11.8153,
          11.8028
         ],
         "mode": "lines",
         "name": "20km_608_68",
         "type": "scattermapbox"
        },
        {
         "fill": "toself",
         "fillcolor": "rgba(255, 0, 0, 0.7)",
         "hoverinfo": "text",
         "hovertext": "Cell ID: 20km_608_70<br>Area: DK2",
         "lat": [
          54.8271,
          54.8188,
          54.9982,
          55.0066,
          54.8271
         ],
         "line": {
          "color": "grey",
          "width": 1
         },
         "lon": [
          12.1137,
          12.4245,
          12.4397,
          12.1276,
          12.1137
         ],
         "mode": "lines",
         "name": "20km_608_70",
         "type": "scattermapbox"
        },
        {
         "fill": "toself",
         "fillcolor": "rgba(255, 0, 0, 0.7)",
         "hoverinfo": "text",
         "hovertext": "Cell ID: 20km_608_72<br>Area: DK2",
         "lat": [
          54.8188,
          54.8096,
          54.9889,
          54.9982,
          54.8188
         ],
         "line": {
          "color": "grey",
          "width": 1
         },
         "lon": [
          12.4245,
          12.7351,
          12.7517,
          12.4397,
          12.4245
         ],
         "mode": "lines",
         "name": "20km_608_72",
         "type": "scattermapbox"
        },
        {
         "fill": "toself",
         "fillcolor": "rgba(0, 150, 255, 0.7)",
         "hoverinfo": "text",
         "hovertext": "Cell ID: 20km_610_46<br>Area: DK1",
         "lat": [
          55.0452,
          55.0464,
          55.2261,
          55.2249,
          55.0452
         ],
         "line": {
          "color": "grey",
          "width": 1
         },
         "lon": [
          8.374,
          8.687,
          8.6856,
          8.3712,
          8.374
         ],
         "mode": "lines",
         "name": "20km_610_46",
         "type": "scattermapbox"
        },
        {
         "fill": "toself",
         "fillcolor": "rgba(0, 150, 255, 0.7)",
         "hoverinfo": "text",
         "hovertext": "Cell ID: 20km_610_48<br>Area: DK1",
         "lat": [
          55.0464,
          55.0468,
          55.2265,
          55.2261,
          55.0464
         ],
         "line": {
          "color": "grey",
          "width": 1
         },
         "lon": [
          8.687,
          9,
          9,
          8.6856,
          8.687
         ],
         "mode": "lines",
         "name": "20km_610_48",
         "type": "scattermapbox"
        },
        {
         "fill": "toself",
         "fillcolor": "rgba(0, 150, 255, 0.7)",
         "hoverinfo": "text",
         "hovertext": "Cell ID: 20km_610_50<br>Area: DK1",
         "lat": [
          55.0468,
          55.0464,
          55.2261,
          55.2265,
          55.0468
         ],
         "line": {
          "color": "grey",
          "width": 1
         },
         "lon": [
          9,
          9.313,
          9.3144,
          9,
          9
         ],
         "mode": "lines",
         "name": "20km_610_50",
         "type": "scattermapbox"
        },
        {
         "fill": "toself",
         "fillcolor": "rgba(0, 150, 255, 0.7)",
         "hoverinfo": "text",
         "hovertext": "Cell ID: 20km_610_52<br>Area: DK1",
         "lat": [
          55.0464,
          55.0452,
          55.2249,
          55.2261,
          55.0464
         ],
         "line": {
          "color": "grey",
          "width": 1
         },
         "lon": [
          9.313,
          9.626,
          9.6288,
          9.3144,
          9.313
         ],
         "mode": "lines",
         "name": "20km_610_52",
         "type": "scattermapbox"
        },
        {
         "fill": "toself",
         "fillcolor": "rgba(0, 150, 255, 0.7)",
         "hoverinfo": "text",
         "hovertext": "Cell ID: 20km_610_54<br>Area: DK1",
         "lat": [
          55.0452,
          55.0432,
          55.2229,
          55.2249,
          55.0452
         ],
         "line": {
          "color": "grey",
          "width": 1
         },
         "lon": [
          9.626,
          9.939,
          9.9432,
          9.6288,
          9.626
         ],
         "mode": "lines",
         "name": "20km_610_54",
         "type": "scattermapbox"
        },
        {
         "fill": "toself",
         "fillcolor": "rgba(0, 150, 255, 0.7)",
         "hoverinfo": "text",
         "hovertext": "Cell ID: 20km_610_56<br>Area: DK1",
         "lat": [
          55.0432,
          55.0404,
          55.2201,
          55.2229,
          55.0432
         ],
         "line": {
          "color": "grey",
          "width": 1
         },
         "lon": [
          9.939,
          10.2519,
          10.2575,
          9.9432,
          9.939
         ],
         "mode": "lines",
         "name": "20km_610_56",
         "type": "scattermapbox"
        },
        {
         "fill": "toself",
         "fillcolor": "rgba(0, 150, 255, 0.7)",
         "hoverinfo": "text",
         "hovertext": "Cell ID: 20km_610_58<br>Area: DK1",
         "lat": [
          55.0404,
          55.0367,
          55.2164,
          55.2201,
          55.0404
         ],
         "line": {
          "color": "grey",
          "width": 1
         },
         "lon": [
          10.2519,
          10.5648,
          10.5718,
          10.2575,
          10.2519
         ],
         "mode": "lines",
         "name": "20km_610_58",
         "type": "scattermapbox"
        },
        {
         "fill": "toself",
         "fillcolor": "rgba(0, 150, 255, 0.7)",
         "hoverinfo": "text",
         "hovertext": "Cell ID: 20km_610_60<br>Area: DK1",
         "lat": [
          55.0367,
          55.0323,
          55.212,
          55.2164,
          55.0367
         ],
         "line": {
          "color": "grey",
          "width": 1
         },
         "lon": [
          10.5648,
          10.8775,
          10.886,
          10.5718,
          10.5648
         ],
         "mode": "lines",
         "name": "20km_610_60",
         "type": "scattermapbox"
        },
        {
         "fill": "toself",
         "fillcolor": "rgba(255, 0, 0, 0.7)",
         "hoverinfo": "text",
         "hovertext": "Cell ID: 20km_610_62<br>Area: DK2",
         "lat": [
          55.0323,
          55.0271,
          55.2067,
          55.212,
          55.0323
         ],
         "line": {
          "color": "grey",
          "width": 1
         },
         "lon": [
          10.8775,
          11.1902,
          11.2001,
          10.886,
          10.8775
         ],
         "mode": "lines",
         "name": "20km_610_62",
         "type": "scattermapbox"
        },
        {
         "fill": "toself",
         "fillcolor": "rgba(255, 0, 0, 0.7)",
         "hoverinfo": "text",
         "hovertext": "Cell ID: 20km_610_64<br>Area: DK2",
         "lat": [
          55.0271,
          55.0211,
          55.2006,
          55.2067,
          55.0271
         ],
         "line": {
          "color": "grey",
          "width": 1
         },
         "lon": [
          11.1902,
          11.5028,
          11.5141,
          11.2001,
          11.1902
         ],
         "mode": "lines",
         "name": "20km_610_64",
         "type": "scattermapbox"
        },
        {
         "fill": "toself",
         "fillcolor": "rgba(255, 0, 0, 0.7)",
         "hoverinfo": "text",
         "hovertext": "Cell ID: 20km_610_66<br>Area: DK2",
         "lat": [
          55.0211,
          55.0142,
          55.1937,
          55.2006,
          55.0211
         ],
         "line": {
          "color": "grey",
          "width": 1
         },
         "lon": [
          11.5028,
          11.8153,
          11.8279,
          11.5141,
          11.5028
         ],
         "mode": "lines",
         "name": "20km_610_66",
         "type": "scattermapbox"
        },
        {
         "fill": "toself",
         "fillcolor": "rgba(255, 0, 0, 0.7)",
         "hoverinfo": "text",
         "hovertext": "Cell ID: 20km_610_68<br>Area: DK2",
         "lat": [
          55.0142,
          55.0066,
          55.1861,
          55.1937,
          55.0142
         ],
         "line": {
          "color": "grey",
          "width": 1
         },
         "lon": [
          11.8153,
          12.1276,
          12.1416,
          11.8279,
          11.8153
         ],
         "mode": "lines",
         "name": "20km_610_68",
         "type": "scattermapbox"
        },
        {
         "fill": "toself",
         "fillcolor": "rgba(255, 0, 0, 0.7)",
         "hoverinfo": "text",
         "hovertext": "Cell ID: 20km_610_70<br>Area: DK2",
         "lat": [
          55.0066,
          54.9982,
          55.1776,
          55.1861,
          55.0066
         ],
         "line": {
          "color": "grey",
          "width": 1
         },
         "lon": [
          12.1276,
          12.4397,
          12.4552,
          12.1416,
          12.1276
         ],
         "mode": "lines",
         "name": "20km_610_70",
         "type": "scattermapbox"
        },
        {
         "fill": "toself",
         "fillcolor": "rgba(255, 0, 0, 0.7)",
         "hoverinfo": "text",
         "hovertext": "Cell ID: 20km_610_72<br>Area: DK2",
         "lat": [
          54.9982,
          54.9889,
          55.1683,
          55.1776,
          54.9982
         ],
         "line": {
          "color": "grey",
          "width": 1
         },
         "lon": [
          12.4397,
          12.7517,
          12.7686,
          12.4552,
          12.4397
         ],
         "mode": "lines",
         "name": "20km_610_72",
         "type": "scattermapbox"
        },
        {
         "fill": "toself",
         "fillcolor": "rgba(255, 0, 0, 0.7)",
         "hoverinfo": "text",
         "hovertext": "Cell ID: 20km_611_86<br>Area: DK2",
         "lat": [
          55.0062,
          54.9914,
          55.1702,
          55.1851,
          55.0062
         ],
         "line": {
          "color": "grey",
          "width": 1
         },
         "lon": [
          14.6318,
          14.9428,
          14.9695,
          14.657,
          14.6318
         ],
         "mode": "lines",
         "name": "20km_611_86",
         "type": "scattermapbox"
        },
        {
         "fill": "toself",
         "fillcolor": "rgba(255, 0, 0, 0.7)",
         "hoverinfo": "text",
         "hovertext": "Cell ID: 20km_611_88<br>Area: DK2",
         "lat": [
          54.9914,
          54.9758,
          55.1544,
          55.1702,
          54.9914
         ],
         "line": {
          "color": "grey",
          "width": 1
         },
         "lon": [
          14.9428,
          15.2536,
          15.2816,
          14.9695,
          14.9428
         ],
         "mode": "lines",
         "name": "20km_611_88",
         "type": "scattermapbox"
        },
        {
         "fill": "toself",
         "fillcolor": "rgba(0, 150, 255, 0.7)",
         "hoverinfo": "text",
         "hovertext": "Cell ID: 20km_612_46<br>Area: DK1",
         "lat": [
          55.2249,
          55.2261,
          55.4058,
          55.4046,
          55.2249
         ],
         "line": {
          "color": "grey",
          "width": 1
         },
         "lon": [
          8.3712,
          8.6856,
          8.6841,
          8.3683,
          8.3712
         ],
         "mode": "lines",
         "name": "20km_612_46",
         "type": "scattermapbox"
        },
        {
         "fill": "toself",
         "fillcolor": "rgba(0, 150, 255, 0.7)",
         "hoverinfo": "text",
         "hovertext": "Cell ID: 20km_612_48<br>Area: DK1",
         "lat": [
          55.2261,
          55.2265,
          55.4062,
          55.4058,
          55.2261
         ],
         "line": {
          "color": "grey",
          "width": 1
         },
         "lon": [
          8.6856,
          9,
          9,
          8.6841,
          8.6856
         ],
         "mode": "lines",
         "name": "20km_612_48",
         "type": "scattermapbox"
        },
        {
         "fill": "toself",
         "fillcolor": "rgba(0, 150, 255, 0.7)",
         "hoverinfo": "text",
         "hovertext": "Cell ID: 20km_612_50<br>Area: DK1",
         "lat": [
          55.2265,
          55.2261,
          55.4058,
          55.4062,
          55.2265
         ],
         "line": {
          "color": "grey",
          "width": 1
         },
         "lon": [
          9,
          9.3144,
          9.3159,
          9,
          9
         ],
         "mode": "lines",
         "name": "20km_612_50",
         "type": "scattermapbox"
        },
        {
         "fill": "toself",
         "fillcolor": "rgba(0, 150, 255, 0.7)",
         "hoverinfo": "text",
         "hovertext": "Cell ID: 20km_612_52<br>Area: DK1",
         "lat": [
          55.2261,
          55.2249,
          55.4046,
          55.4058,
          55.2261
         ],
         "line": {
          "color": "grey",
          "width": 1
         },
         "lon": [
          9.3144,
          9.6288,
          9.6317,
          9.3159,
          9.3144
         ],
         "mode": "lines",
         "name": "20km_612_52",
         "type": "scattermapbox"
        },
        {
         "fill": "toself",
         "fillcolor": "rgba(0, 150, 255, 0.7)",
         "hoverinfo": "text",
         "hovertext": "Cell ID: 20km_612_54<br>Area: DK1",
         "lat": [
          55.2249,
          55.2229,
          55.4026,
          55.4046,
          55.2249
         ],
         "line": {
          "color": "grey",
          "width": 1
         },
         "lon": [
          9.6288,
          9.9432,
          9.9475,
          9.6317,
          9.6288
         ],
         "mode": "lines",
         "name": "20km_612_54",
         "type": "scattermapbox"
        },
        {
         "fill": "toself",
         "fillcolor": "rgba(0, 150, 255, 0.7)",
         "hoverinfo": "text",
         "hovertext": "Cell ID: 20km_612_56<br>Area: DK1",
         "lat": [
          55.2229,
          55.2201,
          55.3997,
          55.4026,
          55.2229
         ],
         "line": {
          "color": "grey",
          "width": 1
         },
         "lon": [
          9.9432,
          10.2575,
          10.2632,
          9.9475,
          9.9432
         ],
         "mode": "lines",
         "name": "20km_612_56",
         "type": "scattermapbox"
        },
        {
         "fill": "toself",
         "fillcolor": "rgba(0, 150, 255, 0.7)",
         "hoverinfo": "text",
         "hovertext": "Cell ID: 20km_612_58<br>Area: DK1",
         "lat": [
          55.2201,
          55.2164,
          55.3961,
          55.3997,
          55.2201
         ],
         "line": {
          "color": "grey",
          "width": 1
         },
         "lon": [
          10.2575,
          10.5718,
          10.5789,
          10.2632,
          10.2575
         ],
         "mode": "lines",
         "name": "20km_612_58",
         "type": "scattermapbox"
        },
        {
         "fill": "toself",
         "fillcolor": "rgba(0, 150, 255, 0.7)",
         "hoverinfo": "text",
         "hovertext": "Cell ID: 20km_612_60<br>Area: DK1",
         "lat": [
          55.2164,
          55.212,
          55.3916,
          55.3961,
          55.2164
         ],
         "line": {
          "color": "grey",
          "width": 1
         },
         "lon": [
          10.5718,
          10.886,
          10.8945,
          10.5789,
          10.5718
         ],
         "mode": "lines",
         "name": "20km_612_60",
         "type": "scattermapbox"
        },
        {
         "fill": "toself",
         "fillcolor": "rgba(255, 0, 0, 0.7)",
         "hoverinfo": "text",
         "hovertext": "Cell ID: 20km_612_62<br>Area: DK2",
         "lat": [
          55.212,
          55.2067,
          55.3863,
          55.3916,
          55.212
         ],
         "line": {
          "color": "grey",
          "width": 1
         },
         "lon": [
          10.886,
          11.2001,
          11.2101,
          10.8945,
          10.886
         ],
         "mode": "lines",
         "name": "20km_612_62",
         "type": "scattermapbox"
        },
        {
         "fill": "toself",
         "fillcolor": "rgba(255, 0, 0, 0.7)",
         "hoverinfo": "text",
         "hovertext": "Cell ID: 20km_612_64<br>Area: DK2",
         "lat": [
          55.2067,
          55.2006,
          55.3802,
          55.3863,
          55.2067
         ],
         "line": {
          "color": "grey",
          "width": 1
         },
         "lon": [
          11.2001,
          11.5141,
          11.5255,
          11.2101,
          11.2001
         ],
         "mode": "lines",
         "name": "20km_612_64",
         "type": "scattermapbox"
        },
        {
         "fill": "toself",
         "fillcolor": "rgba(255, 0, 0, 0.7)",
         "hoverinfo": "text",
         "hovertext": "Cell ID: 20km_612_66<br>Area: DK2",
         "lat": [
          55.2006,
          55.1937,
          55.3732,
          55.3802,
          55.2006
         ],
         "line": {
          "color": "grey",
          "width": 1
         },
         "lon": [
          11.5141,
          11.8279,
          11.8407,
          11.5255,
          11.5141
         ],
         "mode": "lines",
         "name": "20km_612_66",
         "type": "scattermapbox"
        },
        {
         "fill": "toself",
         "fillcolor": "rgba(255, 0, 0, 0.7)",
         "hoverinfo": "text",
         "hovertext": "Cell ID: 20km_612_68<br>Area: DK2",
         "lat": [
          55.1937,
          55.1861,
          55.3655,
          55.3732,
          55.1937
         ],
         "line": {
          "color": "grey",
          "width": 1
         },
         "lon": [
          11.8279,
          12.1416,
          12.1558,
          11.8407,
          11.8279
         ],
         "mode": "lines",
         "name": "20km_612_68",
         "type": "scattermapbox"
        },
        {
         "fill": "toself",
         "fillcolor": "rgba(255, 0, 0, 0.7)",
         "hoverinfo": "text",
         "hovertext": "Cell ID: 20km_612_70<br>Area: DK2",
         "lat": [
          55.1861,
          55.1776,
          55.357,
          55.3655,
          55.1861
         ],
         "line": {
          "color": "grey",
          "width": 1
         },
         "lon": [
          12.1416,
          12.4552,
          12.4708,
          12.1558,
          12.1416
         ],
         "mode": "lines",
         "name": "20km_612_70",
         "type": "scattermapbox"
        },
        {
         "fill": "toself",
         "fillcolor": "rgba(255, 0, 0, 0.7)",
         "hoverinfo": "text",
         "hovertext": "Cell ID: 20km_613_86<br>Area: DK2",
         "lat": [
          55.1851,
          55.1702,
          55.3489,
          55.3639,
          55.1851
         ],
         "line": {
          "color": "grey",
          "width": 1
         },
         "lon": [
          14.657,
          14.9695,
          14.9964,
          14.6826,
          14.657
         ],
         "mode": "lines",
         "name": "20km_613_86",
         "type": "scattermapbox"
        },
        {
         "fill": "toself",
         "fillcolor": "rgba(255, 0, 0, 0.7)",
         "hoverinfo": "text",
         "hovertext": "Cell ID: 20km_613_88<br>Area: DK2",
         "lat": [
          55.1702,
          55.1544,
          55.3331,
          55.3489,
          55.1702
         ],
         "line": {
          "color": "grey",
          "width": 1
         },
         "lon": [
          14.9695,
          15.2816,
          15.3099,
          14.9964,
          14.9695
         ],
         "mode": "lines",
         "name": "20km_613_88",
         "type": "scattermapbox"
        },
        {
         "fill": "toself",
         "fillcolor": "rgba(0, 150, 255, 0.7)",
         "hoverinfo": "text",
         "hovertext": "Cell ID: 20km_614_44<br>Area: DK1",
         "lat": [
          55.4026,
          55.4046,
          55.5843,
          55.5823,
          55.4026
         ],
         "line": {
          "color": "grey",
          "width": 1
         },
         "lon": [
          8.0525,
          8.3683,
          8.3654,
          8.0482,
          8.0525
         ],
         "mode": "lines",
         "name": "20km_614_44",
         "type": "scattermapbox"
        },
        {
         "fill": "toself",
         "fillcolor": "rgba(0, 150, 255, 0.7)",
         "hoverinfo": "text",
         "hovertext": "Cell ID: 20km_614_46<br>Area: DK1",
         "lat": [
          55.4046,
          55.4058,
          55.5856,
          55.5843,
          55.4046
         ],
         "line": {
          "color": "grey",
          "width": 1
         },
         "lon": [
          8.3683,
          8.6841,
          8.6827,
          8.3654,
          8.3683
         ],
         "mode": "lines",
         "name": "20km_614_46",
         "type": "scattermapbox"
        },
        {
         "fill": "toself",
         "fillcolor": "rgba(0, 150, 255, 0.7)",
         "hoverinfo": "text",
         "hovertext": "Cell ID: 20km_614_48<br>Area: DK1",
         "lat": [
          55.4058,
          55.4062,
          55.586,
          55.5856,
          55.4058
         ],
         "line": {
          "color": "grey",
          "width": 1
         },
         "lon": [
          8.6841,
          9,
          9,
          8.6827,
          8.6841
         ],
         "mode": "lines",
         "name": "20km_614_48",
         "type": "scattermapbox"
        },
        {
         "fill": "toself",
         "fillcolor": "rgba(0, 150, 255, 0.7)",
         "hoverinfo": "text",
         "hovertext": "Cell ID: 20km_614_50<br>Area: DK1",
         "lat": [
          55.4062,
          55.4058,
          55.5856,
          55.586,
          55.4062
         ],
         "line": {
          "color": "grey",
          "width": 1
         },
         "lon": [
          9,
          9.3159,
          9.3173,
          9,
          9
         ],
         "mode": "lines",
         "name": "20km_614_50",
         "type": "scattermapbox"
        },
        {
         "fill": "toself",
         "fillcolor": "rgba(0, 150, 255, 0.7)",
         "hoverinfo": "text",
         "hovertext": "Cell ID: 20km_614_52<br>Area: DK1",
         "lat": [
          55.4058,
          55.4046,
          55.5843,
          55.5856,
          55.4058
         ],
         "line": {
          "color": "grey",
          "width": 1
         },
         "lon": [
          9.3159,
          9.6317,
          9.6346,
          9.3173,
          9.3159
         ],
         "mode": "lines",
         "name": "20km_614_52",
         "type": "scattermapbox"
        },
        {
         "fill": "toself",
         "fillcolor": "rgba(0, 150, 255, 0.7)",
         "hoverinfo": "text",
         "hovertext": "Cell ID: 20km_614_54<br>Area: DK1",
         "lat": [
          55.4046,
          55.4026,
          55.5823,
          55.5843,
          55.4046
         ],
         "line": {
          "color": "grey",
          "width": 1
         },
         "lon": [
          9.6317,
          9.9475,
          9.9518,
          9.6346,
          9.6317
         ],
         "mode": "lines",
         "name": "20km_614_54",
         "type": "scattermapbox"
        },
        {
         "fill": "toself",
         "fillcolor": "rgba(0, 150, 255, 0.7)",
         "hoverinfo": "text",
         "hovertext": "Cell ID: 20km_614_56<br>Area: DK1",
         "lat": [
          55.4026,
          55.3997,
          55.5794,
          55.5823,
          55.4026
         ],
         "line": {
          "color": "grey",
          "width": 1
         },
         "lon": [
          9.9475,
          10.2632,
          10.269,
          9.9518,
          9.9475
         ],
         "mode": "lines",
         "name": "20km_614_56",
         "type": "scattermapbox"
        },
        {
         "fill": "toself",
         "fillcolor": "rgba(0, 150, 255, 0.7)",
         "hoverinfo": "text",
         "hovertext": "Cell ID: 20km_614_58<br>Area: DK1",
         "lat": [
          55.3997,
          55.3961,
          55.5757,
          55.5794,
          55.3997
         ],
         "line": {
          "color": "grey",
          "width": 1
         },
         "lon": [
          10.2632,
          10.5789,
          10.5861,
          10.269,
          10.2632
         ],
         "mode": "lines",
         "name": "20km_614_58",
         "type": "scattermapbox"
        },
        {
         "fill": "toself",
         "fillcolor": "rgba(0, 150, 255, 0.7)",
         "hoverinfo": "text",
         "hovertext": "Cell ID: 20km_614_60<br>Area: DK1",
         "lat": [
          55.3961,
          55.3916,
          55.5712,
          55.5757,
          55.3961
         ],
         "line": {
          "color": "grey",
          "width": 1
         },
         "lon": [
          10.5789,
          10.8945,
          10.9032,
          10.5861,
          10.5789
         ],
         "mode": "lines",
         "name": "20km_614_60",
         "type": "scattermapbox"
        },
        {
         "fill": "toself",
         "fillcolor": "rgba(255, 0, 0, 0.7)",
         "hoverinfo": "text",
         "hovertext": "Cell ID: 20km_614_62<br>Area: DK2",
         "lat": [
          55.3916,
          55.3863,
          55.5659,
          55.5712,
          55.3916
         ],
         "line": {
          "color": "grey",
          "width": 1
         },
         "lon": [
          10.8945,
          11.2101,
          11.2201,
          10.9032,
          10.8945
         ],
         "mode": "lines",
         "name": "20km_614_62",
         "type": "scattermapbox"
        },
        {
         "fill": "toself",
         "fillcolor": "rgba(255, 0, 0, 0.7)",
         "hoverinfo": "text",
         "hovertext": "Cell ID: 20km_614_64<br>Area: DK2",
         "lat": [
          55.3863,
          55.3802,
          55.5597,
          55.5659,
          55.3863
         ],
         "line": {
          "color": "grey",
          "width": 1
         },
         "lon": [
          11.2101,
          11.5255,
          11.537,
          11.2201,
          11.2101
         ],
         "mode": "lines",
         "name": "20km_614_64",
         "type": "scattermapbox"
        },
        {
         "fill": "toself",
         "fillcolor": "rgba(255, 0, 0, 0.7)",
         "hoverinfo": "text",
         "hovertext": "Cell ID: 20km_614_66<br>Area: DK2",
         "lat": [
          55.3802,
          55.3732,
          55.5527,
          55.5597,
          55.3802
         ],
         "line": {
          "color": "grey",
          "width": 1
         },
         "lon": [
          11.5255,
          11.8407,
          11.8537,
          11.537,
          11.5255
         ],
         "mode": "lines",
         "name": "20km_614_66",
         "type": "scattermapbox"
        },
        {
         "fill": "toself",
         "fillcolor": "rgba(255, 0, 0, 0.7)",
         "hoverinfo": "text",
         "hovertext": "Cell ID: 20km_614_68<br>Area: DK2",
         "lat": [
          55.3732,
          55.3655,
          55.545,
          55.5527,
          55.3732
         ],
         "line": {
          "color": "grey",
          "width": 1
         },
         "lon": [
          11.8407,
          12.1558,
          12.1702,
          11.8537,
          11.8407
         ],
         "mode": "lines",
         "name": "20km_614_68",
         "type": "scattermapbox"
        },
        {
         "fill": "toself",
         "fillcolor": "rgba(255, 0, 0, 0.7)",
         "hoverinfo": "text",
         "hovertext": "Cell ID: 20km_614_70<br>Area: DK2",
         "lat": [
          55.3655,
          55.357,
          55.5363,
          55.545,
          55.3655
         ],
         "line": {
          "color": "grey",
          "width": 1
         },
         "lon": [
          12.1558,
          12.4708,
          12.4866,
          12.1702,
          12.1558
         ],
         "mode": "lines",
         "name": "20km_614_70",
         "type": "scattermapbox"
        },
        {
         "fill": "toself",
         "fillcolor": "rgba(0, 150, 255, 0.7)",
         "hoverinfo": "text",
         "hovertext": "Cell ID: 20km_616_44<br>Area: DK1",
         "lat": [
          55.5823,
          55.5843,
          55.764,
          55.762,
          55.5823
         ],
         "line": {
          "color": "grey",
          "width": 1
         },
         "lon": [
          8.0482,
          8.3654,
          8.3625,
          8.0438,
          8.0482
         ],
         "mode": "lines",
         "name": "20km_616_44",
         "type": "scattermapbox"
        },
        {
         "fill": "toself",
         "fillcolor": "rgba(0, 150, 255, 0.7)",
         "hoverinfo": "text",
         "hovertext": "Cell ID: 20km_616_46<br>Area: DK1",
         "lat": [
          55.5843,
          55.5856,
          55.7653,
          55.764,
          55.5843
         ],
         "line": {
          "color": "grey",
          "width": 1
         },
         "lon": [
          8.3654,
          8.6827,
          8.6813,
          8.3625,
          8.3654
         ],
         "mode": "lines",
         "name": "20km_616_46",
         "type": "scattermapbox"
        },
        {
         "fill": "toself",
         "fillcolor": "rgba(0, 150, 255, 0.7)",
         "hoverinfo": "text",
         "hovertext": "Cell ID: 20km_616_48<br>Area: DK1",
         "lat": [
          55.5856,
          55.586,
          55.7657,
          55.7653,
          55.5856
         ],
         "line": {
          "color": "grey",
          "width": 1
         },
         "lon": [
          8.6827,
          9,
          9,
          8.6813,
          8.6827
         ],
         "mode": "lines",
         "name": "20km_616_48",
         "type": "scattermapbox"
        },
        {
         "fill": "toself",
         "fillcolor": "rgba(0, 150, 255, 0.7)",
         "hoverinfo": "text",
         "hovertext": "Cell ID: 20km_616_50<br>Area: DK1",
         "lat": [
          55.586,
          55.5856,
          55.7653,
          55.7657,
          55.586
         ],
         "line": {
          "color": "grey",
          "width": 1
         },
         "lon": [
          9,
          9.3173,
          9.3187,
          9,
          9
         ],
         "mode": "lines",
         "name": "20km_616_50",
         "type": "scattermapbox"
        },
        {
         "fill": "toself",
         "fillcolor": "rgba(0, 150, 255, 0.7)",
         "hoverinfo": "text",
         "hovertext": "Cell ID: 20km_616_52<br>Area: DK1",
         "lat": [
          55.5856,
          55.5843,
          55.764,
          55.7653,
          55.5856
         ],
         "line": {
          "color": "grey",
          "width": 1
         },
         "lon": [
          9.3173,
          9.6346,
          9.6375,
          9.3187,
          9.3173
         ],
         "mode": "lines",
         "name": "20km_616_52",
         "type": "scattermapbox"
        },
        {
         "fill": "toself",
         "fillcolor": "rgba(0, 150, 255, 0.7)",
         "hoverinfo": "text",
         "hovertext": "Cell ID: 20km_616_54<br>Area: DK1",
         "lat": [
          55.5843,
          55.5823,
          55.762,
          55.764,
          55.5843
         ],
         "line": {
          "color": "grey",
          "width": 1
         },
         "lon": [
          9.6346,
          9.9518,
          9.9562,
          9.6375,
          9.6346
         ],
         "mode": "lines",
         "name": "20km_616_54",
         "type": "scattermapbox"
        },
        {
         "fill": "toself",
         "fillcolor": "rgba(0, 150, 255, 0.7)",
         "hoverinfo": "text",
         "hovertext": "Cell ID: 20km_616_56<br>Area: DK1",
         "lat": [
          55.5823,
          55.5794,
          55.7591,
          55.762,
          55.5823
         ],
         "line": {
          "color": "grey",
          "width": 1
         },
         "lon": [
          9.9518,
          10.269,
          10.2748,
          9.9562,
          9.9518
         ],
         "mode": "lines",
         "name": "20km_616_56",
         "type": "scattermapbox"
        },
        {
         "fill": "toself",
         "fillcolor": "rgba(0, 150, 255, 0.7)",
         "hoverinfo": "text",
         "hovertext": "Cell ID: 20km_616_58<br>Area: DK1",
         "lat": [
          55.5794,
          55.5757,
          55.7553,
          55.7591,
          55.5794
         ],
         "line": {
          "color": "grey",
          "width": 1
         },
         "lon": [
          10.269,
          10.5861,
          10.5934,
          10.2748,
          10.269
         ],
         "mode": "lines",
         "name": "20km_616_58",
         "type": "scattermapbox"
        },
        {
         "fill": "toself",
         "fillcolor": "rgba(0, 150, 255, 0.7)",
         "hoverinfo": "text",
         "hovertext": "Cell ID: 20km_616_60<br>Area: DK1",
         "lat": [
          55.5757,
          55.5712,
          55.7508,
          55.7553,
          55.5757
         ],
         "line": {
          "color": "grey",
          "width": 1
         },
         "lon": [
          10.5861,
          10.9032,
          10.9119,
          10.5934,
          10.5861
         ],
         "mode": "lines",
         "name": "20km_616_60",
         "type": "scattermapbox"
        },
        {
         "fill": "toself",
         "fillcolor": "rgba(255, 0, 0, 0.7)",
         "hoverinfo": "text",
         "hovertext": "Cell ID: 20km_616_62<br>Area: DK2",
         "lat": [
          55.5712,
          55.5659,
          55.7454,
          55.7508,
          55.5712
         ],
         "line": {
          "color": "grey",
          "width": 1
         },
         "lon": [
          10.9032,
          11.2201,
          11.2303,
          10.9119,
          10.9032
         ],
         "mode": "lines",
         "name": "20km_616_62",
         "type": "scattermapbox"
        },
        {
         "fill": "toself",
         "fillcolor": "rgba(255, 0, 0, 0.7)",
         "hoverinfo": "text",
         "hovertext": "Cell ID: 20km_616_64<br>Area: DK2",
         "lat": [
          55.5659,
          55.5597,
          55.7392,
          55.7454,
          55.5659
         ],
         "line": {
          "color": "grey",
          "width": 1
         },
         "lon": [
          11.2201,
          11.537,
          11.5486,
          11.2303,
          11.2201
         ],
         "mode": "lines",
         "name": "20km_616_64",
         "type": "scattermapbox"
        },
        {
         "fill": "toself",
         "fillcolor": "rgba(255, 0, 0, 0.7)",
         "hoverinfo": "text",
         "hovertext": "Cell ID: 20km_616_66<br>Area: DK2",
         "lat": [
          55.5597,
          55.5527,
          55.7322,
          55.7392,
          55.5597
         ],
         "line": {
          "color": "grey",
          "width": 1
         },
         "lon": [
          11.537,
          11.8537,
          11.8668,
          11.5486,
          11.537
         ],
         "mode": "lines",
         "name": "20km_616_66",
         "type": "scattermapbox"
        },
        {
         "fill": "toself",
         "fillcolor": "rgba(255, 0, 0, 0.7)",
         "hoverinfo": "text",
         "hovertext": "Cell ID: 20km_616_68<br>Area: DK2",
         "lat": [
          55.5527,
          55.545,
          55.7244,
          55.7322,
          55.5527
         ],
         "line": {
          "color": "grey",
          "width": 1
         },
         "lon": [
          11.8537,
          12.1702,
          12.1848,
          11.8668,
          11.8537
         ],
         "mode": "lines",
         "name": "20km_616_68",
         "type": "scattermapbox"
        },
        {
         "fill": "toself",
         "fillcolor": "rgba(255, 0, 0, 0.7)",
         "hoverinfo": "text",
         "hovertext": "Cell ID: 20km_616_70<br>Area: DK2",
         "lat": [
          55.545,
          55.5363,
          55.7157,
          55.7244,
          55.545
         ],
         "line": {
          "color": "grey",
          "width": 1
         },
         "lon": [
          12.1702,
          12.4866,
          12.5026,
          12.1848,
          12.1702
         ],
         "mode": "lines",
         "name": "20km_616_70",
         "type": "scattermapbox"
        },
        {
         "fill": "toself",
         "fillcolor": "rgba(255, 0, 0, 0.7)",
         "hoverinfo": "text",
         "hovertext": "Cell ID: 20km_616_72<br>Area: DK2",
         "lat": [
          55.5363,
          55.5269,
          55.7062,
          55.7157,
          55.5363
         ],
         "line": {
          "color": "grey",
          "width": 1
         },
         "lon": [
          12.4866,
          12.8028,
          12.8203,
          12.5026,
          12.4866
         ],
         "mode": "lines",
         "name": "20km_616_72",
         "type": "scattermapbox"
        },
        {
         "fill": "toself",
         "fillcolor": "rgba(0, 150, 255, 0.7)",
         "hoverinfo": "text",
         "hovertext": "Cell ID: 20km_618_44<br>Area: DK1",
         "lat": [
          55.762,
          55.764,
          55.9437,
          55.9416,
          55.762
         ],
         "line": {
          "color": "grey",
          "width": 1
         },
         "lon": [
          8.0438,
          8.3625,
          8.3596,
          8.0394,
          8.0438
         ],
         "mode": "lines",
         "name": "20km_618_44",
         "type": "scattermapbox"
        },
        {
         "fill": "toself",
         "fillcolor": "rgba(0, 150, 255, 0.7)",
         "hoverinfo": "text",
         "hovertext": "Cell ID: 20km_618_46<br>Area: DK1",
         "lat": [
          55.764,
          55.7653,
          55.945,
          55.9437,
          55.764
         ],
         "line": {
          "color": "grey",
          "width": 1
         },
         "lon": [
          8.3625,
          8.6813,
          8.6798,
          8.3596,
          8.3625
         ],
         "mode": "lines",
         "name": "20km_618_46",
         "type": "scattermapbox"
        },
        {
         "fill": "toself",
         "fillcolor": "rgba(0, 150, 255, 0.7)",
         "hoverinfo": "text",
         "hovertext": "Cell ID: 20km_618_48<br>Area: DK1",
         "lat": [
          55.7653,
          55.7657,
          55.9454,
          55.945,
          55.7653
         ],
         "line": {
          "color": "grey",
          "width": 1
         },
         "lon": [
          8.6813,
          9,
          9,
          8.6798,
          8.6813
         ],
         "mode": "lines",
         "name": "20km_618_48",
         "type": "scattermapbox"
        },
        {
         "fill": "toself",
         "fillcolor": "rgba(0, 150, 255, 0.7)",
         "hoverinfo": "text",
         "hovertext": "Cell ID: 20km_618_50<br>Area: DK1",
         "lat": [
          55.7657,
          55.7653,
          55.945,
          55.9454,
          55.7657
         ],
         "line": {
          "color": "grey",
          "width": 1
         },
         "lon": [
          9,
          9.3187,
          9.3202,
          9,
          9
         ],
         "mode": "lines",
         "name": "20km_618_50",
         "type": "scattermapbox"
        },
        {
         "fill": "toself",
         "fillcolor": "rgba(0, 150, 255, 0.7)",
         "hoverinfo": "text",
         "hovertext": "Cell ID: 20km_618_52<br>Area: DK1",
         "lat": [
          55.7653,
          55.764,
          55.9437,
          55.945,
          55.7653
         ],
         "line": {
          "color": "grey",
          "width": 1
         },
         "lon": [
          9.3187,
          9.6375,
          9.6404,
          9.3202,
          9.3187
         ],
         "mode": "lines",
         "name": "20km_618_52",
         "type": "scattermapbox"
        },
        {
         "fill": "toself",
         "fillcolor": "rgba(0, 150, 255, 0.7)",
         "hoverinfo": "text",
         "hovertext": "Cell ID: 20km_618_54<br>Area: DK1",
         "lat": [
          55.764,
          55.762,
          55.9416,
          55.9437,
          55.764
         ],
         "line": {
          "color": "grey",
          "width": 1
         },
         "lon": [
          9.6375,
          9.9562,
          9.9606,
          9.6404,
          9.6375
         ],
         "mode": "lines",
         "name": "20km_618_54",
         "type": "scattermapbox"
        },
        {
         "fill": "toself",
         "fillcolor": "rgba(0, 150, 255, 0.7)",
         "hoverinfo": "text",
         "hovertext": "Cell ID: 20km_618_56<br>Area: DK1",
         "lat": [
          55.762,
          55.7591,
          55.9387,
          55.9416,
          55.762
         ],
         "line": {
          "color": "grey",
          "width": 1
         },
         "lon": [
          9.9562,
          10.2748,
          10.2807,
          9.9606,
          9.9562
         ],
         "mode": "lines",
         "name": "20km_618_56",
         "type": "scattermapbox"
        },
        {
         "fill": "toself",
         "fillcolor": "rgba(0, 150, 255, 0.7)",
         "hoverinfo": "text",
         "hovertext": "Cell ID: 20km_618_58<br>Area: DK1",
         "lat": [
          55.7591,
          55.7553,
          55.935,
          55.9387,
          55.7591
         ],
         "line": {
          "color": "grey",
          "width": 1
         },
         "lon": [
          10.2748,
          10.5934,
          10.6008,
          10.2807,
          10.2748
         ],
         "mode": "lines",
         "name": "20km_618_58",
         "type": "scattermapbox"
        },
        {
         "fill": "toself",
         "fillcolor": "rgba(0, 150, 255, 0.7)",
         "hoverinfo": "text",
         "hovertext": "Cell ID: 20km_618_60<br>Area: DK1",
         "lat": [
          55.7553,
          55.7508,
          55.9304,
          55.935,
          55.7553
         ],
         "line": {
          "color": "grey",
          "width": 1
         },
         "lon": [
          10.5934,
          10.9119,
          10.9208,
          10.6008,
          10.5934
         ],
         "mode": "lines",
         "name": "20km_618_60",
         "type": "scattermapbox"
        },
        {
         "fill": "toself",
         "fillcolor": "rgba(255, 0, 0, 0.7)",
         "hoverinfo": "text",
         "hovertext": "Cell ID: 20km_618_62<br>Area: DK2",
         "lat": [
          55.7508,
          55.7454,
          55.925,
          55.9304,
          55.7508
         ],
         "line": {
          "color": "grey",
          "width": 1
         },
         "lon": [
          10.9119,
          11.2303,
          11.2406,
          10.9208,
          10.9119
         ],
         "mode": "lines",
         "name": "20km_618_62",
         "type": "scattermapbox"
        },
        {
         "fill": "toself",
         "fillcolor": "rgba(255, 0, 0, 0.7)",
         "hoverinfo": "text",
         "hovertext": "Cell ID: 20km_618_64<br>Area: DK2",
         "lat": [
          55.7454,
          55.7392,
          55.9188,
          55.925,
          55.7454
         ],
         "line": {
          "color": "grey",
          "width": 1
         },
         "lon": [
          11.2303,
          11.5486,
          11.5604,
          11.2406,
          11.2303
         ],
         "mode": "lines",
         "name": "20km_618_64",
         "type": "scattermapbox"
        },
        {
         "fill": "toself",
         "fillcolor": "rgba(255, 0, 0, 0.7)",
         "hoverinfo": "text",
         "hovertext": "Cell ID: 20km_618_66<br>Area: DK2",
         "lat": [
          55.7392,
          55.7322,
          55.9117,
          55.9188,
          55.7392
         ],
         "line": {
          "color": "grey",
          "width": 1
         },
         "lon": [
          11.5486,
          11.8668,
          11.88,
          11.5604,
          11.5486
         ],
         "mode": "lines",
         "name": "20km_618_66",
         "type": "scattermapbox"
        },
        {
         "fill": "toself",
         "fillcolor": "rgba(255, 0, 0, 0.7)",
         "hoverinfo": "text",
         "hovertext": "Cell ID: 20km_618_68<br>Area: DK2",
         "lat": [
          55.7322,
          55.7244,
          55.9038,
          55.9117,
          55.7322
         ],
         "line": {
          "color": "grey",
          "width": 1
         },
         "lon": [
          11.8668,
          12.1848,
          12.1995,
          11.88,
          11.8668
         ],
         "mode": "lines",
         "name": "20km_618_68",
         "type": "scattermapbox"
        },
        {
         "fill": "toself",
         "fillcolor": "rgba(255, 0, 0, 0.7)",
         "hoverinfo": "text",
         "hovertext": "Cell ID: 20km_618_70<br>Area: DK2",
         "lat": [
          55.7244,
          55.7157,
          55.8951,
          55.9038,
          55.7244
         ],
         "line": {
          "color": "grey",
          "width": 1
         },
         "lon": [
          12.1848,
          12.5026,
          12.5188,
          12.1995,
          12.1848
         ],
         "mode": "lines",
         "name": "20km_618_70",
         "type": "scattermapbox"
        },
        {
         "fill": "toself",
         "fillcolor": "rgba(255, 0, 0, 0.7)",
         "hoverinfo": "text",
         "hovertext": "Cell ID: 20km_618_72<br>Area: DK2",
         "lat": [
          55.7157,
          55.7062,
          55.8855,
          55.8951,
          55.7157
         ],
         "line": {
          "color": "grey",
          "width": 1
         },
         "lon": [
          12.5026,
          12.8203,
          12.8379,
          12.5188,
          12.5026
         ],
         "mode": "lines",
         "name": "20km_618_72",
         "type": "scattermapbox"
        },
        {
         "fill": "toself",
         "fillcolor": "rgba(0, 150, 255, 0.7)",
         "hoverinfo": "text",
         "hovertext": "Cell ID: 20km_620_44<br>Area: DK1",
         "lat": [
          55.9416,
          55.9437,
          56.1234,
          56.1213,
          55.9416
         ],
         "line": {
          "color": "grey",
          "width": 1
         },
         "lon": [
          8.0394,
          8.3596,
          8.3566,
          8.0349,
          8.0394
         ],
         "mode": "lines",
         "name": "20km_620_44",
         "type": "scattermapbox"
        },
        {
         "fill": "toself",
         "fillcolor": "rgba(0, 150, 255, 0.7)",
         "hoverinfo": "text",
         "hovertext": "Cell ID: 20km_620_46<br>Area: DK1",
         "lat": [
          55.9437,
          55.945,
          56.1247,
          56.1234,
          55.9437
         ],
         "line": {
          "color": "grey",
          "width": 1
         },
         "lon": [
          8.3596,
          8.6798,
          8.6783,
          8.3566,
          8.3596
         ],
         "mode": "lines",
         "name": "20km_620_46",
         "type": "scattermapbox"
        },
        {
         "fill": "toself",
         "fillcolor": "rgba(0, 150, 255, 0.7)",
         "hoverinfo": "text",
         "hovertext": "Cell ID: 20km_620_48<br>Area: DK1",
         "lat": [
          55.945,
          55.9454,
          56.1251,
          56.1247,
          55.945
         ],
         "line": {
          "color": "grey",
          "width": 1
         },
         "lon": [
          8.6798,
          9,
          9,
          8.6783,
          8.6798
         ],
         "mode": "lines",
         "name": "20km_620_48",
         "type": "scattermapbox"
        },
        {
         "fill": "toself",
         "fillcolor": "rgba(0, 150, 255, 0.7)",
         "hoverinfo": "text",
         "hovertext": "Cell ID: 20km_620_50<br>Area: DK1",
         "lat": [
          55.9454,
          55.945,
          56.1247,
          56.1251,
          55.9454
         ],
         "line": {
          "color": "grey",
          "width": 1
         },
         "lon": [
          9,
          9.3202,
          9.3217,
          9,
          9
         ],
         "mode": "lines",
         "name": "20km_620_50",
         "type": "scattermapbox"
        },
        {
         "fill": "toself",
         "fillcolor": "rgba(0, 150, 255, 0.7)",
         "hoverinfo": "text",
         "hovertext": "Cell ID: 20km_620_52<br>Area: DK1",
         "lat": [
          55.945,
          55.9437,
          56.1234,
          56.1247,
          55.945
         ],
         "line": {
          "color": "grey",
          "width": 1
         },
         "lon": [
          9.3202,
          9.6404,
          9.6434,
          9.3217,
          9.3202
         ],
         "mode": "lines",
         "name": "20km_620_52",
         "type": "scattermapbox"
        },
        {
         "fill": "toself",
         "fillcolor": "rgba(0, 150, 255, 0.7)",
         "hoverinfo": "text",
         "hovertext": "Cell ID: 20km_620_54<br>Area: DK1",
         "lat": [
          55.9437,
          55.9416,
          56.1213,
          56.1234,
          55.9437
         ],
         "line": {
          "color": "grey",
          "width": 1
         },
         "lon": [
          9.6404,
          9.9606,
          9.9651,
          9.6434,
          9.6404
         ],
         "mode": "lines",
         "name": "20km_620_54",
         "type": "scattermapbox"
        },
        {
         "fill": "toself",
         "fillcolor": "rgba(0, 150, 255, 0.7)",
         "hoverinfo": "text",
         "hovertext": "Cell ID: 20km_620_56<br>Area: DK1",
         "lat": [
          55.9416,
          55.9387,
          56.1184,
          56.1213,
          55.9416
         ],
         "line": {
          "color": "grey",
          "width": 1
         },
         "lon": [
          9.9606,
          10.2807,
          10.2867,
          9.9651,
          9.9606
         ],
         "mode": "lines",
         "name": "20km_620_56",
         "type": "scattermapbox"
        },
        {
         "fill": "toself",
         "fillcolor": "rgba(0, 150, 255, 0.7)",
         "hoverinfo": "text",
         "hovertext": "Cell ID: 20km_620_58<br>Area: DK1",
         "lat": [
          55.9387,
          55.935,
          56.1146,
          56.1184,
          55.9387
         ],
         "line": {
          "color": "grey",
          "width": 1
         },
         "lon": [
          10.2807,
          10.6008,
          10.6082,
          10.2867,
          10.2807
         ],
         "mode": "lines",
         "name": "20km_620_58",
         "type": "scattermapbox"
        },
        {
         "fill": "toself",
         "fillcolor": "rgba(255, 0, 0, 0.7)",
         "hoverinfo": "text",
         "hovertext": "Cell ID: 20km_620_64<br>Area: DK2",
         "lat": [
          55.925,
          55.9188,
          56.0983,
          56.1046,
          55.925
         ],
         "line": {
          "color": "grey",
          "width": 1
         },
         "lon": [
          11.2406,
          11.5604,
          11.5723,
          11.251,
          11.2406
         ],
         "mode": "lines",
         "name": "20km_620_64",
         "type": "scattermapbox"
        },
        {
         "fill": "toself",
         "fillcolor": "rgba(255, 0, 0, 0.7)",
         "hoverinfo": "text",
         "hovertext": "Cell ID: 20km_620_66<br>Area: DK2",
         "lat": [
          55.9188,
          55.9117,
          56.0912,
          56.0983,
          55.9188
         ],
         "line": {
          "color": "grey",
          "width": 1
         },
         "lon": [
          11.5604,
          11.88,
          11.8934,
          11.5723,
          11.5604
         ],
         "mode": "lines",
         "name": "20km_620_66",
         "type": "scattermapbox"
        },
        {
         "fill": "toself",
         "fillcolor": "rgba(255, 0, 0, 0.7)",
         "hoverinfo": "text",
         "hovertext": "Cell ID: 20km_620_68<br>Area: DK2",
         "lat": [
          55.9117,
          55.9038,
          56.0832,
          56.0912,
          55.9117
         ],
         "line": {
          "color": "grey",
          "width": 1
         },
         "lon": [
          11.88,
          12.1995,
          12.2143,
          11.8934,
          11.88
         ],
         "mode": "lines",
         "name": "20km_620_68",
         "type": "scattermapbox"
        },
        {
         "fill": "toself",
         "fillcolor": "rgba(255, 0, 0, 0.7)",
         "hoverinfo": "text",
         "hovertext": "Cell ID: 20km_620_70<br>Area: DK2",
         "lat": [
          55.9038,
          55.8951,
          56.0744,
          56.0832,
          55.9038
         ],
         "line": {
          "color": "grey",
          "width": 1
         },
         "lon": [
          12.1995,
          12.5188,
          12.5351,
          12.2143,
          12.1995
         ],
         "mode": "lines",
         "name": "20km_620_70",
         "type": "scattermapbox"
        },
        {
         "fill": "toself",
         "fillcolor": "rgba(255, 0, 0, 0.7)",
         "hoverinfo": "text",
         "hovertext": "Cell ID: 20km_620_72<br>Area: DK2",
         "lat": [
          55.8951,
          55.8855,
          56.0648,
          56.0744,
          55.8951
         ],
         "line": {
          "color": "grey",
          "width": 1
         },
         "lon": [
          12.5188,
          12.8379,
          12.8557,
          12.5351,
          12.5188
         ],
         "mode": "lines",
         "name": "20km_620_72",
         "type": "scattermapbox"
        },
        {
         "fill": "toself",
         "fillcolor": "rgba(0, 150, 255, 0.7)",
         "hoverinfo": "text",
         "hovertext": "Cell ID: 20km_622_44<br>Area: DK1",
         "lat": [
          56.1213,
          56.1234,
          56.3031,
          56.301,
          56.1213
         ],
         "line": {
          "color": "grey",
          "width": 1
         },
         "lon": [
          8.0349,
          8.3566,
          8.3536,
          8.0304,
          8.0349
         ],
         "mode": "lines",
         "name": "20km_622_44",
         "type": "scattermapbox"
        },
        {
         "fill": "toself",
         "fillcolor": "rgba(0, 150, 255, 0.7)",
         "hoverinfo": "text",
         "hovertext": "Cell ID: 20km_622_46<br>Area: DK1",
         "lat": [
          56.1234,
          56.1247,
          56.3043,
          56.3031,
          56.1234
         ],
         "line": {
          "color": "grey",
          "width": 1
         },
         "lon": [
          8.3566,
          8.6783,
          8.6768,
          8.3536,
          8.3566
         ],
         "mode": "lines",
         "name": "20km_622_46",
         "type": "scattermapbox"
        },
        {
         "fill": "toself",
         "fillcolor": "rgba(0, 150, 255, 0.7)",
         "hoverinfo": "text",
         "hovertext": "Cell ID: 20km_622_48<br>Area: DK1",
         "lat": [
          56.1247,
          56.1251,
          56.3048,
          56.3043,
          56.1247
         ],
         "line": {
          "color": "grey",
          "width": 1
         },
         "lon": [
          8.6783,
          9,
          9,
          8.6768,
          8.6783
         ],
         "mode": "lines",
         "name": "20km_622_48",
         "type": "scattermapbox"
        },
        {
         "fill": "toself",
         "fillcolor": "rgba(0, 150, 255, 0.7)",
         "hoverinfo": "text",
         "hovertext": "Cell ID: 20km_622_50<br>Area: DK1",
         "lat": [
          56.1251,
          56.1247,
          56.3043,
          56.3048,
          56.1251
         ],
         "line": {
          "color": "grey",
          "width": 1
         },
         "lon": [
          9,
          9.3217,
          9.3232,
          9,
          9
         ],
         "mode": "lines",
         "name": "20km_622_50",
         "type": "scattermapbox"
        },
        {
         "fill": "toself",
         "fillcolor": "rgba(0, 150, 255, 0.7)",
         "hoverinfo": "text",
         "hovertext": "Cell ID: 20km_622_52<br>Area: DK1",
         "lat": [
          56.1247,
          56.1234,
          56.3031,
          56.3043,
          56.1247
         ],
         "line": {
          "color": "grey",
          "width": 1
         },
         "lon": [
          9.3217,
          9.6434,
          9.6464,
          9.3232,
          9.3217
         ],
         "mode": "lines",
         "name": "20km_622_52",
         "type": "scattermapbox"
        },
        {
         "fill": "toself",
         "fillcolor": "rgba(0, 150, 255, 0.7)",
         "hoverinfo": "text",
         "hovertext": "Cell ID: 20km_622_54<br>Area: DK1",
         "lat": [
          56.1234,
          56.1213,
          56.301,
          56.3031,
          56.1234
         ],
         "line": {
          "color": "grey",
          "width": 1
         },
         "lon": [
          9.6434,
          9.9651,
          9.9696,
          9.6464,
          9.6434
         ],
         "mode": "lines",
         "name": "20km_622_54",
         "type": "scattermapbox"
        },
        {
         "fill": "toself",
         "fillcolor": "rgba(0, 150, 255, 0.7)",
         "hoverinfo": "text",
         "hovertext": "Cell ID: 20km_622_56<br>Area: DK1",
         "lat": [
          56.1213,
          56.1184,
          56.298,
          56.301,
          56.1213
         ],
         "line": {
          "color": "grey",
          "width": 1
         },
         "lon": [
          9.9651,
          10.2867,
          10.2927,
          9.9696,
          9.9651
         ],
         "mode": "lines",
         "name": "20km_622_56",
         "type": "scattermapbox"
        },
        {
         "fill": "toself",
         "fillcolor": "rgba(0, 150, 255, 0.7)",
         "hoverinfo": "text",
         "hovertext": "Cell ID: 20km_622_58<br>Area: DK1",
         "lat": [
          56.1184,
          56.1146,
          56.2942,
          56.298,
          56.1184
         ],
         "line": {
          "color": "grey",
          "width": 1
         },
         "lon": [
          10.2867,
          10.6082,
          10.6158,
          10.2927,
          10.2867
         ],
         "mode": "lines",
         "name": "20km_622_58",
         "type": "scattermapbox"
        },
        {
         "fill": "toself",
         "fillcolor": "rgba(0, 150, 255, 0.7)",
         "hoverinfo": "text",
         "hovertext": "Cell ID: 20km_622_60<br>Area: DK1",
         "lat": [
          56.1146,
          56.11,
          56.2896,
          56.2942,
          56.1146
         ],
         "line": {
          "color": "grey",
          "width": 1
         },
         "lon": [
          10.6082,
          10.9297,
          10.9387,
          10.6158,
          10.6082
         ],
         "mode": "lines",
         "name": "20km_622_60",
         "type": "scattermapbox"
        },
        {
         "fill": "toself",
         "fillcolor": "rgba(255, 0, 0, 0.7)",
         "hoverinfo": "text",
         "hovertext": "Cell ID: 20km_622_68<br>Area: DK2",
         "lat": [
          56.0912,
          56.0832,
          56.2626,
          56.2706,
          56.0912
         ],
         "line": {
          "color": "grey",
          "width": 1
         },
         "lon": [
          11.8934,
          12.2143,
          12.2294,
          11.9069,
          11.8934
         ],
         "mode": "lines",
         "name": "20km_622_68",
         "type": "scattermapbox"
        },
        {
         "fill": "toself",
         "fillcolor": "rgba(255, 0, 0, 0.7)",
         "hoverinfo": "text",
         "hovertext": "Cell ID: 20km_622_70<br>Area: DK2",
         "lat": [
          56.0832,
          56.0744,
          56.2538,
          56.2626,
          56.0832
         ],
         "line": {
          "color": "grey",
          "width": 1
         },
         "lon": [
          12.2143,
          12.5351,
          12.5516,
          12.2294,
          12.2143
         ],
         "mode": "lines",
         "name": "20km_622_70",
         "type": "scattermapbox"
        },
        {
         "fill": "toself",
         "fillcolor": "rgba(0, 150, 255, 0.7)",
         "hoverinfo": "text",
         "hovertext": "Cell ID: 20km_624_44<br>Area: DK1",
         "lat": [
          56.301,
          56.3031,
          56.4828,
          56.4806,
          56.301
         ],
         "line": {
          "color": "grey",
          "width": 1
         },
         "lon": [
          8.0304,
          8.3536,
          8.3505,
          8.0258,
          8.0304
         ],
         "mode": "lines",
         "name": "20km_624_44",
         "type": "scattermapbox"
        },
        {
         "fill": "toself",
         "fillcolor": "rgba(0, 150, 255, 0.7)",
         "hoverinfo": "text",
         "hovertext": "Cell ID: 20km_624_46<br>Area: DK1",
         "lat": [
          56.3031,
          56.3043,
          56.484,
          56.4828,
          56.3031
         ],
         "line": {
          "color": "grey",
          "width": 1
         },
         "lon": [
          8.3536,
          8.6768,
          8.6753,
          8.3505,
          8.3536
         ],
         "mode": "lines",
         "name": "20km_624_46",
         "type": "scattermapbox"
        },
        {
         "fill": "toself",
         "fillcolor": "rgba(0, 150, 255, 0.7)",
         "hoverinfo": "text",
         "hovertext": "Cell ID: 20km_624_48<br>Area: DK1",
         "lat": [
          56.3043,
          56.3048,
          56.4845,
          56.484,
          56.3043
         ],
         "line": {
          "color": "grey",
          "width": 1
         },
         "lon": [
          8.6768,
          9,
          9,
          8.6753,
          8.6768
         ],
         "mode": "lines",
         "name": "20km_624_48",
         "type": "scattermapbox"
        },
        {
         "fill": "toself",
         "fillcolor": "rgba(0, 150, 255, 0.7)",
         "hoverinfo": "text",
         "hovertext": "Cell ID: 20km_624_50<br>Area: DK1",
         "lat": [
          56.3048,
          56.3043,
          56.484,
          56.4845,
          56.3048
         ],
         "line": {
          "color": "grey",
          "width": 1
         },
         "lon": [
          9,
          9.3232,
          9.3247,
          9,
          9
         ],
         "mode": "lines",
         "name": "20km_624_50",
         "type": "scattermapbox"
        },
        {
         "fill": "toself",
         "fillcolor": "rgba(0, 150, 255, 0.7)",
         "hoverinfo": "text",
         "hovertext": "Cell ID: 20km_624_52<br>Area: DK1",
         "lat": [
          56.3043,
          56.3031,
          56.4828,
          56.484,
          56.3043
         ],
         "line": {
          "color": "grey",
          "width": 1
         },
         "lon": [
          9.3232,
          9.6464,
          9.6495,
          9.3247,
          9.3232
         ],
         "mode": "lines",
         "name": "20km_624_52",
         "type": "scattermapbox"
        },
        {
         "fill": "toself",
         "fillcolor": "rgba(0, 150, 255, 0.7)",
         "hoverinfo": "text",
         "hovertext": "Cell ID: 20km_624_54<br>Area: DK1",
         "lat": [
          56.3031,
          56.301,
          56.4806,
          56.4828,
          56.3031
         ],
         "line": {
          "color": "grey",
          "width": 1
         },
         "lon": [
          9.6464,
          9.9696,
          9.9742,
          9.6495,
          9.6464
         ],
         "mode": "lines",
         "name": "20km_624_54",
         "type": "scattermapbox"
        },
        {
         "fill": "toself",
         "fillcolor": "rgba(0, 150, 255, 0.7)",
         "hoverinfo": "text",
         "hovertext": "Cell ID: 20km_624_56<br>Area: DK1",
         "lat": [
          56.301,
          56.298,
          56.4777,
          56.4806,
          56.301
         ],
         "line": {
          "color": "grey",
          "width": 1
         },
         "lon": [
          9.9696,
          10.2927,
          10.2988,
          9.9742,
          9.9696
         ],
         "mode": "lines",
         "name": "20km_624_56",
         "type": "scattermapbox"
        },
        {
         "fill": "toself",
         "fillcolor": "rgba(0, 150, 255, 0.7)",
         "hoverinfo": "text",
         "hovertext": "Cell ID: 20km_624_58<br>Area: DK1",
         "lat": [
          56.298,
          56.2942,
          56.4738,
          56.4777,
          56.298
         ],
         "line": {
          "color": "grey",
          "width": 1
         },
         "lon": [
          10.2927,
          10.6158,
          10.6234,
          10.2988,
          10.2927
         ],
         "mode": "lines",
         "name": "20km_624_58",
         "type": "scattermapbox"
        },
        {
         "fill": "toself",
         "fillcolor": "rgba(0, 150, 255, 0.7)",
         "hoverinfo": "text",
         "hovertext": "Cell ID: 20km_624_60<br>Area: DK1",
         "lat": [
          56.2942,
          56.2896,
          56.4692,
          56.4738,
          56.2942
         ],
         "line": {
          "color": "grey",
          "width": 1
         },
         "lon": [
          10.6158,
          10.9387,
          10.9479,
          10.6234,
          10.6158
         ],
         "mode": "lines",
         "name": "20km_624_60",
         "type": "scattermapbox"
        },
        {
         "fill": "toself",
         "fillcolor": "rgba(0, 150, 255, 0.7)",
         "hoverinfo": "text",
         "hovertext": "Cell ID: 20km_626_44<br>Area: DK1",
         "lat": [
          56.4806,
          56.4828,
          56.6624,
          56.6603,
          56.4806
         ],
         "line": {
          "color": "grey",
          "width": 1
         },
         "lon": [
          8.0258,
          8.3505,
          8.3474,
          8.0212,
          8.0258
         ],
         "mode": "lines",
         "name": "20km_626_44",
         "type": "scattermapbox"
        },
        {
         "fill": "toself",
         "fillcolor": "rgba(0, 150, 255, 0.7)",
         "hoverinfo": "text",
         "hovertext": "Cell ID: 20km_626_46<br>Area: DK1",
         "lat": [
          56.4828,
          56.484,
          56.6637,
          56.6624,
          56.4828
         ],
         "line": {
          "color": "grey",
          "width": 1
         },
         "lon": [
          8.3505,
          8.6753,
          8.6737,
          8.3474,
          8.3505
         ],
         "mode": "lines",
         "name": "20km_626_46",
         "type": "scattermapbox"
        },
        {
         "fill": "toself",
         "fillcolor": "rgba(0, 150, 255, 0.7)",
         "hoverinfo": "text",
         "hovertext": "Cell ID: 20km_626_48<br>Area: DK1",
         "lat": [
          56.484,
          56.4845,
          56.6641,
          56.6637,
          56.484
         ],
         "line": {
          "color": "grey",
          "width": 1
         },
         "lon": [
          8.6753,
          9,
          9,
          8.6737,
          8.6753
         ],
         "mode": "lines",
         "name": "20km_626_48",
         "type": "scattermapbox"
        },
        {
         "fill": "toself",
         "fillcolor": "rgba(0, 150, 255, 0.7)",
         "hoverinfo": "text",
         "hovertext": "Cell ID: 20km_626_50<br>Area: DK1",
         "lat": [
          56.4845,
          56.484,
          56.6637,
          56.6641,
          56.4845
         ],
         "line": {
          "color": "grey",
          "width": 1
         },
         "lon": [
          9,
          9.3247,
          9.3263,
          9,
          9
         ],
         "mode": "lines",
         "name": "20km_626_50",
         "type": "scattermapbox"
        },
        {
         "fill": "toself",
         "fillcolor": "rgba(0, 150, 255, 0.7)",
         "hoverinfo": "text",
         "hovertext": "Cell ID: 20km_626_52<br>Area: DK1",
         "lat": [
          56.484,
          56.4828,
          56.6624,
          56.6637,
          56.484
         ],
         "line": {
          "color": "grey",
          "width": 1
         },
         "lon": [
          9.3247,
          9.6495,
          9.6526,
          9.3263,
          9.3247
         ],
         "mode": "lines",
         "name": "20km_626_52",
         "type": "scattermapbox"
        },
        {
         "fill": "toself",
         "fillcolor": "rgba(0, 150, 255, 0.7)",
         "hoverinfo": "text",
         "hovertext": "Cell ID: 20km_626_54<br>Area: DK1",
         "lat": [
          56.4828,
          56.4806,
          56.6603,
          56.6624,
          56.4828
         ],
         "line": {
          "color": "grey",
          "width": 1
         },
         "lon": [
          9.6495,
          9.9742,
          9.9788,
          9.6526,
          9.6495
         ],
         "mode": "lines",
         "name": "20km_626_54",
         "type": "scattermapbox"
        },
        {
         "fill": "toself",
         "fillcolor": "rgba(0, 150, 255, 0.7)",
         "hoverinfo": "text",
         "hovertext": "Cell ID: 20km_626_56<br>Area: DK1",
         "lat": [
          56.4806,
          56.4777,
          56.6573,
          56.6603,
          56.4806
         ],
         "line": {
          "color": "grey",
          "width": 1
         },
         "lon": [
          9.9742,
          10.2988,
          10.305,
          9.9788,
          9.9742
         ],
         "mode": "lines",
         "name": "20km_626_56",
         "type": "scattermapbox"
        },
        {
         "fill": "toself",
         "fillcolor": "rgba(0, 150, 255, 0.7)",
         "hoverinfo": "text",
         "hovertext": "Cell ID: 20km_626_58<br>Area: DK1",
         "lat": [
          56.4777,
          56.4738,
          56.6535,
          56.6573,
          56.4777
         ],
         "line": {
          "color": "grey",
          "width": 1
         },
         "lon": [
          10.2988,
          10.6234,
          10.6311,
          10.305,
          10.2988
         ],
         "mode": "lines",
         "name": "20km_626_58",
         "type": "scattermapbox"
        },
        {
         "fill": "toself",
         "fillcolor": "rgba(0, 150, 255, 0.7)",
         "hoverinfo": "text",
         "hovertext": "Cell ID: 20km_626_60<br>Area: DK1",
         "lat": [
          56.4738,
          56.4692,
          56.6488,
          56.6535,
          56.4738
         ],
         "line": {
          "color": "grey",
          "width": 1
         },
         "lon": [
          10.6234,
          10.9479,
          10.9571,
          10.6311,
          10.6234
         ],
         "mode": "lines",
         "name": "20km_626_60",
         "type": "scattermapbox"
        },
        {
         "fill": "toself",
         "fillcolor": "rgba(0, 150, 255, 0.7)",
         "hoverinfo": "text",
         "hovertext": "Cell ID: 20km_628_44<br>Area: DK1",
         "lat": [
          56.6603,
          56.6624,
          56.8421,
          56.8399,
          56.6603
         ],
         "line": {
          "color": "grey",
          "width": 1
         },
         "lon": [
          8.0212,
          8.3474,
          8.3443,
          8.0165,
          8.0212
         ],
         "mode": "lines",
         "name": "20km_628_44",
         "type": "scattermapbox"
        },
        {
         "fill": "toself",
         "fillcolor": "rgba(0, 150, 255, 0.7)",
         "hoverinfo": "text",
         "hovertext": "Cell ID: 20km_628_46<br>Area: DK1",
         "lat": [
          56.6624,
          56.6637,
          56.8434,
          56.8421,
          56.6624
         ],
         "line": {
          "color": "grey",
          "width": 1
         },
         "lon": [
          8.3474,
          8.6737,
          8.6721,
          8.3443,
          8.3474
         ],
         "mode": "lines",
         "name": "20km_628_46",
         "type": "scattermapbox"
        },
        {
         "fill": "toself",
         "fillcolor": "rgba(0, 150, 255, 0.7)",
         "hoverinfo": "text",
         "hovertext": "Cell ID: 20km_628_48<br>Area: DK1",
         "lat": [
          56.6637,
          56.6641,
          56.8438,
          56.8434,
          56.6637
         ],
         "line": {
          "color": "grey",
          "width": 1
         },
         "lon": [
          8.6737,
          9,
          9,
          8.6721,
          8.6737
         ],
         "mode": "lines",
         "name": "20km_628_48",
         "type": "scattermapbox"
        },
        {
         "fill": "toself",
         "fillcolor": "rgba(0, 150, 255, 0.7)",
         "hoverinfo": "text",
         "hovertext": "Cell ID: 20km_628_50<br>Area: DK1",
         "lat": [
          56.6641,
          56.6637,
          56.8434,
          56.8438,
          56.6641
         ],
         "line": {
          "color": "grey",
          "width": 1
         },
         "lon": [
          9,
          9.3263,
          9.3279,
          9,
          9
         ],
         "mode": "lines",
         "name": "20km_628_50",
         "type": "scattermapbox"
        },
        {
         "fill": "toself",
         "fillcolor": "rgba(0, 150, 255, 0.7)",
         "hoverinfo": "text",
         "hovertext": "Cell ID: 20km_628_52<br>Area: DK1",
         "lat": [
          56.6637,
          56.6624,
          56.8421,
          56.8434,
          56.6637
         ],
         "line": {
          "color": "grey",
          "width": 1
         },
         "lon": [
          9.3263,
          9.6526,
          9.6557,
          9.3279,
          9.3263
         ],
         "mode": "lines",
         "name": "20km_628_52",
         "type": "scattermapbox"
        },
        {
         "fill": "toself",
         "fillcolor": "rgba(0, 150, 255, 0.7)",
         "hoverinfo": "text",
         "hovertext": "Cell ID: 20km_628_54<br>Area: DK1",
         "lat": [
          56.6624,
          56.6603,
          56.8399,
          56.8421,
          56.6624
         ],
         "line": {
          "color": "grey",
          "width": 1
         },
         "lon": [
          9.6526,
          9.9788,
          9.9835,
          9.6557,
          9.6526
         ],
         "mode": "lines",
         "name": "20km_628_54",
         "type": "scattermapbox"
        },
        {
         "fill": "toself",
         "fillcolor": "rgba(0, 150, 255, 0.7)",
         "hoverinfo": "text",
         "hovertext": "Cell ID: 20km_628_56<br>Area: DK1",
         "lat": [
          56.6603,
          56.6573,
          56.8369,
          56.8399,
          56.6603
         ],
         "line": {
          "color": "grey",
          "width": 1
         },
         "lon": [
          9.9788,
          10.305,
          10.3112,
          9.9835,
          9.9788
         ],
         "mode": "lines",
         "name": "20km_628_56",
         "type": "scattermapbox"
        },
        {
         "fill": "toself",
         "fillcolor": "rgba(0, 150, 255, 0.7)",
         "hoverinfo": "text",
         "hovertext": "Cell ID: 20km_628_58<br>Area: DK1",
         "lat": [
          56.6573,
          56.6535,
          56.8331,
          56.8369,
          56.6573
         ],
         "line": {
          "color": "grey",
          "width": 1
         },
         "lon": [
          10.305,
          10.6311,
          10.6389,
          10.3112,
          10.305
         ],
         "mode": "lines",
         "name": "20km_628_58",
         "type": "scattermapbox"
        },
        {
         "fill": "toself",
         "fillcolor": "rgba(255, 0, 0, 0.7)",
         "hoverinfo": "text",
         "hovertext": "Cell ID: 20km_628_65<br>Area: DK2",
         "lat": [
          56.6401,
          56.6333,
          56.8127,
          56.8196,
          56.6401
         ],
         "line": {
          "color": "grey",
          "width": 1
         },
         "lon": [
          11.446,
          11.7717,
          11.7849,
          11.4576,
          11.446
         ],
         "mode": "lines",
         "name": "20km_628_65",
         "type": "scattermapbox"
        },
        {
         "fill": "toself",
         "fillcolor": "rgba(0, 150, 255, 0.7)",
         "hoverinfo": "text",
         "hovertext": "Cell ID: 20km_630_44<br>Area: DK1",
         "lat": [
          56.8399,
          56.8421,
          57.0218,
          57.0196,
          56.8399
         ],
         "line": {
          "color": "grey",
          "width": 1
         },
         "lon": [
          8.0165,
          8.3443,
          8.3412,
          8.0118,
          8.0165
         ],
         "mode": "lines",
         "name": "20km_630_44",
         "type": "scattermapbox"
        },
        {
         "fill": "toself",
         "fillcolor": "rgba(0, 150, 255, 0.7)",
         "hoverinfo": "text",
         "hovertext": "Cell ID: 20km_630_46<br>Area: DK1",
         "lat": [
          56.8421,
          56.8434,
          57.0231,
          57.0218,
          56.8421
         ],
         "line": {
          "color": "grey",
          "width": 1
         },
         "lon": [
          8.3443,
          8.6721,
          8.6706,
          8.3412,
          8.3443
         ],
         "mode": "lines",
         "name": "20km_630_46",
         "type": "scattermapbox"
        },
        {
         "fill": "toself",
         "fillcolor": "rgba(0, 150, 255, 0.7)",
         "hoverinfo": "text",
         "hovertext": "Cell ID: 20km_630_48<br>Area: DK1",
         "lat": [
          56.8434,
          56.8438,
          57.0235,
          57.0231,
          56.8434
         ],
         "line": {
          "color": "grey",
          "width": 1
         },
         "lon": [
          8.6721,
          9,
          9,
          8.6706,
          8.6721
         ],
         "mode": "lines",
         "name": "20km_630_48",
         "type": "scattermapbox"
        },
        {
         "fill": "toself",
         "fillcolor": "rgba(0, 150, 255, 0.7)",
         "hoverinfo": "text",
         "hovertext": "Cell ID: 20km_630_50<br>Area: DK1",
         "lat": [
          56.8438,
          56.8434,
          57.0231,
          57.0235,
          56.8438
         ],
         "line": {
          "color": "grey",
          "width": 1
         },
         "lon": [
          9,
          9.3279,
          9.3294,
          9,
          9
         ],
         "mode": "lines",
         "name": "20km_630_50",
         "type": "scattermapbox"
        },
        {
         "fill": "toself",
         "fillcolor": "rgba(0, 150, 255, 0.7)",
         "hoverinfo": "text",
         "hovertext": "Cell ID: 20km_630_52<br>Area: DK1",
         "lat": [
          56.8434,
          56.8421,
          57.0218,
          57.0231,
          56.8434
         ],
         "line": {
          "color": "grey",
          "width": 1
         },
         "lon": [
          9.3279,
          9.6557,
          9.6588,
          9.3294,
          9.3279
         ],
         "mode": "lines",
         "name": "20km_630_52",
         "type": "scattermapbox"
        },
        {
         "fill": "toself",
         "fillcolor": "rgba(0, 150, 255, 0.7)",
         "hoverinfo": "text",
         "hovertext": "Cell ID: 20km_630_54<br>Area: DK1",
         "lat": [
          56.8421,
          56.8399,
          57.0196,
          57.0218,
          56.8421
         ],
         "line": {
          "color": "grey",
          "width": 1
         },
         "lon": [
          9.6557,
          9.9835,
          9.9882,
          9.6588,
          9.6557
         ],
         "mode": "lines",
         "name": "20km_630_54",
         "type": "scattermapbox"
        },
        {
         "fill": "toself",
         "fillcolor": "rgba(0, 150, 255, 0.7)",
         "hoverinfo": "text",
         "hovertext": "Cell ID: 20km_630_56<br>Area: DK1",
         "lat": [
          56.8399,
          56.8369,
          57.0166,
          57.0196,
          56.8399
         ],
         "line": {
          "color": "grey",
          "width": 1
         },
         "lon": [
          9.9835,
          10.3112,
          10.3176,
          9.9882,
          9.9835
         ],
         "mode": "lines",
         "name": "20km_630_56",
         "type": "scattermapbox"
        },
        {
         "fill": "toself",
         "fillcolor": "rgba(0, 150, 255, 0.7)",
         "hoverinfo": "text",
         "hovertext": "Cell ID: 20km_630_58<br>Area: DK1",
         "lat": [
          56.8369,
          56.8331,
          57.0127,
          57.0166,
          56.8369
         ],
         "line": {
          "color": "grey",
          "width": 1
         },
         "lon": [
          10.3112,
          10.6389,
          10.6468,
          10.3176,
          10.3112
         ],
         "mode": "lines",
         "name": "20km_630_58",
         "type": "scattermapbox"
        },
        {
         "fill": "toself",
         "fillcolor": "rgba(0, 150, 255, 0.7)",
         "hoverinfo": "text",
         "hovertext": "Cell ID: 20km_632_46<br>Area: DK1",
         "lat": [
          57.0218,
          57.0231,
          57.2027,
          57.2014,
          57.0218
         ],
         "line": {
          "color": "grey",
          "width": 1
         },
         "lon": [
          8.3412,
          8.6706,
          8.669,
          8.338,
          8.3412
         ],
         "mode": "lines",
         "name": "20km_632_46",
         "type": "scattermapbox"
        },
        {
         "fill": "toself",
         "fillcolor": "rgba(0, 150, 255, 0.7)",
         "hoverinfo": "text",
         "hovertext": "Cell ID: 20km_632_48<br>Area: DK1",
         "lat": [
          57.0231,
          57.0235,
          57.2032,
          57.2027,
          57.0231
         ],
         "line": {
          "color": "grey",
          "width": 1
         },
         "lon": [
          8.6706,
          9,
          9,
          8.669,
          8.6706
         ],
         "mode": "lines",
         "name": "20km_632_48",
         "type": "scattermapbox"
        },
        {
         "fill": "toself",
         "fillcolor": "rgba(0, 150, 255, 0.7)",
         "hoverinfo": "text",
         "hovertext": "Cell ID: 20km_632_50<br>Area: DK1",
         "lat": [
          57.0235,
          57.0231,
          57.2027,
          57.2032,
          57.0235
         ],
         "line": {
          "color": "grey",
          "width": 1
         },
         "lon": [
          9,
          9.3294,
          9.331,
          9,
          9
         ],
         "mode": "lines",
         "name": "20km_632_50",
         "type": "scattermapbox"
        },
        {
         "fill": "toself",
         "fillcolor": "rgba(0, 150, 255, 0.7)",
         "hoverinfo": "text",
         "hovertext": "Cell ID: 20km_632_52<br>Area: DK1",
         "lat": [
          57.0231,
          57.0218,
          57.2014,
          57.2027,
          57.0231
         ],
         "line": {
          "color": "grey",
          "width": 1
         },
         "lon": [
          9.3294,
          9.6588,
          9.662,
          9.331,
          9.3294
         ],
         "mode": "lines",
         "name": "20km_632_52",
         "type": "scattermapbox"
        },
        {
         "fill": "toself",
         "fillcolor": "rgba(0, 150, 255, 0.7)",
         "hoverinfo": "text",
         "hovertext": "Cell ID: 20km_632_54<br>Area: DK1",
         "lat": [
          57.0218,
          57.0196,
          57.1992,
          57.2014,
          57.0218
         ],
         "line": {
          "color": "grey",
          "width": 1
         },
         "lon": [
          9.6588,
          9.9882,
          9.993,
          9.662,
          9.6588
         ],
         "mode": "lines",
         "name": "20km_632_54",
         "type": "scattermapbox"
        },
        {
         "fill": "toself",
         "fillcolor": "rgba(0, 150, 255, 0.7)",
         "hoverinfo": "text",
         "hovertext": "Cell ID: 20km_632_56<br>Area: DK1",
         "lat": [
          57.0196,
          57.0166,
          57.1962,
          57.1992,
          57.0196
         ],
         "line": {
          "color": "grey",
          "width": 1
         },
         "lon": [
          9.9882,
          10.3176,
          10.3239,
          9.993,
          9.9882
         ],
         "mode": "lines",
         "name": "20km_632_56",
         "type": "scattermapbox"
        },
        {
         "fill": "toself",
         "fillcolor": "rgba(0, 150, 255, 0.7)",
         "hoverinfo": "text",
         "hovertext": "Cell ID: 20km_632_58<br>Area: DK1",
         "lat": [
          57.0166,
          57.0127,
          57.1922,
          57.1962,
          57.0166
         ],
         "line": {
          "color": "grey",
          "width": 1
         },
         "lon": [
          10.3176,
          10.6468,
          10.6548,
          10.3239,
          10.3176
         ],
         "mode": "lines",
         "name": "20km_632_58",
         "type": "scattermapbox"
        },
        {
         "fill": "toself",
         "fillcolor": "rgba(0, 150, 255, 0.7)",
         "hoverinfo": "text",
         "hovertext": "Cell ID: 20km_634_52<br>Area: DK1",
         "lat": [
          57.2027,
          57.2014,
          57.3811,
          57.3824,
          57.2027
         ],
         "line": {
          "color": "grey",
          "width": 1
         },
         "lon": [
          9.331,
          9.662,
          9.6653,
          9.3326,
          9.331
         ],
         "mode": "lines",
         "name": "20km_634_52",
         "type": "scattermapbox"
        },
        {
         "fill": "toself",
         "fillcolor": "rgba(0, 150, 255, 0.7)",
         "hoverinfo": "text",
         "hovertext": "Cell ID: 20km_634_54<br>Area: DK1",
         "lat": [
          57.2014,
          57.1992,
          57.3789,
          57.3811,
          57.2014
         ],
         "line": {
          "color": "grey",
          "width": 1
         },
         "lon": [
          9.662,
          9.993,
          9.9979,
          9.6653,
          9.662
         ],
         "mode": "lines",
         "name": "20km_634_54",
         "type": "scattermapbox"
        },
        {
         "fill": "toself",
         "fillcolor": "rgba(0, 150, 255, 0.7)",
         "hoverinfo": "text",
         "hovertext": "Cell ID: 20km_634_56<br>Area: DK1",
         "lat": [
          57.1992,
          57.1962,
          57.3758,
          57.3789,
          57.1992
         ],
         "line": {
          "color": "grey",
          "width": 1
         },
         "lon": [
          9.993,
          10.3239,
          10.3304,
          9.9979,
          9.993
         ],
         "mode": "lines",
         "name": "20km_634_56",
         "type": "scattermapbox"
        },
        {
         "fill": "toself",
         "fillcolor": "rgba(0, 150, 255, 0.7)",
         "hoverinfo": "text",
         "hovertext": "Cell ID: 20km_634_58<br>Area: DK1",
         "lat": [
          57.1962,
          57.1922,
          57.3718,
          57.3758,
          57.1962
         ],
         "line": {
          "color": "grey",
          "width": 1
         },
         "lon": [
          10.3239,
          10.6548,
          10.6629,
          10.3304,
          10.3239
         ],
         "mode": "lines",
         "name": "20km_634_58",
         "type": "scattermapbox"
        },
        {
         "fill": "toself",
         "fillcolor": "rgba(0, 150, 255, 0.7)",
         "hoverinfo": "text",
         "hovertext": "Cell ID: 20km_634_61<br>Area: DK1",
         "lat": [
          57.19,
          57.1847,
          57.3643,
          57.3695,
          57.19
         ],
         "line": {
          "color": "grey",
          "width": 1
         },
         "lon": [
          10.8202,
          11.1509,
          11.1614,
          10.8291,
          10.8202
         ],
         "mode": "lines",
         "name": "20km_634_61",
         "type": "scattermapbox"
        },
        {
         "fill": "toself",
         "fillcolor": "rgba(0, 150, 255, 0.7)",
         "hoverinfo": "text",
         "hovertext": "Cell ID: 20km_636_54<br>Area: DK1",
         "lat": [
          57.3811,
          57.3789,
          57.5585,
          57.5607,
          57.3811
         ],
         "line": {
          "color": "grey",
          "width": 1
         },
         "lon": [
          9.6653,
          9.9979,
          10.0028,
          9.6686,
          9.6653
         ],
         "mode": "lines",
         "name": "20km_636_54",
         "type": "scattermapbox"
        },
        {
         "fill": "toself",
         "fillcolor": "rgba(0, 150, 255, 0.7)",
         "hoverinfo": "text",
         "hovertext": "Cell ID: 20km_636_56<br>Area: DK1",
         "lat": [
          57.3789,
          57.3758,
          57.5554,
          57.5585,
          57.3789
         ],
         "line": {
          "color": "grey",
          "width": 1
         },
         "lon": [
          9.9979,
          10.3304,
          10.3369,
          10.0028,
          9.9979
         ],
         "mode": "lines",
         "name": "20km_636_56",
         "type": "scattermapbox"
        },
        {
         "fill": "toself",
         "fillcolor": "rgba(0, 150, 255, 0.7)",
         "hoverinfo": "text",
         "hovertext": "Cell ID: 20km_636_58<br>Area: DK1",
         "lat": [
          57.3758,
          57.3718,
          57.5514,
          57.5554,
          57.3758
         ],
         "line": {
          "color": "grey",
          "width": 1
         },
         "lon": [
          10.3304,
          10.6629,
          10.671,
          10.3369,
          10.3304
         ],
         "mode": "lines",
         "name": "20km_636_58",
         "type": "scattermapbox"
        },
        {
         "fill": "toself",
         "fillcolor": "rgba(0, 150, 255, 0.7)",
         "hoverinfo": "text",
         "hovertext": "Cell ID: 20km_638_54<br>Area: DK1",
         "lat": [
          57.5607,
          57.5585,
          57.7381,
          57.7403,
          57.5607
         ],
         "line": {
          "color": "grey",
          "width": 1
         },
         "lon": [
          9.6686,
          10.0028,
          10.0077,
          9.6719,
          9.6686
         ],
         "mode": "lines",
         "name": "20km_638_54",
         "type": "scattermapbox"
        },
        {
         "fill": "toself",
         "fillcolor": "rgba(0, 150, 255, 0.7)",
         "hoverinfo": "text",
         "hovertext": "Cell ID: 20km_638_56<br>Area: DK1",
         "lat": [
          57.5585,
          57.5554,
          57.735,
          57.7381,
          57.5585
         ],
         "line": {
          "color": "grey",
          "width": 1
         },
         "lon": [
          10.0028,
          10.3369,
          10.3436,
          10.0077,
          10.0028
         ],
         "mode": "lines",
         "name": "20km_638_56",
         "type": "scattermapbox"
        },
        {
         "fill": "toself",
         "fillcolor": "rgba(0, 150, 255, 0.7)",
         "hoverinfo": "text",
         "hovertext": "Cell ID: 20km_638_58<br>Area: DK1",
         "lat": [
          57.5554,
          57.5514,
          57.731,
          57.735,
          57.5554
         ],
         "line": {
          "color": "grey",
          "width": 1
         },
         "lon": [
          10.3369,
          10.671,
          10.6793,
          10.3436,
          10.3369
         ],
         "mode": "lines",
         "name": "20km_638_58",
         "type": "scattermapbox"
        }
       ],
       "layout": {
        "height": 600,
        "mapbox": {
         "center": {
          "lat": 56,
          "lon": 11
         },
         "style": "carto-positron",
         "zoom": 5.8
        },
        "margin": {
         "b": 0,
         "l": 0,
         "r": 0,
         "t": 0
        },
        "showlegend": false,
        "template": {
         "data": {
          "bar": [
           {
            "error_x": {
             "color": "#2a3f5f"
            },
            "error_y": {
             "color": "#2a3f5f"
            },
            "marker": {
             "line": {
              "color": "#E5ECF6",
              "width": 0.5
             },
             "pattern": {
              "fillmode": "overlay",
              "size": 10,
              "solidity": 0.2
             }
            },
            "type": "bar"
           }
          ],
          "barpolar": [
           {
            "marker": {
             "line": {
              "color": "#E5ECF6",
              "width": 0.5
             },
             "pattern": {
              "fillmode": "overlay",
              "size": 10,
              "solidity": 0.2
             }
            },
            "type": "barpolar"
           }
          ],
          "carpet": [
           {
            "aaxis": {
             "endlinecolor": "#2a3f5f",
             "gridcolor": "white",
             "linecolor": "white",
             "minorgridcolor": "white",
             "startlinecolor": "#2a3f5f"
            },
            "baxis": {
             "endlinecolor": "#2a3f5f",
             "gridcolor": "white",
             "linecolor": "white",
             "minorgridcolor": "white",
             "startlinecolor": "#2a3f5f"
            },
            "type": "carpet"
           }
          ],
          "choropleth": [
           {
            "colorbar": {
             "outlinewidth": 0,
             "ticks": ""
            },
            "type": "choropleth"
           }
          ],
          "contour": [
           {
            "colorbar": {
             "outlinewidth": 0,
             "ticks": ""
            },
            "colorscale": [
             [
              0,
              "#0d0887"
             ],
             [
              0.1111111111111111,
              "#46039f"
             ],
             [
              0.2222222222222222,
              "#7201a8"
             ],
             [
              0.3333333333333333,
              "#9c179e"
             ],
             [
              0.4444444444444444,
              "#bd3786"
             ],
             [
              0.5555555555555556,
              "#d8576b"
             ],
             [
              0.6666666666666666,
              "#ed7953"
             ],
             [
              0.7777777777777778,
              "#fb9f3a"
             ],
             [
              0.8888888888888888,
              "#fdca26"
             ],
             [
              1,
              "#f0f921"
             ]
            ],
            "type": "contour"
           }
          ],
          "contourcarpet": [
           {
            "colorbar": {
             "outlinewidth": 0,
             "ticks": ""
            },
            "type": "contourcarpet"
           }
          ],
          "heatmap": [
           {
            "colorbar": {
             "outlinewidth": 0,
             "ticks": ""
            },
            "colorscale": [
             [
              0,
              "#0d0887"
             ],
             [
              0.1111111111111111,
              "#46039f"
             ],
             [
              0.2222222222222222,
              "#7201a8"
             ],
             [
              0.3333333333333333,
              "#9c179e"
             ],
             [
              0.4444444444444444,
              "#bd3786"
             ],
             [
              0.5555555555555556,
              "#d8576b"
             ],
             [
              0.6666666666666666,
              "#ed7953"
             ],
             [
              0.7777777777777778,
              "#fb9f3a"
             ],
             [
              0.8888888888888888,
              "#fdca26"
             ],
             [
              1,
              "#f0f921"
             ]
            ],
            "type": "heatmap"
           }
          ],
          "heatmapgl": [
           {
            "colorbar": {
             "outlinewidth": 0,
             "ticks": ""
            },
            "colorscale": [
             [
              0,
              "#0d0887"
             ],
             [
              0.1111111111111111,
              "#46039f"
             ],
             [
              0.2222222222222222,
              "#7201a8"
             ],
             [
              0.3333333333333333,
              "#9c179e"
             ],
             [
              0.4444444444444444,
              "#bd3786"
             ],
             [
              0.5555555555555556,
              "#d8576b"
             ],
             [
              0.6666666666666666,
              "#ed7953"
             ],
             [
              0.7777777777777778,
              "#fb9f3a"
             ],
             [
              0.8888888888888888,
              "#fdca26"
             ],
             [
              1,
              "#f0f921"
             ]
            ],
            "type": "heatmapgl"
           }
          ],
          "histogram": [
           {
            "marker": {
             "pattern": {
              "fillmode": "overlay",
              "size": 10,
              "solidity": 0.2
             }
            },
            "type": "histogram"
           }
          ],
          "histogram2d": [
           {
            "colorbar": {
             "outlinewidth": 0,
             "ticks": ""
            },
            "colorscale": [
             [
              0,
              "#0d0887"
             ],
             [
              0.1111111111111111,
              "#46039f"
             ],
             [
              0.2222222222222222,
              "#7201a8"
             ],
             [
              0.3333333333333333,
              "#9c179e"
             ],
             [
              0.4444444444444444,
              "#bd3786"
             ],
             [
              0.5555555555555556,
              "#d8576b"
             ],
             [
              0.6666666666666666,
              "#ed7953"
             ],
             [
              0.7777777777777778,
              "#fb9f3a"
             ],
             [
              0.8888888888888888,
              "#fdca26"
             ],
             [
              1,
              "#f0f921"
             ]
            ],
            "type": "histogram2d"
           }
          ],
          "histogram2dcontour": [
           {
            "colorbar": {
             "outlinewidth": 0,
             "ticks": ""
            },
            "colorscale": [
             [
              0,
              "#0d0887"
             ],
             [
              0.1111111111111111,
              "#46039f"
             ],
             [
              0.2222222222222222,
              "#7201a8"
             ],
             [
              0.3333333333333333,
              "#9c179e"
             ],
             [
              0.4444444444444444,
              "#bd3786"
             ],
             [
              0.5555555555555556,
              "#d8576b"
             ],
             [
              0.6666666666666666,
              "#ed7953"
             ],
             [
              0.7777777777777778,
              "#fb9f3a"
             ],
             [
              0.8888888888888888,
              "#fdca26"
             ],
             [
              1,
              "#f0f921"
             ]
            ],
            "type": "histogram2dcontour"
           }
          ],
          "mesh3d": [
           {
            "colorbar": {
             "outlinewidth": 0,
             "ticks": ""
            },
            "type": "mesh3d"
           }
          ],
          "parcoords": [
           {
            "line": {
             "colorbar": {
              "outlinewidth": 0,
              "ticks": ""
             }
            },
            "type": "parcoords"
           }
          ],
          "pie": [
           {
            "automargin": true,
            "type": "pie"
           }
          ],
          "scatter": [
           {
            "fillpattern": {
             "fillmode": "overlay",
             "size": 10,
             "solidity": 0.2
            },
            "type": "scatter"
           }
          ],
          "scatter3d": [
           {
            "line": {
             "colorbar": {
              "outlinewidth": 0,
              "ticks": ""
             }
            },
            "marker": {
             "colorbar": {
              "outlinewidth": 0,
              "ticks": ""
             }
            },
            "type": "scatter3d"
           }
          ],
          "scattercarpet": [
           {
            "marker": {
             "colorbar": {
              "outlinewidth": 0,
              "ticks": ""
             }
            },
            "type": "scattercarpet"
           }
          ],
          "scattergeo": [
           {
            "marker": {
             "colorbar": {
              "outlinewidth": 0,
              "ticks": ""
             }
            },
            "type": "scattergeo"
           }
          ],
          "scattergl": [
           {
            "marker": {
             "colorbar": {
              "outlinewidth": 0,
              "ticks": ""
             }
            },
            "type": "scattergl"
           }
          ],
          "scattermapbox": [
           {
            "marker": {
             "colorbar": {
              "outlinewidth": 0,
              "ticks": ""
             }
            },
            "type": "scattermapbox"
           }
          ],
          "scatterpolar": [
           {
            "marker": {
             "colorbar": {
              "outlinewidth": 0,
              "ticks": ""
             }
            },
            "type": "scatterpolar"
           }
          ],
          "scatterpolargl": [
           {
            "marker": {
             "colorbar": {
              "outlinewidth": 0,
              "ticks": ""
             }
            },
            "type": "scatterpolargl"
           }
          ],
          "scatterternary": [
           {
            "marker": {
             "colorbar": {
              "outlinewidth": 0,
              "ticks": ""
             }
            },
            "type": "scatterternary"
           }
          ],
          "surface": [
           {
            "colorbar": {
             "outlinewidth": 0,
             "ticks": ""
            },
            "colorscale": [
             [
              0,
              "#0d0887"
             ],
             [
              0.1111111111111111,
              "#46039f"
             ],
             [
              0.2222222222222222,
              "#7201a8"
             ],
             [
              0.3333333333333333,
              "#9c179e"
             ],
             [
              0.4444444444444444,
              "#bd3786"
             ],
             [
              0.5555555555555556,
              "#d8576b"
             ],
             [
              0.6666666666666666,
              "#ed7953"
             ],
             [
              0.7777777777777778,
              "#fb9f3a"
             ],
             [
              0.8888888888888888,
              "#fdca26"
             ],
             [
              1,
              "#f0f921"
             ]
            ],
            "type": "surface"
           }
          ],
          "table": [
           {
            "cells": {
             "fill": {
              "color": "#EBF0F8"
             },
             "line": {
              "color": "white"
             }
            },
            "header": {
             "fill": {
              "color": "#C8D4E3"
             },
             "line": {
              "color": "white"
             }
            },
            "type": "table"
           }
          ]
         },
         "layout": {
          "annotationdefaults": {
           "arrowcolor": "#2a3f5f",
           "arrowhead": 0,
           "arrowwidth": 1
          },
          "autotypenumbers": "strict",
          "coloraxis": {
           "colorbar": {
            "outlinewidth": 0,
            "ticks": ""
           }
          },
          "colorscale": {
           "diverging": [
            [
             0,
             "#8e0152"
            ],
            [
             0.1,
             "#c51b7d"
            ],
            [
             0.2,
             "#de77ae"
            ],
            [
             0.3,
             "#f1b6da"
            ],
            [
             0.4,
             "#fde0ef"
            ],
            [
             0.5,
             "#f7f7f7"
            ],
            [
             0.6,
             "#e6f5d0"
            ],
            [
             0.7,
             "#b8e186"
            ],
            [
             0.8,
             "#7fbc41"
            ],
            [
             0.9,
             "#4d9221"
            ],
            [
             1,
             "#276419"
            ]
           ],
           "sequential": [
            [
             0,
             "#0d0887"
            ],
            [
             0.1111111111111111,
             "#46039f"
            ],
            [
             0.2222222222222222,
             "#7201a8"
            ],
            [
             0.3333333333333333,
             "#9c179e"
            ],
            [
             0.4444444444444444,
             "#bd3786"
            ],
            [
             0.5555555555555556,
             "#d8576b"
            ],
            [
             0.6666666666666666,
             "#ed7953"
            ],
            [
             0.7777777777777778,
             "#fb9f3a"
            ],
            [
             0.8888888888888888,
             "#fdca26"
            ],
            [
             1,
             "#f0f921"
            ]
           ],
           "sequentialminus": [
            [
             0,
             "#0d0887"
            ],
            [
             0.1111111111111111,
             "#46039f"
            ],
            [
             0.2222222222222222,
             "#7201a8"
            ],
            [
             0.3333333333333333,
             "#9c179e"
            ],
            [
             0.4444444444444444,
             "#bd3786"
            ],
            [
             0.5555555555555556,
             "#d8576b"
            ],
            [
             0.6666666666666666,
             "#ed7953"
            ],
            [
             0.7777777777777778,
             "#fb9f3a"
            ],
            [
             0.8888888888888888,
             "#fdca26"
            ],
            [
             1,
             "#f0f921"
            ]
           ]
          },
          "colorway": [
           "#636efa",
           "#EF553B",
           "#00cc96",
           "#ab63fa",
           "#FFA15A",
           "#19d3f3",
           "#FF6692",
           "#B6E880",
           "#FF97FF",
           "#FECB52"
          ],
          "font": {
           "color": "#2a3f5f"
          },
          "geo": {
           "bgcolor": "white",
           "lakecolor": "white",
           "landcolor": "#E5ECF6",
           "showlakes": true,
           "showland": true,
           "subunitcolor": "white"
          },
          "hoverlabel": {
           "align": "left"
          },
          "hovermode": "closest",
          "mapbox": {
           "style": "light"
          },
          "paper_bgcolor": "white",
          "plot_bgcolor": "#E5ECF6",
          "polar": {
           "angularaxis": {
            "gridcolor": "white",
            "linecolor": "white",
            "ticks": ""
           },
           "bgcolor": "#E5ECF6",
           "radialaxis": {
            "gridcolor": "white",
            "linecolor": "white",
            "ticks": ""
           }
          },
          "scene": {
           "xaxis": {
            "backgroundcolor": "#E5ECF6",
            "gridcolor": "white",
            "gridwidth": 2,
            "linecolor": "white",
            "showbackground": true,
            "ticks": "",
            "zerolinecolor": "white"
           },
           "yaxis": {
            "backgroundcolor": "#E5ECF6",
            "gridcolor": "white",
            "gridwidth": 2,
            "linecolor": "white",
            "showbackground": true,
            "ticks": "",
            "zerolinecolor": "white"
           },
           "zaxis": {
            "backgroundcolor": "#E5ECF6",
            "gridcolor": "white",
            "gridwidth": 2,
            "linecolor": "white",
            "showbackground": true,
            "ticks": "",
            "zerolinecolor": "white"
           }
          },
          "shapedefaults": {
           "line": {
            "color": "#2a3f5f"
           }
          },
          "ternary": {
           "aaxis": {
            "gridcolor": "white",
            "linecolor": "white",
            "ticks": ""
           },
           "baxis": {
            "gridcolor": "white",
            "linecolor": "white",
            "ticks": ""
           },
           "bgcolor": "#E5ECF6",
           "caxis": {
            "gridcolor": "white",
            "linecolor": "white",
            "ticks": ""
           }
          },
          "title": {
           "x": 0.05
          },
          "xaxis": {
           "automargin": true,
           "gridcolor": "white",
           "linecolor": "white",
           "ticks": "",
           "title": {
            "standoff": 15
           },
           "zerolinecolor": "white",
           "zerolinewidth": 2
          },
          "yaxis": {
           "automargin": true,
           "gridcolor": "white",
           "linecolor": "white",
           "ticks": "",
           "title": {
            "standoff": 15
           },
           "zerolinecolor": "white",
           "zerolinewidth": 2
          }
         }
        }
       }
      }
     },
     "metadata": {},
     "output_type": "display_data"
    }
   ],
   "source": [
    "# create df with only cellId, geometry type and coordinates\n",
    "df_geometry = df_weather[['cellId', 'area', 'coordinates']].drop_duplicates()\n",
    "\n",
    "# plot the polygons\n",
    "ap.plot_polygons(df_geometry, color_by='area', save='polygon_by_area.png')"
   ]
  },
  {
   "cell_type": "markdown",
   "metadata": {},
   "source": [
    "## Energinet data"
   ]
  },
  {
   "cell_type": "code",
   "execution_count": 5,
   "metadata": {},
   "outputs": [],
   "source": [
    "# define url and parameters\n",
    "base_url = 'https://api.energidataservice.dk/dataset/Elspotprices'\n",
    "params = {\n",
    "    'offset': 0,\n",
    "    'start': '2011-01-01T00:00',\n",
    "    'end': '2024-10-01T00:00',\n",
    "    'filter': '{\"PriceArea\":[\"DK1\"]}' # DK1 is the price area for west Denmark, DK2 is for east Denmark https://energinet.dk/El/Systemydelser/Introduktion-til-Systemydelser/Oversigt-over-systemydelser/\n",
    "    }"
   ]
  },
  {
   "cell_type": "code",
   "execution_count": 14,
   "metadata": {},
   "outputs": [
    {
     "data": {
      "text/html": [
       "<div>\n",
       "<style scoped>\n",
       "    .dataframe tbody tr th:only-of-type {\n",
       "        vertical-align: middle;\n",
       "    }\n",
       "\n",
       "    .dataframe tbody tr th {\n",
       "        vertical-align: top;\n",
       "    }\n",
       "\n",
       "    .dataframe thead th {\n",
       "        text-align: right;\n",
       "    }\n",
       "</style>\n",
       "<table border=\"1\" class=\"dataframe\">\n",
       "  <thead>\n",
       "    <tr style=\"text-align: right;\">\n",
       "      <th></th>\n",
       "      <th>HourUTC</th>\n",
       "      <th>PriceArea</th>\n",
       "      <th>SpotPriceDKK</th>\n",
       "      <th>SpotPriceEUR</th>\n",
       "    </tr>\n",
       "  </thead>\n",
       "  <tbody>\n",
       "    <tr>\n",
       "      <th>0</th>\n",
       "      <td>2024-09-30 21:00:00</td>\n",
       "      <td>DK1</td>\n",
       "      <td>73.370003</td>\n",
       "      <td>9.840000</td>\n",
       "    </tr>\n",
       "    <tr>\n",
       "      <th>1</th>\n",
       "      <td>2024-09-30 20:00:00</td>\n",
       "      <td>DK1</td>\n",
       "      <td>149.199997</td>\n",
       "      <td>20.010000</td>\n",
       "    </tr>\n",
       "    <tr>\n",
       "      <th>2</th>\n",
       "      <td>2024-09-30 19:00:00</td>\n",
       "      <td>DK1</td>\n",
       "      <td>163.509995</td>\n",
       "      <td>21.930000</td>\n",
       "    </tr>\n",
       "    <tr>\n",
       "      <th>3</th>\n",
       "      <td>2024-09-30 18:00:00</td>\n",
       "      <td>DK1</td>\n",
       "      <td>270.660004</td>\n",
       "      <td>36.299999</td>\n",
       "    </tr>\n",
       "    <tr>\n",
       "      <th>4</th>\n",
       "      <td>2024-09-30 17:00:00</td>\n",
       "      <td>DK1</td>\n",
       "      <td>273.119995</td>\n",
       "      <td>36.630001</td>\n",
       "    </tr>\n",
       "  </tbody>\n",
       "</table>\n",
       "</div>"
      ],
      "text/plain": [
       "              HourUTC PriceArea  SpotPriceDKK  SpotPriceEUR\n",
       "0 2024-09-30 21:00:00       DK1     73.370003      9.840000\n",
       "1 2024-09-30 20:00:00       DK1    149.199997     20.010000\n",
       "2 2024-09-30 19:00:00       DK1    163.509995     21.930000\n",
       "3 2024-09-30 18:00:00       DK1    270.660004     36.299999\n",
       "4 2024-09-30 17:00:00       DK1    273.119995     36.630001"
      ]
     },
     "execution_count": 14,
     "metadata": {},
     "output_type": "execute_result"
    }
   ],
   "source": [
    "# download the data\n",
    "df_energy = ap.get_energydata(url=base_url, params=params)\n",
    "\n",
    "# drop the HourDK column as dmi data is in UTC\n",
    "df_energy.drop(columns=['HourDK'], inplace=True)\n",
    "\n",
    "# convert to datetime\n",
    "df_energy['HourUTC'] = pd.to_datetime(df_energy['HourUTC'])\n",
    "df_energy.head()\n"
   ]
  }
 ],
 "metadata": {
  "kernelspec": {
   "display_name": "base",
   "language": "python",
   "name": "python3"
  },
  "language_info": {
   "codemirror_mode": {
    "name": "ipython",
    "version": 3
   },
   "file_extension": ".py",
   "mimetype": "text/x-python",
   "name": "python",
   "nbconvert_exporter": "python",
   "pygments_lexer": "ipython3",
   "version": "3.11.8"
  }
 },
 "nbformat": 4,
 "nbformat_minor": 2
}
