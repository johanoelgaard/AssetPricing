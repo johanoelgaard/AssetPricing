{
 "cells": [
  {
   "cell_type": "markdown",
   "metadata": {},
   "source": [
    "Combine data from DMI & Energinet\n",
    "=======================\n",
    "This loads in csv file created by the [loadbulkweather.ipynb](loadbulkweather.ipynb) and pulls data from the Energinet API"
   ]
  },
  {
   "cell_type": "code",
   "execution_count": 1,
   "metadata": {},
   "outputs": [],
   "source": [
    "import pandas as pd\n",
    "\n",
    "import assetpricing_functions as ap\n",
    "%load_ext autoreload\n",
    "%autoreload 2"
   ]
  },
  {
   "cell_type": "markdown",
   "metadata": {},
   "source": [
    "## Loading DMI data"
   ]
  },
  {
   "cell_type": "code",
   "execution_count": 2,
   "metadata": {},
   "outputs": [],
   "source": [
    "# path to the CSV file\n",
    "path = '/Users/johan/Documents/04 Div Uni/09 Asset Pricing Data/weather-muni/weather_data.csv'\n",
    "path_out = '../../data/fulldata.csv'\n",
    "\n",
    "# read the data\n",
    "df_weather = pd.read_csv(path)"
   ]
  },
  {
   "cell_type": "code",
   "execution_count": 3,
   "metadata": {},
   "outputs": [
    {
     "name": "stdout",
     "output_type": "stream",
     "text": [
      "<class 'pandas.core.frame.DataFrame'>\n",
      "RangeIndex: 11856625 entries, 0 to 11856624\n",
      "Data columns (total 25 columns):\n",
      " #   Column                        Dtype  \n",
      "---  ------                        -----  \n",
      " 0   municipalityId                int64  \n",
      " 1   municipalityName              object \n",
      " 2   from                          object \n",
      " 3   to                            object \n",
      " 4   geometry_type                 object \n",
      " 5   coordinates                   object \n",
      " 6   mean_radiation                float64\n",
      " 7   mean_wind_speed               float64\n",
      " 8   acc_precip                    float64\n",
      " 9   temp_soil_10                  float64\n",
      " 10  max_wind_speed_3sec           float64\n",
      " 11  temp_grass                    float64\n",
      " 12  max_temp_w_date               float64\n",
      " 13  mean_relative_hum             float64\n",
      " 14  max_wind_speed_10min          float64\n",
      " 15  mean_cloud_cover              float64\n",
      " 16  leaf_moisture                 float64\n",
      " 17  mean_temp                     float64\n",
      " 18  vapour_pressure_deficit_mean  float64\n",
      " 19  no_lightning_strikes          float64\n",
      " 20  mean_pressure                 float64\n",
      " 21  min_temp                      float64\n",
      " 22  temp_soil_30                  float64\n",
      " 23  mean_wind_dir                 float64\n",
      " 24  bright_sunshine               float64\n",
      "dtypes: float64(19), int64(1), object(5)\n",
      "memory usage: 2.2+ GB\n"
     ]
    }
   ],
   "source": [
    "df_weather.info()"
   ]
  },
  {
   "cell_type": "code",
   "execution_count": 4,
   "metadata": {},
   "outputs": [
    {
     "data": {
      "text/html": [
       "<div>\n",
       "<style scoped>\n",
       "    .dataframe tbody tr th:only-of-type {\n",
       "        vertical-align: middle;\n",
       "    }\n",
       "\n",
       "    .dataframe tbody tr th {\n",
       "        vertical-align: top;\n",
       "    }\n",
       "\n",
       "    .dataframe thead th {\n",
       "        text-align: right;\n",
       "    }\n",
       "</style>\n",
       "<table border=\"1\" class=\"dataframe\">\n",
       "  <thead>\n",
       "    <tr style=\"text-align: right;\">\n",
       "      <th></th>\n",
       "      <th>municipalityName</th>\n",
       "      <th>municipalityId</th>\n",
       "      <th>from</th>\n",
       "      <th>to</th>\n",
       "      <th>coordinates</th>\n",
       "      <th>geometry_type</th>\n",
       "      <th>mean_temp</th>\n",
       "      <th>mean_wind_speed</th>\n",
       "      <th>mean_wind_dir</th>\n",
       "      <th>area</th>\n",
       "    </tr>\n",
       "  </thead>\n",
       "  <tbody>\n",
       "    <tr>\n",
       "      <th>0</th>\n",
       "      <td>København</td>\n",
       "      <td>101</td>\n",
       "      <td>2010-12-31 23:00:00+00:00</td>\n",
       "      <td>2011-01-01 00:00:00+00:00</td>\n",
       "      <td>[12.49390862, 55.7040906]</td>\n",
       "      <td>Point</td>\n",
       "      <td>3.1</td>\n",
       "      <td>10.0</td>\n",
       "      <td>250.0</td>\n",
       "      <td>DK2</td>\n",
       "    </tr>\n",
       "    <tr>\n",
       "      <th>1</th>\n",
       "      <td>Frederiksberg</td>\n",
       "      <td>147</td>\n",
       "      <td>2010-12-31 23:00:00+00:00</td>\n",
       "      <td>2011-01-01 00:00:00+00:00</td>\n",
       "      <td>[12.52373306, 55.67936546]</td>\n",
       "      <td>Point</td>\n",
       "      <td>3.2</td>\n",
       "      <td>9.7</td>\n",
       "      <td>248.0</td>\n",
       "      <td>DK2</td>\n",
       "    </tr>\n",
       "    <tr>\n",
       "      <th>2</th>\n",
       "      <td>Ballerup</td>\n",
       "      <td>151</td>\n",
       "      <td>2010-12-31 23:00:00+00:00</td>\n",
       "      <td>2011-01-01 00:00:00+00:00</td>\n",
       "      <td>[12.36840182, 55.72775072]</td>\n",
       "      <td>Point</td>\n",
       "      <td>2.9</td>\n",
       "      <td>10.6</td>\n",
       "      <td>258.0</td>\n",
       "      <td>DK2</td>\n",
       "    </tr>\n",
       "    <tr>\n",
       "      <th>3</th>\n",
       "      <td>Brøndby</td>\n",
       "      <td>153</td>\n",
       "      <td>2010-12-31 23:00:00+00:00</td>\n",
       "      <td>2011-01-01 00:00:00+00:00</td>\n",
       "      <td>[12.40438199, 55.64503727]</td>\n",
       "      <td>Point</td>\n",
       "      <td>3.1</td>\n",
       "      <td>10.4</td>\n",
       "      <td>253.0</td>\n",
       "      <td>DK2</td>\n",
       "    </tr>\n",
       "    <tr>\n",
       "      <th>4</th>\n",
       "      <td>Dragør</td>\n",
       "      <td>155</td>\n",
       "      <td>2010-12-31 23:00:00+00:00</td>\n",
       "      <td>2011-01-01 00:00:00+00:00</td>\n",
       "      <td>[12.65022813, 55.59380739]</td>\n",
       "      <td>Point</td>\n",
       "      <td>3.1</td>\n",
       "      <td>11.8</td>\n",
       "      <td>259.0</td>\n",
       "      <td>DK2</td>\n",
       "    </tr>\n",
       "  </tbody>\n",
       "</table>\n",
       "</div>"
      ],
      "text/plain": [
       "  municipalityName  municipalityId                       from  \\\n",
       "0        København             101  2010-12-31 23:00:00+00:00   \n",
       "1    Frederiksberg             147  2010-12-31 23:00:00+00:00   \n",
       "2         Ballerup             151  2010-12-31 23:00:00+00:00   \n",
       "3          Brøndby             153  2010-12-31 23:00:00+00:00   \n",
       "4           Dragør             155  2010-12-31 23:00:00+00:00   \n",
       "\n",
       "                          to                 coordinates geometry_type  \\\n",
       "0  2011-01-01 00:00:00+00:00   [12.49390862, 55.7040906]         Point   \n",
       "1  2011-01-01 00:00:00+00:00  [12.52373306, 55.67936546]         Point   \n",
       "2  2011-01-01 00:00:00+00:00  [12.36840182, 55.72775072]         Point   \n",
       "3  2011-01-01 00:00:00+00:00  [12.40438199, 55.64503727]         Point   \n",
       "4  2011-01-01 00:00:00+00:00  [12.65022813, 55.59380739]         Point   \n",
       "\n",
       "   mean_temp  mean_wind_speed  mean_wind_dir area  \n",
       "0        3.1             10.0          250.0  DK2  \n",
       "1        3.2              9.7          248.0  DK2  \n",
       "2        2.9             10.6          258.0  DK2  \n",
       "3        3.1             10.4          253.0  DK2  \n",
       "4        3.1             11.8          259.0  DK2  "
      ]
     },
     "metadata": {},
     "output_type": "display_data"
    }
   ],
   "source": [
    "# define ids\n",
    "if 'cellId' in df_weather.columns:\n",
    "    ids = ['cellId']\n",
    "if 'municipalityId' in df_weather.columns:\n",
    "    ids = ['municipalityName','municipalityId']\n",
    "\n",
    "# columns to keep\n",
    "cols = ids + ['from', 'to', 'coordinates', 'geometry_type', # general columns\n",
    "              'mean_temp', # temperature data\n",
    "              'mean_wind_speed', 'mean_wind_dir', # wind data\n",
    "            #   'mean_cloud_cover', 'bright_sunshine', # cloud and sunshine data\n",
    "              ]\n",
    "\n",
    "# keep only the columns we need\n",
    "df_weather = df_weather[cols]\n",
    "\n",
    "# adding electricity area to the dataframe DK1 is the price area for west Denmark, DK2 is for east Denmark https://energinet.dk/El/Systemydelser/Introduktion-til-Systemydelser/Oversigt-over-systemydelser/\n",
    "if 'cellId' in df_weather.columns:\n",
    "    df_weather['area'] = df_weather['cellId'].apply(lambda x: 'DK1' if int(x[-2:]) < 62 else 'DK2')\n",
    "elif 'municipalityId' in df_weather.columns:\n",
    "    df_weather['area'] = df_weather['municipalityId'].apply(lambda x: 'DK1' if x > 400 else 'DK2')\n",
    "\n",
    "display(df_weather.head())"
   ]
  },
  {
   "cell_type": "code",
   "execution_count": 5,
   "metadata": {},
   "outputs": [],
   "source": [
    "df_facts = df_weather[ids + ['area','coordinates','geometry_type']].drop_duplicates()"
   ]
  },
  {
   "cell_type": "code",
   "execution_count": 6,
   "metadata": {},
   "outputs": [],
   "source": [
    "# convert to datetime\n",
    "df_weather['from'] = pd.to_datetime(df_weather['from'])\n",
    "df_weather['to'] = pd.to_datetime(df_weather['to'])"
   ]
  },
  {
   "cell_type": "code",
   "execution_count": 7,
   "metadata": {},
   "outputs": [
    {
     "data": {
      "text/html": [
       "<div>\n",
       "<style scoped>\n",
       "    .dataframe tbody tr th:only-of-type {\n",
       "        vertical-align: middle;\n",
       "    }\n",
       "\n",
       "    .dataframe tbody tr th {\n",
       "        vertical-align: top;\n",
       "    }\n",
       "\n",
       "    .dataframe thead th {\n",
       "        text-align: right;\n",
       "    }\n",
       "</style>\n",
       "<table border=\"1\" class=\"dataframe\">\n",
       "  <thead>\n",
       "    <tr style=\"text-align: right;\">\n",
       "      <th></th>\n",
       "      <th>municipalityName</th>\n",
       "      <th>municipalityId</th>\n",
       "      <th>from</th>\n",
       "      <th>to</th>\n",
       "      <th>coordinates</th>\n",
       "      <th>geometry_type</th>\n",
       "      <th>mean_temp</th>\n",
       "      <th>mean_wind_speed</th>\n",
       "      <th>mean_wind_dir</th>\n",
       "      <th>area</th>\n",
       "    </tr>\n",
       "  </thead>\n",
       "  <tbody>\n",
       "    <tr>\n",
       "      <th>6176450</th>\n",
       "      <td>København</td>\n",
       "      <td>101</td>\n",
       "      <td>2018-03-11 07:00:00+00:00</td>\n",
       "      <td>2018-03-11 08:00:00+00:00</td>\n",
       "      <td>[12.49390862, 55.7040906]</td>\n",
       "      <td>Point</td>\n",
       "      <td>NaN</td>\n",
       "      <td>NaN</td>\n",
       "      <td>NaN</td>\n",
       "      <td>DK2</td>\n",
       "    </tr>\n",
       "    <tr>\n",
       "      <th>6176451</th>\n",
       "      <td>Frederiksberg</td>\n",
       "      <td>147</td>\n",
       "      <td>2018-03-11 07:00:00+00:00</td>\n",
       "      <td>2018-03-11 08:00:00+00:00</td>\n",
       "      <td>[12.52373306, 55.67936546]</td>\n",
       "      <td>Point</td>\n",
       "      <td>NaN</td>\n",
       "      <td>4.0</td>\n",
       "      <td>NaN</td>\n",
       "      <td>DK2</td>\n",
       "    </tr>\n",
       "    <tr>\n",
       "      <th>6176452</th>\n",
       "      <td>Ballerup</td>\n",
       "      <td>151</td>\n",
       "      <td>2018-03-11 07:00:00+00:00</td>\n",
       "      <td>2018-03-11 08:00:00+00:00</td>\n",
       "      <td>[12.36840182, 55.72775072]</td>\n",
       "      <td>Point</td>\n",
       "      <td>NaN</td>\n",
       "      <td>NaN</td>\n",
       "      <td>NaN</td>\n",
       "      <td>DK2</td>\n",
       "    </tr>\n",
       "    <tr>\n",
       "      <th>6176453</th>\n",
       "      <td>Brøndby</td>\n",
       "      <td>153</td>\n",
       "      <td>2018-03-11 07:00:00+00:00</td>\n",
       "      <td>2018-03-11 08:00:00+00:00</td>\n",
       "      <td>[12.40438199, 55.64503727]</td>\n",
       "      <td>Point</td>\n",
       "      <td>NaN</td>\n",
       "      <td>4.4</td>\n",
       "      <td>NaN</td>\n",
       "      <td>DK2</td>\n",
       "    </tr>\n",
       "    <tr>\n",
       "      <th>6176454</th>\n",
       "      <td>Dragør</td>\n",
       "      <td>155</td>\n",
       "      <td>2018-03-11 07:00:00+00:00</td>\n",
       "      <td>2018-03-11 08:00:00+00:00</td>\n",
       "      <td>[12.65022813, 55.59380739]</td>\n",
       "      <td>Point</td>\n",
       "      <td>NaN</td>\n",
       "      <td>3.1</td>\n",
       "      <td>NaN</td>\n",
       "      <td>DK2</td>\n",
       "    </tr>\n",
       "    <tr>\n",
       "      <th>...</th>\n",
       "      <td>...</td>\n",
       "      <td>...</td>\n",
       "      <td>...</td>\n",
       "      <td>...</td>\n",
       "      <td>...</td>\n",
       "      <td>...</td>\n",
       "      <td>...</td>\n",
       "      <td>...</td>\n",
       "      <td>...</td>\n",
       "      <td>...</td>\n",
       "    </tr>\n",
       "    <tr>\n",
       "      <th>6176540</th>\n",
       "      <td>Rebild</td>\n",
       "      <td>840</td>\n",
       "      <td>2018-03-11 07:00:00+00:00</td>\n",
       "      <td>2018-03-11 08:00:00+00:00</td>\n",
       "      <td>[9.76037733, 56.86903928]</td>\n",
       "      <td>Point</td>\n",
       "      <td>NaN</td>\n",
       "      <td>NaN</td>\n",
       "      <td>NaN</td>\n",
       "      <td>DK1</td>\n",
       "    </tr>\n",
       "    <tr>\n",
       "      <th>6176541</th>\n",
       "      <td>Mariagerfjord</td>\n",
       "      <td>846</td>\n",
       "      <td>2018-03-11 07:00:00+00:00</td>\n",
       "      <td>2018-03-11 08:00:00+00:00</td>\n",
       "      <td>[9.92557558, 56.73357041]</td>\n",
       "      <td>Point</td>\n",
       "      <td>NaN</td>\n",
       "      <td>NaN</td>\n",
       "      <td>NaN</td>\n",
       "      <td>DK1</td>\n",
       "    </tr>\n",
       "    <tr>\n",
       "      <th>6176542</th>\n",
       "      <td>Jammerbugt</td>\n",
       "      <td>849</td>\n",
       "      <td>2018-03-11 07:00:00+00:00</td>\n",
       "      <td>2018-03-11 08:00:00+00:00</td>\n",
       "      <td>[9.62199119, 57.16563593]</td>\n",
       "      <td>Point</td>\n",
       "      <td>NaN</td>\n",
       "      <td>NaN</td>\n",
       "      <td>NaN</td>\n",
       "      <td>DK1</td>\n",
       "    </tr>\n",
       "    <tr>\n",
       "      <th>6176543</th>\n",
       "      <td>Aalborg</td>\n",
       "      <td>851</td>\n",
       "      <td>2018-03-11 07:00:00+00:00</td>\n",
       "      <td>2018-03-11 08:00:00+00:00</td>\n",
       "      <td>[9.99710026, 56.98086976]</td>\n",
       "      <td>Point</td>\n",
       "      <td>NaN</td>\n",
       "      <td>NaN</td>\n",
       "      <td>NaN</td>\n",
       "      <td>DK1</td>\n",
       "    </tr>\n",
       "    <tr>\n",
       "      <th>6176544</th>\n",
       "      <td>Hjørring</td>\n",
       "      <td>860</td>\n",
       "      <td>2018-03-11 07:00:00+00:00</td>\n",
       "      <td>2018-03-11 08:00:00+00:00</td>\n",
       "      <td>[10.07790672, 57.4684031]</td>\n",
       "      <td>Point</td>\n",
       "      <td>NaN</td>\n",
       "      <td>NaN</td>\n",
       "      <td>NaN</td>\n",
       "      <td>DK1</td>\n",
       "    </tr>\n",
       "  </tbody>\n",
       "</table>\n",
       "<p>94 rows × 10 columns</p>\n",
       "</div>"
      ],
      "text/plain": [
       "        municipalityName  municipalityId                      from  \\\n",
       "6176450        København             101 2018-03-11 07:00:00+00:00   \n",
       "6176451    Frederiksberg             147 2018-03-11 07:00:00+00:00   \n",
       "6176452         Ballerup             151 2018-03-11 07:00:00+00:00   \n",
       "6176453          Brøndby             153 2018-03-11 07:00:00+00:00   \n",
       "6176454           Dragør             155 2018-03-11 07:00:00+00:00   \n",
       "...                  ...             ...                       ...   \n",
       "6176540           Rebild             840 2018-03-11 07:00:00+00:00   \n",
       "6176541    Mariagerfjord             846 2018-03-11 07:00:00+00:00   \n",
       "6176542       Jammerbugt             849 2018-03-11 07:00:00+00:00   \n",
       "6176543          Aalborg             851 2018-03-11 07:00:00+00:00   \n",
       "6176544         Hjørring             860 2018-03-11 07:00:00+00:00   \n",
       "\n",
       "                               to                 coordinates geometry_type  \\\n",
       "6176450 2018-03-11 08:00:00+00:00   [12.49390862, 55.7040906]         Point   \n",
       "6176451 2018-03-11 08:00:00+00:00  [12.52373306, 55.67936546]         Point   \n",
       "6176452 2018-03-11 08:00:00+00:00  [12.36840182, 55.72775072]         Point   \n",
       "6176453 2018-03-11 08:00:00+00:00  [12.40438199, 55.64503727]         Point   \n",
       "6176454 2018-03-11 08:00:00+00:00  [12.65022813, 55.59380739]         Point   \n",
       "...                           ...                         ...           ...   \n",
       "6176540 2018-03-11 08:00:00+00:00   [9.76037733, 56.86903928]         Point   \n",
       "6176541 2018-03-11 08:00:00+00:00   [9.92557558, 56.73357041]         Point   \n",
       "6176542 2018-03-11 08:00:00+00:00   [9.62199119, 57.16563593]         Point   \n",
       "6176543 2018-03-11 08:00:00+00:00   [9.99710026, 56.98086976]         Point   \n",
       "6176544 2018-03-11 08:00:00+00:00   [10.07790672, 57.4684031]         Point   \n",
       "\n",
       "         mean_temp  mean_wind_speed  mean_wind_dir area  \n",
       "6176450        NaN              NaN            NaN  DK2  \n",
       "6176451        NaN              4.0            NaN  DK2  \n",
       "6176452        NaN              NaN            NaN  DK2  \n",
       "6176453        NaN              4.4            NaN  DK2  \n",
       "6176454        NaN              3.1            NaN  DK2  \n",
       "...            ...              ...            ...  ...  \n",
       "6176540        NaN              NaN            NaN  DK1  \n",
       "6176541        NaN              NaN            NaN  DK1  \n",
       "6176542        NaN              NaN            NaN  DK1  \n",
       "6176543        NaN              NaN            NaN  DK1  \n",
       "6176544        NaN              NaN            NaN  DK1  \n",
       "\n",
       "[94 rows x 10 columns]"
      ]
     },
     "metadata": {},
     "output_type": "display_data"
    }
   ],
   "source": [
    "# print rows with missing values\n",
    "na_vals = df_weather[df_weather.isnull().any(axis=1)]\n",
    "display(na_vals)"
   ]
  },
  {
   "cell_type": "code",
   "execution_count": 8,
   "metadata": {},
   "outputs": [
    {
     "name": "stdout",
     "output_type": "stream",
     "text": [
      "Missing hours:\n",
      "DatetimeIndex(['2018-03-11 00:00:00+00:00', '2018-03-11 01:00:00+00:00',\n",
      "               '2018-03-11 02:00:00+00:00', '2018-03-11 03:00:00+00:00',\n",
      "               '2018-03-11 04:00:00+00:00', '2018-03-11 05:00:00+00:00',\n",
      "               '2018-03-11 06:00:00+00:00'],\n",
      "              dtype='datetime64[ns, UTC]', freq='h')\n"
     ]
    }
   ],
   "source": [
    "# controlling for values completely missing\n",
    "control = df_weather[['from', 'to']].apply(pd.to_datetime).drop_duplicates()\n",
    "control.set_index('from', inplace=True)\n",
    "\n",
    "# Create a complete date range from the start to the end of your data\n",
    "full_range = pd.date_range(start=control.index.min(), end=control.index.max(), freq='h')\n",
    "\n",
    "# Reindex your DataFrame to this full range\n",
    "df_reindexed = control.reindex(full_range)\n",
    "\n",
    "# Identify missing hours\n",
    "missing_hours = df_reindexed[df_reindexed.isnull().any(axis=1)]\n",
    "\n",
    "print(\"Missing hours:\")\n",
    "print(missing_hours.index)"
   ]
  },
  {
   "cell_type": "code",
   "execution_count": 9,
   "metadata": {},
   "outputs": [
    {
     "name": "stdout",
     "output_type": "stream",
     "text": [
      "Added 689 rows\n"
     ]
    }
   ],
   "source": [
    "# adding missing hours\n",
    "if missing_hours.shape[0] < 720:\n",
    "    # Ensure 'from' is in datetime format\n",
    "    df_weather['from'] = pd.to_datetime(df_weather['from'])\n",
    "\n",
    "    # original shape\n",
    "    shape_original = df_weather.shape\n",
    "\n",
    "    # Get the min and max 'from' dates per ID\n",
    "    min_max_dates = df_weather.groupby(ids[0])['from'].agg(['min', 'max']).reset_index()\n",
    "\n",
    "    # For each ID, create a DataFrame with all hourly 'from' timestamps between min and max dates\n",
    "    date_ranges = []\n",
    "    for idx, row in min_max_dates.iterrows():\n",
    "        id_value = row[ids[0]]\n",
    "        start_date = row['min']\n",
    "        end_date = row['max']\n",
    "        date_range = pd.date_range(start=start_date, end=end_date, freq='h')\n",
    "        df_id = pd.DataFrame({ids[0]: id_value, 'from': date_range})\n",
    "        date_ranges.append(df_id)\n",
    "\n",
    "    # Concatenate all date ranges into a single DataFrame\n",
    "    df_all_hours = pd.concat(date_ranges, ignore_index=True)\n",
    "\n",
    "    # Merge the original data with the full hourly data\n",
    "    df_weather = pd.merge(df_all_hours, df_weather, on=[ids[0], 'from'], how='left')\n",
    "\n",
    "    # Create the 'to' column by adding one hour to 'from'\n",
    "    df_weather['to'] = df_weather['from'] + pd.DateOffset(hours=1)\n",
    "\n",
    "    # Optional: Sort the DataFrame\n",
    "    df_weather.sort_values(by=['from', ids[0]], inplace=True)\n",
    "\n",
    "    # reset index\n",
    "    df_weather.reset_index(drop=True, inplace=True)\n",
    "\n",
    "    # new shape\n",
    "    shape_new = df_weather.shape\n",
    "\n",
    "    print(f\"Added {shape_new[0] - shape_original[0]} rows\")"
   ]
  },
  {
   "cell_type": "code",
   "execution_count": 10,
   "metadata": {},
   "outputs": [],
   "source": [
    "# adding the missing values\n",
    "df_weather = pd.merge(df_weather, df_facts, on=ids[0], how='left')\n",
    "\n",
    "# Remove columns that end with '_x'\n",
    "df_weather = df_weather.drop(columns=[col for col in df_weather.columns if col.endswith('_x')])\n",
    "\n",
    "# Rename columns that end with '_y' by removing the '_y' suffix\n",
    "df_weather = df_weather.rename(columns=lambda x: x[:-2] if x.endswith('_y') else x)"
   ]
  },
  {
   "cell_type": "code",
   "execution_count": 11,
   "metadata": {},
   "outputs": [
    {
     "name": "stdout",
     "output_type": "stream",
     "text": [
      "Total NaN values: 2296\n",
      "A total of 2296 NaN values were interpolated\n",
      "Total NaN values left: 0\n"
     ]
    },
    {
     "data": {
      "text/html": [
       "<div>\n",
       "<style scoped>\n",
       "    .dataframe tbody tr th:only-of-type {\n",
       "        vertical-align: middle;\n",
       "    }\n",
       "\n",
       "    .dataframe tbody tr th {\n",
       "        vertical-align: top;\n",
       "    }\n",
       "\n",
       "    .dataframe thead th {\n",
       "        text-align: right;\n",
       "    }\n",
       "</style>\n",
       "<table border=\"1\" class=\"dataframe\">\n",
       "  <thead>\n",
       "    <tr style=\"text-align: right;\">\n",
       "      <th></th>\n",
       "      <th>municipalityName</th>\n",
       "      <th>from</th>\n",
       "      <th>to</th>\n",
       "      <th>mean_temp</th>\n",
       "      <th>mean_wind_speed</th>\n",
       "      <th>mean_wind_dir</th>\n",
       "      <th>municipalityId</th>\n",
       "      <th>area</th>\n",
       "      <th>coordinates</th>\n",
       "      <th>geometry_type</th>\n",
       "    </tr>\n",
       "  </thead>\n",
       "  <tbody>\n",
       "    <tr>\n",
       "      <th>0</th>\n",
       "      <td>Aabenraa</td>\n",
       "      <td>2010-12-31 23:00:00+00:00</td>\n",
       "      <td>2011-01-01 00:00:00+00:00</td>\n",
       "      <td>3.1</td>\n",
       "      <td>12.5</td>\n",
       "      <td>253.0</td>\n",
       "      <td>580</td>\n",
       "      <td>DK1</td>\n",
       "      <td>[9.27705335, 54.95857106]</td>\n",
       "      <td>Point</td>\n",
       "    </tr>\n",
       "    <tr>\n",
       "      <th>1</th>\n",
       "      <td>Aalborg</td>\n",
       "      <td>2010-12-31 23:00:00+00:00</td>\n",
       "      <td>2011-01-01 00:00:00+00:00</td>\n",
       "      <td>3.8</td>\n",
       "      <td>12.9</td>\n",
       "      <td>284.0</td>\n",
       "      <td>851</td>\n",
       "      <td>DK1</td>\n",
       "      <td>[9.99710026, 56.98086976]</td>\n",
       "      <td>Point</td>\n",
       "    </tr>\n",
       "    <tr>\n",
       "      <th>2</th>\n",
       "      <td>Aarhus</td>\n",
       "      <td>2010-12-31 23:00:00+00:00</td>\n",
       "      <td>2011-01-01 00:00:00+00:00</td>\n",
       "      <td>4.1</td>\n",
       "      <td>10.1</td>\n",
       "      <td>274.0</td>\n",
       "      <td>751</td>\n",
       "      <td>DK1</td>\n",
       "      <td>[10.10360521, 56.15511031]</td>\n",
       "      <td>Point</td>\n",
       "    </tr>\n",
       "    <tr>\n",
       "      <th>3</th>\n",
       "      <td>Albertslund</td>\n",
       "      <td>2010-12-31 23:00:00+00:00</td>\n",
       "      <td>2011-01-01 00:00:00+00:00</td>\n",
       "      <td>2.9</td>\n",
       "      <td>11.1</td>\n",
       "      <td>257.0</td>\n",
       "      <td>165</td>\n",
       "      <td>DK2</td>\n",
       "      <td>[12.35232083, 55.68497735]</td>\n",
       "      <td>Point</td>\n",
       "    </tr>\n",
       "    <tr>\n",
       "      <th>4</th>\n",
       "      <td>Allerød</td>\n",
       "      <td>2010-12-31 23:00:00+00:00</td>\n",
       "      <td>2011-01-01 00:00:00+00:00</td>\n",
       "      <td>2.7</td>\n",
       "      <td>11.1</td>\n",
       "      <td>261.0</td>\n",
       "      <td>201</td>\n",
       "      <td>DK2</td>\n",
       "      <td>[12.31517796, 55.85193129]</td>\n",
       "      <td>Point</td>\n",
       "    </tr>\n",
       "    <tr>\n",
       "      <th>...</th>\n",
       "      <td>...</td>\n",
       "      <td>...</td>\n",
       "      <td>...</td>\n",
       "      <td>...</td>\n",
       "      <td>...</td>\n",
       "      <td>...</td>\n",
       "      <td>...</td>\n",
       "      <td>...</td>\n",
       "      <td>...</td>\n",
       "      <td>...</td>\n",
       "    </tr>\n",
       "    <tr>\n",
       "      <th>11857309</th>\n",
       "      <td>Vejle</td>\n",
       "      <td>2024-10-20 07:00:00+00:00</td>\n",
       "      <td>2024-10-20 08:00:00+00:00</td>\n",
       "      <td>12.4</td>\n",
       "      <td>3.3</td>\n",
       "      <td>173.0</td>\n",
       "      <td>630</td>\n",
       "      <td>DK1</td>\n",
       "      <td>[9.36401747, 55.69959549]</td>\n",
       "      <td>Point</td>\n",
       "    </tr>\n",
       "    <tr>\n",
       "      <th>11857310</th>\n",
       "      <td>Vesthimmerlands</td>\n",
       "      <td>2024-10-20 07:00:00+00:00</td>\n",
       "      <td>2024-10-20 08:00:00+00:00</td>\n",
       "      <td>12.9</td>\n",
       "      <td>5.9</td>\n",
       "      <td>169.0</td>\n",
       "      <td>820</td>\n",
       "      <td>DK1</td>\n",
       "      <td>[9.38374995, 56.81543648]</td>\n",
       "      <td>Point</td>\n",
       "    </tr>\n",
       "    <tr>\n",
       "      <th>11857311</th>\n",
       "      <td>Viborg</td>\n",
       "      <td>2024-10-20 07:00:00+00:00</td>\n",
       "      <td>2024-10-20 08:00:00+00:00</td>\n",
       "      <td>12.9</td>\n",
       "      <td>4.8</td>\n",
       "      <td>173.0</td>\n",
       "      <td>791</td>\n",
       "      <td>DK1</td>\n",
       "      <td>[9.54980131, 56.47080654]</td>\n",
       "      <td>Point</td>\n",
       "    </tr>\n",
       "    <tr>\n",
       "      <th>11857312</th>\n",
       "      <td>Vordingborg</td>\n",
       "      <td>2024-10-20 07:00:00+00:00</td>\n",
       "      <td>2024-10-20 08:00:00+00:00</td>\n",
       "      <td>13.3</td>\n",
       "      <td>3.3</td>\n",
       "      <td>179.0</td>\n",
       "      <td>390</td>\n",
       "      <td>DK2</td>\n",
       "      <td>[11.97379373, 55.06464257]</td>\n",
       "      <td>Point</td>\n",
       "    </tr>\n",
       "    <tr>\n",
       "      <th>11857313</th>\n",
       "      <td>Ærø</td>\n",
       "      <td>2024-10-20 07:00:00+00:00</td>\n",
       "      <td>2024-10-20 08:00:00+00:00</td>\n",
       "      <td>12.9</td>\n",
       "      <td>4.2</td>\n",
       "      <td>183.0</td>\n",
       "      <td>492</td>\n",
       "      <td>DK1</td>\n",
       "      <td>[10.39952748, 54.85586896]</td>\n",
       "      <td>Point</td>\n",
       "    </tr>\n",
       "  </tbody>\n",
       "</table>\n",
       "<p>11857314 rows × 10 columns</p>\n",
       "</div>"
      ],
      "text/plain": [
       "         municipalityName                      from                        to  \\\n",
       "0                Aabenraa 2010-12-31 23:00:00+00:00 2011-01-01 00:00:00+00:00   \n",
       "1                 Aalborg 2010-12-31 23:00:00+00:00 2011-01-01 00:00:00+00:00   \n",
       "2                  Aarhus 2010-12-31 23:00:00+00:00 2011-01-01 00:00:00+00:00   \n",
       "3             Albertslund 2010-12-31 23:00:00+00:00 2011-01-01 00:00:00+00:00   \n",
       "4                 Allerød 2010-12-31 23:00:00+00:00 2011-01-01 00:00:00+00:00   \n",
       "...                   ...                       ...                       ...   \n",
       "11857309            Vejle 2024-10-20 07:00:00+00:00 2024-10-20 08:00:00+00:00   \n",
       "11857310  Vesthimmerlands 2024-10-20 07:00:00+00:00 2024-10-20 08:00:00+00:00   \n",
       "11857311           Viborg 2024-10-20 07:00:00+00:00 2024-10-20 08:00:00+00:00   \n",
       "11857312      Vordingborg 2024-10-20 07:00:00+00:00 2024-10-20 08:00:00+00:00   \n",
       "11857313              Ærø 2024-10-20 07:00:00+00:00 2024-10-20 08:00:00+00:00   \n",
       "\n",
       "          mean_temp  mean_wind_speed  mean_wind_dir  municipalityId area  \\\n",
       "0               3.1             12.5          253.0             580  DK1   \n",
       "1               3.8             12.9          284.0             851  DK1   \n",
       "2               4.1             10.1          274.0             751  DK1   \n",
       "3               2.9             11.1          257.0             165  DK2   \n",
       "4               2.7             11.1          261.0             201  DK2   \n",
       "...             ...              ...            ...             ...  ...   \n",
       "11857309       12.4              3.3          173.0             630  DK1   \n",
       "11857310       12.9              5.9          169.0             820  DK1   \n",
       "11857311       12.9              4.8          173.0             791  DK1   \n",
       "11857312       13.3              3.3          179.0             390  DK2   \n",
       "11857313       12.9              4.2          183.0             492  DK1   \n",
       "\n",
       "                         coordinates geometry_type  \n",
       "0          [9.27705335, 54.95857106]         Point  \n",
       "1          [9.99710026, 56.98086976]         Point  \n",
       "2         [10.10360521, 56.15511031]         Point  \n",
       "3         [12.35232083, 55.68497735]         Point  \n",
       "4         [12.31517796, 55.85193129]         Point  \n",
       "...                              ...           ...  \n",
       "11857309   [9.36401747, 55.69959549]         Point  \n",
       "11857310   [9.38374995, 56.81543648]         Point  \n",
       "11857311   [9.54980131, 56.47080654]         Point  \n",
       "11857312  [11.97379373, 55.06464257]         Point  \n",
       "11857313  [10.39952748, 54.85586896]         Point  \n",
       "\n",
       "[11857314 rows x 10 columns]"
      ]
     },
     "metadata": {},
     "output_type": "display_data"
    }
   ],
   "source": [
    "# Select only float columns for interpolation\n",
    "float_columns = df_weather.select_dtypes(include=['float']).columns\n",
    "\n",
    "# Count NaN values across all float columns\n",
    "nan_count = df_weather[float_columns].isna().sum().sum()\n",
    "print(f'Total NaN values: {nan_count}')\n",
    "\n",
    "# Check if NaN values exceed 10,000\n",
    "if nan_count > 10000:\n",
    "    # Create a boolean mask for rows with NaN values in any float column\n",
    "    nan_mask = df_weather[float_columns].isna().any(axis=1)\n",
    "    # Find the last NaN date\n",
    "    last_nan_date = df_weather['from'][nan_mask].iloc[-1]\n",
    "    # Drop all rows before the last NaN date\n",
    "    df_weather = df_weather[df_weather['from'] > last_nan_date].copy()\n",
    "\n",
    "    print(f'Dropped all rows before {last_nan_date}, none interpolated')\n",
    "\n",
    "else:\n",
    "    for idx in df_weather[ids[0]].unique():\n",
    "        df_weather.loc[df_weather[ids[0]] == idx, float_columns] = df_weather.loc[df_weather[ids[0]] == idx, float_columns].interpolate()\n",
    "    \n",
    "    print(f'A total of {nan_count} NaN values were interpolated')\n",
    "\n",
    "# check if na values are gone\n",
    "print(f'Total NaN values left: {df_weather[float_columns].isna().sum().sum()}')\n",
    "\n",
    "display(df_weather)"
   ]
  },
  {
   "cell_type": "code",
   "execution_count": 12,
   "metadata": {},
   "outputs": [
    {
     "data": {
      "text/html": [
       "<div>\n",
       "<style scoped>\n",
       "    .dataframe tbody tr th:only-of-type {\n",
       "        vertical-align: middle;\n",
       "    }\n",
       "\n",
       "    .dataframe tbody tr th {\n",
       "        vertical-align: top;\n",
       "    }\n",
       "\n",
       "    .dataframe thead th {\n",
       "        text-align: right;\n",
       "    }\n",
       "</style>\n",
       "<table border=\"1\" class=\"dataframe\">\n",
       "  <thead>\n",
       "    <tr style=\"text-align: right;\">\n",
       "      <th></th>\n",
       "      <th>municipalityName</th>\n",
       "      <th>from</th>\n",
       "      <th>to</th>\n",
       "      <th>mean_temp</th>\n",
       "      <th>mean_wind_speed</th>\n",
       "      <th>mean_wind_dir</th>\n",
       "      <th>municipalityId</th>\n",
       "      <th>area</th>\n",
       "      <th>coordinates</th>\n",
       "      <th>geometry_type</th>\n",
       "      <th>wind_dir</th>\n",
       "    </tr>\n",
       "  </thead>\n",
       "  <tbody>\n",
       "    <tr>\n",
       "      <th>0</th>\n",
       "      <td>Aabenraa</td>\n",
       "      <td>2010-12-31 23:00:00+00:00</td>\n",
       "      <td>2011-01-01 00:00:00+00:00</td>\n",
       "      <td>3.1</td>\n",
       "      <td>12.5</td>\n",
       "      <td>253.0</td>\n",
       "      <td>580</td>\n",
       "      <td>DK1</td>\n",
       "      <td>[9.27705335, 54.95857106]</td>\n",
       "      <td>Point</td>\n",
       "      <td>W</td>\n",
       "    </tr>\n",
       "    <tr>\n",
       "      <th>1</th>\n",
       "      <td>Aalborg</td>\n",
       "      <td>2010-12-31 23:00:00+00:00</td>\n",
       "      <td>2011-01-01 00:00:00+00:00</td>\n",
       "      <td>3.8</td>\n",
       "      <td>12.9</td>\n",
       "      <td>284.0</td>\n",
       "      <td>851</td>\n",
       "      <td>DK1</td>\n",
       "      <td>[9.99710026, 56.98086976]</td>\n",
       "      <td>Point</td>\n",
       "      <td>W</td>\n",
       "    </tr>\n",
       "    <tr>\n",
       "      <th>2</th>\n",
       "      <td>Aarhus</td>\n",
       "      <td>2010-12-31 23:00:00+00:00</td>\n",
       "      <td>2011-01-01 00:00:00+00:00</td>\n",
       "      <td>4.1</td>\n",
       "      <td>10.1</td>\n",
       "      <td>274.0</td>\n",
       "      <td>751</td>\n",
       "      <td>DK1</td>\n",
       "      <td>[10.10360521, 56.15511031]</td>\n",
       "      <td>Point</td>\n",
       "      <td>W</td>\n",
       "    </tr>\n",
       "    <tr>\n",
       "      <th>3</th>\n",
       "      <td>Albertslund</td>\n",
       "      <td>2010-12-31 23:00:00+00:00</td>\n",
       "      <td>2011-01-01 00:00:00+00:00</td>\n",
       "      <td>2.9</td>\n",
       "      <td>11.1</td>\n",
       "      <td>257.0</td>\n",
       "      <td>165</td>\n",
       "      <td>DK2</td>\n",
       "      <td>[12.35232083, 55.68497735]</td>\n",
       "      <td>Point</td>\n",
       "      <td>W</td>\n",
       "    </tr>\n",
       "    <tr>\n",
       "      <th>4</th>\n",
       "      <td>Allerød</td>\n",
       "      <td>2010-12-31 23:00:00+00:00</td>\n",
       "      <td>2011-01-01 00:00:00+00:00</td>\n",
       "      <td>2.7</td>\n",
       "      <td>11.1</td>\n",
       "      <td>261.0</td>\n",
       "      <td>201</td>\n",
       "      <td>DK2</td>\n",
       "      <td>[12.31517796, 55.85193129]</td>\n",
       "      <td>Point</td>\n",
       "      <td>W</td>\n",
       "    </tr>\n",
       "  </tbody>\n",
       "</table>\n",
       "</div>"
      ],
      "text/plain": [
       "  municipalityName                      from                        to  \\\n",
       "0         Aabenraa 2010-12-31 23:00:00+00:00 2011-01-01 00:00:00+00:00   \n",
       "1          Aalborg 2010-12-31 23:00:00+00:00 2011-01-01 00:00:00+00:00   \n",
       "2           Aarhus 2010-12-31 23:00:00+00:00 2011-01-01 00:00:00+00:00   \n",
       "3      Albertslund 2010-12-31 23:00:00+00:00 2011-01-01 00:00:00+00:00   \n",
       "4          Allerød 2010-12-31 23:00:00+00:00 2011-01-01 00:00:00+00:00   \n",
       "\n",
       "   mean_temp  mean_wind_speed  mean_wind_dir  municipalityId area  \\\n",
       "0        3.1             12.5          253.0             580  DK1   \n",
       "1        3.8             12.9          284.0             851  DK1   \n",
       "2        4.1             10.1          274.0             751  DK1   \n",
       "3        2.9             11.1          257.0             165  DK2   \n",
       "4        2.7             11.1          261.0             201  DK2   \n",
       "\n",
       "                  coordinates geometry_type wind_dir  \n",
       "0   [9.27705335, 54.95857106]         Point        W  \n",
       "1   [9.99710026, 56.98086976]         Point        W  \n",
       "2  [10.10360521, 56.15511031]         Point        W  \n",
       "3  [12.35232083, 55.68497735]         Point        W  \n",
       "4  [12.31517796, 55.85193129]         Point        W  "
      ]
     },
     "metadata": {},
     "output_type": "display_data"
    }
   ],
   "source": [
    "df_weather['wind_dir'] = df_weather['mean_wind_dir'].apply(ap.degrees_to_cardinal)\n",
    "\n",
    "display(df_weather.head())"
   ]
  },
  {
   "cell_type": "code",
   "execution_count": 13,
   "metadata": {},
   "outputs": [
    {
     "name": "stdout",
     "output_type": "stream",
     "text": [
      "Map saved as: output/map.png\n"
     ]
    },
    {
     "data": {
      "application/vnd.plotly.v1+json": {
       "config": {
        "plotlyServerURL": "https://plot.ly"
       },
       "data": [
        {
         "hoverinfo": "text",
         "hovertext": "ID: København<br>Area: DK2",
         "lat": [
          55.7040906
         ],
         "lon": [
          12.49390862
         ],
         "marker": {
          "color": "rgba(255, 0, 0, 0.7)",
          "opacity": 0.7,
          "size": 10
         },
         "mode": "markers",
         "name": "København",
         "type": "scattermapbox"
        },
        {
         "hoverinfo": "text",
         "hovertext": "ID: Frederiksberg<br>Area: DK2",
         "lat": [
          55.67936546
         ],
         "lon": [
          12.52373306
         ],
         "marker": {
          "color": "rgba(255, 0, 0, 0.7)",
          "opacity": 0.7,
          "size": 10
         },
         "mode": "markers",
         "name": "Frederiksberg",
         "type": "scattermapbox"
        },
        {
         "hoverinfo": "text",
         "hovertext": "ID: Ballerup<br>Area: DK2",
         "lat": [
          55.72775072
         ],
         "lon": [
          12.36840182
         ],
         "marker": {
          "color": "rgba(255, 0, 0, 0.7)",
          "opacity": 0.7,
          "size": 10
         },
         "mode": "markers",
         "name": "Ballerup",
         "type": "scattermapbox"
        },
        {
         "hoverinfo": "text",
         "hovertext": "ID: Brøndby<br>Area: DK2",
         "lat": [
          55.64503727
         ],
         "lon": [
          12.40438199
         ],
         "marker": {
          "color": "rgba(255, 0, 0, 0.7)",
          "opacity": 0.7,
          "size": 10
         },
         "mode": "markers",
         "name": "Brøndby",
         "type": "scattermapbox"
        },
        {
         "hoverinfo": "text",
         "hovertext": "ID: Dragør<br>Area: DK2",
         "lat": [
          55.59380739
         ],
         "lon": [
          12.65022813
         ],
         "marker": {
          "color": "rgba(255, 0, 0, 0.7)",
          "opacity": 0.7,
          "size": 10
         },
         "mode": "markers",
         "name": "Dragør",
         "type": "scattermapbox"
        },
        {
         "hoverinfo": "text",
         "hovertext": "ID: Gentofte<br>Area: DK2",
         "lat": [
          55.75097637
         ],
         "lon": [
          12.55072009
         ],
         "marker": {
          "color": "rgba(255, 0, 0, 0.7)",
          "opacity": 0.7,
          "size": 10
         },
         "mode": "markers",
         "name": "Gentofte",
         "type": "scattermapbox"
        },
        {
         "hoverinfo": "text",
         "hovertext": "ID: Gladsaxe<br>Area: DK2",
         "lat": [
          55.73986832
         ],
         "lon": [
          12.47620274
         ],
         "marker": {
          "color": "rgba(255, 0, 0, 0.7)",
          "opacity": 0.7,
          "size": 10
         },
         "mode": "markers",
         "name": "Gladsaxe",
         "type": "scattermapbox"
        },
        {
         "hoverinfo": "text",
         "hovertext": "ID: Glostrup<br>Area: DK2",
         "lat": [
          55.69595649
         ],
         "lon": [
          12.40923426
         ],
         "marker": {
          "color": "rgba(255, 0, 0, 0.7)",
          "opacity": 0.7,
          "size": 10
         },
         "mode": "markers",
         "name": "Glostrup",
         "type": "scattermapbox"
        },
        {
         "hoverinfo": "text",
         "hovertext": "ID: Herlev<br>Area: DK2",
         "lat": [
          55.74142756
         ],
         "lon": [
          12.42581723
         ],
         "marker": {
          "color": "rgba(255, 0, 0, 0.7)",
          "opacity": 0.7,
          "size": 10
         },
         "mode": "markers",
         "name": "Herlev",
         "type": "scattermapbox"
        },
        {
         "hoverinfo": "text",
         "hovertext": "ID: Albertslund<br>Area: DK2",
         "lat": [
          55.68497735
         ],
         "lon": [
          12.35232083
         ],
         "marker": {
          "color": "rgba(255, 0, 0, 0.7)",
          "opacity": 0.7,
          "size": 10
         },
         "mode": "markers",
         "name": "Albertslund",
         "type": "scattermapbox"
        },
        {
         "hoverinfo": "text",
         "hovertext": "ID: Hvidovre<br>Area: DK2",
         "lat": [
          55.63137356
         ],
         "lon": [
          12.46853361
         ],
         "marker": {
          "color": "rgba(255, 0, 0, 0.7)",
          "opacity": 0.7,
          "size": 10
         },
         "mode": "markers",
         "name": "Hvidovre",
         "type": "scattermapbox"
        },
        {
         "hoverinfo": "text",
         "hovertext": "ID: Høje-Taastrup<br>Area: DK2",
         "lat": [
          55.66695566
         ],
         "lon": [
          12.25783217
         ],
         "marker": {
          "color": "rgba(255, 0, 0, 0.7)",
          "opacity": 0.7,
          "size": 10
         },
         "mode": "markers",
         "name": "Høje-Taastrup",
         "type": "scattermapbox"
        },
        {
         "hoverinfo": "text",
         "hovertext": "ID: Lyngby-Taarbæk<br>Area: DK2",
         "lat": [
          55.78319075
         ],
         "lon": [
          12.51127423
         ],
         "marker": {
          "color": "rgba(255, 0, 0, 0.7)",
          "opacity": 0.7,
          "size": 10
         },
         "mode": "markers",
         "name": "Lyngby-Taarbæk",
         "type": "scattermapbox"
        },
        {
         "hoverinfo": "text",
         "hovertext": "ID: Rødovre<br>Area: DK2",
         "lat": [
          55.68180831
         ],
         "lon": [
          12.44866158
         ],
         "marker": {
          "color": "rgba(255, 0, 0, 0.7)",
          "opacity": 0.7,
          "size": 10
         },
         "mode": "markers",
         "name": "Rødovre",
         "type": "scattermapbox"
        },
        {
         "hoverinfo": "text",
         "hovertext": "ID: Ishøj<br>Area: DK2",
         "lat": [
          55.6223754
         ],
         "lon": [
          12.3344614
         ],
         "marker": {
          "color": "rgba(255, 0, 0, 0.7)",
          "opacity": 0.7,
          "size": 10
         },
         "mode": "markers",
         "name": "Ishøj",
         "type": "scattermapbox"
        },
        {
         "hoverinfo": "text",
         "hovertext": "ID: Tårnby<br>Area: DK2",
         "lat": [
          55.59508146
         ],
         "lon": [
          12.55128121
         ],
         "marker": {
          "color": "rgba(255, 0, 0, 0.7)",
          "opacity": 0.7,
          "size": 10
         },
         "mode": "markers",
         "name": "Tårnby",
         "type": "scattermapbox"
        },
        {
         "hoverinfo": "text",
         "hovertext": "ID: Vallensbæk<br>Area: DK2",
         "lat": [
          55.63854285
         ],
         "lon": [
          12.36571727
         ],
         "marker": {
          "color": "rgba(255, 0, 0, 0.7)",
          "opacity": 0.7,
          "size": 10
         },
         "mode": "markers",
         "name": "Vallensbæk",
         "type": "scattermapbox"
        },
        {
         "hoverinfo": "text",
         "hovertext": "ID: Furesø<br>Area: DK2",
         "lat": [
          55.78539677
         ],
         "lon": [
          12.37121331
         ],
         "marker": {
          "color": "rgba(255, 0, 0, 0.7)",
          "opacity": 0.7,
          "size": 10
         },
         "mode": "markers",
         "name": "Furesø",
         "type": "scattermapbox"
        },
        {
         "hoverinfo": "text",
         "hovertext": "ID: Allerød<br>Area: DK2",
         "lat": [
          55.85193129
         ],
         "lon": [
          12.31517796
         ],
         "marker": {
          "color": "rgba(255, 0, 0, 0.7)",
          "opacity": 0.7,
          "size": 10
         },
         "mode": "markers",
         "name": "Allerød",
         "type": "scattermapbox"
        },
        {
         "hoverinfo": "text",
         "hovertext": "ID: Fredensborg<br>Area: DK2",
         "lat": [
          55.94248633
         ],
         "lon": [
          12.44709475
         ],
         "marker": {
          "color": "rgba(255, 0, 0, 0.7)",
          "opacity": 0.7,
          "size": 10
         },
         "mode": "markers",
         "name": "Fredensborg",
         "type": "scattermapbox"
        },
        {
         "hoverinfo": "text",
         "hovertext": "ID: Helsingør<br>Area: DK2",
         "lat": [
          56.04907246
         ],
         "lon": [
          12.48168066
         ],
         "marker": {
          "color": "rgba(255, 0, 0, 0.7)",
          "opacity": 0.7,
          "size": 10
         },
         "mode": "markers",
         "name": "Helsingør",
         "type": "scattermapbox"
        },
        {
         "hoverinfo": "text",
         "hovertext": "ID: Hillerød<br>Area: DK2",
         "lat": [
          55.93427514
         ],
         "lon": [
          12.25951193
         ],
         "marker": {
          "color": "rgba(255, 0, 0, 0.7)",
          "opacity": 0.7,
          "size": 10
         },
         "mode": "markers",
         "name": "Hillerød",
         "type": "scattermapbox"
        },
        {
         "hoverinfo": "text",
         "hovertext": "ID: Hørsholm<br>Area: DK2",
         "lat": [
          55.88879138
         ],
         "lon": [
          12.511463
         ],
         "marker": {
          "color": "rgba(255, 0, 0, 0.7)",
          "opacity": 0.7,
          "size": 10
         },
         "mode": "markers",
         "name": "Hørsholm",
         "type": "scattermapbox"
        },
        {
         "hoverinfo": "text",
         "hovertext": "ID: Rudersdal<br>Area: DK2",
         "lat": [
          55.83467153
         ],
         "lon": [
          12.47570388
         ],
         "marker": {
          "color": "rgba(255, 0, 0, 0.7)",
          "opacity": 0.7,
          "size": 10
         },
         "mode": "markers",
         "name": "Rudersdal",
         "type": "scattermapbox"
        },
        {
         "hoverinfo": "text",
         "hovertext": "ID: Egedal<br>Area: DK2",
         "lat": [
          55.78610497
         ],
         "lon": [
          12.21450626
         ],
         "marker": {
          "color": "rgba(255, 0, 0, 0.7)",
          "opacity": 0.7,
          "size": 10
         },
         "mode": "markers",
         "name": "Egedal",
         "type": "scattermapbox"
        },
        {
         "hoverinfo": "text",
         "hovertext": "ID: Frederikssund<br>Area: DK2",
         "lat": [
          55.78185571
         ],
         "lon": [
          11.97282557
         ],
         "marker": {
          "color": "rgba(255, 0, 0, 0.7)",
          "opacity": 0.7,
          "size": 10
         },
         "mode": "markers",
         "name": "Frederikssund",
         "type": "scattermapbox"
        },
        {
         "hoverinfo": "text",
         "hovertext": "ID: Greve<br>Area: DK2",
         "lat": [
          55.58551371
         ],
         "lon": [
          12.24573777
         ],
         "marker": {
          "color": "rgba(255, 0, 0, 0.7)",
          "opacity": 0.7,
          "size": 10
         },
         "mode": "markers",
         "name": "Greve",
         "type": "scattermapbox"
        },
        {
         "hoverinfo": "text",
         "hovertext": "ID: Køge<br>Area: DK2",
         "lat": [
          55.45729905
         ],
         "lon": [
          12.07253908
         ],
         "marker": {
          "color": "rgba(255, 0, 0, 0.7)",
          "opacity": 0.7,
          "size": 10
         },
         "mode": "markers",
         "name": "Køge",
         "type": "scattermapbox"
        },
        {
         "hoverinfo": "text",
         "hovertext": "ID: Halsnæs<br>Area: DK2",
         "lat": [
          55.99570917
         ],
         "lon": [
          12.00269823
         ],
         "marker": {
          "color": "rgba(255, 0, 0, 0.7)",
          "opacity": 0.7,
          "size": 10
         },
         "mode": "markers",
         "name": "Halsnæs",
         "type": "scattermapbox"
        },
        {
         "hoverinfo": "text",
         "hovertext": "ID: Roskilde<br>Area: DK2",
         "lat": [
          55.62237213
         ],
         "lon": [
          12.10731038
         ],
         "marker": {
          "color": "rgba(255, 0, 0, 0.7)",
          "opacity": 0.7,
          "size": 10
         },
         "mode": "markers",
         "name": "Roskilde",
         "type": "scattermapbox"
        },
        {
         "hoverinfo": "text",
         "hovertext": "ID: Solrød<br>Area: DK2",
         "lat": [
          55.53274198
         ],
         "lon": [
          12.17912103
         ],
         "marker": {
          "color": "rgba(255, 0, 0, 0.7)",
          "opacity": 0.7,
          "size": 10
         },
         "mode": "markers",
         "name": "Solrød",
         "type": "scattermapbox"
        },
        {
         "hoverinfo": "text",
         "hovertext": "ID: Gribskov<br>Area: DK2",
         "lat": [
          56.06440048
         ],
         "lon": [
          12.28643438
         ],
         "marker": {
          "color": "rgba(255, 0, 0, 0.7)",
          "opacity": 0.7,
          "size": 10
         },
         "mode": "markers",
         "name": "Gribskov",
         "type": "scattermapbox"
        },
        {
         "hoverinfo": "text",
         "hovertext": "ID: Odsherred<br>Area: DK2",
         "lat": [
          55.85125463
         ],
         "lon": [
          11.60073899
         ],
         "marker": {
          "color": "rgba(255, 0, 0, 0.7)",
          "opacity": 0.7,
          "size": 10
         },
         "mode": "markers",
         "name": "Odsherred",
         "type": "scattermapbox"
        },
        {
         "hoverinfo": "text",
         "hovertext": "ID: Holbæk<br>Area: DK2",
         "lat": [
          55.67010311
         ],
         "lon": [
          11.54590752
         ],
         "marker": {
          "color": "rgba(255, 0, 0, 0.7)",
          "opacity": 0.7,
          "size": 10
         },
         "mode": "markers",
         "name": "Holbæk",
         "type": "scattermapbox"
        },
        {
         "hoverinfo": "text",
         "hovertext": "ID: Faxe<br>Area: DK2",
         "lat": [
          55.27387359
         ],
         "lon": [
          12.0936263
         ],
         "marker": {
          "color": "rgba(255, 0, 0, 0.7)",
          "opacity": 0.7,
          "size": 10
         },
         "mode": "markers",
         "name": "Faxe",
         "type": "scattermapbox"
        },
        {
         "hoverinfo": "text",
         "hovertext": "ID: Kalundborg<br>Area: DK2",
         "lat": [
          55.65987781
         ],
         "lon": [
          11.22900255
         ],
         "marker": {
          "color": "rgba(255, 0, 0, 0.7)",
          "opacity": 0.7,
          "size": 10
         },
         "mode": "markers",
         "name": "Kalundborg",
         "type": "scattermapbox"
        },
        {
         "hoverinfo": "text",
         "hovertext": "ID: Ringsted<br>Area: DK2",
         "lat": [
          55.46909364
         ],
         "lon": [
          11.8151086
         ],
         "marker": {
          "color": "rgba(255, 0, 0, 0.7)",
          "opacity": 0.7,
          "size": 10
         },
         "mode": "markers",
         "name": "Ringsted",
         "type": "scattermapbox"
        },
        {
         "hoverinfo": "text",
         "hovertext": "ID: Slagelse<br>Area: DK2",
         "lat": [
          55.36605995
         ],
         "lon": [
          11.34519389
         ],
         "marker": {
          "color": "rgba(255, 0, 0, 0.7)",
          "opacity": 0.7,
          "size": 10
         },
         "mode": "markers",
         "name": "Slagelse",
         "type": "scattermapbox"
        },
        {
         "hoverinfo": "text",
         "hovertext": "ID: Stevns<br>Area: DK2",
         "lat": [
          55.325208
         ],
         "lon": [
          12.34415856
         ],
         "marker": {
          "color": "rgba(255, 0, 0, 0.7)",
          "opacity": 0.7,
          "size": 10
         },
         "mode": "markers",
         "name": "Stevns",
         "type": "scattermapbox"
        },
        {
         "hoverinfo": "text",
         "hovertext": "ID: Sorø<br>Area: DK2",
         "lat": [
          55.5248405
         ],
         "lon": [
          11.55925134
         ],
         "marker": {
          "color": "rgba(255, 0, 0, 0.7)",
          "opacity": 0.7,
          "size": 10
         },
         "mode": "markers",
         "name": "Sorø",
         "type": "scattermapbox"
        },
        {
         "hoverinfo": "text",
         "hovertext": "ID: Lejre<br>Area: DK2",
         "lat": [
          55.60544652
         ],
         "lon": [
          11.91680412
         ],
         "marker": {
          "color": "rgba(255, 0, 0, 0.7)",
          "opacity": 0.7,
          "size": 10
         },
         "mode": "markers",
         "name": "Lejre",
         "type": "scattermapbox"
        },
        {
         "hoverinfo": "text",
         "hovertext": "ID: Lolland<br>Area: DK2",
         "lat": [
          54.80030798
         ],
         "lon": [
          11.29887236
         ],
         "marker": {
          "color": "rgba(255, 0, 0, 0.7)",
          "opacity": 0.7,
          "size": 10
         },
         "mode": "markers",
         "name": "Lolland",
         "type": "scattermapbox"
        },
        {
         "hoverinfo": "text",
         "hovertext": "ID: Næstved<br>Area: DK2",
         "lat": [
          55.29532926
         ],
         "lon": [
          11.68266463
         ],
         "marker": {
          "color": "rgba(255, 0, 0, 0.7)",
          "opacity": 0.7,
          "size": 10
         },
         "mode": "markers",
         "name": "Næstved",
         "type": "scattermapbox"
        },
        {
         "hoverinfo": "text",
         "hovertext": "ID: Guldborgsund<br>Area: DK2",
         "lat": [
          54.82373285
         ],
         "lon": [
          11.9618732
         ],
         "marker": {
          "color": "rgba(255, 0, 0, 0.7)",
          "opacity": 0.7,
          "size": 10
         },
         "mode": "markers",
         "name": "Guldborgsund",
         "type": "scattermapbox"
        },
        {
         "hoverinfo": "text",
         "hovertext": "ID: Vordingborg<br>Area: DK2",
         "lat": [
          55.06464257
         ],
         "lon": [
          11.97379373
         ],
         "marker": {
          "color": "rgba(255, 0, 0, 0.7)",
          "opacity": 0.7,
          "size": 10
         },
         "mode": "markers",
         "name": "Vordingborg",
         "type": "scattermapbox"
        },
        {
         "hoverinfo": "text",
         "hovertext": "ID: Bornholm<br>Area: DK2",
         "lat": [
          55.12789092
         ],
         "lon": [
          14.8836754
         ],
         "marker": {
          "color": "rgba(255, 0, 0, 0.7)",
          "opacity": 0.7,
          "size": 10
         },
         "mode": "markers",
         "name": "Bornholm",
         "type": "scattermapbox"
        },
        {
         "hoverinfo": "text",
         "hovertext": "ID: Middelfart<br>Area: DK1",
         "lat": [
          55.45746884
         ],
         "lon": [
          9.90786162
         ],
         "marker": {
          "color": "rgba(0, 150, 255, 0.7)",
          "opacity": 0.7,
          "size": 10
         },
         "mode": "markers",
         "name": "Middelfart",
         "type": "scattermapbox"
        },
        {
         "hoverinfo": "text",
         "hovertext": "ID: Assens<br>Area: DK1",
         "lat": [
          55.30086994
         ],
         "lon": [
          10.04120662
         ],
         "marker": {
          "color": "rgba(0, 150, 255, 0.7)",
          "opacity": 0.7,
          "size": 10
         },
         "mode": "markers",
         "name": "Assens",
         "type": "scattermapbox"
        },
        {
         "hoverinfo": "text",
         "hovertext": "ID: Faaborg-Midtfyn<br>Area: DK1",
         "lat": [
          55.21254142
         ],
         "lon": [
          10.36604744
         ],
         "marker": {
          "color": "rgba(0, 150, 255, 0.7)",
          "opacity": 0.7,
          "size": 10
         },
         "mode": "markers",
         "name": "Faaborg-Midtfyn",
         "type": "scattermapbox"
        },
        {
         "hoverinfo": "text",
         "hovertext": "ID: Kerteminde<br>Area: DK1",
         "lat": [
          55.39108079
         ],
         "lon": [
          10.57120351
         ],
         "marker": {
          "color": "rgba(0, 150, 255, 0.7)",
          "opacity": 0.7,
          "size": 10
         },
         "mode": "markers",
         "name": "Kerteminde",
         "type": "scattermapbox"
        },
        {
         "hoverinfo": "text",
         "hovertext": "ID: Nyborg<br>Area: DK1",
         "lat": [
          55.27680708
         ],
         "lon": [
          10.6781976
         ],
         "marker": {
          "color": "rgba(0, 150, 255, 0.7)",
          "opacity": 0.7,
          "size": 10
         },
         "mode": "markers",
         "name": "Nyborg",
         "type": "scattermapbox"
        },
        {
         "hoverinfo": "text",
         "hovertext": "ID: Odense<br>Area: DK1",
         "lat": [
          55.39170385
         ],
         "lon": [
          10.29848497
         ],
         "marker": {
          "color": "rgba(0, 150, 255, 0.7)",
          "opacity": 0.7,
          "size": 10
         },
         "mode": "markers",
         "name": "Odense",
         "type": "scattermapbox"
        },
        {
         "hoverinfo": "text",
         "hovertext": "ID: Svendborg<br>Area: DK1",
         "lat": [
          55.09621323
         ],
         "lon": [
          10.52326688
         ],
         "marker": {
          "color": "rgba(0, 150, 255, 0.7)",
          "opacity": 0.7,
          "size": 10
         },
         "mode": "markers",
         "name": "Svendborg",
         "type": "scattermapbox"
        },
        {
         "hoverinfo": "text",
         "hovertext": "ID: Nordfyns<br>Area: DK1",
         "lat": [
          55.50599426
         ],
         "lon": [
          10.16778758
         ],
         "marker": {
          "color": "rgba(0, 150, 255, 0.7)",
          "opacity": 0.7,
          "size": 10
         },
         "mode": "markers",
         "name": "Nordfyns",
         "type": "scattermapbox"
        },
        {
         "hoverinfo": "text",
         "hovertext": "ID: Langeland<br>Area: DK1",
         "lat": [
          54.81986089
         ],
         "lon": [
          10.70871186
         ],
         "marker": {
          "color": "rgba(0, 150, 255, 0.7)",
          "opacity": 0.7,
          "size": 10
         },
         "mode": "markers",
         "name": "Langeland",
         "type": "scattermapbox"
        },
        {
         "hoverinfo": "text",
         "hovertext": "ID: Ærø<br>Area: DK1",
         "lat": [
          54.85586896
         ],
         "lon": [
          10.39952748
         ],
         "marker": {
          "color": "rgba(0, 150, 255, 0.7)",
          "opacity": 0.7,
          "size": 10
         },
         "mode": "markers",
         "name": "Ærø",
         "type": "scattermapbox"
        },
        {
         "hoverinfo": "text",
         "hovertext": "ID: Haderslev<br>Area: DK1",
         "lat": [
          55.24461821
         ],
         "lon": [
          9.29762312
         ],
         "marker": {
          "color": "rgba(0, 150, 255, 0.7)",
          "opacity": 0.7,
          "size": 10
         },
         "mode": "markers",
         "name": "Haderslev",
         "type": "scattermapbox"
        },
        {
         "hoverinfo": "text",
         "hovertext": "ID: Billund<br>Area: DK1",
         "lat": [
          55.69765926
         ],
         "lon": [
          9.00651005
         ],
         "marker": {
          "color": "rgba(0, 150, 255, 0.7)",
          "opacity": 0.7,
          "size": 10
         },
         "mode": "markers",
         "name": "Billund",
         "type": "scattermapbox"
        },
        {
         "hoverinfo": "text",
         "hovertext": "ID: Sønderborg<br>Area: DK1",
         "lat": [
          54.94264465
         ],
         "lon": [
          9.94828845
         ],
         "marker": {
          "color": "rgba(0, 150, 255, 0.7)",
          "opacity": 0.7,
          "size": 10
         },
         "mode": "markers",
         "name": "Sønderborg",
         "type": "scattermapbox"
        },
        {
         "hoverinfo": "text",
         "hovertext": "ID: Tønder<br>Area: DK1",
         "lat": [
          55.04435508
         ],
         "lon": [
          8.85683077
         ],
         "marker": {
          "color": "rgba(0, 150, 255, 0.7)",
          "opacity": 0.7,
          "size": 10
         },
         "mode": "markers",
         "name": "Tønder",
         "type": "scattermapbox"
        },
        {
         "hoverinfo": "text",
         "hovertext": "ID: Esbjerg<br>Area: DK1",
         "lat": [
          55.46178607
         ],
         "lon": [
          8.72094847
         ],
         "marker": {
          "color": "rgba(0, 150, 255, 0.7)",
          "opacity": 0.7,
          "size": 10
         },
         "mode": "markers",
         "name": "Esbjerg",
         "type": "scattermapbox"
        },
        {
         "hoverinfo": "text",
         "hovertext": "ID: Fanø<br>Area: DK1",
         "lat": [
          55.40607728
         ],
         "lon": [
          8.42104862
         ],
         "marker": {
          "color": "rgba(0, 150, 255, 0.7)",
          "opacity": 0.7,
          "size": 10
         },
         "mode": "markers",
         "name": "Fanø",
         "type": "scattermapbox"
        },
        {
         "hoverinfo": "text",
         "hovertext": "ID: Varde<br>Area: DK1",
         "lat": [
          55.68693144
         ],
         "lon": [
          8.60622686
         ],
         "marker": {
          "color": "rgba(0, 150, 255, 0.7)",
          "opacity": 0.7,
          "size": 10
         },
         "mode": "markers",
         "name": "Varde",
         "type": "scattermapbox"
        },
        {
         "hoverinfo": "text",
         "hovertext": "ID: Vejen<br>Area: DK1",
         "lat": [
          55.49285528
         ],
         "lon": [
          9.0502437
         ],
         "marker": {
          "color": "rgba(0, 150, 255, 0.7)",
          "opacity": 0.7,
          "size": 10
         },
         "mode": "markers",
         "name": "Vejen",
         "type": "scattermapbox"
        },
        {
         "hoverinfo": "text",
         "hovertext": "ID: Aabenraa<br>Area: DK1",
         "lat": [
          54.95857106
         ],
         "lon": [
          9.27705335
         ],
         "marker": {
          "color": "rgba(0, 150, 255, 0.7)",
          "opacity": 0.7,
          "size": 10
         },
         "mode": "markers",
         "name": "Aabenraa",
         "type": "scattermapbox"
        },
        {
         "hoverinfo": "text",
         "hovertext": "ID: Fredericia<br>Area: DK1",
         "lat": [
          55.5644429
         ],
         "lon": [
          9.65516922
         ],
         "marker": {
          "color": "rgba(0, 150, 255, 0.7)",
          "opacity": 0.7,
          "size": 10
         },
         "mode": "markers",
         "name": "Fredericia",
         "type": "scattermapbox"
        },
        {
         "hoverinfo": "text",
         "hovertext": "ID: Horsens<br>Area: DK1",
         "lat": [
          55.90694512
         ],
         "lon": [
          9.7992371
         ],
         "marker": {
          "color": "rgba(0, 150, 255, 0.7)",
          "opacity": 0.7,
          "size": 10
         },
         "mode": "markers",
         "name": "Horsens",
         "type": "scattermapbox"
        },
        {
         "hoverinfo": "text",
         "hovertext": "ID: Kolding<br>Area: DK1",
         "lat": [
          55.42632798
         ],
         "lon": [
          9.40397607
         ],
         "marker": {
          "color": "rgba(0, 150, 255, 0.7)",
          "opacity": 0.7,
          "size": 10
         },
         "mode": "markers",
         "name": "Kolding",
         "type": "scattermapbox"
        },
        {
         "hoverinfo": "text",
         "hovertext": "ID: Vejle<br>Area: DK1",
         "lat": [
          55.69959549
         ],
         "lon": [
          9.36401747
         ],
         "marker": {
          "color": "rgba(0, 150, 255, 0.7)",
          "opacity": 0.7,
          "size": 10
         },
         "mode": "markers",
         "name": "Vejle",
         "type": "scattermapbox"
        },
        {
         "hoverinfo": "text",
         "hovertext": "ID: Herning<br>Area: DK1",
         "lat": [
          56.21557089
         ],
         "lon": [
          8.89416342
         ],
         "marker": {
          "color": "rgba(0, 150, 255, 0.7)",
          "opacity": 0.7,
          "size": 10
         },
         "mode": "markers",
         "name": "Herning",
         "type": "scattermapbox"
        },
        {
         "hoverinfo": "text",
         "hovertext": "ID: Holstebro<br>Area: DK1",
         "lat": [
          56.42999591
         ],
         "lon": [
          8.82845597
         ],
         "marker": {
          "color": "rgba(0, 150, 255, 0.7)",
          "opacity": 0.7,
          "size": 10
         },
         "mode": "markers",
         "name": "Holstebro",
         "type": "scattermapbox"
        },
        {
         "hoverinfo": "text",
         "hovertext": "ID: Lemvig<br>Area: DK1",
         "lat": [
          56.47238735
         ],
         "lon": [
          8.28872694
         ],
         "marker": {
          "color": "rgba(0, 150, 255, 0.7)",
          "opacity": 0.7,
          "size": 10
         },
         "mode": "markers",
         "name": "Lemvig",
         "type": "scattermapbox"
        },
        {
         "hoverinfo": "text",
         "hovertext": "ID: Struer<br>Area: DK1",
         "lat": [
          56.4553439
         ],
         "lon": [
          8.57605615
         ],
         "marker": {
          "color": "rgba(0, 150, 255, 0.7)",
          "opacity": 0.7,
          "size": 10
         },
         "mode": "markers",
         "name": "Struer",
         "type": "scattermapbox"
        },
        {
         "hoverinfo": "text",
         "hovertext": "ID: Syddjurs<br>Area: DK1",
         "lat": [
          56.35748628
         ],
         "lon": [
          10.51126857
         ],
         "marker": {
          "color": "rgba(0, 150, 255, 0.7)",
          "opacity": 0.7,
          "size": 10
         },
         "mode": "markers",
         "name": "Syddjurs",
         "type": "scattermapbox"
        },
        {
         "hoverinfo": "text",
         "hovertext": "ID: Norddjurs<br>Area: DK1",
         "lat": [
          56.46479679
         ],
         "lon": [
          10.75849132
         ],
         "marker": {
          "color": "rgba(0, 150, 255, 0.7)",
          "opacity": 0.7,
          "size": 10
         },
         "mode": "markers",
         "name": "Norddjurs",
         "type": "scattermapbox"
        },
        {
         "hoverinfo": "text",
         "hovertext": "ID: Favrskov<br>Area: DK1",
         "lat": [
          56.29367722
         ],
         "lon": [
          9.91776151
         ],
         "marker": {
          "color": "rgba(0, 150, 255, 0.7)",
          "opacity": 0.7,
          "size": 10
         },
         "mode": "markers",
         "name": "Favrskov",
         "type": "scattermapbox"
        },
        {
         "hoverinfo": "text",
         "hovertext": "ID: Odder<br>Area: DK1",
         "lat": [
          55.94116424
         ],
         "lon": [
          10.14601199
         ],
         "marker": {
          "color": "rgba(0, 150, 255, 0.7)",
          "opacity": 0.7,
          "size": 10
         },
         "mode": "markers",
         "name": "Odder",
         "type": "scattermapbox"
        },
        {
         "hoverinfo": "text",
         "hovertext": "ID: Randers<br>Area: DK1",
         "lat": [
          56.53736978
         ],
         "lon": [
          10.08975635
         ],
         "marker": {
          "color": "rgba(0, 150, 255, 0.7)",
          "opacity": 0.7,
          "size": 10
         },
         "mode": "markers",
         "name": "Randers",
         "type": "scattermapbox"
        },
        {
         "hoverinfo": "text",
         "hovertext": "ID: Silkeborg<br>Area: DK1",
         "lat": [
          56.20903115
         ],
         "lon": [
          9.56059412
         ],
         "marker": {
          "color": "rgba(0, 150, 255, 0.7)",
          "opacity": 0.7,
          "size": 10
         },
         "mode": "markers",
         "name": "Silkeborg",
         "type": "scattermapbox"
        },
        {
         "hoverinfo": "text",
         "hovertext": "ID: Samsø<br>Area: DK1",
         "lat": [
          55.80308366
         ],
         "lon": [
          10.58611812
         ],
         "marker": {
          "color": "rgba(0, 150, 255, 0.7)",
          "opacity": 0.7,
          "size": 10
         },
         "mode": "markers",
         "name": "Samsø",
         "type": "scattermapbox"
        },
        {
         "hoverinfo": "text",
         "hovertext": "ID: Skanderborg<br>Area: DK1",
         "lat": [
          56.08709974
         ],
         "lon": [
          9.84907585
         ],
         "marker": {
          "color": "rgba(0, 150, 255, 0.7)",
          "opacity": 0.7,
          "size": 10
         },
         "mode": "markers",
         "name": "Skanderborg",
         "type": "scattermapbox"
        },
        {
         "hoverinfo": "text",
         "hovertext": "ID: Aarhus<br>Area: DK1",
         "lat": [
          56.15511031
         ],
         "lon": [
          10.10360521
         ],
         "marker": {
          "color": "rgba(0, 150, 255, 0.7)",
          "opacity": 0.7,
          "size": 10
         },
         "mode": "markers",
         "name": "Aarhus",
         "type": "scattermapbox"
        },
        {
         "hoverinfo": "text",
         "hovertext": "ID: Ikast-Brande<br>Area: DK1",
         "lat": [
          56.14494181
         ],
         "lon": [
          9.23109529
         ],
         "marker": {
          "color": "rgba(0, 150, 255, 0.7)",
          "opacity": 0.7,
          "size": 10
         },
         "mode": "markers",
         "name": "Ikast-Brande",
         "type": "scattermapbox"
        },
        {
         "hoverinfo": "text",
         "hovertext": "ID: Ringkøbing-Skjern<br>Area: DK1",
         "lat": [
          56.02237771
         ],
         "lon": [
          8.54072392
         ],
         "marker": {
          "color": "rgba(0, 150, 255, 0.7)",
          "opacity": 0.7,
          "size": 10
         },
         "mode": "markers",
         "name": "Ringkøbing-Skjern",
         "type": "scattermapbox"
        },
        {
         "hoverinfo": "text",
         "hovertext": "ID: Hedensted<br>Area: DK1",
         "lat": [
          55.73776272
         ],
         "lon": [
          9.82272174
         ],
         "marker": {
          "color": "rgba(0, 150, 255, 0.7)",
          "opacity": 0.7,
          "size": 10
         },
         "mode": "markers",
         "name": "Hedensted",
         "type": "scattermapbox"
        },
        {
         "hoverinfo": "text",
         "hovertext": "ID: Morsø<br>Area: DK1",
         "lat": [
          56.75308553
         ],
         "lon": [
          8.70784316
         ],
         "marker": {
          "color": "rgba(0, 150, 255, 0.7)",
          "opacity": 0.7,
          "size": 10
         },
         "mode": "markers",
         "name": "Morsø",
         "type": "scattermapbox"
        },
        {
         "hoverinfo": "text",
         "hovertext": "ID: Skive<br>Area: DK1",
         "lat": [
          56.6199892
         ],
         "lon": [
          8.91330847
         ],
         "marker": {
          "color": "rgba(0, 150, 255, 0.7)",
          "opacity": 0.7,
          "size": 10
         },
         "mode": "markers",
         "name": "Skive",
         "type": "scattermapbox"
        },
        {
         "hoverinfo": "text",
         "hovertext": "ID: Thisted<br>Area: DK1",
         "lat": [
          56.89372267
         ],
         "lon": [
          8.47287088
         ],
         "marker": {
          "color": "rgba(0, 150, 255, 0.7)",
          "opacity": 0.7,
          "size": 10
         },
         "mode": "markers",
         "name": "Thisted",
         "type": "scattermapbox"
        },
        {
         "hoverinfo": "text",
         "hovertext": "ID: Viborg<br>Area: DK1",
         "lat": [
          56.47080654
         ],
         "lon": [
          9.54980131
         ],
         "marker": {
          "color": "rgba(0, 150, 255, 0.7)",
          "opacity": 0.7,
          "size": 10
         },
         "mode": "markers",
         "name": "Viborg",
         "type": "scattermapbox"
        },
        {
         "hoverinfo": "text",
         "hovertext": "ID: Brønderslev<br>Area: DK1",
         "lat": [
          57.17989923
         ],
         "lon": [
          10.27821906
         ],
         "marker": {
          "color": "rgba(0, 150, 255, 0.7)",
          "opacity": 0.7,
          "size": 10
         },
         "mode": "markers",
         "name": "Brønderslev",
         "type": "scattermapbox"
        },
        {
         "hoverinfo": "text",
         "hovertext": "ID: Frederikshavn<br>Area: DK1",
         "lat": [
          57.32317454
         ],
         "lon": [
          10.41373901
         ],
         "marker": {
          "color": "rgba(0, 150, 255, 0.7)",
          "opacity": 0.7,
          "size": 10
         },
         "mode": "markers",
         "name": "Frederikshavn",
         "type": "scattermapbox"
        },
        {
         "hoverinfo": "text",
         "hovertext": "ID: Vesthimmerlands<br>Area: DK1",
         "lat": [
          56.81543648
         ],
         "lon": [
          9.38374995
         ],
         "marker": {
          "color": "rgba(0, 150, 255, 0.7)",
          "opacity": 0.7,
          "size": 10
         },
         "mode": "markers",
         "name": "Vesthimmerlands",
         "type": "scattermapbox"
        },
        {
         "hoverinfo": "text",
         "hovertext": "ID: Læsø<br>Area: DK1",
         "lat": [
          57.26614235
         ],
         "lon": [
          11.0080114
         ],
         "marker": {
          "color": "rgba(0, 150, 255, 0.7)",
          "opacity": 0.7,
          "size": 10
         },
         "mode": "markers",
         "name": "Læsø",
         "type": "scattermapbox"
        },
        {
         "hoverinfo": "text",
         "hovertext": "ID: Rebild<br>Area: DK1",
         "lat": [
          56.86903928
         ],
         "lon": [
          9.76037733
         ],
         "marker": {
          "color": "rgba(0, 150, 255, 0.7)",
          "opacity": 0.7,
          "size": 10
         },
         "mode": "markers",
         "name": "Rebild",
         "type": "scattermapbox"
        },
        {
         "hoverinfo": "text",
         "hovertext": "ID: Mariagerfjord<br>Area: DK1",
         "lat": [
          56.73357041
         ],
         "lon": [
          9.92557558
         ],
         "marker": {
          "color": "rgba(0, 150, 255, 0.7)",
          "opacity": 0.7,
          "size": 10
         },
         "mode": "markers",
         "name": "Mariagerfjord",
         "type": "scattermapbox"
        },
        {
         "hoverinfo": "text",
         "hovertext": "ID: Jammerbugt<br>Area: DK1",
         "lat": [
          57.16563593
         ],
         "lon": [
          9.62199119
         ],
         "marker": {
          "color": "rgba(0, 150, 255, 0.7)",
          "opacity": 0.7,
          "size": 10
         },
         "mode": "markers",
         "name": "Jammerbugt",
         "type": "scattermapbox"
        },
        {
         "hoverinfo": "text",
         "hovertext": "ID: Aalborg<br>Area: DK1",
         "lat": [
          56.98086976
         ],
         "lon": [
          9.99710026
         ],
         "marker": {
          "color": "rgba(0, 150, 255, 0.7)",
          "opacity": 0.7,
          "size": 10
         },
         "mode": "markers",
         "name": "Aalborg",
         "type": "scattermapbox"
        },
        {
         "hoverinfo": "text",
         "hovertext": "ID: Hjørring<br>Area: DK1",
         "lat": [
          57.4684031
         ],
         "lon": [
          10.07790672
         ],
         "marker": {
          "color": "rgba(0, 150, 255, 0.7)",
          "opacity": 0.7,
          "size": 10
         },
         "mode": "markers",
         "name": "Hjørring",
         "type": "scattermapbox"
        }
       ],
       "layout": {
        "height": 600,
        "mapbox": {
         "center": {
          "lat": 56,
          "lon": 11
         },
         "style": "carto-positron",
         "zoom": 5.8
        },
        "margin": {
         "b": 0,
         "l": 0,
         "r": 0,
         "t": 0
        },
        "showlegend": false,
        "template": {
         "data": {
          "bar": [
           {
            "error_x": {
             "color": "#2a3f5f"
            },
            "error_y": {
             "color": "#2a3f5f"
            },
            "marker": {
             "line": {
              "color": "#E5ECF6",
              "width": 0.5
             },
             "pattern": {
              "fillmode": "overlay",
              "size": 10,
              "solidity": 0.2
             }
            },
            "type": "bar"
           }
          ],
          "barpolar": [
           {
            "marker": {
             "line": {
              "color": "#E5ECF6",
              "width": 0.5
             },
             "pattern": {
              "fillmode": "overlay",
              "size": 10,
              "solidity": 0.2
             }
            },
            "type": "barpolar"
           }
          ],
          "carpet": [
           {
            "aaxis": {
             "endlinecolor": "#2a3f5f",
             "gridcolor": "white",
             "linecolor": "white",
             "minorgridcolor": "white",
             "startlinecolor": "#2a3f5f"
            },
            "baxis": {
             "endlinecolor": "#2a3f5f",
             "gridcolor": "white",
             "linecolor": "white",
             "minorgridcolor": "white",
             "startlinecolor": "#2a3f5f"
            },
            "type": "carpet"
           }
          ],
          "choropleth": [
           {
            "colorbar": {
             "outlinewidth": 0,
             "ticks": ""
            },
            "type": "choropleth"
           }
          ],
          "contour": [
           {
            "colorbar": {
             "outlinewidth": 0,
             "ticks": ""
            },
            "colorscale": [
             [
              0,
              "#0d0887"
             ],
             [
              0.1111111111111111,
              "#46039f"
             ],
             [
              0.2222222222222222,
              "#7201a8"
             ],
             [
              0.3333333333333333,
              "#9c179e"
             ],
             [
              0.4444444444444444,
              "#bd3786"
             ],
             [
              0.5555555555555556,
              "#d8576b"
             ],
             [
              0.6666666666666666,
              "#ed7953"
             ],
             [
              0.7777777777777778,
              "#fb9f3a"
             ],
             [
              0.8888888888888888,
              "#fdca26"
             ],
             [
              1,
              "#f0f921"
             ]
            ],
            "type": "contour"
           }
          ],
          "contourcarpet": [
           {
            "colorbar": {
             "outlinewidth": 0,
             "ticks": ""
            },
            "type": "contourcarpet"
           }
          ],
          "heatmap": [
           {
            "colorbar": {
             "outlinewidth": 0,
             "ticks": ""
            },
            "colorscale": [
             [
              0,
              "#0d0887"
             ],
             [
              0.1111111111111111,
              "#46039f"
             ],
             [
              0.2222222222222222,
              "#7201a8"
             ],
             [
              0.3333333333333333,
              "#9c179e"
             ],
             [
              0.4444444444444444,
              "#bd3786"
             ],
             [
              0.5555555555555556,
              "#d8576b"
             ],
             [
              0.6666666666666666,
              "#ed7953"
             ],
             [
              0.7777777777777778,
              "#fb9f3a"
             ],
             [
              0.8888888888888888,
              "#fdca26"
             ],
             [
              1,
              "#f0f921"
             ]
            ],
            "type": "heatmap"
           }
          ],
          "heatmapgl": [
           {
            "colorbar": {
             "outlinewidth": 0,
             "ticks": ""
            },
            "colorscale": [
             [
              0,
              "#0d0887"
             ],
             [
              0.1111111111111111,
              "#46039f"
             ],
             [
              0.2222222222222222,
              "#7201a8"
             ],
             [
              0.3333333333333333,
              "#9c179e"
             ],
             [
              0.4444444444444444,
              "#bd3786"
             ],
             [
              0.5555555555555556,
              "#d8576b"
             ],
             [
              0.6666666666666666,
              "#ed7953"
             ],
             [
              0.7777777777777778,
              "#fb9f3a"
             ],
             [
              0.8888888888888888,
              "#fdca26"
             ],
             [
              1,
              "#f0f921"
             ]
            ],
            "type": "heatmapgl"
           }
          ],
          "histogram": [
           {
            "marker": {
             "pattern": {
              "fillmode": "overlay",
              "size": 10,
              "solidity": 0.2
             }
            },
            "type": "histogram"
           }
          ],
          "histogram2d": [
           {
            "colorbar": {
             "outlinewidth": 0,
             "ticks": ""
            },
            "colorscale": [
             [
              0,
              "#0d0887"
             ],
             [
              0.1111111111111111,
              "#46039f"
             ],
             [
              0.2222222222222222,
              "#7201a8"
             ],
             [
              0.3333333333333333,
              "#9c179e"
             ],
             [
              0.4444444444444444,
              "#bd3786"
             ],
             [
              0.5555555555555556,
              "#d8576b"
             ],
             [
              0.6666666666666666,
              "#ed7953"
             ],
             [
              0.7777777777777778,
              "#fb9f3a"
             ],
             [
              0.8888888888888888,
              "#fdca26"
             ],
             [
              1,
              "#f0f921"
             ]
            ],
            "type": "histogram2d"
           }
          ],
          "histogram2dcontour": [
           {
            "colorbar": {
             "outlinewidth": 0,
             "ticks": ""
            },
            "colorscale": [
             [
              0,
              "#0d0887"
             ],
             [
              0.1111111111111111,
              "#46039f"
             ],
             [
              0.2222222222222222,
              "#7201a8"
             ],
             [
              0.3333333333333333,
              "#9c179e"
             ],
             [
              0.4444444444444444,
              "#bd3786"
             ],
             [
              0.5555555555555556,
              "#d8576b"
             ],
             [
              0.6666666666666666,
              "#ed7953"
             ],
             [
              0.7777777777777778,
              "#fb9f3a"
             ],
             [
              0.8888888888888888,
              "#fdca26"
             ],
             [
              1,
              "#f0f921"
             ]
            ],
            "type": "histogram2dcontour"
           }
          ],
          "mesh3d": [
           {
            "colorbar": {
             "outlinewidth": 0,
             "ticks": ""
            },
            "type": "mesh3d"
           }
          ],
          "parcoords": [
           {
            "line": {
             "colorbar": {
              "outlinewidth": 0,
              "ticks": ""
             }
            },
            "type": "parcoords"
           }
          ],
          "pie": [
           {
            "automargin": true,
            "type": "pie"
           }
          ],
          "scatter": [
           {
            "fillpattern": {
             "fillmode": "overlay",
             "size": 10,
             "solidity": 0.2
            },
            "type": "scatter"
           }
          ],
          "scatter3d": [
           {
            "line": {
             "colorbar": {
              "outlinewidth": 0,
              "ticks": ""
             }
            },
            "marker": {
             "colorbar": {
              "outlinewidth": 0,
              "ticks": ""
             }
            },
            "type": "scatter3d"
           }
          ],
          "scattercarpet": [
           {
            "marker": {
             "colorbar": {
              "outlinewidth": 0,
              "ticks": ""
             }
            },
            "type": "scattercarpet"
           }
          ],
          "scattergeo": [
           {
            "marker": {
             "colorbar": {
              "outlinewidth": 0,
              "ticks": ""
             }
            },
            "type": "scattergeo"
           }
          ],
          "scattergl": [
           {
            "marker": {
             "colorbar": {
              "outlinewidth": 0,
              "ticks": ""
             }
            },
            "type": "scattergl"
           }
          ],
          "scattermapbox": [
           {
            "marker": {
             "colorbar": {
              "outlinewidth": 0,
              "ticks": ""
             }
            },
            "type": "scattermapbox"
           }
          ],
          "scatterpolar": [
           {
            "marker": {
             "colorbar": {
              "outlinewidth": 0,
              "ticks": ""
             }
            },
            "type": "scatterpolar"
           }
          ],
          "scatterpolargl": [
           {
            "marker": {
             "colorbar": {
              "outlinewidth": 0,
              "ticks": ""
             }
            },
            "type": "scatterpolargl"
           }
          ],
          "scatterternary": [
           {
            "marker": {
             "colorbar": {
              "outlinewidth": 0,
              "ticks": ""
             }
            },
            "type": "scatterternary"
           }
          ],
          "surface": [
           {
            "colorbar": {
             "outlinewidth": 0,
             "ticks": ""
            },
            "colorscale": [
             [
              0,
              "#0d0887"
             ],
             [
              0.1111111111111111,
              "#46039f"
             ],
             [
              0.2222222222222222,
              "#7201a8"
             ],
             [
              0.3333333333333333,
              "#9c179e"
             ],
             [
              0.4444444444444444,
              "#bd3786"
             ],
             [
              0.5555555555555556,
              "#d8576b"
             ],
             [
              0.6666666666666666,
              "#ed7953"
             ],
             [
              0.7777777777777778,
              "#fb9f3a"
             ],
             [
              0.8888888888888888,
              "#fdca26"
             ],
             [
              1,
              "#f0f921"
             ]
            ],
            "type": "surface"
           }
          ],
          "table": [
           {
            "cells": {
             "fill": {
              "color": "#EBF0F8"
             },
             "line": {
              "color": "white"
             }
            },
            "header": {
             "fill": {
              "color": "#C8D4E3"
             },
             "line": {
              "color": "white"
             }
            },
            "type": "table"
           }
          ]
         },
         "layout": {
          "annotationdefaults": {
           "arrowcolor": "#2a3f5f",
           "arrowhead": 0,
           "arrowwidth": 1
          },
          "autotypenumbers": "strict",
          "coloraxis": {
           "colorbar": {
            "outlinewidth": 0,
            "ticks": ""
           }
          },
          "colorscale": {
           "diverging": [
            [
             0,
             "#8e0152"
            ],
            [
             0.1,
             "#c51b7d"
            ],
            [
             0.2,
             "#de77ae"
            ],
            [
             0.3,
             "#f1b6da"
            ],
            [
             0.4,
             "#fde0ef"
            ],
            [
             0.5,
             "#f7f7f7"
            ],
            [
             0.6,
             "#e6f5d0"
            ],
            [
             0.7,
             "#b8e186"
            ],
            [
             0.8,
             "#7fbc41"
            ],
            [
             0.9,
             "#4d9221"
            ],
            [
             1,
             "#276419"
            ]
           ],
           "sequential": [
            [
             0,
             "#0d0887"
            ],
            [
             0.1111111111111111,
             "#46039f"
            ],
            [
             0.2222222222222222,
             "#7201a8"
            ],
            [
             0.3333333333333333,
             "#9c179e"
            ],
            [
             0.4444444444444444,
             "#bd3786"
            ],
            [
             0.5555555555555556,
             "#d8576b"
            ],
            [
             0.6666666666666666,
             "#ed7953"
            ],
            [
             0.7777777777777778,
             "#fb9f3a"
            ],
            [
             0.8888888888888888,
             "#fdca26"
            ],
            [
             1,
             "#f0f921"
            ]
           ],
           "sequentialminus": [
            [
             0,
             "#0d0887"
            ],
            [
             0.1111111111111111,
             "#46039f"
            ],
            [
             0.2222222222222222,
             "#7201a8"
            ],
            [
             0.3333333333333333,
             "#9c179e"
            ],
            [
             0.4444444444444444,
             "#bd3786"
            ],
            [
             0.5555555555555556,
             "#d8576b"
            ],
            [
             0.6666666666666666,
             "#ed7953"
            ],
            [
             0.7777777777777778,
             "#fb9f3a"
            ],
            [
             0.8888888888888888,
             "#fdca26"
            ],
            [
             1,
             "#f0f921"
            ]
           ]
          },
          "colorway": [
           "#636efa",
           "#EF553B",
           "#00cc96",
           "#ab63fa",
           "#FFA15A",
           "#19d3f3",
           "#FF6692",
           "#B6E880",
           "#FF97FF",
           "#FECB52"
          ],
          "font": {
           "color": "#2a3f5f"
          },
          "geo": {
           "bgcolor": "white",
           "lakecolor": "white",
           "landcolor": "#E5ECF6",
           "showlakes": true,
           "showland": true,
           "subunitcolor": "white"
          },
          "hoverlabel": {
           "align": "left"
          },
          "hovermode": "closest",
          "mapbox": {
           "style": "light"
          },
          "paper_bgcolor": "white",
          "plot_bgcolor": "#E5ECF6",
          "polar": {
           "angularaxis": {
            "gridcolor": "white",
            "linecolor": "white",
            "ticks": ""
           },
           "bgcolor": "#E5ECF6",
           "radialaxis": {
            "gridcolor": "white",
            "linecolor": "white",
            "ticks": ""
           }
          },
          "scene": {
           "xaxis": {
            "backgroundcolor": "#E5ECF6",
            "gridcolor": "white",
            "gridwidth": 2,
            "linecolor": "white",
            "showbackground": true,
            "ticks": "",
            "zerolinecolor": "white"
           },
           "yaxis": {
            "backgroundcolor": "#E5ECF6",
            "gridcolor": "white",
            "gridwidth": 2,
            "linecolor": "white",
            "showbackground": true,
            "ticks": "",
            "zerolinecolor": "white"
           },
           "zaxis": {
            "backgroundcolor": "#E5ECF6",
            "gridcolor": "white",
            "gridwidth": 2,
            "linecolor": "white",
            "showbackground": true,
            "ticks": "",
            "zerolinecolor": "white"
           }
          },
          "shapedefaults": {
           "line": {
            "color": "#2a3f5f"
           }
          },
          "ternary": {
           "aaxis": {
            "gridcolor": "white",
            "linecolor": "white",
            "ticks": ""
           },
           "baxis": {
            "gridcolor": "white",
            "linecolor": "white",
            "ticks": ""
           },
           "bgcolor": "#E5ECF6",
           "caxis": {
            "gridcolor": "white",
            "linecolor": "white",
            "ticks": ""
           }
          },
          "title": {
           "x": 0.05
          },
          "xaxis": {
           "automargin": true,
           "gridcolor": "white",
           "linecolor": "white",
           "ticks": "",
           "title": {
            "standoff": 15
           },
           "zerolinecolor": "white",
           "zerolinewidth": 2
          },
          "yaxis": {
           "automargin": true,
           "gridcolor": "white",
           "linecolor": "white",
           "ticks": "",
           "title": {
            "standoff": 15
           },
           "zerolinecolor": "white",
           "zerolinewidth": 2
          }
         }
        }
       }
      }
     },
     "metadata": {},
     "output_type": "display_data"
    }
   ],
   "source": [
    "ap.plot_polygons(df_facts,id=ids[0],color_by='area', save='map.png')"
   ]
  },
  {
   "cell_type": "code",
   "execution_count": 14,
   "metadata": {},
   "outputs": [],
   "source": [
    "# removing dk2 as we will only use dk1\n",
    "df_weather_dk1 = df_weather[df_weather['area'] == 'DK1'].drop(columns=['area','coordinates','mean_wind_dir'], axis=1)\n",
    "\n",
    "# create wind direction dummies\n",
    "df_weather_dk1 = pd.get_dummies(df_weather_dk1, columns=['wind_dir'], prefix='wind_dir')\n",
    "\n",
    "# reset index\n",
    "df_weather_dk1.reset_index(drop=True, inplace=True)"
   ]
  },
  {
   "cell_type": "code",
   "execution_count": 15,
   "metadata": {},
   "outputs": [
    {
     "name": "stdout",
     "output_type": "stream",
     "text": [
      "<class 'pandas.core.frame.DataFrame'>\n",
      "RangeIndex: 6291636 entries, 0 to 6291635\n",
      "Data columns (total 15 columns):\n",
      " #   Column            Dtype              \n",
      "---  ------            -----              \n",
      " 0   municipalityName  object             \n",
      " 1   from              datetime64[ns, UTC]\n",
      " 2   to                datetime64[ns, UTC]\n",
      " 3   mean_temp         float64            \n",
      " 4   mean_wind_speed   float64            \n",
      " 5   municipalityId    int64              \n",
      " 6   geometry_type     object             \n",
      " 7   wind_dir_E        bool               \n",
      " 8   wind_dir_N        bool               \n",
      " 9   wind_dir_NE       bool               \n",
      " 10  wind_dir_NW       bool               \n",
      " 11  wind_dir_S        bool               \n",
      " 12  wind_dir_SE       bool               \n",
      " 13  wind_dir_SW       bool               \n",
      " 14  wind_dir_W        bool               \n",
      "dtypes: bool(8), datetime64[ns, UTC](2), float64(2), int64(1), object(2)\n",
      "memory usage: 384.0+ MB\n",
      "None\n"
     ]
    }
   ],
   "source": [
    "# print info\n",
    "print(df_weather_dk1.info())"
   ]
  },
  {
   "cell_type": "code",
   "execution_count": 16,
   "metadata": {},
   "outputs": [
    {
     "data": {
      "text/html": [
       "<div>\n",
       "<style scoped>\n",
       "    .dataframe tbody tr th:only-of-type {\n",
       "        vertical-align: middle;\n",
       "    }\n",
       "\n",
       "    .dataframe tbody tr th {\n",
       "        vertical-align: top;\n",
       "    }\n",
       "\n",
       "    .dataframe thead th {\n",
       "        text-align: right;\n",
       "    }\n",
       "</style>\n",
       "<table border=\"1\" class=\"dataframe\">\n",
       "  <thead>\n",
       "    <tr style=\"text-align: right;\">\n",
       "      <th></th>\n",
       "      <th>from</th>\n",
       "      <th>to</th>\n",
       "      <th>mean_temp_Aabenraa</th>\n",
       "      <th>mean_temp_Aalborg</th>\n",
       "      <th>mean_temp_Aarhus</th>\n",
       "      <th>mean_temp_Assens</th>\n",
       "      <th>mean_temp_Billund</th>\n",
       "      <th>mean_temp_Brønderslev</th>\n",
       "      <th>mean_temp_Esbjerg</th>\n",
       "      <th>mean_temp_Faaborg-Midtfyn</th>\n",
       "      <th>...</th>\n",
       "      <th>wind_dir_W_Syddjurs</th>\n",
       "      <th>wind_dir_W_Sønderborg</th>\n",
       "      <th>wind_dir_W_Thisted</th>\n",
       "      <th>wind_dir_W_Tønder</th>\n",
       "      <th>wind_dir_W_Varde</th>\n",
       "      <th>wind_dir_W_Vejen</th>\n",
       "      <th>wind_dir_W_Vejle</th>\n",
       "      <th>wind_dir_W_Vesthimmerlands</th>\n",
       "      <th>wind_dir_W_Viborg</th>\n",
       "      <th>wind_dir_W_Ærø</th>\n",
       "    </tr>\n",
       "  </thead>\n",
       "  <tbody>\n",
       "    <tr>\n",
       "      <th>0</th>\n",
       "      <td>2010-12-31 23:00:00+00:00</td>\n",
       "      <td>2011-01-01 00:00:00+00:00</td>\n",
       "      <td>3.1</td>\n",
       "      <td>3.8</td>\n",
       "      <td>4.1</td>\n",
       "      <td>3.3</td>\n",
       "      <td>3.6</td>\n",
       "      <td>3.8</td>\n",
       "      <td>3.1</td>\n",
       "      <td>3.3</td>\n",
       "      <td>...</td>\n",
       "      <td>True</td>\n",
       "      <td>True</td>\n",
       "      <td>True</td>\n",
       "      <td>True</td>\n",
       "      <td>True</td>\n",
       "      <td>True</td>\n",
       "      <td>True</td>\n",
       "      <td>True</td>\n",
       "      <td>True</td>\n",
       "      <td>True</td>\n",
       "    </tr>\n",
       "    <tr>\n",
       "      <th>1</th>\n",
       "      <td>2011-01-01 00:00:00+00:00</td>\n",
       "      <td>2011-01-01 01:00:00+00:00</td>\n",
       "      <td>3.1</td>\n",
       "      <td>3.5</td>\n",
       "      <td>3.9</td>\n",
       "      <td>3.4</td>\n",
       "      <td>3.8</td>\n",
       "      <td>3.4</td>\n",
       "      <td>3.3</td>\n",
       "      <td>3.4</td>\n",
       "      <td>...</td>\n",
       "      <td>True</td>\n",
       "      <td>True</td>\n",
       "      <td>True</td>\n",
       "      <td>True</td>\n",
       "      <td>True</td>\n",
       "      <td>True</td>\n",
       "      <td>True</td>\n",
       "      <td>True</td>\n",
       "      <td>True</td>\n",
       "      <td>True</td>\n",
       "    </tr>\n",
       "    <tr>\n",
       "      <th>2</th>\n",
       "      <td>2011-01-01 01:00:00+00:00</td>\n",
       "      <td>2011-01-01 02:00:00+00:00</td>\n",
       "      <td>3.1</td>\n",
       "      <td>3.7</td>\n",
       "      <td>3.8</td>\n",
       "      <td>3.6</td>\n",
       "      <td>3.7</td>\n",
       "      <td>3.4</td>\n",
       "      <td>3.5</td>\n",
       "      <td>3.5</td>\n",
       "      <td>...</td>\n",
       "      <td>True</td>\n",
       "      <td>True</td>\n",
       "      <td>True</td>\n",
       "      <td>True</td>\n",
       "      <td>False</td>\n",
       "      <td>True</td>\n",
       "      <td>True</td>\n",
       "      <td>True</td>\n",
       "      <td>True</td>\n",
       "      <td>True</td>\n",
       "    </tr>\n",
       "    <tr>\n",
       "      <th>3</th>\n",
       "      <td>2011-01-01 02:00:00+00:00</td>\n",
       "      <td>2011-01-01 03:00:00+00:00</td>\n",
       "      <td>3.1</td>\n",
       "      <td>3.7</td>\n",
       "      <td>3.7</td>\n",
       "      <td>3.5</td>\n",
       "      <td>3.6</td>\n",
       "      <td>3.7</td>\n",
       "      <td>3.0</td>\n",
       "      <td>3.5</td>\n",
       "      <td>...</td>\n",
       "      <td>True</td>\n",
       "      <td>True</td>\n",
       "      <td>True</td>\n",
       "      <td>True</td>\n",
       "      <td>False</td>\n",
       "      <td>True</td>\n",
       "      <td>True</td>\n",
       "      <td>True</td>\n",
       "      <td>False</td>\n",
       "      <td>True</td>\n",
       "    </tr>\n",
       "    <tr>\n",
       "      <th>4</th>\n",
       "      <td>2011-01-01 03:00:00+00:00</td>\n",
       "      <td>2011-01-01 04:00:00+00:00</td>\n",
       "      <td>2.7</td>\n",
       "      <td>3.8</td>\n",
       "      <td>3.8</td>\n",
       "      <td>3.4</td>\n",
       "      <td>3.1</td>\n",
       "      <td>3.8</td>\n",
       "      <td>2.9</td>\n",
       "      <td>3.4</td>\n",
       "      <td>...</td>\n",
       "      <td>False</td>\n",
       "      <td>True</td>\n",
       "      <td>True</td>\n",
       "      <td>True</td>\n",
       "      <td>True</td>\n",
       "      <td>True</td>\n",
       "      <td>True</td>\n",
       "      <td>False</td>\n",
       "      <td>False</td>\n",
       "      <td>True</td>\n",
       "    </tr>\n",
       "    <tr>\n",
       "      <th>...</th>\n",
       "      <td>...</td>\n",
       "      <td>...</td>\n",
       "      <td>...</td>\n",
       "      <td>...</td>\n",
       "      <td>...</td>\n",
       "      <td>...</td>\n",
       "      <td>...</td>\n",
       "      <td>...</td>\n",
       "      <td>...</td>\n",
       "      <td>...</td>\n",
       "      <td>...</td>\n",
       "      <td>...</td>\n",
       "      <td>...</td>\n",
       "      <td>...</td>\n",
       "      <td>...</td>\n",
       "      <td>...</td>\n",
       "      <td>...</td>\n",
       "      <td>...</td>\n",
       "      <td>...</td>\n",
       "      <td>...</td>\n",
       "      <td>...</td>\n",
       "    </tr>\n",
       "    <tr>\n",
       "      <th>120988</th>\n",
       "      <td>2024-10-20 03:00:00+00:00</td>\n",
       "      <td>2024-10-20 04:00:00+00:00</td>\n",
       "      <td>12.5</td>\n",
       "      <td>11.4</td>\n",
       "      <td>11.9</td>\n",
       "      <td>12.5</td>\n",
       "      <td>12.3</td>\n",
       "      <td>11.3</td>\n",
       "      <td>12.4</td>\n",
       "      <td>12.5</td>\n",
       "      <td>...</td>\n",
       "      <td>False</td>\n",
       "      <td>False</td>\n",
       "      <td>False</td>\n",
       "      <td>False</td>\n",
       "      <td>False</td>\n",
       "      <td>False</td>\n",
       "      <td>False</td>\n",
       "      <td>False</td>\n",
       "      <td>False</td>\n",
       "      <td>False</td>\n",
       "    </tr>\n",
       "    <tr>\n",
       "      <th>120989</th>\n",
       "      <td>2024-10-20 04:00:00+00:00</td>\n",
       "      <td>2024-10-20 05:00:00+00:00</td>\n",
       "      <td>12.4</td>\n",
       "      <td>11.7</td>\n",
       "      <td>11.9</td>\n",
       "      <td>12.4</td>\n",
       "      <td>12.4</td>\n",
       "      <td>11.4</td>\n",
       "      <td>12.4</td>\n",
       "      <td>12.4</td>\n",
       "      <td>...</td>\n",
       "      <td>False</td>\n",
       "      <td>False</td>\n",
       "      <td>False</td>\n",
       "      <td>False</td>\n",
       "      <td>False</td>\n",
       "      <td>False</td>\n",
       "      <td>False</td>\n",
       "      <td>False</td>\n",
       "      <td>False</td>\n",
       "      <td>False</td>\n",
       "    </tr>\n",
       "    <tr>\n",
       "      <th>120990</th>\n",
       "      <td>2024-10-20 05:00:00+00:00</td>\n",
       "      <td>2024-10-20 06:00:00+00:00</td>\n",
       "      <td>12.3</td>\n",
       "      <td>11.9</td>\n",
       "      <td>11.9</td>\n",
       "      <td>12.2</td>\n",
       "      <td>12.4</td>\n",
       "      <td>11.7</td>\n",
       "      <td>12.4</td>\n",
       "      <td>12.0</td>\n",
       "      <td>...</td>\n",
       "      <td>False</td>\n",
       "      <td>False</td>\n",
       "      <td>False</td>\n",
       "      <td>False</td>\n",
       "      <td>False</td>\n",
       "      <td>False</td>\n",
       "      <td>False</td>\n",
       "      <td>False</td>\n",
       "      <td>False</td>\n",
       "      <td>False</td>\n",
       "    </tr>\n",
       "    <tr>\n",
       "      <th>120991</th>\n",
       "      <td>2024-10-20 06:00:00+00:00</td>\n",
       "      <td>2024-10-20 07:00:00+00:00</td>\n",
       "      <td>12.3</td>\n",
       "      <td>12.1</td>\n",
       "      <td>12.1</td>\n",
       "      <td>12.1</td>\n",
       "      <td>12.5</td>\n",
       "      <td>11.9</td>\n",
       "      <td>12.4</td>\n",
       "      <td>12.0</td>\n",
       "      <td>...</td>\n",
       "      <td>False</td>\n",
       "      <td>False</td>\n",
       "      <td>False</td>\n",
       "      <td>False</td>\n",
       "      <td>False</td>\n",
       "      <td>False</td>\n",
       "      <td>False</td>\n",
       "      <td>False</td>\n",
       "      <td>False</td>\n",
       "      <td>False</td>\n",
       "    </tr>\n",
       "    <tr>\n",
       "      <th>120992</th>\n",
       "      <td>2024-10-20 07:00:00+00:00</td>\n",
       "      <td>2024-10-20 08:00:00+00:00</td>\n",
       "      <td>12.5</td>\n",
       "      <td>12.4</td>\n",
       "      <td>12.1</td>\n",
       "      <td>12.6</td>\n",
       "      <td>12.5</td>\n",
       "      <td>12.2</td>\n",
       "      <td>12.4</td>\n",
       "      <td>12.6</td>\n",
       "      <td>...</td>\n",
       "      <td>False</td>\n",
       "      <td>False</td>\n",
       "      <td>False</td>\n",
       "      <td>False</td>\n",
       "      <td>False</td>\n",
       "      <td>False</td>\n",
       "      <td>False</td>\n",
       "      <td>False</td>\n",
       "      <td>False</td>\n",
       "      <td>False</td>\n",
       "    </tr>\n",
       "  </tbody>\n",
       "</table>\n",
       "<p>120993 rows × 470 columns</p>\n",
       "</div>"
      ],
      "text/plain": [
       "                            from                        to  \\\n",
       "0      2010-12-31 23:00:00+00:00 2011-01-01 00:00:00+00:00   \n",
       "1      2011-01-01 00:00:00+00:00 2011-01-01 01:00:00+00:00   \n",
       "2      2011-01-01 01:00:00+00:00 2011-01-01 02:00:00+00:00   \n",
       "3      2011-01-01 02:00:00+00:00 2011-01-01 03:00:00+00:00   \n",
       "4      2011-01-01 03:00:00+00:00 2011-01-01 04:00:00+00:00   \n",
       "...                          ...                       ...   \n",
       "120988 2024-10-20 03:00:00+00:00 2024-10-20 04:00:00+00:00   \n",
       "120989 2024-10-20 04:00:00+00:00 2024-10-20 05:00:00+00:00   \n",
       "120990 2024-10-20 05:00:00+00:00 2024-10-20 06:00:00+00:00   \n",
       "120991 2024-10-20 06:00:00+00:00 2024-10-20 07:00:00+00:00   \n",
       "120992 2024-10-20 07:00:00+00:00 2024-10-20 08:00:00+00:00   \n",
       "\n",
       "        mean_temp_Aabenraa  mean_temp_Aalborg  mean_temp_Aarhus  \\\n",
       "0                      3.1                3.8               4.1   \n",
       "1                      3.1                3.5               3.9   \n",
       "2                      3.1                3.7               3.8   \n",
       "3                      3.1                3.7               3.7   \n",
       "4                      2.7                3.8               3.8   \n",
       "...                    ...                ...               ...   \n",
       "120988                12.5               11.4              11.9   \n",
       "120989                12.4               11.7              11.9   \n",
       "120990                12.3               11.9              11.9   \n",
       "120991                12.3               12.1              12.1   \n",
       "120992                12.5               12.4              12.1   \n",
       "\n",
       "        mean_temp_Assens  mean_temp_Billund  mean_temp_Brønderslev  \\\n",
       "0                    3.3                3.6                    3.8   \n",
       "1                    3.4                3.8                    3.4   \n",
       "2                    3.6                3.7                    3.4   \n",
       "3                    3.5                3.6                    3.7   \n",
       "4                    3.4                3.1                    3.8   \n",
       "...                  ...                ...                    ...   \n",
       "120988              12.5               12.3                   11.3   \n",
       "120989              12.4               12.4                   11.4   \n",
       "120990              12.2               12.4                   11.7   \n",
       "120991              12.1               12.5                   11.9   \n",
       "120992              12.6               12.5                   12.2   \n",
       "\n",
       "        mean_temp_Esbjerg  mean_temp_Faaborg-Midtfyn  ...  \\\n",
       "0                     3.1                        3.3  ...   \n",
       "1                     3.3                        3.4  ...   \n",
       "2                     3.5                        3.5  ...   \n",
       "3                     3.0                        3.5  ...   \n",
       "4                     2.9                        3.4  ...   \n",
       "...                   ...                        ...  ...   \n",
       "120988               12.4                       12.5  ...   \n",
       "120989               12.4                       12.4  ...   \n",
       "120990               12.4                       12.0  ...   \n",
       "120991               12.4                       12.0  ...   \n",
       "120992               12.4                       12.6  ...   \n",
       "\n",
       "        wind_dir_W_Syddjurs  wind_dir_W_Sønderborg  wind_dir_W_Thisted  \\\n",
       "0                      True                   True                True   \n",
       "1                      True                   True                True   \n",
       "2                      True                   True                True   \n",
       "3                      True                   True                True   \n",
       "4                     False                   True                True   \n",
       "...                     ...                    ...                 ...   \n",
       "120988                False                  False               False   \n",
       "120989                False                  False               False   \n",
       "120990                False                  False               False   \n",
       "120991                False                  False               False   \n",
       "120992                False                  False               False   \n",
       "\n",
       "        wind_dir_W_Tønder  wind_dir_W_Varde  wind_dir_W_Vejen  \\\n",
       "0                    True              True              True   \n",
       "1                    True              True              True   \n",
       "2                    True             False              True   \n",
       "3                    True             False              True   \n",
       "4                    True              True              True   \n",
       "...                   ...               ...               ...   \n",
       "120988              False             False             False   \n",
       "120989              False             False             False   \n",
       "120990              False             False             False   \n",
       "120991              False             False             False   \n",
       "120992              False             False             False   \n",
       "\n",
       "        wind_dir_W_Vejle  wind_dir_W_Vesthimmerlands  wind_dir_W_Viborg  \\\n",
       "0                   True                        True               True   \n",
       "1                   True                        True               True   \n",
       "2                   True                        True               True   \n",
       "3                   True                        True              False   \n",
       "4                   True                       False              False   \n",
       "...                  ...                         ...                ...   \n",
       "120988             False                       False              False   \n",
       "120989             False                       False              False   \n",
       "120990             False                       False              False   \n",
       "120991             False                       False              False   \n",
       "120992             False                       False              False   \n",
       "\n",
       "        wind_dir_W_Ærø  \n",
       "0                 True  \n",
       "1                 True  \n",
       "2                 True  \n",
       "3                 True  \n",
       "4                 True  \n",
       "...                ...  \n",
       "120988           False  \n",
       "120989           False  \n",
       "120990           False  \n",
       "120991           False  \n",
       "120992           False  \n",
       "\n",
       "[120993 rows x 470 columns]"
      ]
     },
     "execution_count": 16,
     "metadata": {},
     "output_type": "execute_result"
    }
   ],
   "source": [
    "df_wide_dk1 = df_weather_dk1.pivot_table(index=['from','to'], columns=ids[0], \n",
    "                                             values=['mean_temp', 'mean_wind_speed',\n",
    "                                                     'wind_dir_N', 'wind_dir_NE', 'wind_dir_E', \n",
    "                                                     'wind_dir_SE', 'wind_dir_S', 'wind_dir_SW',\n",
    "                                                      'wind_dir_W'], \n",
    "                                             aggfunc='first').reset_index()\n",
    "\n",
    "# column names\n",
    "df_wide_dk1.columns = ['_'.join(col).strip() if isinstance(col, tuple) else col for col in df_wide_dk1.columns]\n",
    "\n",
    "# rename columns\n",
    "df_wide_dk1.rename(columns={'from_': 'from', 'to_': 'to'}, inplace=True)\n",
    "\n",
    "df_wide_dk1"
   ]
  },
  {
   "cell_type": "markdown",
   "metadata": {},
   "source": [
    "## Energinet data\n",
    "\n",
    "--------\n",
    "https://www.energidataservice.dk/tso-electricity/Elspotprices\n"
   ]
  },
  {
   "cell_type": "code",
   "execution_count": 17,
   "metadata": {},
   "outputs": [],
   "source": [
    "# find the first date\n",
    "start_date = df_wide_dk1['from'].min()\n",
    "end_date = df_wide_dk1['to'].max()\n",
    "\n",
    "# convert to YYYY-MM-DDTHH:MM string\n",
    "start_date = start_date.strftime('%Y-%m-%dT%H:%M')\n",
    "end_date = end_date.strftime('%Y-%m-%dT%H:%M')\n",
    "\n",
    "# define url and parameters\n",
    "base_url = 'https://api.energidataservice.dk/dataset/Elspotprices'\n",
    "params = {\n",
    "    'offset': 0,\n",
    "    'start': start_date,\n",
    "    'end': end_date,\n",
    "    'filter': '{\"PriceArea\":[\"DK1\"]}' # DK1 is the price area for west Denmark, DK2 is for east Denmark https://energinet.dk/El/Systemydelser/Introduktion-til-Systemydelser/Oversigt-over-systemydelser/\n",
    "    }"
   ]
  },
  {
   "cell_type": "code",
   "execution_count": 18,
   "metadata": {},
   "outputs": [
    {
     "data": {
      "text/html": [
       "<div>\n",
       "<style scoped>\n",
       "    .dataframe tbody tr th:only-of-type {\n",
       "        vertical-align: middle;\n",
       "    }\n",
       "\n",
       "    .dataframe tbody tr th {\n",
       "        vertical-align: top;\n",
       "    }\n",
       "\n",
       "    .dataframe thead th {\n",
       "        text-align: right;\n",
       "    }\n",
       "</style>\n",
       "<table border=\"1\" class=\"dataframe\">\n",
       "  <thead>\n",
       "    <tr style=\"text-align: right;\">\n",
       "      <th></th>\n",
       "      <th>HourUTC</th>\n",
       "      <th>SpotPriceDKK</th>\n",
       "    </tr>\n",
       "  </thead>\n",
       "  <tbody>\n",
       "    <tr>\n",
       "      <th>0</th>\n",
       "      <td>2024-10-20 05:00:00+00:00</td>\n",
       "      <td>291.329987</td>\n",
       "    </tr>\n",
       "    <tr>\n",
       "      <th>1</th>\n",
       "      <td>2024-10-20 04:00:00+00:00</td>\n",
       "      <td>240.389999</td>\n",
       "    </tr>\n",
       "    <tr>\n",
       "      <th>2</th>\n",
       "      <td>2024-10-20 03:00:00+00:00</td>\n",
       "      <td>241.880005</td>\n",
       "    </tr>\n",
       "    <tr>\n",
       "      <th>3</th>\n",
       "      <td>2024-10-20 02:00:00+00:00</td>\n",
       "      <td>444.450012</td>\n",
       "    </tr>\n",
       "    <tr>\n",
       "      <th>4</th>\n",
       "      <td>2024-10-20 01:00:00+00:00</td>\n",
       "      <td>417.000000</td>\n",
       "    </tr>\n",
       "    <tr>\n",
       "      <th>...</th>\n",
       "      <td>...</td>\n",
       "      <td>...</td>\n",
       "    </tr>\n",
       "    <tr>\n",
       "      <th>120987</th>\n",
       "      <td>2011-01-01 02:00:00+00:00</td>\n",
       "      <td>-11.400000</td>\n",
       "    </tr>\n",
       "    <tr>\n",
       "      <th>120988</th>\n",
       "      <td>2011-01-01 01:00:00+00:00</td>\n",
       "      <td>-11.400000</td>\n",
       "    </tr>\n",
       "    <tr>\n",
       "      <th>120989</th>\n",
       "      <td>2011-01-01 00:00:00+00:00</td>\n",
       "      <td>13.640000</td>\n",
       "    </tr>\n",
       "    <tr>\n",
       "      <th>120990</th>\n",
       "      <td>2010-12-31 23:00:00+00:00</td>\n",
       "      <td>2.380000</td>\n",
       "    </tr>\n",
       "    <tr>\n",
       "      <th>120991</th>\n",
       "      <td>2010-12-31 22:00:00+00:00</td>\n",
       "      <td>280.989990</td>\n",
       "    </tr>\n",
       "  </tbody>\n",
       "</table>\n",
       "<p>120992 rows × 2 columns</p>\n",
       "</div>"
      ],
      "text/plain": [
       "                         HourUTC  SpotPriceDKK\n",
       "0      2024-10-20 05:00:00+00:00    291.329987\n",
       "1      2024-10-20 04:00:00+00:00    240.389999\n",
       "2      2024-10-20 03:00:00+00:00    241.880005\n",
       "3      2024-10-20 02:00:00+00:00    444.450012\n",
       "4      2024-10-20 01:00:00+00:00    417.000000\n",
       "...                          ...           ...\n",
       "120987 2011-01-01 02:00:00+00:00    -11.400000\n",
       "120988 2011-01-01 01:00:00+00:00    -11.400000\n",
       "120989 2011-01-01 00:00:00+00:00     13.640000\n",
       "120990 2010-12-31 23:00:00+00:00      2.380000\n",
       "120991 2010-12-31 22:00:00+00:00    280.989990\n",
       "\n",
       "[120992 rows x 2 columns]"
      ]
     },
     "execution_count": 18,
     "metadata": {},
     "output_type": "execute_result"
    }
   ],
   "source": [
    "# download the data\n",
    "df_energy = ap.get_energydata(url=base_url, params=params)\n",
    "\n",
    "# drop the HourDK column as dmi data is in UTC\n",
    "df_energy.drop(columns=['HourDK', 'PriceArea', 'SpotPriceEUR'], inplace=True)\n",
    "\n",
    "# convert to datetime\n",
    "df_energy['HourUTC'] = pd.to_datetime(df_energy['HourUTC']).dt.tz_localize('UTC')\n",
    "df_energy\n"
   ]
  },
  {
   "cell_type": "markdown",
   "metadata": {},
   "source": [
    "## Combine datasets\n",
    "\n"
   ]
  },
  {
   "cell_type": "code",
   "execution_count": 19,
   "metadata": {},
   "outputs": [
    {
     "data": {
      "text/html": [
       "<div>\n",
       "<style scoped>\n",
       "    .dataframe tbody tr th:only-of-type {\n",
       "        vertical-align: middle;\n",
       "    }\n",
       "\n",
       "    .dataframe tbody tr th {\n",
       "        vertical-align: top;\n",
       "    }\n",
       "\n",
       "    .dataframe thead th {\n",
       "        text-align: right;\n",
       "    }\n",
       "</style>\n",
       "<table border=\"1\" class=\"dataframe\">\n",
       "  <thead>\n",
       "    <tr style=\"text-align: right;\">\n",
       "      <th></th>\n",
       "      <th>SpotPriceDKK</th>\n",
       "      <th>from</th>\n",
       "      <th>to</th>\n",
       "      <th>mean_temp_Aabenraa</th>\n",
       "      <th>mean_temp_Aalborg</th>\n",
       "      <th>mean_temp_Aarhus</th>\n",
       "      <th>mean_temp_Assens</th>\n",
       "      <th>mean_temp_Billund</th>\n",
       "      <th>mean_temp_Brønderslev</th>\n",
       "      <th>mean_temp_Esbjerg</th>\n",
       "      <th>...</th>\n",
       "      <th>wind_dir_W_Syddjurs</th>\n",
       "      <th>wind_dir_W_Sønderborg</th>\n",
       "      <th>wind_dir_W_Thisted</th>\n",
       "      <th>wind_dir_W_Tønder</th>\n",
       "      <th>wind_dir_W_Varde</th>\n",
       "      <th>wind_dir_W_Vejen</th>\n",
       "      <th>wind_dir_W_Vejle</th>\n",
       "      <th>wind_dir_W_Vesthimmerlands</th>\n",
       "      <th>wind_dir_W_Viborg</th>\n",
       "      <th>wind_dir_W_Ærø</th>\n",
       "    </tr>\n",
       "  </thead>\n",
       "  <tbody>\n",
       "    <tr>\n",
       "      <th>0</th>\n",
       "      <td>291.329987</td>\n",
       "      <td>2024-10-20 05:00:00+00:00</td>\n",
       "      <td>2024-10-20 06:00:00+00:00</td>\n",
       "      <td>12.3</td>\n",
       "      <td>11.9</td>\n",
       "      <td>11.9</td>\n",
       "      <td>12.2</td>\n",
       "      <td>12.4</td>\n",
       "      <td>11.7</td>\n",
       "      <td>12.4</td>\n",
       "      <td>...</td>\n",
       "      <td>False</td>\n",
       "      <td>False</td>\n",
       "      <td>False</td>\n",
       "      <td>False</td>\n",
       "      <td>False</td>\n",
       "      <td>False</td>\n",
       "      <td>False</td>\n",
       "      <td>False</td>\n",
       "      <td>False</td>\n",
       "      <td>False</td>\n",
       "    </tr>\n",
       "    <tr>\n",
       "      <th>1</th>\n",
       "      <td>240.389999</td>\n",
       "      <td>2024-10-20 04:00:00+00:00</td>\n",
       "      <td>2024-10-20 05:00:00+00:00</td>\n",
       "      <td>12.4</td>\n",
       "      <td>11.7</td>\n",
       "      <td>11.9</td>\n",
       "      <td>12.4</td>\n",
       "      <td>12.4</td>\n",
       "      <td>11.4</td>\n",
       "      <td>12.4</td>\n",
       "      <td>...</td>\n",
       "      <td>False</td>\n",
       "      <td>False</td>\n",
       "      <td>False</td>\n",
       "      <td>False</td>\n",
       "      <td>False</td>\n",
       "      <td>False</td>\n",
       "      <td>False</td>\n",
       "      <td>False</td>\n",
       "      <td>False</td>\n",
       "      <td>False</td>\n",
       "    </tr>\n",
       "    <tr>\n",
       "      <th>2</th>\n",
       "      <td>241.880005</td>\n",
       "      <td>2024-10-20 03:00:00+00:00</td>\n",
       "      <td>2024-10-20 04:00:00+00:00</td>\n",
       "      <td>12.5</td>\n",
       "      <td>11.4</td>\n",
       "      <td>11.9</td>\n",
       "      <td>12.5</td>\n",
       "      <td>12.3</td>\n",
       "      <td>11.3</td>\n",
       "      <td>12.4</td>\n",
       "      <td>...</td>\n",
       "      <td>False</td>\n",
       "      <td>False</td>\n",
       "      <td>False</td>\n",
       "      <td>False</td>\n",
       "      <td>False</td>\n",
       "      <td>False</td>\n",
       "      <td>False</td>\n",
       "      <td>False</td>\n",
       "      <td>False</td>\n",
       "      <td>False</td>\n",
       "    </tr>\n",
       "    <tr>\n",
       "      <th>3</th>\n",
       "      <td>444.450012</td>\n",
       "      <td>2024-10-20 02:00:00+00:00</td>\n",
       "      <td>2024-10-20 03:00:00+00:00</td>\n",
       "      <td>12.4</td>\n",
       "      <td>11.4</td>\n",
       "      <td>11.6</td>\n",
       "      <td>12.5</td>\n",
       "      <td>12.0</td>\n",
       "      <td>11.5</td>\n",
       "      <td>12.4</td>\n",
       "      <td>...</td>\n",
       "      <td>False</td>\n",
       "      <td>False</td>\n",
       "      <td>False</td>\n",
       "      <td>False</td>\n",
       "      <td>False</td>\n",
       "      <td>False</td>\n",
       "      <td>False</td>\n",
       "      <td>False</td>\n",
       "      <td>False</td>\n",
       "      <td>False</td>\n",
       "    </tr>\n",
       "    <tr>\n",
       "      <th>4</th>\n",
       "      <td>417.000000</td>\n",
       "      <td>2024-10-20 01:00:00+00:00</td>\n",
       "      <td>2024-10-20 02:00:00+00:00</td>\n",
       "      <td>12.4</td>\n",
       "      <td>11.8</td>\n",
       "      <td>11.2</td>\n",
       "      <td>12.4</td>\n",
       "      <td>11.7</td>\n",
       "      <td>12.1</td>\n",
       "      <td>12.3</td>\n",
       "      <td>...</td>\n",
       "      <td>False</td>\n",
       "      <td>False</td>\n",
       "      <td>False</td>\n",
       "      <td>False</td>\n",
       "      <td>False</td>\n",
       "      <td>False</td>\n",
       "      <td>False</td>\n",
       "      <td>False</td>\n",
       "      <td>False</td>\n",
       "      <td>False</td>\n",
       "    </tr>\n",
       "    <tr>\n",
       "      <th>...</th>\n",
       "      <td>...</td>\n",
       "      <td>...</td>\n",
       "      <td>...</td>\n",
       "      <td>...</td>\n",
       "      <td>...</td>\n",
       "      <td>...</td>\n",
       "      <td>...</td>\n",
       "      <td>...</td>\n",
       "      <td>...</td>\n",
       "      <td>...</td>\n",
       "      <td>...</td>\n",
       "      <td>...</td>\n",
       "      <td>...</td>\n",
       "      <td>...</td>\n",
       "      <td>...</td>\n",
       "      <td>...</td>\n",
       "      <td>...</td>\n",
       "      <td>...</td>\n",
       "      <td>...</td>\n",
       "      <td>...</td>\n",
       "      <td>...</td>\n",
       "    </tr>\n",
       "    <tr>\n",
       "      <th>120986</th>\n",
       "      <td>2.530000</td>\n",
       "      <td>2011-01-01 03:00:00+00:00</td>\n",
       "      <td>2011-01-01 04:00:00+00:00</td>\n",
       "      <td>2.7</td>\n",
       "      <td>3.8</td>\n",
       "      <td>3.8</td>\n",
       "      <td>3.4</td>\n",
       "      <td>3.1</td>\n",
       "      <td>3.8</td>\n",
       "      <td>2.9</td>\n",
       "      <td>...</td>\n",
       "      <td>False</td>\n",
       "      <td>True</td>\n",
       "      <td>True</td>\n",
       "      <td>True</td>\n",
       "      <td>True</td>\n",
       "      <td>True</td>\n",
       "      <td>True</td>\n",
       "      <td>False</td>\n",
       "      <td>False</td>\n",
       "      <td>True</td>\n",
       "    </tr>\n",
       "    <tr>\n",
       "      <th>120987</th>\n",
       "      <td>-11.400000</td>\n",
       "      <td>2011-01-01 02:00:00+00:00</td>\n",
       "      <td>2011-01-01 03:00:00+00:00</td>\n",
       "      <td>3.1</td>\n",
       "      <td>3.7</td>\n",
       "      <td>3.7</td>\n",
       "      <td>3.5</td>\n",
       "      <td>3.6</td>\n",
       "      <td>3.7</td>\n",
       "      <td>3.0</td>\n",
       "      <td>...</td>\n",
       "      <td>True</td>\n",
       "      <td>True</td>\n",
       "      <td>True</td>\n",
       "      <td>True</td>\n",
       "      <td>False</td>\n",
       "      <td>True</td>\n",
       "      <td>True</td>\n",
       "      <td>True</td>\n",
       "      <td>False</td>\n",
       "      <td>True</td>\n",
       "    </tr>\n",
       "    <tr>\n",
       "      <th>120988</th>\n",
       "      <td>-11.400000</td>\n",
       "      <td>2011-01-01 01:00:00+00:00</td>\n",
       "      <td>2011-01-01 02:00:00+00:00</td>\n",
       "      <td>3.1</td>\n",
       "      <td>3.7</td>\n",
       "      <td>3.8</td>\n",
       "      <td>3.6</td>\n",
       "      <td>3.7</td>\n",
       "      <td>3.4</td>\n",
       "      <td>3.5</td>\n",
       "      <td>...</td>\n",
       "      <td>True</td>\n",
       "      <td>True</td>\n",
       "      <td>True</td>\n",
       "      <td>True</td>\n",
       "      <td>False</td>\n",
       "      <td>True</td>\n",
       "      <td>True</td>\n",
       "      <td>True</td>\n",
       "      <td>True</td>\n",
       "      <td>True</td>\n",
       "    </tr>\n",
       "    <tr>\n",
       "      <th>120989</th>\n",
       "      <td>13.640000</td>\n",
       "      <td>2011-01-01 00:00:00+00:00</td>\n",
       "      <td>2011-01-01 01:00:00+00:00</td>\n",
       "      <td>3.1</td>\n",
       "      <td>3.5</td>\n",
       "      <td>3.9</td>\n",
       "      <td>3.4</td>\n",
       "      <td>3.8</td>\n",
       "      <td>3.4</td>\n",
       "      <td>3.3</td>\n",
       "      <td>...</td>\n",
       "      <td>True</td>\n",
       "      <td>True</td>\n",
       "      <td>True</td>\n",
       "      <td>True</td>\n",
       "      <td>True</td>\n",
       "      <td>True</td>\n",
       "      <td>True</td>\n",
       "      <td>True</td>\n",
       "      <td>True</td>\n",
       "      <td>True</td>\n",
       "    </tr>\n",
       "    <tr>\n",
       "      <th>120990</th>\n",
       "      <td>2.380000</td>\n",
       "      <td>2010-12-31 23:00:00+00:00</td>\n",
       "      <td>2011-01-01 00:00:00+00:00</td>\n",
       "      <td>3.1</td>\n",
       "      <td>3.8</td>\n",
       "      <td>4.1</td>\n",
       "      <td>3.3</td>\n",
       "      <td>3.6</td>\n",
       "      <td>3.8</td>\n",
       "      <td>3.1</td>\n",
       "      <td>...</td>\n",
       "      <td>True</td>\n",
       "      <td>True</td>\n",
       "      <td>True</td>\n",
       "      <td>True</td>\n",
       "      <td>True</td>\n",
       "      <td>True</td>\n",
       "      <td>True</td>\n",
       "      <td>True</td>\n",
       "      <td>True</td>\n",
       "      <td>True</td>\n",
       "    </tr>\n",
       "  </tbody>\n",
       "</table>\n",
       "<p>120991 rows × 471 columns</p>\n",
       "</div>"
      ],
      "text/plain": [
       "        SpotPriceDKK                      from                        to  \\\n",
       "0         291.329987 2024-10-20 05:00:00+00:00 2024-10-20 06:00:00+00:00   \n",
       "1         240.389999 2024-10-20 04:00:00+00:00 2024-10-20 05:00:00+00:00   \n",
       "2         241.880005 2024-10-20 03:00:00+00:00 2024-10-20 04:00:00+00:00   \n",
       "3         444.450012 2024-10-20 02:00:00+00:00 2024-10-20 03:00:00+00:00   \n",
       "4         417.000000 2024-10-20 01:00:00+00:00 2024-10-20 02:00:00+00:00   \n",
       "...              ...                       ...                       ...   \n",
       "120986      2.530000 2011-01-01 03:00:00+00:00 2011-01-01 04:00:00+00:00   \n",
       "120987    -11.400000 2011-01-01 02:00:00+00:00 2011-01-01 03:00:00+00:00   \n",
       "120988    -11.400000 2011-01-01 01:00:00+00:00 2011-01-01 02:00:00+00:00   \n",
       "120989     13.640000 2011-01-01 00:00:00+00:00 2011-01-01 01:00:00+00:00   \n",
       "120990      2.380000 2010-12-31 23:00:00+00:00 2011-01-01 00:00:00+00:00   \n",
       "\n",
       "        mean_temp_Aabenraa  mean_temp_Aalborg  mean_temp_Aarhus  \\\n",
       "0                     12.3               11.9              11.9   \n",
       "1                     12.4               11.7              11.9   \n",
       "2                     12.5               11.4              11.9   \n",
       "3                     12.4               11.4              11.6   \n",
       "4                     12.4               11.8              11.2   \n",
       "...                    ...                ...               ...   \n",
       "120986                 2.7                3.8               3.8   \n",
       "120987                 3.1                3.7               3.7   \n",
       "120988                 3.1                3.7               3.8   \n",
       "120989                 3.1                3.5               3.9   \n",
       "120990                 3.1                3.8               4.1   \n",
       "\n",
       "        mean_temp_Assens  mean_temp_Billund  mean_temp_Brønderslev  \\\n",
       "0                   12.2               12.4                   11.7   \n",
       "1                   12.4               12.4                   11.4   \n",
       "2                   12.5               12.3                   11.3   \n",
       "3                   12.5               12.0                   11.5   \n",
       "4                   12.4               11.7                   12.1   \n",
       "...                  ...                ...                    ...   \n",
       "120986               3.4                3.1                    3.8   \n",
       "120987               3.5                3.6                    3.7   \n",
       "120988               3.6                3.7                    3.4   \n",
       "120989               3.4                3.8                    3.4   \n",
       "120990               3.3                3.6                    3.8   \n",
       "\n",
       "        mean_temp_Esbjerg  ...  wind_dir_W_Syddjurs  wind_dir_W_Sønderborg  \\\n",
       "0                    12.4  ...                False                  False   \n",
       "1                    12.4  ...                False                  False   \n",
       "2                    12.4  ...                False                  False   \n",
       "3                    12.4  ...                False                  False   \n",
       "4                    12.3  ...                False                  False   \n",
       "...                   ...  ...                  ...                    ...   \n",
       "120986                2.9  ...                False                   True   \n",
       "120987                3.0  ...                 True                   True   \n",
       "120988                3.5  ...                 True                   True   \n",
       "120989                3.3  ...                 True                   True   \n",
       "120990                3.1  ...                 True                   True   \n",
       "\n",
       "        wind_dir_W_Thisted  wind_dir_W_Tønder  wind_dir_W_Varde  \\\n",
       "0                    False              False             False   \n",
       "1                    False              False             False   \n",
       "2                    False              False             False   \n",
       "3                    False              False             False   \n",
       "4                    False              False             False   \n",
       "...                    ...                ...               ...   \n",
       "120986                True               True              True   \n",
       "120987                True               True             False   \n",
       "120988                True               True             False   \n",
       "120989                True               True              True   \n",
       "120990                True               True              True   \n",
       "\n",
       "        wind_dir_W_Vejen  wind_dir_W_Vejle  wind_dir_W_Vesthimmerlands  \\\n",
       "0                  False             False                       False   \n",
       "1                  False             False                       False   \n",
       "2                  False             False                       False   \n",
       "3                  False             False                       False   \n",
       "4                  False             False                       False   \n",
       "...                  ...               ...                         ...   \n",
       "120986              True              True                       False   \n",
       "120987              True              True                        True   \n",
       "120988              True              True                        True   \n",
       "120989              True              True                        True   \n",
       "120990              True              True                        True   \n",
       "\n",
       "        wind_dir_W_Viborg  wind_dir_W_Ærø  \n",
       "0                   False           False  \n",
       "1                   False           False  \n",
       "2                   False           False  \n",
       "3                   False           False  \n",
       "4                   False           False  \n",
       "...                   ...             ...  \n",
       "120986              False            True  \n",
       "120987              False            True  \n",
       "120988               True            True  \n",
       "120989               True            True  \n",
       "120990               True            True  \n",
       "\n",
       "[120991 rows x 471 columns]"
      ]
     },
     "metadata": {},
     "output_type": "display_data"
    }
   ],
   "source": [
    "# join on from and HourUTC\n",
    "df = pd.merge(df_energy, df_wide_dk1, left_on=['HourUTC'], right_on=['from'], how='inner').drop(columns=['HourUTC'], axis=1)\n",
    "\n",
    "display(df)"
   ]
  },
  {
   "cell_type": "code",
   "execution_count": 20,
   "metadata": {},
   "outputs": [
    {
     "name": "stdout",
     "output_type": "stream",
     "text": [
      "<class 'pandas.core.frame.DataFrame'>\n",
      "RangeIndex: 120991 entries, 0 to 120990\n",
      "Columns: 471 entries, SpotPriceDKK to wind_dir_W_Ærø\n",
      "dtypes: bool(364), datetime64[ns, UTC](2), float64(105)\n",
      "memory usage: 140.8 MB\n",
      "None\n",
      "Data saved to ../../data/fulldata.csv\n"
     ]
    }
   ],
   "source": [
    "print(df.info())\n",
    "\n",
    "# save the data\n",
    "df.to_csv(path_out, index=False)\n",
    "print(f'Data saved to {path_out}')"
   ]
  }
 ],
 "metadata": {
  "kernelspec": {
   "display_name": "base",
   "language": "python",
   "name": "python3"
  },
  "language_info": {
   "codemirror_mode": {
    "name": "ipython",
    "version": 3
   },
   "file_extension": ".py",
   "mimetype": "text/x-python",
   "name": "python",
   "nbconvert_exporter": "python",
   "pygments_lexer": "ipython3",
   "version": "3.11.8"
  }
 },
 "nbformat": 4,
 "nbformat_minor": 2
}
