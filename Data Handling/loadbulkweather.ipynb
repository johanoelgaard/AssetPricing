{
 "cells": [
  {
   "cell_type": "markdown",
   "metadata": {},
   "source": [
    "Download data from DMI:\n",
    "=========================\n",
    "\n",
    "https://dmigw.govcloud.dk/v2/metObs/bulk/?api-key=d40321ee-7de5-4417-a0bf-108bd34061ab\n",
    "\n",
    "https://dmigw.govcloud.dk/v2/climateData/bulk/?api-key=fa9056ec-2f41-4042-828b-91750e966966\n",
    "\n",
    "This notebook opens and transforms bulk climateData from DMI (Danish Meteorological Institute) into a pandas DataFrame and then saves it as a CSV file for further analysis.\n",
    "\n",
    "_Please note as this is loading the bulk data from DMI when applied to the full dataset it loads >5000 files with >170 gb of data and takes ~25 minutes to run_"
   ]
  },
  {
   "cell_type": "code",
   "execution_count": 6,
   "metadata": {},
   "outputs": [
    {
     "name": "stdout",
     "output_type": "stream",
     "text": [
      "The autoreload extension is already loaded. To reload it, use:\n",
      "  %reload_ext autoreload\n"
     ]
    }
   ],
   "source": [
    "import os\n",
    "import glob\n",
    "import pandas as pd\n",
    "\n",
    "import assetpricing_functions as ap\n",
    "%load_ext autoreload\n",
    "%autoreload 2"
   ]
  },
  {
   "cell_type": "code",
   "execution_count": 2,
   "metadata": {},
   "outputs": [],
   "source": [
    "# api keys for different DMI services\n",
    "forecast_api_key = 'e55dced6-70fb-44f1-a658-cdef62c74b6a'\n",
    "climate_api_key = 'fa9056ec-2f41-4042-828b-91750e966966'\n",
    "metobs_api_key = 'd40321ee-7de5-4417-a0bf-108bd34061ab'"
   ]
  },
  {
   "cell_type": "code",
   "execution_count": 5,
   "metadata": {},
   "outputs": [
    {
     "name": "stdout",
     "output_type": "stream",
     "text": [
      "\n",
      "Started processing 1 files for year 2010.\n",
      "Processed 1/1 files for year 2010.\n",
      "Saved data for year 2010 to /Users/johan/Downloads/weather-out/2010.csv.\n",
      "\n",
      "Started processing 365 files for year 2011.\n",
      "Processed 100/365 files for year 2011.\n",
      "Processed 200/365 files for year 2011.\n",
      "Processed 300/365 files for year 2011.\n",
      "Processed 365/365 files for year 2011.\n",
      "Saved data for year 2011 to /Users/johan/Downloads/weather-out/2011.csv.\n",
      "\n",
      "Started processing 366 files for year 2012.\n",
      "Processed 100/366 files for year 2012.\n",
      "Processed 200/366 files for year 2012.\n",
      "Processed 300/366 files for year 2012.\n",
      "Processed 366/366 files for year 2012.\n",
      "Saved data for year 2012 to /Users/johan/Downloads/weather-out/2012.csv.\n",
      "\n",
      "Started processing 365 files for year 2013.\n",
      "Processed 100/365 files for year 2013.\n",
      "Processed 200/365 files for year 2013.\n",
      "Processed 300/365 files for year 2013.\n",
      "Processed 365/365 files for year 2013.\n",
      "Saved data for year 2013 to /Users/johan/Downloads/weather-out/2013.csv.\n",
      "\n",
      "Started processing 365 files for year 2014.\n",
      "Processed 100/365 files for year 2014.\n",
      "Processed 200/365 files for year 2014.\n",
      "Processed 300/365 files for year 2014.\n",
      "Processed 365/365 files for year 2014.\n",
      "Saved data for year 2014 to /Users/johan/Downloads/weather-out/2014.csv.\n",
      "\n",
      "Started processing 365 files for year 2015.\n",
      "Processed 100/365 files for year 2015.\n",
      "Processed 200/365 files for year 2015.\n",
      "Processed 300/365 files for year 2015.\n",
      "Processed 365/365 files for year 2015.\n",
      "Saved data for year 2015 to /Users/johan/Downloads/weather-out/2015.csv.\n",
      "\n",
      "Started processing 366 files for year 2016.\n",
      "Processed 100/366 files for year 2016.\n",
      "Processed 200/366 files for year 2016.\n",
      "Processed 300/366 files for year 2016.\n",
      "Processed 366/366 files for year 2016.\n",
      "Saved data for year 2016 to /Users/johan/Downloads/weather-out/2016.csv.\n",
      "\n",
      "Started processing 365 files for year 2017.\n",
      "Processed 100/365 files for year 2017.\n",
      "Processed 200/365 files for year 2017.\n",
      "Processed 300/365 files for year 2017.\n",
      "Processed 365/365 files for year 2017.\n",
      "Saved data for year 2017 to /Users/johan/Downloads/weather-out/2017.csv.\n",
      "\n",
      "Started processing 365 files for year 2018.\n",
      "Processed 100/365 files for year 2018.\n",
      "Processed 200/365 files for year 2018.\n",
      "Processed 300/365 files for year 2018.\n",
      "Processed 365/365 files for year 2018.\n",
      "Saved data for year 2018 to /Users/johan/Downloads/weather-out/2018.csv.\n",
      "\n",
      "Started processing 365 files for year 2019.\n",
      "Processed 100/365 files for year 2019.\n",
      "Processed 200/365 files for year 2019.\n",
      "Processed 300/365 files for year 2019.\n",
      "Processed 365/365 files for year 2019.\n",
      "Saved data for year 2019 to /Users/johan/Downloads/weather-out/2019.csv.\n",
      "\n",
      "Started processing 366 files for year 2020.\n",
      "Processed 100/366 files for year 2020.\n",
      "Processed 200/366 files for year 2020.\n",
      "Processed 300/366 files for year 2020.\n",
      "Processed 366/366 files for year 2020.\n",
      "Saved data for year 2020 to /Users/johan/Downloads/weather-out/2020.csv.\n",
      "\n",
      "Started processing 365 files for year 2021.\n",
      "Processed 100/365 files for year 2021.\n",
      "Processed 200/365 files for year 2021.\n",
      "Processed 300/365 files for year 2021.\n",
      "Processed 365/365 files for year 2021.\n",
      "Saved data for year 2021 to /Users/johan/Downloads/weather-out/2021.csv.\n",
      "\n",
      "Started processing 365 files for year 2022.\n",
      "Processed 100/365 files for year 2022.\n",
      "Processed 200/365 files for year 2022.\n",
      "Processed 300/365 files for year 2022.\n",
      "Processed 365/365 files for year 2022.\n",
      "Saved data for year 2022 to /Users/johan/Downloads/weather-out/2022.csv.\n",
      "\n",
      "Started processing 365 files for year 2023.\n",
      "Processed 100/365 files for year 2023.\n",
      "Processed 200/365 files for year 2023.\n",
      "Processed 300/365 files for year 2023.\n",
      "Processed 365/365 files for year 2023.\n",
      "Saved data for year 2023 to /Users/johan/Downloads/weather-out/2023.csv.\n",
      "\n",
      "Started processing 283 files for year 2024.\n",
      "Processed 100/283 files for year 2024.\n",
      "Processed 200/283 files for year 2024.\n",
      "Processed 283/283 files for year 2024.\n",
      "Saved data for year 2024 to /Users/johan/Downloads/weather-out/2024.csv.\n"
     ]
    }
   ],
   "source": [
    "# paths\n",
    "folder_path = '/Users/johan/Downloads/all'  # Update with your folder path\n",
    "output_folder_path = '/Users/johan/Downloads/weather-out'  # Specify your output folder path\n",
    "\n",
    "# run the function\n",
    "ap.process_all_years(folder_path, output_folder_path)"
   ]
  },
  {
   "cell_type": "code",
   "execution_count": 7,
   "metadata": {},
   "outputs": [],
   "source": [
    "# Path to the directory containing CSV files\n",
    "output_folder_path = '/Users/johan/Downloads/weather-out' \n",
    "\n",
    "# List all CSV files in the directory\n",
    "csv_files = glob.glob(os.path.join(output_folder_path, \"*.csv\"))\n",
    "\n",
    "dfs = []\n",
    "for file in csv_files:\n",
    "    df = pd.read_csv(file)\n",
    "    dfs.append(df)"
   ]
  },
  {
   "cell_type": "code",
   "execution_count": 8,
   "metadata": {},
   "outputs": [],
   "source": [
    "# Combine all dataframes into one\n",
    "df_combined = pd.concat(dfs, ignore_index=True)\n",
    "\n",
    "# transform from and to to datetime\n",
    "df_combined['from'] = pd.to_datetime(df_combined['from'])\n",
    "\n",
    "# sort and rebase inde\n",
    "df_combined.sort_values(by=['from', 'cellId'], inplace=True, ascending=True)\n",
    "df_combined.reset_index(drop=True, inplace=True)\n",
    "\n",
    "# save to csv\n",
    "df_combined.to_csv(os.path.join(output_folder_path, 'weather_data.csv'), index=False)"
   ]
  }
 ],
 "metadata": {
  "kernelspec": {
   "display_name": "base",
   "language": "python",
   "name": "python3"
  },
  "language_info": {
   "codemirror_mode": {
    "name": "ipython",
    "version": 3
   },
   "file_extension": ".py",
   "mimetype": "text/x-python",
   "name": "python",
   "nbconvert_exporter": "python",
   "pygments_lexer": "ipython3",
   "version": "3.11.8"
  }
 },
 "nbformat": 4,
 "nbformat_minor": 2
}
