{
 "cells": [
  {
   "cell_type": "markdown",
   "metadata": {},
   "source": [
    "# Evaluation of models predicting the electricity prices"
   ]
  },
  {
   "cell_type": "markdown",
   "metadata": {},
   "source": [
    "Run [SARIMA](SARIMA.ipynb), [SARIMAX](SARIMAX.ipynb), and [LSTM](LSTMmodel.ipynb) models to predict the electricity prices and save forecasts as numpy arrays before running this notebook."
   ]
  },
  {
   "cell_type": "code",
   "execution_count": 1,
   "metadata": {},
   "outputs": [],
   "source": [
    "import pandas as pd\n",
    "import numpy as np\n",
    "from sklearn.metrics import root_mean_squared_error, mean_absolute_error\n",
    "import matplotlib.pyplot as plt\n",
    "import matplotlib.dates as mdates\n",
    "\n",
    "from modelling import *\n",
    "%load_ext autoreload\n",
    "%autoreload 2"
   ]
  },
  {
   "cell_type": "markdown",
   "metadata": {},
   "source": [
    "## Loading the data"
   ]
  },
  {
   "cell_type": "code",
   "execution_count": 2,
   "metadata": {},
   "outputs": [],
   "source": [
    "# path to numpy files\n",
    "sarima = 'output/forecast/forecast_sarima.npy'\n",
    "sarimax = 'output/forecast/forecast_sarimax.npy'\n",
    "lstm = 'output/forecast/forecast_LSTM.npy'\n",
    "data = '../../data/fulldata.csv'\n",
    "\n",
    "# load numpy files\n",
    "sarima_forecast = np.load(sarima)\n",
    "sarimax_forecast = np.load(sarimax)\n",
    "lstm_forecast = np.load(lstm)\n",
    "\n",
    "# load test data and create naive forecast\n",
    "data = pd.read_csv(data)\n",
    "data = data[['SpotPrice', 'from']]\n",
    "data['from'] = pd.to_datetime(data['from'])\n",
    "data = data.set_index('from')\n",
    "data.sort_index(inplace=True)\n",
    "\n",
    "# naive forecast\n",
    "naive = data.shift(24)['SpotPrice'].values\n",
    "\n",
    "# drop old data\n",
    "naive = naive[data.index >= '2024-08-01']\n",
    "data = data[data.index >= '2024-08-01']\n",
    "\n",
    "# create np series\n",
    "actuals = data['SpotPrice'].values\n",
    "\n",
    "# create timestamps for plotting\n",
    "timestamps = data.index.values\n",
    "timestamps = pd.to_datetime(timestamps)"
   ]
  },
  {
   "cell_type": "code",
   "execution_count": 3,
   "metadata": {},
   "outputs": [],
   "source": [
    "_, sarima_mse_p = diebold_mariano_test(actuals, sarima_forecast, naive, loss_function='mse', h=24)\n",
    "_, sarima_mae_p = diebold_mariano_test(actuals, sarima_forecast, naive, loss_function='mae', h=24)\n",
    "_, sarimax_mse_p = diebold_mariano_test(actuals, sarimax_forecast, naive, loss_function='mse', h=24)\n",
    "_, sarimax_mae_p = diebold_mariano_test(actuals, sarimax_forecast, naive, loss_function='mae', h=24)\n",
    "_, lstm_mse_p = diebold_mariano_test(actuals, lstm_forecast, naive, loss_function='mse', h=24)\n",
    "_, lstm_mae_p = diebold_mariano_test(actuals, lstm_forecast, naive, loss_function='mae', h=24)\n",
    "\n",
    "models = [\"Naïve\", \"SARIMA\", \"SARIMAX\", \"LSTM\"]\n",
    "metrics = {\n",
    "    \"RMSE\": [\n",
    "        root_mean_squared_error(actuals, naive),\n",
    "        (root_mean_squared_error(actuals, sarima_forecast), sarima_mse_p),\n",
    "        (root_mean_squared_error(actuals, sarimax_forecast), sarimax_mse_p),\n",
    "        (root_mean_squared_error(actuals, lstm_forecast), lstm_mse_p)\n",
    "    ],\n",
    "    \"MAE\": [\n",
    "        mean_absolute_error(actuals, naive),\n",
    "        (mean_absolute_error(actuals, sarima_forecast), sarima_mae_p),\n",
    "        (mean_absolute_error(actuals, sarimax_forecast), sarimax_mae_p),\n",
    "        (mean_absolute_error(actuals, lstm_forecast), lstm_mae_p)\n",
    "    ]\n",
    "}\n",
    "\n",
    "table = latex_table(models, metrics)\n",
    "\n",
    "with open('output/results.tex', 'w') as f:\n",
    "    f.write(table)"
   ]
  },
  {
   "cell_type": "code",
   "execution_count": 4,
   "metadata": {},
   "outputs": [
    {
     "name": "stdout",
     "output_type": "stream",
     "text": [
      "Plot saved to output/predicted_v_actuals_full.png\n"
     ]
    }
   ],
   "source": [
    "# Ensure timestamps are datetime\n",
    "timestamps = pd.to_datetime(timestamps)\n",
    "\n",
    "# Create a 2x2 grid of subplots\n",
    "fig, axs = plt.subplots(2, 2, figsize=(28, 16))\n",
    "\n",
    "# Define models and their labels/colors\n",
    "models = [\n",
    "    (\"Naïve Forecast\", naive, '#ff7f0e'),\n",
    "    (\"SARIMA Forecast\", sarima_forecast, '#e377c2'),\n",
    "    (\"LSTM Forecast\", lstm_forecast, '#d62728'),\n",
    "    (\"SARIMAX Forecast\", sarimax_forecast, '#bcbd22'),\n",
    "]\n",
    "\n",
    "# Plot each model on its own subplot\n",
    "for ax, (label, model, color) in zip(axs.flat, models):\n",
    "    ax.plot(timestamps, actuals, label='Actual Prices', color='#1f77b4', alpha=0.8, linewidth=3)\n",
    "    ax.plot(timestamps, model, label=label, color = color, alpha=0.7, linewidth=3)\n",
    "    ax.set_ylabel('Spot Price (DKK per MWh)', fontsize=26)\n",
    "    ax.tick_params(axis='both', which='major', labelsize=24)\n",
    "    ax.legend(fontsize=26)\n",
    "    ax.xaxis.set_major_locator(mdates.AutoDateLocator())\n",
    "    ax.xaxis.set_major_formatter(mdates.DateFormatter(\"%b %d, %y\"))\n",
    "    ax.tick_params(axis='x', rotation=45)\n",
    "\n",
    "# Adjust layout to prevent overlap\n",
    "plt.tight_layout()\n",
    "\n",
    "# Save and show the plot\n",
    "plt.savefig('output/predicted_v_actuals_full.png')\n",
    "print('Plot saved to output/predicted_v_actuals_full.png')\n",
    "# plt.show()\n",
    "plt.close()\n"
   ]
  },
  {
   "cell_type": "code",
   "execution_count": 5,
   "metadata": {},
   "outputs": [
    {
     "name": "stdout",
     "output_type": "stream",
     "text": [
      "Forecast plot saved to output/1stweek_forecasts.png\n"
     ]
    }
   ],
   "source": [
    "plot_forecasts(\n",
    "    timestamps=timestamps,\n",
    "    actuals=actuals,\n",
    "    naive=naive,\n",
    "    sarima_forecast=sarima_forecast,\n",
    "    sarimax_forecast=sarimax_forecast,\n",
    "    lstm_forecast=lstm_forecast,\n",
    "    start_datetime=\"2024-08-01 00:00\",\n",
    "    end_datetime=\"2024-08-08 00:00\",\n",
    "    output_path=\"output/1stweek_forecasts.png\",\n",
    "    display_plot=False\n",
    ")\n"
   ]
  },
  {
   "cell_type": "code",
   "execution_count": 6,
   "metadata": {},
   "outputs": [
    {
     "name": "stdout",
     "output_type": "stream",
     "text": [
      "Forecast plot saved to output/low_forecasts.png\n"
     ]
    }
   ],
   "source": [
    "plot_forecasts(\n",
    "    timestamps=timestamps,\n",
    "    actuals=actuals,\n",
    "    naive=naive,\n",
    "    sarima_forecast=sarima_forecast,\n",
    "    sarimax_forecast=sarimax_forecast,\n",
    "    lstm_forecast=lstm_forecast,\n",
    "    start_datetime=\"2024-10-05 00:00\",\n",
    "    end_datetime=\"2024-10-12 00:00\",\n",
    "    output_path=\"output/low_forecasts.png\",\n",
    "    display_plot=False\n",
    ")"
   ]
  },
  {
   "cell_type": "code",
   "execution_count": 7,
   "metadata": {},
   "outputs": [
    {
     "name": "stdout",
     "output_type": "stream",
     "text": [
      "Forecast plot saved to output/difficult_forecasts.png\n"
     ]
    }
   ],
   "source": [
    "plot_forecasts(\n",
    "    timestamps=timestamps,\n",
    "    actuals=actuals,\n",
    "    naive=naive,\n",
    "    sarima_forecast=sarima_forecast,\n",
    "    sarimax_forecast=sarimax_forecast,\n",
    "    lstm_forecast=lstm_forecast,\n",
    "    start_datetime=\"2024-11-03 00:00\",\n",
    "    end_datetime=\"2024-11-10 00:00\",\n",
    "    output_path=\"output/difficult_forecasts.png\",\n",
    "    display_plot=False\n",
    ")"
   ]
  },
  {
   "cell_type": "code",
   "execution_count": 8,
   "metadata": {},
   "outputs": [
    {
     "name": "stdout",
     "output_type": "stream",
     "text": [
      "Scatter plot saved to output/forecast_scatter.png\n"
     ]
    }
   ],
   "source": [
    "plot_forecast_scatter(\n",
    "    actuals=actuals,\n",
    "    naive=naive,\n",
    "    sarima_forecast=sarima_forecast,\n",
    "    sarimax_forecast=sarimax_forecast,\n",
    "    lstm_forecast=lstm_forecast,\n",
    "    output_path=\"output/forecast_scatter.png\",\n",
    "    display_plot=False\n",
    ")\n"
   ]
  }
 ],
 "metadata": {
  "kernelspec": {
   "display_name": "base",
   "language": "python",
   "name": "python3"
  },
  "language_info": {
   "codemirror_mode": {
    "name": "ipython",
    "version": 3
   },
   "file_extension": ".py",
   "mimetype": "text/x-python",
   "name": "python",
   "nbconvert_exporter": "python",
   "pygments_lexer": "ipython3",
   "version": "3.11.8"
  }
 },
 "nbformat": 4,
 "nbformat_minor": 2
}
