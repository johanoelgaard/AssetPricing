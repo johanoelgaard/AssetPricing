{
 "cells": [
  {
   "cell_type": "markdown",
   "metadata": {},
   "source": [
    "# Evaluation of models predicting the electricity prices"
   ]
  },
  {
   "cell_type": "markdown",
   "metadata": {},
   "source": [
    "Run [SARIMA](SARIMA.ipynb), [SARIMAX](SARIMAX.ipynb), and [LSTM](LSTMmodel.ipynb) models to predict the electricity prices and save forecasts as numpy arrays before running this notebook."
   ]
  },
  {
   "cell_type": "code",
   "execution_count": 22,
   "metadata": {},
   "outputs": [
    {
     "name": "stdout",
     "output_type": "stream",
     "text": [
      "The autoreload extension is already loaded. To reload it, use:\n",
      "  %reload_ext autoreload\n"
     ]
    }
   ],
   "source": [
    "import pandas as pd\n",
    "import numpy as np\n",
    "from sklearn.metrics import root_mean_squared_error, mean_absolute_error\n",
    "import matplotlib.pyplot as plt\n",
    "import matplotlib.dates as mdates\n",
    "\n",
    "from modelling import *\n",
    "%load_ext autoreload\n",
    "%autoreload 2"
   ]
  },
  {
   "cell_type": "markdown",
   "metadata": {},
   "source": [
    "## Loading the data"
   ]
  },
  {
   "cell_type": "code",
   "execution_count": 23,
   "metadata": {},
   "outputs": [],
   "source": [
    "# path to numpy files\n",
    "sarima = 'output/forecast/forecast_sarima.npy'\n",
    "sarimax = 'output/forecast/forecast_sarimax.npy'\n",
    "lstm = 'output/forecast/forecast_LSTM.npy'\n",
    "data = '../../data/fulldata.csv'\n",
    "\n",
    "# load numpy files\n",
    "sarima_forecast = np.load(sarima)\n",
    "sarimax_forecast = np.load(sarimax)\n",
    "lstm_forecast = np.load(lstm)\n",
    "\n",
    "# load test data and create naive forecast\n",
    "data = pd.read_csv(data)\n",
    "data = data[['SpotPrice', 'from']]\n",
    "data['from'] = pd.to_datetime(data['from'])\n",
    "data = data.set_index('from')\n",
    "data.sort_index(inplace=True)\n",
    "\n",
    "# naive forecast\n",
    "naive = data.shift(24)['SpotPrice'].values\n",
    "\n",
    "# drop old data\n",
    "naive = naive[data.index >= '2024-08-01']\n",
    "data = data[data.index >= '2024-08-01']\n",
    "\n",
    "# create np series\n",
    "actuals = data['SpotPrice'].values\n",
    "\n",
    "# create timestamps for plotting\n",
    "timestamps = data.index.values\n",
    "timestamps = pd.to_datetime(timestamps)"
   ]
  },
  {
   "cell_type": "code",
   "execution_count": 24,
   "metadata": {},
   "outputs": [],
   "source": [
    "_, sarima_mse_p = diebold_mariano_test(actuals, sarima_forecast, naive, loss_function='mse', h=24)\n",
    "_, sarima_mae_p = diebold_mariano_test(actuals, sarima_forecast, naive, loss_function='mae', h=24)\n",
    "_, sarimax_mse_p = diebold_mariano_test(actuals, sarimax_forecast, naive, loss_function='mse', h=24)\n",
    "_, sarimax_mae_p = diebold_mariano_test(actuals, sarimax_forecast, naive, loss_function='mae', h=24)\n",
    "_, lstm_mse_p = diebold_mariano_test(actuals, lstm_forecast, naive, loss_function='mse', h=24)\n",
    "_, lstm_mae_p = diebold_mariano_test(actuals, lstm_forecast, naive, loss_function='mae', h=24)\n",
    "\n",
    "models = [\"Naive\", \"SARIMA\", \"SARIMAX\", \"LSTM\"]\n",
    "metrics = {\n",
    "    \"RMSE\": [\n",
    "        root_mean_squared_error(actuals, naive),\n",
    "        (root_mean_squared_error(actuals, sarima_forecast), sarima_mse_p),\n",
    "        (root_mean_squared_error(actuals, sarimax_forecast), sarimax_mse_p),\n",
    "        (root_mean_squared_error(actuals, lstm_forecast), lstm_mse_p)\n",
    "    ],\n",
    "    \"MAE\": [\n",
    "        mean_absolute_error(actuals, naive),\n",
    "        (mean_absolute_error(actuals, sarima_forecast), sarima_mae_p),\n",
    "        (mean_absolute_error(actuals, sarimax_forecast), sarimax_mae_p),\n",
    "        (mean_absolute_error(actuals, lstm_forecast), lstm_mae_p)\n",
    "    ]\n",
    "}\n",
    "\n",
    "table = latex_table(models, metrics)\n",
    "\n",
    "with open('output/results.tex', 'w') as f:\n",
    "    f.write(table)"
   ]
  },
  {
   "cell_type": "code",
   "execution_count": 25,
   "metadata": {},
   "outputs": [
    {
     "name": "stdout",
     "output_type": "stream",
     "text": [
      "Plot saved to output/predicted_v_actuals_full.png\n"
     ]
    }
   ],
   "source": [
    "# Ensure timestamps are datetime\n",
    "timestamps = pd.to_datetime(timestamps)\n",
    "\n",
    "# Create a 2x2 grid of subplots\n",
    "fig, axs = plt.subplots(2, 2, figsize=(28, 16))\n",
    "\n",
    "# Define models and their labels/colors\n",
    "models = [\n",
    "    (\"Naive Forecast\", naive, '#ff7f0e'),\n",
    "    (\"SARIMA Forecast\", sarima_forecast, '#e377c2'),\n",
    "    (\"LSTM Forecast\", lstm_forecast, '#d62728'),\n",
    "    (\"SARIMAX Forecast\", sarimax_forecast, '#bcbd22'),\n",
    "]\n",
    "\n",
    "# Plot each model on its own subplot\n",
    "for ax, (label, model, color) in zip(axs.flat, models):\n",
    "    ax.plot(timestamps, actuals, label='Actual Prices', color='#1f77b4', alpha=0.8, linewidth=3)\n",
    "    ax.plot(timestamps, model, label=label, color = color, alpha=0.7, linewidth=3)\n",
    "    ax.set_ylabel('Spot Price (DKK per MWh)', fontsize=26)\n",
    "    ax.tick_params(axis='both', which='major', labelsize=24)\n",
    "    ax.legend(fontsize=26)\n",
    "    ax.xaxis.set_major_locator(mdates.AutoDateLocator())\n",
    "    ax.xaxis.set_major_formatter(mdates.DateFormatter(\"%b %d, %y\"))\n",
    "    ax.tick_params(axis='x', rotation=45)\n",
    "\n",
    "# Adjust layout to prevent overlap\n",
    "plt.tight_layout()\n",
    "\n",
    "# Save and show the plot\n",
    "plt.savefig('output/predicted_v_actuals_full.png')\n",
    "print('Plot saved to output/predicted_v_actuals_full.png')\n",
    "# plt.show()\n",
    "plt.close()\n"
   ]
  },
  {
   "cell_type": "code",
   "execution_count": 26,
   "metadata": {},
   "outputs": [
    {
     "name": "stdout",
     "output_type": "stream",
     "text": [
      "Forecast plot saved to output/1stweek_forecasts.png\n"
     ]
    }
   ],
   "source": [
    "plot_forecasts(\n",
    "    timestamps=timestamps,\n",
    "    actuals=actuals,\n",
    "    naive=naive,\n",
    "    sarima_forecast=sarima_forecast,\n",
    "    sarimax_forecast=sarimax_forecast,\n",
    "    lstm_forecast=lstm_forecast,\n",
    "    start_datetime=\"2024-08-01 00:00\",\n",
    "    end_datetime=\"2024-08-8 00:00\",\n",
    "    output_path=\"output/1stweek_forecasts.png\",\n",
    "    display_plot=False\n",
    ")\n"
   ]
  },
  {
   "cell_type": "code",
   "execution_count": 27,
   "metadata": {},
   "outputs": [
    {
     "name": "stdout",
     "output_type": "stream",
     "text": [
      "Forecast plot saved to output/difficult_forecasts.png\n"
     ]
    }
   ],
   "source": [
    "plot_forecasts(\n",
    "    timestamps=timestamps,\n",
    "    actuals=actuals,\n",
    "    naive=naive,\n",
    "    sarima_forecast=sarima_forecast,\n",
    "    sarimax_forecast=sarimax_forecast,\n",
    "    lstm_forecast=lstm_forecast,\n",
    "    start_datetime=\"2024-11-03 00:00\",\n",
    "    end_datetime=\"2024-11-10 00:00\",\n",
    "    output_path=\"output/difficult_forecasts.png\",\n",
    "    display_plot=False\n",
    ")"
   ]
  },
  {
   "cell_type": "code",
   "execution_count": 28,
   "metadata": {},
   "outputs": [
    {
     "name": "stdout",
     "output_type": "stream",
     "text": [
      "Scatter plot saved to output/forecast_scatter.png\n"
     ]
    }
   ],
   "source": [
    "plot_forecast_scatter(\n",
    "    actuals=actuals,\n",
    "    naive=naive,\n",
    "    sarima_forecast=sarima_forecast,\n",
    "    sarimax_forecast=sarimax_forecast,\n",
    "    lstm_forecast=lstm_forecast,\n",
    "    output_path=\"output/forecast_scatter.png\",\n",
    "    display_plot=False\n",
    ")\n"
   ]
  },
  {
   "cell_type": "code",
   "execution_count": 33,
   "metadata": {},
   "outputs": [],
   "source": [
    "import numpy as np\n",
    "\n",
    "def calculate_daily_metrics(actuals, forecasts, daily_horizon=24):\n",
    "    \"\"\"\n",
    "    Calculates daily RMSE and MAE for a sequence of daily forecasts.\n",
    "    \n",
    "    Args:\n",
    "        actuals (numpy.ndarray): Array of actual values.\n",
    "        forecasts (numpy.ndarray): Array of forecasted values.\n",
    "        daily_horizon (int): Number of time steps in each daily forecast (default is 24 for hourly forecasts).\n",
    "    \n",
    "    Returns:\n",
    "        tuple: Two numpy arrays containing daily RMSE and daily MAE values.\n",
    "    \"\"\"\n",
    "    # Ensure actuals and forecasts are the same length\n",
    "    assert len(actuals) == len(forecasts), \"Actuals and forecasts must have the same length.\"\n",
    "    \n",
    "    # Number of daily forecasts\n",
    "    num_days = len(actuals) // daily_horizon\n",
    "    \n",
    "    # Reshape into daily blocks\n",
    "    actuals_daily = actuals[:num_days * daily_horizon].reshape(num_days, daily_horizon)\n",
    "    forecasts_daily = forecasts[:num_days * daily_horizon].reshape(num_days, daily_horizon)\n",
    "    \n",
    "    # Calculate RMSE and MAE for each day\n",
    "    daily_rmse = np.sqrt(np.mean((actuals_daily - forecasts_daily) ** 2, axis=1))\n",
    "    daily_mae = np.mean(np.abs(actuals_daily - forecasts_daily), axis=1)\n",
    "\n",
    "    return daily_rmse, daily_mae\n",
    "\n"
   ]
  },
  {
   "cell_type": "code",
   "execution_count": 42,
   "metadata": {},
   "outputs": [
    {
     "name": "stdout",
     "output_type": "stream",
     "text": [
      "\n",
      "NAIVE RMSE Statistics:\n",
      "Mean: 316.7349\n",
      "Std: 158.0895\n",
      "Min: 28.2419\n",
      "Max: 763.8354\n",
      "\n",
      "NAIVE MAE Statistics:\n",
      "Mean: 253.9520\n",
      "Std: 142.1265\n",
      "Min: 24.8296\n",
      "Max: 720.0171\n",
      "\n",
      "SARIMA RMSE Statistics:\n",
      "Mean: 285.4829\n",
      "Std: 141.1468\n",
      "Min: 57.3252\n",
      "Max: 771.2680\n",
      "\n",
      "SARIMA MAE Statistics:\n",
      "Mean: 222.4437\n",
      "Std: 112.7717\n",
      "Min: 47.7890\n",
      "Max: 564.8237\n",
      "\n",
      "SARIMAX RMSE Statistics:\n",
      "Mean: 282.6916\n",
      "Std: 135.8206\n",
      "Min: 59.3511\n",
      "Max: 750.7002\n",
      "\n",
      "SARIMAX MAE Statistics:\n",
      "Mean: 224.6852\n",
      "Std: 114.7869\n",
      "Min: 42.9293\n",
      "Max: 586.3808\n",
      "\n",
      "LSTM RMSE Statistics:\n",
      "Mean: 297.2630\n",
      "Std: 128.9752\n",
      "Min: 102.2078\n",
      "Max: 850.2742\n",
      "\n",
      "LSTM MAE Statistics:\n",
      "Mean: 249.2722\n",
      "Std: 106.8776\n",
      "Min: 84.1831\n",
      "Max: 599.6422\n"
     ]
    }
   ],
   "source": [
    "models = ['naive','sarima', 'sarimax', 'lstm']\n",
    "metrics = ['rmse', 'mae']\n",
    "forecasts = {'naive': naive,'sarima': sarima_forecast, 'sarimax': sarimax_forecast, 'lstm': lstm_forecast}\n",
    "\n",
    "daily_metrics = {}\n",
    "stats = {}\n",
    "\n",
    "for model in models:\n",
    "    for metric in metrics:\n",
    "        daily_metrics[f'{model}_{metric}'] = calculate_daily_metrics(actuals, forecasts[model])[0 if metric == 'rmse' else 1]\n",
    "        metric_values = daily_metrics[f'{model}_{metric}']\n",
    "        stats[f'{model}_{metric}_mean'] = np.mean(metric_values)\n",
    "        stats[f'{model}_{metric}_std'] = np.std(metric_values)\n",
    "        stats[f'{model}_{metric}_min'] = np.min(metric_values)\n",
    "        stats[f'{model}_{metric}_max'] = np.max(metric_values)\n",
    "        # Print results\n",
    "        print(f\"\\n{model.upper()} {metric.upper()} Statistics:\")\n",
    "        print(f\"Mean: {stats[f'{model}_{metric}_mean']:.4f}\")\n",
    "        print(f\"Std: {stats[f'{model}_{metric}_std']:.4f}\")\n",
    "        print(f\"Min: {stats[f'{model}_{metric}_min']:.4f}\")\n",
    "        print(f\"Max: {stats[f'{model}_{metric}_max']:.4f}\")"
   ]
  }
 ],
 "metadata": {
  "kernelspec": {
   "display_name": "base",
   "language": "python",
   "name": "python3"
  },
  "language_info": {
   "codemirror_mode": {
    "name": "ipython",
    "version": 3
   },
   "file_extension": ".py",
   "mimetype": "text/x-python",
   "name": "python",
   "nbconvert_exporter": "python",
   "pygments_lexer": "ipython3",
   "version": "3.11.8"
  }
 },
 "nbformat": 4,
 "nbformat_minor": 2
}
