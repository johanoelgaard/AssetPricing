{
 "cells": [
  {
   "cell_type": "markdown",
   "metadata": {},
   "source": [
    "# AI model for predicting the electricity prices"
   ]
  },
  {
   "cell_type": "code",
   "execution_count": 1,
   "metadata": {},
   "outputs": [],
   "source": [
    "import torch\n",
    "import torch.nn as nn\n",
    "import torch.optim as optim\n",
    "from sklearn.model_selection import train_test_split\n",
    "from sklearn.preprocessing import StandardScaler\n",
    "import pandas as pd\n",
    "import numpy as np"
   ]
  },
  {
   "cell_type": "markdown",
   "metadata": {},
   "source": [
    "## Loading the data"
   ]
  },
  {
   "cell_type": "code",
   "execution_count": 2,
   "metadata": {},
   "outputs": [],
   "source": [
    "# path to the CSV file\n",
    "path = '/Users/johan/Downloads/data.csv'\n",
    "\n",
    "df = pd.read_csv(path)"
   ]
  },
  {
   "cell_type": "markdown",
   "metadata": {},
   "source": [
    "## Define the model"
   ]
  },
  {
   "cell_type": "code",
   "execution_count": 3,
   "metadata": {},
   "outputs": [],
   "source": [
    "# Define the Neural Network\n",
    "class PricePredictionModel(nn.Module):\n",
    "    def __init__(self, input_size):\n",
    "        super(PricePredictionModel, self).__init__()\n",
    "        self.fc1 = nn.Linear(input_size, 64)  # First hidden layer\n",
    "        self.fc2 = nn.Linear(64, 32)  # Second hidden layer\n",
    "        self.fc3 = nn.Linear(32, 1)  # Output layer\n",
    "\n",
    "    def forward(self, x):\n",
    "        x = torch.relu(self.fc1(x))  # Activation function for hidden layer 1\n",
    "        x = torch.relu(self.fc2(x))  # Activation function for hidden layer 2\n",
    "        x = self.fc3(x)  # Output layer (no activation for regression)\n",
    "        return x"
   ]
  },
  {
   "cell_type": "markdown",
   "metadata": {},
   "source": [
    "## Setup the structure"
   ]
  },
  {
   "cell_type": "code",
   "execution_count": 7,
   "metadata": {},
   "outputs": [],
   "source": [
    "# Prepare the data\n",
    "# Assuming 'merged_data' is the dataset we already processed\n",
    "X = df.drop(columns=['SpotPriceDKK', 'from', 'to'])  # Features (weather data)\n",
    "y = df['SpotPriceDKK']  # Target (electricity price in DKK)\n",
    "\n",
    "# Standardize the features for better training performance\n",
    "scaler = StandardScaler()\n",
    "X_scaled = scaler.fit_transform(X)\n",
    "\n",
    "# Convert data to PyTorch tensors\n",
    "X_tensor = torch.tensor(X_scaled, dtype=torch.float32)\n",
    "y_tensor = torch.tensor(y.values, dtype=torch.float32).view(-1, 1)\n",
    "\n",
    "# Split the data into training and testing sets\n",
    "X_train, X_test, y_train, y_test = train_test_split(X_tensor, y_tensor, test_size=0.2, random_state=42)\n",
    "\n",
    "# Initialize the model, loss function, and optimizer\n",
    "input_size = X_train.shape[1]\n",
    "model = PricePredictionModel(input_size)\n",
    "\n",
    "criterion = nn.MSELoss()  # Mean Squared Error for regression\n",
    "optimizer = optim.Adam(model.parameters(), lr=0.001)\n"
   ]
  },
  {
   "cell_type": "markdown",
   "metadata": {},
   "source": [
    "## Train model"
   ]
  },
  {
   "cell_type": "code",
   "execution_count": 13,
   "metadata": {},
   "outputs": [
    {
     "name": "stdout",
     "output_type": "stream",
     "text": [
      "Epoch [100/10000], Loss: 67839.2266\n",
      "Epoch [200/10000], Loss: 66245.0547\n",
      "Epoch [300/10000], Loss: 64774.5469\n",
      "Epoch [400/10000], Loss: 63481.2969\n",
      "Epoch [500/10000], Loss: 62207.6523\n",
      "Epoch [600/10000], Loss: 60956.3242\n",
      "Epoch [700/10000], Loss: 59862.3516\n",
      "Epoch [800/10000], Loss: 58853.3125\n",
      "Epoch [900/10000], Loss: 57833.0977\n",
      "Epoch [1000/10000], Loss: 56959.8125\n",
      "Epoch [1100/10000], Loss: 55998.0352\n",
      "Epoch [1200/10000], Loss: 55353.6602\n",
      "Epoch [1300/10000], Loss: 54397.4336\n",
      "Epoch [1400/10000], Loss: 53760.8672\n",
      "Epoch [1500/10000], Loss: 53019.3867\n",
      "Epoch [1600/10000], Loss: 52348.0703\n",
      "Epoch [1700/10000], Loss: 51709.7734\n",
      "Epoch [1800/10000], Loss: 51104.4727\n",
      "Epoch [1900/10000], Loss: 50442.1562\n",
      "Epoch [2000/10000], Loss: 49921.4414\n",
      "Epoch [2100/10000], Loss: 49292.2461\n",
      "Epoch [2200/10000], Loss: 48775.2734\n",
      "Epoch [2300/10000], Loss: 48350.0977\n",
      "Epoch [2400/10000], Loss: 47839.5156\n",
      "Epoch [2500/10000], Loss: 47370.7461\n",
      "Epoch [2600/10000], Loss: 46848.8281\n",
      "Epoch [2700/10000], Loss: 46455.7422\n",
      "Epoch [2800/10000], Loss: 46171.4531\n",
      "Epoch [2900/10000], Loss: 45597.1523\n",
      "Epoch [3000/10000], Loss: 45202.2305\n",
      "Epoch [3100/10000], Loss: 44772.0508\n",
      "Epoch [3200/10000], Loss: 44382.8867\n",
      "Epoch [3300/10000], Loss: 44236.9141\n",
      "Epoch [3400/10000], Loss: 43692.2227\n",
      "Epoch [3500/10000], Loss: 43335.9062\n",
      "Epoch [3600/10000], Loss: 42992.8555\n",
      "Epoch [3700/10000], Loss: 42728.7891\n",
      "Epoch [3800/10000], Loss: 42370.5938\n",
      "Epoch [3900/10000], Loss: 42119.8164\n",
      "Epoch [4000/10000], Loss: 41848.0312\n",
      "Epoch [4100/10000], Loss: 41470.6211\n",
      "Epoch [4200/10000], Loss: 41192.0859\n",
      "Epoch [4300/10000], Loss: 40961.8203\n",
      "Epoch [4400/10000], Loss: 40678.2812\n",
      "Epoch [4500/10000], Loss: 40320.0469\n",
      "Epoch [4600/10000], Loss: 40064.2578\n",
      "Epoch [4700/10000], Loss: 39841.4375\n",
      "Epoch [4800/10000], Loss: 39827.8867\n",
      "Epoch [4900/10000], Loss: 39375.4844\n",
      "Epoch [5000/10000], Loss: 39136.8320\n",
      "Epoch [5100/10000], Loss: 38938.6836\n",
      "Epoch [5200/10000], Loss: 38693.4297\n",
      "Epoch [5300/10000], Loss: 38401.0586\n",
      "Epoch [5400/10000], Loss: 38293.4102\n",
      "Epoch [5500/10000], Loss: 38085.0625\n",
      "Epoch [5600/10000], Loss: 37803.0000\n",
      "Epoch [5700/10000], Loss: 37552.0703\n",
      "Epoch [5800/10000], Loss: 37505.1719\n",
      "Epoch [5900/10000], Loss: 37233.1328\n",
      "Epoch [6000/10000], Loss: 37063.7148\n",
      "Epoch [6100/10000], Loss: 36772.4688\n",
      "Epoch [6200/10000], Loss: 36711.8555\n",
      "Epoch [6300/10000], Loss: 36480.2109\n",
      "Epoch [6400/10000], Loss: 36279.5352\n",
      "Epoch [6500/10000], Loss: 36140.0273\n",
      "Epoch [6600/10000], Loss: 35993.8242\n",
      "Epoch [6700/10000], Loss: 35771.9180\n",
      "Epoch [6800/10000], Loss: 35592.1211\n",
      "Epoch [6900/10000], Loss: 35615.5352\n",
      "Epoch [7000/10000], Loss: 35212.8164\n",
      "Epoch [7100/10000], Loss: 35336.8008\n",
      "Epoch [7200/10000], Loss: 34974.9102\n",
      "Epoch [7300/10000], Loss: 35033.1836\n",
      "Epoch [7400/10000], Loss: 34645.6133\n",
      "Epoch [7500/10000], Loss: 34524.0820\n",
      "Epoch [7600/10000], Loss: 34519.3086\n",
      "Epoch [7700/10000], Loss: 34333.6875\n",
      "Epoch [7800/10000], Loss: 34034.5430\n",
      "Epoch [7900/10000], Loss: 34018.6016\n",
      "Epoch [8000/10000], Loss: 34040.6523\n",
      "Epoch [8100/10000], Loss: 33645.6445\n",
      "Epoch [8200/10000], Loss: 33550.5039\n",
      "Epoch [8300/10000], Loss: 33771.3125\n",
      "Epoch [8400/10000], Loss: 33378.6367\n",
      "Epoch [8500/10000], Loss: 33138.5430\n",
      "Epoch [8600/10000], Loss: 33043.7070\n",
      "Epoch [8700/10000], Loss: 32939.2148\n",
      "Epoch [8800/10000], Loss: 32894.8320\n",
      "Epoch [8900/10000], Loss: 32695.5469\n",
      "Epoch [9000/10000], Loss: 32724.8320\n",
      "Epoch [9100/10000], Loss: 32586.8027\n",
      "Epoch [9200/10000], Loss: 32374.2285\n",
      "Epoch [9300/10000], Loss: 32180.6465\n",
      "Epoch [9400/10000], Loss: 32094.5645\n",
      "Epoch [9500/10000], Loss: 31952.3418\n",
      "Epoch [9600/10000], Loss: 32001.4297\n",
      "Epoch [9700/10000], Loss: 31764.5430\n",
      "Epoch [9800/10000], Loss: 31704.2422\n",
      "Epoch [9900/10000], Loss: 31607.3848\n",
      "Epoch [10000/10000], Loss: 31490.2207\n"
     ]
    }
   ],
   "source": [
    "# Train the model\n",
    "num_epochs = 5000\n",
    "for epoch in range(num_epochs):\n",
    "    model.train()\n",
    "    \n",
    "    # Forward pass\n",
    "    outputs = model(X_train)\n",
    "    loss = criterion(outputs, y_train)\n",
    "    \n",
    "    # Backward pass and optimization\n",
    "    optimizer.zero_grad()\n",
    "    loss.backward()\n",
    "    optimizer.step()\n",
    "    \n",
    "    # Print loss every 10 epochs\n",
    "    if (epoch+1) % 100 == 0:\n",
    "        print(f'Epoch [{epoch+1}/{num_epochs}], Loss: {loss.item():.4f}')"
   ]
  },
  {
   "cell_type": "code",
   "execution_count": 14,
   "metadata": {},
   "outputs": [
    {
     "name": "stdout",
     "output_type": "stream",
     "text": [
      "Test Loss: 232209.4219\n"
     ]
    }
   ],
   "source": [
    "# Evaluate the model\n",
    "model.eval()\n",
    "with torch.no_grad():\n",
    "    predicted = model(X_test)\n",
    "    test_loss = criterion(predicted, y_test)\n",
    "    print(f'Test Loss: {test_loss.item():.4f}')"
   ]
  },
  {
   "cell_type": "code",
   "execution_count": 3,
   "metadata": {},
   "outputs": [],
   "source": [
    "# Step 2: Define the LSTM Model\n",
    "class LSTMPricePrediction(nn.Module):\n",
    "    def __init__(self, input_size, hidden_size, num_layers):\n",
    "        super(LSTMPricePrediction, self).__init__()\n",
    "        self.lstm = nn.LSTM(input_size, hidden_size, num_layers, batch_first=True)\n",
    "        self.fc = nn.Linear(hidden_size, 1)  # Output layer to predict price\n",
    "        \n",
    "    def forward(self, x):\n",
    "        h_0 = torch.zeros(1, x.size(0), hidden_size)  # Initialize hidden state\n",
    "        c_0 = torch.zeros(1, x.size(0), hidden_size)  # Initialize cell state\n",
    "        \n",
    "        # Forward propagate through LSTM\n",
    "        output, (hn, cn) = self.lstm(x, (h_0, c_0))  # Output is the sequence of hidden states\n",
    "        \n",
    "        # Only take the last output for prediction (many-to-one)\n",
    "        last_output = output[:, -1, :]\n",
    "        \n",
    "        # Pass through the fully connected layer\n",
    "        out = self.fc(last_output)\n",
    "        return out"
   ]
  },
  {
   "cell_type": "code",
   "execution_count": 4,
   "metadata": {},
   "outputs": [],
   "source": [
    "# Step 1: Prepare the Data\n",
    "# Define the input features (weather data + past prices) and the target (price)\n",
    "features = df.drop(columns=['SpotPriceDKK', 'from', 'to'])  # Features (weather data)\n",
    "target = df['SpotPriceDKK']  # Target (electricity price in DKK)\n",
    "\n",
    "\n",
    "# Normalize the features\n",
    "scaler = StandardScaler()\n",
    "features_scaled = scaler.fit_transform(features)\n",
    "\n",
    "# Create sequences of past data to feed into the RNN/LSTM\n",
    "def create_sequences(data, target, sequence_length):\n",
    "    X, y = [], []\n",
    "    for i in range(len(data) - sequence_length):\n",
    "        X.append(data[i:i+sequence_length])\n",
    "        y.append(target[i+sequence_length])\n",
    "    return np.array(X), np.array(y)\n",
    "\n",
    "# Define the sequence length (e.g., past 24 hours)\n",
    "sequence_length = 24\n",
    "\n",
    "# Create sequences for the LSTM\n",
    "X, y = create_sequences(features_scaled, target.values, sequence_length)\n",
    "\n",
    "# Convert to PyTorch tensors\n",
    "X_tensor = torch.tensor(X, dtype=torch.float32)\n",
    "y_tensor = torch.tensor(y, dtype=torch.float32).view(-1, 1)\n",
    "\n",
    "# Split into training and test sets\n",
    "X_train, X_test, y_train, y_test = train_test_split(X_tensor, y_tensor, test_size=0.2, random_state=42)\n",
    "\n",
    "\n",
    "# Hyperparameters\n",
    "input_size = X_train.shape[2]  # Number of features per time step\n",
    "hidden_size = 64  # Number of LSTM units\n",
    "num_layers = 1  # Number of LSTM layers\n",
    "\n",
    "# Initialize the model, loss function, and optimizer\n",
    "model = LSTMPricePrediction(input_size, hidden_size, num_layers)\n",
    "criterion = nn.MSELoss()  # Mean Squared Error for regression\n",
    "optimizer = optim.Adam(model.parameters(), lr=0.001)"
   ]
  },
  {
   "cell_type": "code",
   "execution_count": 5,
   "metadata": {},
   "outputs": [
    {
     "name": "stdout",
     "output_type": "stream",
     "text": [
      "Epoch [10/100], Loss: 533235.3125\n",
      "Epoch [20/100], Loss: 532290.7500\n",
      "Epoch [30/100], Loss: 531502.8125\n",
      "Epoch [40/100], Loss: 530747.5625\n",
      "Epoch [50/100], Loss: 529998.6250\n",
      "Epoch [60/100], Loss: 529231.8750\n",
      "Epoch [70/100], Loss: 528408.4375\n",
      "Epoch [80/100], Loss: 527477.5000\n",
      "Epoch [90/100], Loss: 526312.9375\n",
      "Epoch [100/100], Loss: 525094.9375\n"
     ]
    }
   ],
   "source": [
    "# Step 3: Train the model\n",
    "num_epochs = 100\n",
    "for epoch in range(num_epochs):\n",
    "    model.train()\n",
    "    \n",
    "    # Forward pass\n",
    "    outputs = model(X_train)\n",
    "    loss = criterion(outputs, y_train)\n",
    "    \n",
    "    # Backward pass and optimization\n",
    "    optimizer.zero_grad()\n",
    "    loss.backward()\n",
    "    optimizer.step()\n",
    "    \n",
    "    # Print loss every 10 epochs\n",
    "    if (epoch+1) % 10 == 0:\n",
    "        print(f'Epoch [{epoch+1}/{num_epochs}], Loss: {loss.item():.4f}')\n"
   ]
  },
  {
   "cell_type": "code",
   "execution_count": 6,
   "metadata": {},
   "outputs": [
    {
     "name": "stdout",
     "output_type": "stream",
     "text": [
      "Test Loss: 519009.5625\n"
     ]
    }
   ],
   "source": [
    "\n",
    "# Step 4: Evaluate the model\n",
    "model.eval()\n",
    "with torch.no_grad():\n",
    "    predicted = model(X_test)\n",
    "    test_loss = criterion(predicted, y_test)\n",
    "    print(f'Test Loss: {test_loss.item():.4f}')"
   ]
  },
  {
   "cell_type": "code",
   "execution_count": 7,
   "metadata": {},
   "outputs": [
    {
     "data": {
      "image/png": "[encoded data removed]",
      "text/plain": [
       "<Figure size 1000x600 with 1 Axes>"
      ]
     },
     "metadata": {},
     "output_type": "display_data"
    }
   ],
   "source": [
    "import matplotlib.pyplot as plt\n",
    "\n",
    "# Step 1: Evaluate the model and make predictions\n",
    "model.eval()\n",
    "with torch.no_grad():\n",
    "    predicted = model(X_test).numpy()  # Convert predictions to NumPy array\n",
    "    actual = y_test.numpy()  # Convert actual values to NumPy array\n",
    "\n",
    "# Step 2: Plot predictions vs actual prices\n",
    "plt.figure(figsize=(10, 6))\n",
    "\n",
    "# Plot actual prices\n",
    "plt.plot(actual, label='Actual Prices', color='blue', linewidth=2)\n",
    "\n",
    "# Plot predicted prices\n",
    "plt.plot(predicted, label='Predicted Prices', color='red', linestyle='--', linewidth=2)\n",
    "\n",
    "# Add title and labels\n",
    "plt.title('Actual vs Predicted Electricity Prices')\n",
    "plt.xlabel('Samples')\n",
    "plt.ylabel('Price (DKK)')\n",
    "plt.legend()\n",
    "\n",
    "# Show the plot\n",
    "plt.show()"
   ]
  }
 ],
 "metadata": {
  "kernelspec": {
   "display_name": "base",
   "language": "python",
   "name": "python3"
  },
  "language_info": {
   "codemirror_mode": {
    "name": "ipython",
    "version": 3
   },
   "file_extension": ".py",
   "mimetype": "text/x-python",
   "name": "python",
   "nbconvert_exporter": "python",
   "pygments_lexer": "ipython3",
   "version": "3.11.8"
  }
 },
 "nbformat": 4,
 "nbformat_minor": 2
}
