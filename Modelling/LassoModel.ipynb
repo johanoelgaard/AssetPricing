{
 "cells": [
  {
   "cell_type": "markdown",
   "metadata": {},
   "source": [
    "# Lasso model for high dimensional data"
   ]
  },
  {
   "cell_type": "code",
   "execution_count": 1,
   "metadata": {},
   "outputs": [],
   "source": [
    "import pandas as pd \n",
    "import numpy as np \n",
    "import sklearn.linear_model as lm\n",
    "from sklearn.preprocessing import PolynomialFeatures\n",
    "\n",
    "import LassoFunctions as lf\n",
    "%load_ext autoreload\n",
    "%autoreload 2"
   ]
  },
  {
   "cell_type": "markdown",
   "metadata": {},
   "source": [
    "## Read data "
   ]
  },
  {
   "cell_type": "code",
   "execution_count": 17,
   "metadata": {},
   "outputs": [
    {
     "name": "stdout",
     "output_type": "stream",
     "text": [
      "The data contains 120523 rows (hours) and 471 columns (variables)\n"
     ]
    }
   ],
   "source": [
    "path = '/Users/johan/Documents/04 Div Uni/09 Asset Pricing Data/data.csv'\n",
    "dat = pd.read_csv(path, low_memory=False)\n",
    "\n",
    "print(f'The data contains {dat.shape[0]} rows (hours) and {dat.shape[1]} columns (variables)')"
   ]
  },
  {
   "cell_type": "code",
   "execution_count": 26,
   "metadata": {},
   "outputs": [
    {
     "data": {
      "text/plain": [
       "array([True, False, nan], dtype=object)"
      ]
     },
     "execution_count": 26,
     "metadata": {},
     "output_type": "execute_result"
    }
   ],
   "source": [
    "dat.iloc[:,113].unique()"
   ]
  },
  {
   "cell_type": "code",
   "execution_count": 18,
   "metadata": {},
   "outputs": [
    {
     "name": "stderr",
     "output_type": "stream",
     "text": [
      "/var/folders/yw/jsw5n53s1cb1s2q6tt0msrm00000gn/T/ipykernel_33339/454117136.py:3: FutureWarning: Series.__getitem__ treating keys as positions is deprecated. In a future version, integer keys will always be treated as labels (consistent with DataFrame behavior). To access a value by position, use `ser.iloc[pos]`\n",
      "  if isinstance(row[113], float):  # Column index 112 corresponds to column 113 (0-based index)\n"
     ]
    },
    {
     "name": "stdout",
     "output_type": "stream",
     "text": [
      "Row 57497 with float value in column 113: nan\n"
     ]
    },
    {
     "name": "stderr",
     "output_type": "stream",
     "text": [
      "/var/folders/yw/jsw5n53s1cb1s2q6tt0msrm00000gn/T/ipykernel_33339/454117136.py:4: FutureWarning: Series.__getitem__ treating keys as positions is deprecated. In a future version, integer keys will always be treated as labels (consistent with DataFrame behavior). To access a value by position, use `ser.iloc[pos]`\n",
      "  print(f\"Row {index} with float value in column 113: {row[113]}\")\n"
     ]
    }
   ],
   "source": [
    "# Assuming df is your DataFrame\n",
    "for index, row in dat.iterrows():\n",
    "    if isinstance(row[113], float):  # Column index 112 corresponds to column 113 (0-based index)\n",
    "        print(f\"Row {index} with float value in column 113: {row[113]}\")\n",
    "        break"
   ]
  },
  {
   "cell_type": "code",
   "execution_count": 19,
   "metadata": {},
   "outputs": [
    {
     "name": "stderr",
     "output_type": "stream",
     "text": [
      "/var/folders/yw/jsw5n53s1cb1s2q6tt0msrm00000gn/T/ipykernel_33339/1842265228.py:3: FutureWarning: Series.__getitem__ treating keys as positions is deprecated. In a future version, integer keys will always be treated as labels (consistent with DataFrame behavior). To access a value by position, use `ser.iloc[pos]`\n",
      "  if isinstance(row[113], float):  # Column index 112 corresponds to column 113 (0-based index)\n"
     ]
    },
    {
     "name": "stdout",
     "output_type": "stream",
     "text": [
      "Row 57497 with float value in column 113: nan\n",
      "SpotPriceDKK                                 218.339996\n",
      "from                          2018-03-11 07:00:00+00:00\n",
      "to                            2018-03-11 08:00:00+00:00\n",
      "mean_temp_Aabenraa                                  2.6\n",
      "mean_temp_Aalborg                                  -0.6\n",
      "                                        ...            \n",
      "wind_dir_W_Vejen                                  False\n",
      "wind_dir_W_Vejle                                  False\n",
      "wind_dir_W_Vesthimmerlands                        False\n",
      "wind_dir_W_Viborg                                 False\n",
      "wind_dir_W_Ærø                                    False\n",
      "Name: 57497, Length: 471, dtype: object\n"
     ]
    },
    {
     "name": "stderr",
     "output_type": "stream",
     "text": [
      "/var/folders/yw/jsw5n53s1cb1s2q6tt0msrm00000gn/T/ipykernel_33339/1842265228.py:4: FutureWarning: Series.__getitem__ treating keys as positions is deprecated. In a future version, integer keys will always be treated as labels (consistent with DataFrame behavior). To access a value by position, use `ser.iloc[pos]`\n",
      "  print(f\"Row {index} with float value in column 113: {row[113]}\")\n"
     ]
    }
   ],
   "source": [
    "# Assuming df is your DataFrame\n",
    "for index, row in dat.iterrows():\n",
    "    if isinstance(row[113], float):  # Column index 112 corresponds to column 113 (0-based index)\n",
    "        print(f\"Row {index} with float value in column 113: {row[113]}\")\n",
    "        print(row)\n",
    "        break"
   ]
  },
  {
   "cell_type": "markdown",
   "metadata": {},
   "source": [
    "# Variable Selection\n",
    "\n",
    "We select the following variables for our analysis:"
   ]
  },
  {
   "cell_type": "code",
   "execution_count": null,
   "metadata": {},
   "outputs": [
    {
     "name": "stdout",
     "output_type": "stream",
     "text": [
      "Number of control variables before added interaction and squared terms: 45\n"
     ]
    }
   ],
   "source": [
    "# control variables\n",
    "\n",
    "\n",
    "\n",
    "ds = ['lgdp_initial']\n",
    "\n",
    "# all RHS variables\n",
    "xs = ds + zs\n",
    "\n",
    "# LHS variable\n",
    "ys = ['gdp_growth']\n",
    "\n",
    "# avoiding missings\n",
    "all_vars = ys + xs\n",
    "I = dat[all_vars].notnull().all(1)\n",
    "\n",
    "# print number of control variables\n",
    "print(f'Number of control variables before added interaction and squared terms: {len(zs)}')"
   ]
  },
  {
   "cell_type": "code",
   "execution_count": null,
   "metadata": {},
   "outputs": [
    {
     "name": "stdout",
     "output_type": "stream",
     "text": [
      "Number of control variables in Z: 1064\n"
     ]
    }
   ],
   "source": [
    "# Create interaction terms in control variables using PolynomialFeatures\n",
    "poly = PolynomialFeatures(degree=2, include_bias=True) # set to 1 for no interaction terms set to 2 for interaction terms and squared terms\n",
    "Z_base = dat.loc[I, zs].values\n",
    "Z = poly.fit_transform(Z_base)\n",
    "Z_names = poly.get_feature_names_out(input_features=zs)\n",
    "\n",
    "Z_df = pd.DataFrame(Z, columns=Z_names)\n",
    "\n",
    "# dropping columns if there is no variation\n",
    "Z_df = Z_df.loc[:, Z_df.std() > 0].reset_index(drop=True)\n",
    "Z = Z_df.values\n",
    "Z_names = Z_df.columns\n",
    "print(f'Number of control variables in Z: {Z.shape[1]}')\n",
    "\n",
    "\n",
    "d = dat.loc[I, ds].values.reshape(-1, 1)\n",
    "X = np.hstack((d,Z))\n",
    "X_names = pd.Index(ds + list(Z_df.columns))\n",
    "y = dat.loc[I, ys].values.reshape(-1, 1)*100 # easier to interpret coefficients in %"
   ]
  },
  {
   "cell_type": "code",
   "execution_count": 5,
   "metadata": {},
   "outputs": [
    {
     "name": "stdout",
     "output_type": "stream",
     "text": [
      "The final dataset contains 84 countries and 1064 control variables\n"
     ]
    }
   ],
   "source": [
    "X_stan=lf.standardize(X)\n",
    "Z_stan=lf.standardize(Z)\n",
    "d_stan=lf.standardize(d)\n",
    "\n",
    "N = X.shape[0]\n",
    "\n",
    "print(f'The final dataset contains {Z_stan.shape[0]} countries and {Z_stan.shape[1]} control variables')"
   ]
  },
  {
   "cell_type": "markdown",
   "metadata": {},
   "source": [
    "# Post Double Lasso"
   ]
  },
  {
   "cell_type": "markdown",
   "metadata": {},
   "source": [
    "## BRT"
   ]
  },
  {
   "cell_type": "code",
   "execution_count": 6,
   "metadata": {},
   "outputs": [
    {
     "name": "stdout",
     "output_type": "stream",
     "text": [
      "Max term:  0.99\n",
      "Penalty_BRT:  0.71\n"
     ]
    }
   ],
   "source": [
    "# calculate first penalty\n",
    "penalty_BRTyx = lf.brt_pen(X_stan,y, do_print=True)"
   ]
  },
  {
   "cell_type": "code",
   "execution_count": 7,
   "metadata": {},
   "outputs": [
    {
     "name": "stdout",
     "output_type": "stream",
     "text": [
      "Selected varriables:  ['cenlong pother', 'asia pother']\n"
     ]
    }
   ],
   "source": [
    "# run first lasso\n",
    "fit_BRTyx = lm.Lasso(alpha=penalty_BRTyx).fit(X_stan, y)\n",
    "coefs = fit_BRTyx.coef_\n",
    "\n",
    "# calculate residuals\n",
    "resyx = y - fit_BRTyx.predict(X_stan).reshape(-1,1)\n",
    "resyxz = resyx + d_stan * coefs[0]\n",
    "\n",
    "# Selected variables\n",
    "selected_variables_BRT_first = (coefs!=0)\n",
    "print('Selected varriables: ', X_names[selected_variables_BRT_first].to_list())"
   ]
  },
  {
   "cell_type": "code",
   "execution_count": 8,
   "metadata": {},
   "outputs": [
    {
     "name": "stdout",
     "output_type": "stream",
     "text": [
      "Max term:  0.99\n",
      "Penalty_BRT:  0.67\n"
     ]
    }
   ],
   "source": [
    "# calculate second penalty\n",
    "penalty_BRTdz = lf.brt_pen(Z_stan,d, do_print=True)"
   ]
  },
  {
   "cell_type": "code",
   "execution_count": 9,
   "metadata": {},
   "outputs": [
    {
     "name": "stdout",
     "output_type": "stream",
     "text": [
      "Selected varriables:  ['abslat demreg', 'uvdamage pdiv']\n"
     ]
    }
   ],
   "source": [
    "# run second lasso\n",
    "fit_BRTdz = lm.Lasso(alpha=penalty_BRTdz).fit(Z_stan, d)\n",
    "coefs = fit_BRTdz.coef_\n",
    "\n",
    "# calculate residuals\n",
    "resdz = d - fit_BRTdz.predict(Z_stan).reshape(-1,1)\n",
    "\n",
    "# Selected variables\n",
    "selected_variables_BRT_second = (coefs!=0)\n",
    "print('Selected varriables: ', Z_names[selected_variables_BRT_second].to_list())"
   ]
  },
  {
   "cell_type": "code",
   "execution_count": 10,
   "metadata": {},
   "outputs": [
    {
     "name": "stdout",
     "output_type": "stream",
     "text": [
      "alpha PDL:  -0.213281\n",
      "Standard error PDL:  0.166696\n"
     ]
    }
   ],
   "source": [
    "# finding alpha\n",
    "resid_BRT = {'resyx': resyx, 'resdz': resdz, 'resyxz': resyxz}\n",
    "alpha_BRT = lf.alpha_pdl(resid_BRT, d, do_print=True)\n",
    "\n",
    "# finding standard errors\n",
    "se_BRT = lf.se_pdl(resid_BRT, do_print=True)[0]"
   ]
  },
  {
   "cell_type": "markdown",
   "metadata": {},
   "source": [
    "## BCCH"
   ]
  },
  {
   "cell_type": "code",
   "execution_count": 11,
   "metadata": {},
   "outputs": [
    {
     "name": "stdout",
     "output_type": "stream",
     "text": [
      "Penalty_BCCH:  2.82\n"
     ]
    }
   ],
   "source": [
    "# calculate first penalty\n",
    "penalty_BCCHyx = lf.bcch_pen(X_stan, y, do_print=True)"
   ]
  },
  {
   "cell_type": "code",
   "execution_count": 12,
   "metadata": {},
   "outputs": [
    {
     "name": "stdout",
     "output_type": "stream",
     "text": [
      "Selected varriables:  []\n"
     ]
    }
   ],
   "source": [
    "# run first lasso\n",
    "fit_BCCHyx = lm.Lasso(alpha=penalty_BCCHyx).fit(X_stan, y)\n",
    "coefs = fit_BCCHyx.coef_\n",
    "\n",
    "# calculate residuals\n",
    "resyx = y - fit_BCCHyx.predict(X_stan).reshape(-1,1)\n",
    "resyxz = resyx + d_stan * coefs[0]\n",
    "\n",
    "# Selected variables\n",
    "selected_variables_BCCH_first = (coefs!=0)\n",
    "print('Selected varriables: ', X_names[selected_variables_BCCH_first].to_list())"
   ]
  },
  {
   "cell_type": "code",
   "execution_count": 13,
   "metadata": {},
   "outputs": [
    {
     "name": "stdout",
     "output_type": "stream",
     "text": [
      "Penalty_BCCH:  1.31\n"
     ]
    }
   ],
   "source": [
    "# calculate second penalty\n",
    "penalty_BCCHdz = lf.bcch_pen(Z_stan,d, do_print=True)"
   ]
  },
  {
   "cell_type": "code",
   "execution_count": 14,
   "metadata": {},
   "outputs": [
    {
     "name": "stdout",
     "output_type": "stream",
     "text": [
      "Selected varriables:  []\n"
     ]
    }
   ],
   "source": [
    "# run second lasso\n",
    "fit_BCCHdz = lm.Lasso(alpha=penalty_BCCHdz).fit(Z_stan, d)\n",
    "coefs = fit_BCCHdz.coef_\n",
    "\n",
    "# calculate residuals\n",
    "resdz = d - fit_BCCHdz.predict(Z_stan).reshape(-1,1)\n",
    "\n",
    "# Selected variables\n",
    "selected_variables_BCCH_second = (coefs!=0)\n",
    "print('Selected varriables: ', Z_names[selected_variables_BCCH_second].to_list())"
   ]
  },
  {
   "cell_type": "code",
   "execution_count": 15,
   "metadata": {},
   "outputs": [
    {
     "name": "stdout",
     "output_type": "stream",
     "text": [
      "alpha PDL:  -0.128434\n",
      "Standard error PDL:  0.122495\n"
     ]
    }
   ],
   "source": [
    "# calculate alpha\n",
    "resid_BCCH = {'resyx': resyx, 'resdz': resdz, 'resyxz': resyxz}\n",
    "alpha_BCCH = lf.alpha_pdl(resid_BCCH, d, do_print=True)\n",
    "\n",
    "# finding standard errors\n",
    "se_BCCH = lf.se_pdl(resid_BCCH, do_print=True)[0]"
   ]
  },
  {
   "cell_type": "markdown",
   "metadata": {},
   "source": [
    "## Gathering results"
   ]
  },
  {
   "cell_type": "markdown",
   "metadata": {},
   "source": [
    "### Results"
   ]
  },
  {
   "cell_type": "code",
   "execution_count": 16,
   "metadata": {},
   "outputs": [
    {
     "name": "stdout",
     "output_type": "stream",
     "text": [
      "LaTeX table saved to output/pdl_results.tex\n"
     ]
    }
   ],
   "source": [
    "BCCH_res = [alpha_BCCH, se_BCCH]\n",
    "BRT_res = [alpha_BRT, se_BRT]\n",
    "\n",
    "res = { 'BRT': BRT_res, 'BCCH': BCCH_res}\n",
    "\n",
    "lf.generate_table(res, 'output/pdl_results.tex')"
   ]
  },
  {
   "cell_type": "markdown",
   "metadata": {},
   "source": [
    "### Penalties"
   ]
  },
  {
   "cell_type": "code",
   "execution_count": 17,
   "metadata": {},
   "outputs": [],
   "source": [
    "BCCH_penalty = [penalty_BCCHyx, penalty_BCCHdz]\n",
    "BRT_penalty = [penalty_BRTyx, penalty_BRTdz]\n",
    "\n",
    "penalties = {'BRT': BRT_penalty, 'BCCH': BCCH_penalty}"
   ]
  },
  {
   "cell_type": "code",
   "execution_count": 18,
   "metadata": {},
   "outputs": [
    {
     "name": "stdout",
     "output_type": "stream",
     "text": [
      "LaTeX table saved to output/pdl_penalties.tex\n"
     ]
    }
   ],
   "source": [
    "path = 'output/pdl_penalties.tex'\n",
    "cols = list(penalties.keys())\n",
    "num_models = len(cols)\n",
    "\n",
    "lines = []\n",
    "\n",
    "lines.append(\"\\\\begin{tabular}{\" + \"l\" + \"c\" * num_models + \"}\")\n",
    "lines.append(\"\\\\hline\\\\hline\\\\\\\\[-1.8ex]\")\n",
    "header_row = [\"\"] + cols\n",
    "lines.append(\" & \".join(header_row) + \" \\\\\\\\\")\n",
    "lines.append(\"\\\\hline\")\n",
    "\n",
    "# For each variable in label_x\n",
    "lines.append(\"First stage & \" + \" & \".join([f\"{penalties[col][0]:.4f}\" for col in cols]) + \" \\\\\\\\\")\n",
    "lines.append(\"Second stage & \" + \" & \".join([f\"{penalties[col][1]:.4f}\" for col in cols]) + \" \\\\\\\\\")\n",
    "\n",
    "lines.append(\"\\\\hline\\\\hline\")\n",
    "\n",
    "# End of table\n",
    "lines.append(\"\\\\end{tabular}\")\n",
    "\n",
    "# Save to file\n",
    "with open(path, 'w') as f:\n",
    "    f.write('\\n'.join(lines))\n",
    "\n",
    "print(f\"LaTeX table saved to {path}\")"
   ]
  },
  {
   "cell_type": "markdown",
   "metadata": {},
   "source": [
    "### Variable selection"
   ]
  },
  {
   "cell_type": "code",
   "execution_count": 19,
   "metadata": {},
   "outputs": [],
   "source": [
    "# translate variables to labels using lbl_all dictionary and zs\n",
    "lbls_zs = [lbl_all[var] for var in zs]\n",
    "lbls_ds = [lbl_all[var] for var in ds]\n",
    "lbls_ys = [lbl_all[var] for var in ys]\n",
    "\n",
    "lbls_zs = [variable.replace('%', '\\\\%') for variable in lbls_zs] # preparing for latex\n"
   ]
  },
  {
   "cell_type": "code",
   "execution_count": 20,
   "metadata": {},
   "outputs": [
    {
     "name": "stdout",
     "output_type": "stream",
     "text": [
      "LaTeX table saved to output/model_variables.tex\n"
     ]
    }
   ],
   "source": [
    "path = 'output/model_variables.tex'\n",
    "\n",
    "lines = []\n",
    "\n",
    "lines.append(\"\\\\begin{longtable}{lp{11cm}}\")\n",
    "lines.append(\"\\\\caption{Variables used in model} \\\\\\\\\")\n",
    "lines.append('\\\\label{tab:model-vars} \\\\\\\\')\n",
    "lines.append(\"\\\\hline\\\\hline\\\\\\\\[-1.8ex]\")\n",
    "lines.append(\" & Variable Name \\\\\\\\\")\n",
    "lines.append(\"\\\\hline\")\n",
    "\n",
    "# dependent variable\n",
    "lines.append(f'Dependent Variable & {lbls_ys[0]} \\\\\\\\')\n",
    "lines.append(\"\\\\hline\")\n",
    "\n",
    "# independent variable\n",
    "lines.append(f'Independent Variables & {lbls_ds[0]} \\\\\\\\')\n",
    "lines.append(\"\\\\hline\")\n",
    "\n",
    "# control variables\n",
    "lines.append('Control Variables')\n",
    "for variable in lbls_zs:\n",
    "    lines.append(f\" & {variable} \\\\\\\\\")\n",
    "\n",
    "lines.append(\"\\\\hline\\\\hline\")\n",
    "lines.append(\"\\\\end{longtable}\")\n",
    "\n",
    "# Save to file\n",
    "with open(path, 'w') as f:\n",
    "    f.write('\\n'.join(lines))\n",
    "\n",
    "print(f\"LaTeX table saved to {path}\")"
   ]
  },
  {
   "cell_type": "code",
   "execution_count": 21,
   "metadata": {},
   "outputs": [],
   "source": [
    "BRT_var = [X_names[selected_variables_BRT_first].to_list(), Z_names[selected_variables_BRT_second].to_list()]\n",
    "BCCH_var = [X_names[selected_variables_BCCH_first].to_list(), Z_names[selected_variables_BCCH_second].to_list()]\n",
    "\n",
    "vars = {'BRT': BRT_var, 'BCCH': BCCH_var}"
   ]
  },
  {
   "cell_type": "code",
   "execution_count": 22,
   "metadata": {},
   "outputs": [
    {
     "name": "stdout",
     "output_type": "stream",
     "text": [
      "LaTeX table saved to output/pdl_variables.tex\n"
     ]
    }
   ],
   "source": [
    "path = 'output/pdl_variables.tex'\n",
    "cols = list(vars.keys())\n",
    "num_models = len(cols)\n",
    "\n",
    "lines = []\n",
    "\n",
    "lines.append(\"\\\\begin{tabular}{\" + \"l\" + \"c\" * num_models + \"}\")\n",
    "lines.append(\"\\\\hline\\\\hline\\\\\\\\[-1.8ex]\")\n",
    "header_row = [\"\"] + cols\n",
    "lines.append(\" & \".join(header_row) + \" \\\\\\\\\")\n",
    "lines.append(\"\\\\hline\")\n",
    "\n",
    "# Print each variable in the First stage on its own row\n",
    "lines.append(\"First stage\")\n",
    "for i in range(max(len(vars[col][0]) for col in cols)):  # Determine the maximum number of variables in the first stage\n",
    "    row = [\"\"]  # Start each row with an empty cell for the label column\n",
    "    for col in cols:\n",
    "        row.append(vars[col][0][i] if i < len(vars[col][0]) else \"\")  # Add variable or empty string if no more variables\n",
    "    lines.append(\" & \".join(row) + \" \\\\\\\\\")\n",
    "\n",
    "# Print each variable in the Second stage on its own row\n",
    "lines.append(\"Second stage\")\n",
    "for i in range(max(len(vars[col][1]) for col in cols)):  # Determine the maximum number of variables in the second stage\n",
    "    row = [\"\"]  # Start each row with an empty cell for the label column\n",
    "    for col in cols:\n",
    "        row.append(vars[col][1][i] if i < len(vars[col][1]) else \"\")  # Add variable or empty string if no more variables\n",
    "    lines.append(\" & \".join(row) + \" \\\\\\\\\")\n",
    "\n",
    "lines.append(\"\\\\hline\\\\hline\")\n",
    "lines.append(\"\\\\end{tabular}\")\n",
    "\n",
    "# Save to file\n",
    "with open(path, 'w') as f:\n",
    "    f.write('\\n'.join(lines))\n",
    "\n",
    "print(f\"LaTeX table saved to {path}\")"
   ]
  },
  {
   "cell_type": "markdown",
   "metadata": {},
   "source": [
    "## Effect of the penalty, $\\lambda$"
   ]
  },
  {
   "cell_type": "code",
   "execution_count": 23,
   "metadata": {},
   "outputs": [
    {
     "name": "stderr",
     "output_type": "stream",
     "text": [
      "/opt/anaconda3/lib/python3.11/site-packages/sklearn/linear_model/_coordinate_descent.py:631: ConvergenceWarning: Objective did not converge. You might want to increase the number of iterations, check the scale of the features or consider increasing regularisation. Duality gap: 2.048e-02, tolerance: 1.793e-02\n",
      "  model = cd_fast.enet_coordinate_descent(\n"
     ]
    }
   ],
   "source": [
    "penalty_grid = np.geomspace(0.001, 3, num = 50)\n",
    "\n",
    "coefs = []\n",
    "MSE = []\n",
    "for lamb in penalty_grid:\n",
    "    fit = lm.Lasso(alpha = lamb, max_iter=10000).fit(X_stan,y) \n",
    "    coefs.append(fit.coef_)\n",
    "    pred = fit.predict(X_stan).reshape(-1,1)\n",
    "    MSE.append(np.mean((y-pred)**2))"
   ]
  },
  {
   "cell_type": "code",
   "execution_count": 24,
   "metadata": {},
   "outputs": [
    {
     "name": "stdout",
     "output_type": "stream",
     "text": [
      "Figure saved to output/lasso_path.png\n"
     ]
    }
   ],
   "source": [
    "lf.plot_lasso_path(penalty_grid, coefs, None, -1, vlines={'BCCH': penalty_BCCHyx, 'BRT': penalty_BRTyx}, do_print=False, save_path='output/lasso_path.png')"
   ]
  },
  {
   "cell_type": "code",
   "execution_count": 25,
   "metadata": {},
   "outputs": [
    {
     "name": "stdout",
     "output_type": "stream",
     "text": [
      "Figure saved to output/MSE_path.png\n"
     ]
    }
   ],
   "source": [
    "lf.plot_MSE_path(penalty_grid, MSE,0.1, do_print=False, save_path='output/MSE_path.png')"
   ]
  }
 ],
 "metadata": {
  "kernelspec": {
   "display_name": "base",
   "language": "python",
   "name": "python3"
  },
  "language_info": {
   "codemirror_mode": {
    "name": "ipython",
    "version": 3
   },
   "file_extension": ".py",
   "mimetype": "text/x-python",
   "name": "python",
   "nbconvert_exporter": "python",
   "pygments_lexer": "ipython3",
   "version": "3.11.8"
  }
 },
 "nbformat": 4,
 "nbformat_minor": 4
}
