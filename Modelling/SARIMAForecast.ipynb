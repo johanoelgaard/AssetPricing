{
 "cells": [
  {
   "cell_type": "code",
   "execution_count": 1,
   "metadata": {},
   "outputs": [],
   "source": [
    "import pandas as pd\n",
    "import matplotlib.pyplot as plt\n",
    "import numpy as np\n",
    "import seaborn as sns\n",
    "import pmdarima as pm\n",
    "from statsmodels.tsa.statespace.sarimax import SARIMAX\n",
    "from sklearn.metrics import mean_squared_error\n",
    "import warnings\n",
    "import joblib\n",
    "\n",
    "# Load the dataset\n",
    "file_path = \"/Users/alonclausen/Desktop/Studie/Kandidat/Seminar/SEMINARFIN/fulldata.csv\"\n",
    "data = pd.read_csv(file_path)\n",
    "\n"
   ]
  },
  {
   "cell_type": "code",
   "execution_count": 2,
   "metadata": {},
   "outputs": [],
   "source": [
    "# Ensure the 'from' column is in datetime format and set it as index\n",
    "data['from'] = pd.to_datetime(data['from'])\n",
    "data = data.set_index('from')\n",
    "data.index = pd.DatetimeIndex(data.index.values, freq=pd.infer_freq(data.index))\n",
    "\n",
    "# Filter data from April 1, 2016, to August 31, 2024\n",
    "start_date = '2016-04-01'\n",
    "end_date = '2024-08-31'\n",
    "data_filtered = data[(data.index >= start_date) & (data.index <= end_date)]\n",
    "\n",
    "# Extract the 'SpotPriceDKK' column\n",
    "spot_price_filtered = data_filtered['SpotPriceDKK']"
   ]
  },
  {
   "cell_type": "code",
   "execution_count": null,
   "metadata": {},
   "outputs": [
    {
     "name": "stderr",
     "output_type": "stream",
     "text": [
      "/Library/Frameworks/Python.framework/Versions/3.13/lib/python3.13/site-packages/statsmodels/tsa/base/tsa_model.py:473: ValueWarning: A date index has been provided, but it is not monotonic and so will be ignored when e.g. forecasting.\n",
      "  self._init_dates(dates, freq)\n",
      "/Library/Frameworks/Python.framework/Versions/3.13/lib/python3.13/site-packages/statsmodels/tsa/base/tsa_model.py:473: ValueWarning: A date index has been provided, but it is not monotonic and so will be ignored when e.g. forecasting.\n",
      "  self._init_dates(dates, freq)\n"
     ]
    }
   ],
   "source": [
    "#Fit the SARIMA model (ARIMA(2,0,0)(2,0,1)[24] with intercept)\n",
    "sarima_model = SARIMAX(spot_price_filtered, order=(2, 0, 0), seasonal_order=(2, 0, 1, 24), trend='c')\n",
    "sarima_results = sarima_model.fit(disp=False)"
   ]
  },
  {
   "cell_type": "code",
   "execution_count": null,
   "metadata": {},
   "outputs": [],
   "source": [
    "# Rolling forecast\n",
    "rolling_forecast = []\n",
    "forecast_steps = 24\n",
    "current_start = spot_price_filtered.index[-1] + pd.Timedelta(hours=1)\n",
    "\n",
    "for i in range(len(spot_price_filtered) // forecast_steps):\n",
    "    forecast_index = pd.date_range(start=current_start, periods=forecast_steps, freq='h')\n",
    "\n",
    "    try:\n",
    "        # Generate forecast for the next 24 hours\n",
    "        forecast = sarima_results.get_forecast(steps=forecast_steps).predicted_mean\n",
    "        forecast.index = forecast_index\n",
    "        rolling_forecast.append(forecast)\n",
    "\n",
    "        # Update the start for the next forecast chunk\n",
    "        current_start = forecast_index[-1] + pd.Timedelta(hours=1)\n",
    "    except Exception as e:\n",
    "        print(f\"Error encountered at iteration {i}: {e}. Skipping this forecast chunk.\")\n",
    "        continue\n",
    "\n",
    "# Combine all forecasts into a single series\n",
    "rolling_forecast = pd.concat(rolling_forecast)\n"
   ]
  },
  {
   "cell_type": "code",
   "execution_count": null,
   "metadata": {},
   "outputs": [],
   "source": [
    "# Filter observed data to match forecast period\n",
    "observed_data = spot_price_filtered.reindex(rolling_forecast.index).fillna(method='ffill')\n",
    "\n",
    "# Plot observed data and rolling forecast\n",
    "plt.figure(figsize=(12, 6))\n",
    "plt.plot(observed_data, label='Observed Data', color='blue')\n",
    "plt.plot(rolling_forecast, label='Rolling Forecast', linestyle='--', color='red')\n",
    "plt.legend()\n",
    "plt.title(\"Rolling SARIMA Forecast vs. Observed Data\")\n",
    "plt.xlabel(\"Time\")\n",
    "plt.ylabel(\"Spot Price DKK\")\n",
    "plt.xticks(rotation=45)\n",
    "plt.tight_layout()\n",
    "plt.show()"
   ]
  },
  {
   "cell_type": "code",
   "execution_count": null,
   "metadata": {},
   "outputs": [],
   "source": [
    "# Calculate RMSE for the forecasted period\n",
    "rmse = mean_squared_error(observed_data, rolling_forecast, squared=False)\n",
    "print(f'RMSE for the forecasted period: {rmse}')\n"
   ]
  }
 ],
 "metadata": {
  "kernelspec": {
   "display_name": "Python 3",
   "language": "python",
   "name": "python3"
  },
  "language_info": {
   "codemirror_mode": {
    "name": "ipython",
    "version": 3
   },
   "file_extension": ".py",
   "mimetype": "text/x-python",
   "name": "python",
   "nbconvert_exporter": "python",
   "pygments_lexer": "ipython3",
   "version": "3.13.0"
  }
 },
 "nbformat": 4,
 "nbformat_minor": 2
}
